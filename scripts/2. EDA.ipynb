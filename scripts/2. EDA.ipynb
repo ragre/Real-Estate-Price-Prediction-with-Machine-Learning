{
 "cells": [
  {
   "cell_type": "markdown",
   "source": "# EDA - pre clean ",
   "metadata": {
    "tags": [],
    "is_collapsed": false,
    "cell_id": "8adda249-e0ba-4945-9f40-1ea48175ca35",
    "deepnote_cell_type": "text-cell-h1"
   }
  },
  {
   "cell_type": "code",
   "metadata": {
    "tags": [],
    "deepnote_to_be_reexecuted": false,
    "source_hash": "cff8fb64",
    "execution_start": 1652447543911,
    "execution_millis": 2996,
    "cell_id": "00002-80919f11-d5e5-4ee5-95c4-b23f8ca46787",
    "deepnote_cell_type": "code",
    "deepnote_cell_height": 225
   },
   "source": "import pandas as pd\nimport seaborn as sns \nimport numpy as np\n\nfrom keplergl import KeplerGl\nimport keplergl\n\nimport matplotlib.pyplot as plt\n",
   "execution_count": null,
   "outputs": []
  },
  {
   "cell_type": "code",
   "metadata": {
    "tags": [],
    "deepnote_to_be_reexecuted": false,
    "source_hash": "9de15780",
    "execution_start": 1652447546910,
    "execution_millis": 337,
    "cell_id": "00003-9f42f806-1621-4ecc-9560-dad333b91828",
    "deepnote_cell_type": "code",
    "deepnote_cell_height": 464
   },
   "source": "# import the raw data \n\nsilver_data_eda = pd.read_csv(\"bronze_data.csv\")\nsilver_data_eda.head()",
   "execution_count": null,
   "outputs": [
    {
     "output_type": "execute_result",
     "execution_count": 2,
     "data": {
      "application/vnd.deepnote.dataframe.v3+json": {
       "column_count": 20,
       "row_count": 5,
       "columns": [
        {
         "name": "BFE-nummer",
         "dtype": "int64",
         "stats": {
          "unique_count": 5,
          "nan_count": 0,
          "min": "103200",
          "max": "420766",
          "histogram": [
           {
            "bin_start": 103200,
            "bin_end": 134956.6,
            "count": 4
           },
           {
            "bin_start": 134956.6,
            "bin_end": 166713.2,
            "count": 0
           },
           {
            "bin_start": 166713.2,
            "bin_end": 198469.8,
            "count": 0
           },
           {
            "bin_start": 198469.8,
            "bin_end": 230226.4,
            "count": 0
           },
           {
            "bin_start": 230226.4,
            "bin_end": 261983,
            "count": 0
           },
           {
            "bin_start": 261983,
            "bin_end": 293739.6,
            "count": 0
           },
           {
            "bin_start": 293739.6,
            "bin_end": 325496.19999999995,
            "count": 0
           },
           {
            "bin_start": 325496.19999999995,
            "bin_end": 357252.8,
            "count": 0
           },
           {
            "bin_start": 357252.8,
            "bin_end": 389009.39999999997,
            "count": 0
           },
           {
            "bin_start": 389009.39999999997,
            "bin_end": 420766,
            "count": 1
           }
          ]
         }
        },
        {
         "name": "Adresse",
         "dtype": "object",
         "stats": {
          "unique_count": 5,
          "nan_count": 0,
          "categories": [
           {
            "name": "Else Alfelts Vej 93, 7. th, 2300 København S",
            "count": 1
           },
           {
            "name": "C.F. Møllers Allé 66, 7. tv, 2300 København S",
            "count": 1
           },
           {
            "name": "3 others",
            "count": 3
           }
          ]
         }
        },
        {
         "name": "Offentlig ejendomsværdi",
         "dtype": "object",
         "stats": {
          "unique_count": 5,
          "nan_count": 0,
          "categories": [
           {
            "name": " kr. 1.950.000",
            "count": 1
           },
           {
            "name": " kr. 1.850.000",
            "count": 1
           },
           {
            "name": "3 others",
            "count": 3
           }
          ]
         }
        },
        {
         "name": "Offentlige grundværdi",
         "dtype": "object",
         "stats": {
          "unique_count": 5,
          "nan_count": 0,
          "categories": [
           {
            "name": " kr. 349.600",
            "count": 1
           },
           {
            "name": " kr. 351.700",
            "count": 1
           },
           {
            "name": "3 others",
            "count": 3
           }
          ]
         }
        },
        {
         "name": "Seneste handelspris",
         "dtype": "object",
         "stats": {
          "unique_count": 5,
          "nan_count": 0,
          "categories": [
           {
            "name": " kr. 3.950.000",
            "count": 1
           },
           {
            "name": " kr. 4.300.000",
            "count": 1
           },
           {
            "name": "3 others",
            "count": 3
           }
          ]
         }
        },
        {
         "name": "Enhedsareal - Beboelse",
         "dtype": "object",
         "stats": {
          "unique_count": 5,
          "nan_count": 0,
          "categories": [
           {
            "name": "  88   ",
            "count": 1
           },
           {
            "name": "  92   ",
            "count": 1
           },
           {
            "name": "3 others",
            "count": 3
           }
          ]
         }
        },
        {
         "name": "Pris pr. m2",
         "dtype": "object",
         "stats": {
          "unique_count": 5,
          "nan_count": 0,
          "categories": [
           {
            "name": " kr. 44.886",
            "count": 1
           },
           {
            "name": " kr. 46.739",
            "count": 1
           },
           {
            "name": "3 others",
            "count": 3
           }
          ]
         }
        },
        {
         "name": "Seneste handelsdato",
         "dtype": "object",
         "stats": {
          "unique_count": 2,
          "nan_count": 0,
          "categories": [
           {
            "name": "01/06/2022",
            "count": 4
           },
           {
            "name": "01/07/2022",
            "count": 1
           }
          ]
         }
        },
        {
         "name": "Seneste handlet andel",
         "dtype": "object",
         "stats": {
          "unique_count": 1,
          "nan_count": 0,
          "categories": [
           {
            "name": "100%",
            "count": 5
           }
          ]
         }
        },
        {
         "name": "Handelsmetode",
         "dtype": "object",
         "stats": {
          "unique_count": 1,
          "nan_count": 0,
          "categories": [
           {
            "name": "Almindelig fri handel",
            "count": 5
           }
          ]
         }
        },
        {
         "name": "Anvendelse",
         "dtype": "object",
         "stats": {
          "unique_count": 1,
          "nan_count": 0,
          "categories": [
           {
            "name": "Etagebolig-bygning, flerfamiliehus eller to-familiehus",
            "count": 5
           }
          ]
         }
        },
        {
         "name": "Opførelsesår",
         "dtype": "object",
         "stats": {
          "unique_count": 5,
          "nan_count": 0,
          "categories": [
           {
            "name": "2014",
            "count": 1
           },
           {
            "name": "2007",
            "count": 1
           },
           {
            "name": "3 others",
            "count": 3
           }
          ]
         }
        },
        {
         "name": "Tinglyst areal (Ejerlejligheder)",
         "dtype": "object",
         "stats": {
          "unique_count": 5,
          "nan_count": 0,
          "categories": [
           {
            "name": "  75   ",
            "count": 1
           },
           {
            "name": "  76   ",
            "count": 1
           },
           {
            "name": "3 others",
            "count": 3
           }
          ]
         }
        },
        {
         "name": "Longitude",
         "dtype": "object",
         "stats": {
          "unique_count": 5,
          "nan_count": 0,
          "categories": [
           {
            "name": "12,56841568",
            "count": 1
           },
           {
            "name": "12,57771642",
            "count": 1
           },
           {
            "name": "3 others",
            "count": 3
           }
          ]
         }
        },
        {
         "name": "Latitude",
         "dtype": "object",
         "stats": {
          "unique_count": 5,
          "nan_count": 0,
          "categories": [
           {
            "name": "55,61690988",
            "count": 1
           },
           {
            "name": "55,63446794",
            "count": 1
           },
           {
            "name": "3 others",
            "count": 3
           }
          ]
         }
        },
        {
         "name": "Primær ejers adresse",
         "dtype": "object",
         "stats": {
          "unique_count": 5,
          "nan_count": 0,
          "categories": [
           {
            "name": "Else Alfelts Vej 93,7 th, 2300 København S",
            "count": 1
           },
           {
            "name": "C.F. Møllers Allé 66,7 tv, 2300 København S",
            "count": 1
           },
           {
            "name": "3 others",
            "count": 3
           }
          ]
         }
        },
        {
         "name": "Vejnavn",
         "dtype": "object",
         "stats": {
          "unique_count": 5,
          "nan_count": 0,
          "categories": [
           {
            "name": "Else Alfelts Vej",
            "count": 1
           },
           {
            "name": "C.F. Møllers Allé",
            "count": 1
           },
           {
            "name": "3 others",
            "count": 3
           }
          ]
         }
        },
        {
         "name": "Husnr.",
         "dtype": "object",
         "stats": {
          "unique_count": 5,
          "nan_count": 0,
          "categories": [
           {
            "name": "93",
            "count": 1
           },
           {
            "name": "66",
            "count": 1
           },
           {
            "name": "3 others",
            "count": 3
           }
          ]
         }
        },
        {
         "name": "Etage",
         "dtype": "object",
         "stats": {
          "unique_count": 3,
          "nan_count": 0,
          "categories": [
           {
            "name": "7",
            "count": 2
           },
           {
            "name": "3",
            "count": 2
           },
           {
            "name": "4",
            "count": 1
           }
          ]
         }
        },
        {
         "name": "Antal værelser",
         "dtype": "object",
         "stats": {
          "unique_count": 3,
          "nan_count": 0,
          "categories": [
           {
            "name": "3",
            "count": 3
           },
           {
            "name": "2",
            "count": 1
           },
           {
            "name": "4",
            "count": 1
           }
          ]
         }
        },
        {
         "name": "_deepnote_index_column",
         "dtype": "int64"
        }
       ],
       "rows": [
        {
         "BFE-nummer": 420766,
         "Adresse": "Else Alfelts Vej 93, 7. th, 2300 København S",
         "Offentlig ejendomsværdi": " kr. 1.950.000",
         "Offentlige grundværdi": " kr. 349.600",
         "Seneste handelspris": " kr. 3.950.000",
         "Enhedsareal - Beboelse": "  88   ",
         "Pris pr. m2": " kr. 44.886",
         "Seneste handelsdato": "01/07/2022",
         "Seneste handlet andel": "100%",
         "Handelsmetode": "Almindelig fri handel",
         "Anvendelse": "Etagebolig-bygning, flerfamiliehus eller to-familiehus",
         "Opførelsesår": "2014",
         "Tinglyst areal (Ejerlejligheder)": "  75   ",
         "Longitude": "12,56841568",
         "Latitude": "55,61690988",
         "Primær ejers adresse": "Else Alfelts Vej 93,7 th, 2300 København S",
         "Vejnavn": "Else Alfelts Vej",
         "Husnr.": "93",
         "Etage": "7",
         "Antal værelser": "3",
         "_deepnote_index_column": 0
        },
        {
         "BFE-nummer": 109362,
         "Adresse": "C.F. Møllers Allé 66, 7. tv, 2300 København S",
         "Offentlig ejendomsværdi": " kr. 1.850.000",
         "Offentlige grundværdi": " kr. 351.700",
         "Seneste handelspris": " kr. 4.300.000",
         "Enhedsareal - Beboelse": "  92   ",
         "Pris pr. m2": " kr. 46.739",
         "Seneste handelsdato": "01/06/2022",
         "Seneste handlet andel": "100%",
         "Handelsmetode": "Almindelig fri handel",
         "Anvendelse": "Etagebolig-bygning, flerfamiliehus eller to-familiehus",
         "Opførelsesår": "2007",
         "Tinglyst areal (Ejerlejligheder)": "  76   ",
         "Longitude": "12,57771642",
         "Latitude": "55,63446794",
         "Primær ejers adresse": "C.F. Møllers Allé 66,7 tv, 2300 København S",
         "Vejnavn": "C.F. Møllers Allé",
         "Husnr.": "66",
         "Etage": "7",
         "Antal værelser": "3",
         "_deepnote_index_column": 1
        },
        {
         "BFE-nummer": 124613,
         "Adresse": "Lombardigade 19, 3. tv, 2300 København S",
         "Offentlig ejendomsværdi": " kr. 960.000",
         "Offentlige grundværdi": " kr. 70.200",
         "Seneste handelspris": " kr. 2.400.000",
         "Enhedsareal - Beboelse": "  56   ",
         "Pris pr. m2": " kr. 42.857",
         "Seneste handelsdato": "01/06/2022",
         "Seneste handlet andel": "100%",
         "Handelsmetode": "Almindelig fri handel",
         "Anvendelse": "Etagebolig-bygning, flerfamiliehus eller to-familiehus",
         "Opførelsesår": "1904",
         "Tinglyst areal (Ejerlejligheder)": "  48   ",
         "Longitude": "12,61348571",
         "Latitude": "55,65432904",
         "Primær ejers adresse": "Skolegade 10, 4100 Ringsted",
         "Vejnavn": "Lombardigade",
         "Husnr.": "19",
         "Etage": "3",
         "Antal værelser": "2",
         "_deepnote_index_column": 2
        },
        {
         "BFE-nummer": 103200,
         "Adresse": "Ved Amagerport 9, 3. th, 2300 København S",
         "Offentlig ejendomsværdi": " kr. 1.600.000",
         "Offentlige grundværdi": " kr. 172.900",
         "Seneste handelspris": " kr. 5.050.000",
         "Enhedsareal - Beboelse": "  90   ",
         "Pris pr. m2": " kr. 56.111",
         "Seneste handelsdato": "01/06/2022",
         "Seneste handlet andel": "100%",
         "Handelsmetode": "Almindelig fri handel",
         "Anvendelse": "Etagebolig-bygning, flerfamiliehus eller to-familiehus",
         "Opførelsesår": "1913",
         "Tinglyst areal (Ejerlejligheder)": "  83   ",
         "Longitude": "12,59622212",
         "Latitude": "55,66660875",
         "Primær ejers adresse": "Ved Amagerport 9,3 th, 2300 København S",
         "Vejnavn": "Ved Amagerport",
         "Husnr.": "9",
         "Etage": "3",
         "Antal værelser": "3",
         "_deepnote_index_column": 3
        },
        {
         "BFE-nummer": 132843,
         "Adresse": "Øresundsvej 104, 4. th, 2300 København S",
         "Offentlig ejendomsværdi": " kr. 1.400.000",
         "Offentlige grundværdi": " kr. 124.300",
         "Seneste handelspris": " kr. 4.100.000",
         "Enhedsareal - Beboelse": "  82   ",
         "Pris pr. m2": " kr. 50.000",
         "Seneste handelsdato": "01/06/2022",
         "Seneste handlet andel": "100%",
         "Handelsmetode": "Almindelig fri handel",
         "Anvendelse": "Etagebolig-bygning, flerfamiliehus eller to-familiehus",
         "Opførelsesår": "1932",
         "Tinglyst areal (Ejerlejligheder)": "  74   ",
         "Longitude": "12,62117919",
         "Latitude": "55,66122067",
         "Primær ejers adresse": "Øresundsvej 104,4 th, 2300 København S",
         "Vejnavn": "Øresundsvej",
         "Husnr.": "104",
         "Etage": "4",
         "Antal værelser": "4",
         "_deepnote_index_column": 4
        }
       ]
      },
      "text/plain": "   BFE-nummer                                        Adresse  \\\n0      420766   Else Alfelts Vej 93, 7. th, 2300 København S   \n1      109362  C.F. Møllers Allé 66, 7. tv, 2300 København S   \n2      124613       Lombardigade 19, 3. tv, 2300 København S   \n3      103200      Ved Amagerport 9, 3. th, 2300 København S   \n4      132843       Øresundsvej 104, 4. th, 2300 København S   \n\n  Offentlig ejendomsværdi Offentlige grundværdi Seneste handelspris  \\\n0           kr. 1.950.000           kr. 349.600       kr. 3.950.000   \n1           kr. 1.850.000           kr. 351.700       kr. 4.300.000   \n2             kr. 960.000            kr. 70.200       kr. 2.400.000   \n3           kr. 1.600.000           kr. 172.900       kr. 5.050.000   \n4           kr. 1.400.000           kr. 124.300       kr. 4.100.000   \n\n  Enhedsareal - Beboelse  Pris pr. m2 Seneste handelsdato  \\\n0                  88      kr. 44.886          01/07/2022   \n1                  92      kr. 46.739          01/06/2022   \n2                  56      kr. 42.857          01/06/2022   \n3                  90      kr. 56.111          01/06/2022   \n4                  82      kr. 50.000          01/06/2022   \n\n  Seneste handlet andel          Handelsmetode  \\\n0                  100%  Almindelig fri handel   \n1                  100%  Almindelig fri handel   \n2                  100%  Almindelig fri handel   \n3                  100%  Almindelig fri handel   \n4                  100%  Almindelig fri handel   \n\n                                          Anvendelse Opførelsesår  \\\n0  Etagebolig-bygning, flerfamiliehus eller to-fa...         2014   \n1  Etagebolig-bygning, flerfamiliehus eller to-fa...         2007   \n2  Etagebolig-bygning, flerfamiliehus eller to-fa...         1904   \n3  Etagebolig-bygning, flerfamiliehus eller to-fa...         1913   \n4  Etagebolig-bygning, flerfamiliehus eller to-fa...         1932   \n\n  Tinglyst areal (Ejerlejligheder)    Longitude     Latitude  \\\n0                            75     12,56841568  55,61690988   \n1                            76     12,57771642  55,63446794   \n2                            48     12,61348571  55,65432904   \n3                            83     12,59622212  55,66660875   \n4                            74     12,62117919  55,66122067   \n\n                          Primær ejers adresse            Vejnavn Husnr.  \\\n0   Else Alfelts Vej 93,7 th, 2300 København S   Else Alfelts Vej     93   \n1  C.F. Møllers Allé 66,7 tv, 2300 København S  C.F. Møllers Allé     66   \n2                  Skolegade 10, 4100 Ringsted       Lombardigade     19   \n3      Ved Amagerport 9,3 th, 2300 København S     Ved Amagerport      9   \n4       Øresundsvej 104,4 th, 2300 København S        Øresundsvej    104   \n\n  Etage Antal værelser  \n0     7              3  \n1     7              3  \n2     3              2  \n3     3              3  \n4     4              4  ",
      "text/html": "<div>\n<style scoped>\n    .dataframe tbody tr th:only-of-type {\n        vertical-align: middle;\n    }\n\n    .dataframe tbody tr th {\n        vertical-align: top;\n    }\n\n    .dataframe thead th {\n        text-align: right;\n    }\n</style>\n<table border=\"1\" class=\"dataframe\">\n  <thead>\n    <tr style=\"text-align: right;\">\n      <th></th>\n      <th>BFE-nummer</th>\n      <th>Adresse</th>\n      <th>Offentlig ejendomsværdi</th>\n      <th>Offentlige grundværdi</th>\n      <th>Seneste handelspris</th>\n      <th>Enhedsareal - Beboelse</th>\n      <th>Pris pr. m2</th>\n      <th>Seneste handelsdato</th>\n      <th>Seneste handlet andel</th>\n      <th>Handelsmetode</th>\n      <th>Anvendelse</th>\n      <th>Opførelsesår</th>\n      <th>Tinglyst areal (Ejerlejligheder)</th>\n      <th>Longitude</th>\n      <th>Latitude</th>\n      <th>Primær ejers adresse</th>\n      <th>Vejnavn</th>\n      <th>Husnr.</th>\n      <th>Etage</th>\n      <th>Antal værelser</th>\n    </tr>\n  </thead>\n  <tbody>\n    <tr>\n      <th>0</th>\n      <td>420766</td>\n      <td>Else Alfelts Vej 93, 7. th, 2300 København S</td>\n      <td>kr. 1.950.000</td>\n      <td>kr. 349.600</td>\n      <td>kr. 3.950.000</td>\n      <td>88</td>\n      <td>kr. 44.886</td>\n      <td>01/07/2022</td>\n      <td>100%</td>\n      <td>Almindelig fri handel</td>\n      <td>Etagebolig-bygning, flerfamiliehus eller to-fa...</td>\n      <td>2014</td>\n      <td>75</td>\n      <td>12,56841568</td>\n      <td>55,61690988</td>\n      <td>Else Alfelts Vej 93,7 th, 2300 København S</td>\n      <td>Else Alfelts Vej</td>\n      <td>93</td>\n      <td>7</td>\n      <td>3</td>\n    </tr>\n    <tr>\n      <th>1</th>\n      <td>109362</td>\n      <td>C.F. Møllers Allé 66, 7. tv, 2300 København S</td>\n      <td>kr. 1.850.000</td>\n      <td>kr. 351.700</td>\n      <td>kr. 4.300.000</td>\n      <td>92</td>\n      <td>kr. 46.739</td>\n      <td>01/06/2022</td>\n      <td>100%</td>\n      <td>Almindelig fri handel</td>\n      <td>Etagebolig-bygning, flerfamiliehus eller to-fa...</td>\n      <td>2007</td>\n      <td>76</td>\n      <td>12,57771642</td>\n      <td>55,63446794</td>\n      <td>C.F. Møllers Allé 66,7 tv, 2300 København S</td>\n      <td>C.F. Møllers Allé</td>\n      <td>66</td>\n      <td>7</td>\n      <td>3</td>\n    </tr>\n    <tr>\n      <th>2</th>\n      <td>124613</td>\n      <td>Lombardigade 19, 3. tv, 2300 København S</td>\n      <td>kr. 960.000</td>\n      <td>kr. 70.200</td>\n      <td>kr. 2.400.000</td>\n      <td>56</td>\n      <td>kr. 42.857</td>\n      <td>01/06/2022</td>\n      <td>100%</td>\n      <td>Almindelig fri handel</td>\n      <td>Etagebolig-bygning, flerfamiliehus eller to-fa...</td>\n      <td>1904</td>\n      <td>48</td>\n      <td>12,61348571</td>\n      <td>55,65432904</td>\n      <td>Skolegade 10, 4100 Ringsted</td>\n      <td>Lombardigade</td>\n      <td>19</td>\n      <td>3</td>\n      <td>2</td>\n    </tr>\n    <tr>\n      <th>3</th>\n      <td>103200</td>\n      <td>Ved Amagerport 9, 3. th, 2300 København S</td>\n      <td>kr. 1.600.000</td>\n      <td>kr. 172.900</td>\n      <td>kr. 5.050.000</td>\n      <td>90</td>\n      <td>kr. 56.111</td>\n      <td>01/06/2022</td>\n      <td>100%</td>\n      <td>Almindelig fri handel</td>\n      <td>Etagebolig-bygning, flerfamiliehus eller to-fa...</td>\n      <td>1913</td>\n      <td>83</td>\n      <td>12,59622212</td>\n      <td>55,66660875</td>\n      <td>Ved Amagerport 9,3 th, 2300 København S</td>\n      <td>Ved Amagerport</td>\n      <td>9</td>\n      <td>3</td>\n      <td>3</td>\n    </tr>\n    <tr>\n      <th>4</th>\n      <td>132843</td>\n      <td>Øresundsvej 104, 4. th, 2300 København S</td>\n      <td>kr. 1.400.000</td>\n      <td>kr. 124.300</td>\n      <td>kr. 4.100.000</td>\n      <td>82</td>\n      <td>kr. 50.000</td>\n      <td>01/06/2022</td>\n      <td>100%</td>\n      <td>Almindelig fri handel</td>\n      <td>Etagebolig-bygning, flerfamiliehus eller to-fa...</td>\n      <td>1932</td>\n      <td>74</td>\n      <td>12,62117919</td>\n      <td>55,66122067</td>\n      <td>Øresundsvej 104,4 th, 2300 København S</td>\n      <td>Øresundsvej</td>\n      <td>104</td>\n      <td>4</td>\n      <td>4</td>\n    </tr>\n  </tbody>\n</table>\n</div>"
     },
     "metadata": {}
    }
   ]
  },
  {
   "cell_type": "code",
   "metadata": {
    "tags": [],
    "deepnote_to_be_reexecuted": false,
    "source_hash": "6da0dce4",
    "execution_start": 1652447547064,
    "execution_millis": 185,
    "cell_id": "00004-57e36372-a324-4334-925a-1fd175da1cc5",
    "deepnote_cell_type": "code",
    "deepnote_cell_height": 663.9375,
    "deepnote_output_heights": [
     404.9375
    ]
   },
   "source": "#replacing spaces and bind in column names with '_'\n\nsilver_data_eda.columns =[col.replace(' ','_') for col in silver_data_eda.columns]\nsilver_data_eda.columns =[col.replace('-','_') for col in silver_data_eda.columns]\nsilver_data_eda.columns =[col.replace('.','') for col in silver_data_eda.columns]\nsilver_data_eda.columns =[col.replace('(','') for col in silver_data_eda.columns]\nsilver_data_eda.columns =[col.replace(')','') for col in silver_data_eda.columns]\nsilver_data_eda.columns =[col.replace('___','_') for col in silver_data_eda.columns]\n\nsilver_data_eda.dtypes",
   "execution_count": null,
   "outputs": [
    {
     "output_type": "execute_result",
     "execution_count": 3,
     "data": {
      "text/plain": "BFE_nummer                         int64\nAdresse                           object\nOffentlig_ejendomsværdi           object\nOffentlige_grundværdi             object\nSeneste_handelspris               object\nEnhedsareal_Beboelse              object\nPris_pr_m2                        object\nSeneste_handelsdato               object\nSeneste_handlet_andel             object\nHandelsmetode                     object\nAnvendelse                        object\nOpførelsesår                      object\nTinglyst_areal_Ejerlejligheder    object\nLongitude                         object\nLatitude                          object\nPrimær_ejers_adresse              object\nVejnavn                           object\nHusnr                             object\nEtage                             object\nAntal_værelser                    object\ndtype: object"
     },
     "metadata": {}
    }
   ]
  },
  {
   "cell_type": "code",
   "metadata": {
    "tags": [],
    "deepnote_to_be_reexecuted": false,
    "source_hash": "1ec648e0",
    "execution_start": 1652447547071,
    "execution_millis": 1,
    "cell_id": "00005-dd300483-9e0a-41ec-8e1f-8c72c389be10",
    "deepnote_cell_type": "code",
    "deepnote_cell_height": 99
   },
   "source": "#change the column names to lower case\nsilver_data_eda.columns = map(str.lower, silver_data_eda.columns)",
   "execution_count": null,
   "outputs": []
  },
  {
   "cell_type": "code",
   "metadata": {
    "tags": [],
    "deepnote_to_be_reexecuted": false,
    "source_hash": "b4ae1c1d",
    "execution_start": 1652447547073,
    "execution_millis": 187,
    "cell_id": "00006-f0d73f15-d059-4f0e-b349-4f17ef2fcb73",
    "deepnote_cell_type": "code",
    "deepnote_cell_height": 519.9375,
    "deepnote_output_heights": [
     404.9375
    ]
   },
   "source": "# col types\nsilver_data_eda.dtypes",
   "execution_count": null,
   "outputs": [
    {
     "output_type": "execute_result",
     "execution_count": 5,
     "data": {
      "text/plain": "bfe_nummer                         int64\nadresse                           object\noffentlig_ejendomsværdi           object\noffentlige_grundværdi             object\nseneste_handelspris               object\nenhedsareal_beboelse              object\npris_pr_m2                        object\nseneste_handelsdato               object\nseneste_handlet_andel             object\nhandelsmetode                     object\nanvendelse                        object\nopførelsesår                      object\ntinglyst_areal_ejerlejligheder    object\nlongitude                         object\nlatitude                          object\nprimær_ejers_adresse              object\nvejnavn                           object\nhusnr                             object\netage                             object\nantal_værelser                    object\ndtype: object"
     },
     "metadata": {}
    }
   ]
  },
  {
   "cell_type": "code",
   "metadata": {
    "tags": [],
    "deepnote_to_be_reexecuted": false,
    "source_hash": "9542e65a",
    "execution_start": 1652447547121,
    "execution_millis": 140,
    "cell_id": "00007-5e3e43f1-fe0e-4392-a4db-e364c2d9b88c",
    "deepnote_cell_type": "code",
    "deepnote_cell_height": 513.875
   },
   "source": "#remove characters from columns \n\nsilver_data_eda['offentlig_ejendomsværdi'] = silver_data_eda['offentlig_ejendomsværdi'].str.replace(r'\\D', '')\nsilver_data_eda['offentlige_grundværdi'] = silver_data_eda['offentlige_grundværdi'].str.replace(r'\\D', '')\nsilver_data_eda['seneste_handelspris'] = silver_data_eda['seneste_handelspris'].str.replace(r'\\D', '')\nsilver_data_eda['pris_pr_m2'] = silver_data_eda['pris_pr_m2'].str.replace(r'\\D', '')\n\nsilver_data_eda['longitude'] = silver_data_eda['longitude'].str.replace(',', '.')\nsilver_data_eda['latitude'] = silver_data_eda['latitude'].str.replace(',', '.')\n\nsilver_data_eda['husnr'] = silver_data_eda['husnr'].str.replace(r'\\D', '')\n\n",
   "execution_count": null,
   "outputs": [
    {
     "name": "stderr",
     "text": "/shared-libs/python3.7/py-core/lib/python3.7/site-packages/ipykernel_launcher.py:3: FutureWarning: The default value of regex will change from True to False in a future version.\n  This is separate from the ipykernel package so we can avoid doing imports until\n/shared-libs/python3.7/py-core/lib/python3.7/site-packages/ipykernel_launcher.py:4: FutureWarning: The default value of regex will change from True to False in a future version.\n  after removing the cwd from sys.path.\n/shared-libs/python3.7/py-core/lib/python3.7/site-packages/ipykernel_launcher.py:5: FutureWarning: The default value of regex will change from True to False in a future version.\n  \"\"\"\n/shared-libs/python3.7/py-core/lib/python3.7/site-packages/ipykernel_launcher.py:6: FutureWarning: The default value of regex will change from True to False in a future version.\n  \n/shared-libs/python3.7/py-core/lib/python3.7/site-packages/ipykernel_launcher.py:11: FutureWarning: The default value of regex will change from True to False in a future version.\n  # This is added back by InteractiveShellApp.init_path()\n",
     "output_type": "stream"
    }
   ]
  },
  {
   "cell_type": "code",
   "metadata": {
    "tags": [],
    "deepnote_to_be_reexecuted": false,
    "source_hash": "380ec38f",
    "execution_start": 1652447547157,
    "execution_millis": 0,
    "cell_id": "00008-903633c1-285b-431e-8e7a-210daa067182",
    "deepnote_cell_type": "code",
    "deepnote_cell_height": 99
   },
   "source": "#remove  \nsilver_data_eda = silver_data_eda.replace('-', '')",
   "execution_count": null,
   "outputs": []
  },
  {
   "cell_type": "code",
   "metadata": {
    "tags": [],
    "deepnote_to_be_reexecuted": false,
    "source_hash": "d75901f6",
    "execution_start": 1652447547158,
    "execution_millis": 0,
    "cell_id": "00009-92e9d7dd-b2aa-4a9d-891a-dcaced13f069",
    "deepnote_cell_type": "code",
    "deepnote_cell_height": 171
   },
   "source": "#split date to each column \nsilver_data_eda['seneste_handelsdato']= pd.to_datetime(silver_data_eda['seneste_handelsdato'],format='%d/%m/%Y')\n\nsilver_data_eda['year']= silver_data_eda['seneste_handelsdato'].dt.year\nsilver_data_eda['month']= silver_data_eda['seneste_handelsdato'].dt.month\nsilver_data_eda['day']= silver_data_eda['seneste_handelsdato'].dt.day",
   "execution_count": null,
   "outputs": []
  },
  {
   "cell_type": "code",
   "metadata": {
    "tags": [],
    "deepnote_to_be_reexecuted": false,
    "source_hash": "9a196a44",
    "execution_start": 1652447547162,
    "execution_millis": 27,
    "cell_id": "00010-8e2e5bef-f071-4e80-9a97-a69b080d77e1",
    "deepnote_cell_type": "code",
    "deepnote_cell_height": 405
   },
   "source": "#remove whitespace in col.\n\ndef whitespace_remover(dataframe):\n\n\t# iterating over the columns\n\tfor i in dataframe.columns:\n\t\t\n\t\t# checking datatype of each columns\n\t\tif dataframe[i].dtype == 'object':\n\t\t\t\n\t\t\t# applying strip function on column\n\t\t\tdataframe[i] = dataframe[i].str.replace(' ', '')\n\t\telse:\n\t\t\t\n\t\t\t# if condn. is False then it will do nothing.\n\t\t\tpass\n\n# applying whitespace_remover function on dataframe\nwhitespace_remover(silver_data_eda)",
   "execution_count": null,
   "outputs": []
  },
  {
   "cell_type": "code",
   "metadata": {
    "tags": [],
    "deepnote_to_be_reexecuted": false,
    "source_hash": "6ed7d1bf",
    "execution_start": 1652447547233,
    "execution_millis": 1,
    "cell_id": "00011-6cc26da5-95cf-4d64-8653-96baf4b5a509",
    "deepnote_cell_type": "code",
    "deepnote_cell_height": 117
   },
   "source": "#drop_duplicates\nsilver_data_eda.drop_duplicates(subset =['bfe_nummer','seneste_handelspris'],keep = False, inplace = True)\n",
   "execution_count": null,
   "outputs": []
  },
  {
   "cell_type": "code",
   "metadata": {
    "tags": [],
    "deepnote_to_be_reexecuted": false,
    "source_hash": "a887cba2",
    "execution_start": 1652447547235,
    "execution_millis": 93,
    "cell_id": "00012-cbe0d99d-8a12-4c8c-a893-b45cbfa7cf15",
    "deepnote_cell_type": "code",
    "deepnote_cell_height": 261
   },
   "source": "#change building levels to numeric numbers.\n#groundfloor == level 1 \n\n# change groundlevel \"st\" to 0 \nsilver_data_eda[\"etage\"] = silver_data_eda[\"etage\"].replace(\"st\", \"0\")\n\n# strings to numeric\nsilver_data_eda[\"etage\"] = silver_data_eda[\"etage\"].apply(pd.to_numeric) #.astype('int')\n\n# add +1 to floor level, so the model dont think \"0\" is no value. \nsilver_data_eda['etage'] += 1",
   "execution_count": null,
   "outputs": []
  },
  {
   "cell_type": "code",
   "metadata": {
    "cell_id": "bf53714d051949a2ad43756ee7a684d2",
    "tags": [],
    "deepnote_to_be_reexecuted": false,
    "source_hash": "380ec38f",
    "execution_start": 1652447547329,
    "execution_millis": 1,
    "deepnote_cell_type": "code",
    "deepnote_cell_height": 99
   },
   "source": "#remove  \nsilver_data_eda = silver_data_eda.replace('-', '')",
   "execution_count": null,
   "outputs": []
  },
  {
   "cell_type": "code",
   "metadata": {
    "tags": [],
    "deepnote_to_be_reexecuted": false,
    "source_hash": "a9c788e6",
    "execution_start": 1652447547331,
    "execution_millis": 504,
    "cell_id": "00013-ce9df82e-6284-435e-8ca0-c051659a32cc",
    "deepnote_cell_type": "code",
    "deepnote_cell_height": 459
   },
   "source": "# change data types for columns \n\nsilver_data_eda['offentlig_ejendomsværdi'] = silver_data_eda['offentlig_ejendomsværdi'].apply(pd.to_numeric)\nsilver_data_eda[\"offentlige_grundværdi\"] = silver_data_eda[\"offentlige_grundværdi\"].apply(pd.to_numeric)\nsilver_data_eda['seneste_handelspris'] = silver_data_eda['seneste_handelspris'].apply(pd.to_numeric)\n\nsilver_data_eda['enhedsareal_beboelse'] = silver_data_eda['enhedsareal_beboelse'].apply(pd.to_numeric)\nsilver_data_eda['pris_pr_m2'] = silver_data_eda['pris_pr_m2'].apply(pd.to_numeric)\n\nsilver_data_eda['opførelsesår'] = silver_data_eda['opførelsesår'].apply(pd.to_numeric)\nsilver_data_eda['tinglyst_areal_ejerlejligheder'] = silver_data_eda['tinglyst_areal_ejerlejligheder'].apply(pd.to_numeric)\n\nsilver_data_eda['longitude'] = silver_data_eda['longitude'].apply(pd.to_numeric)\nsilver_data_eda['latitude'] = silver_data_eda['latitude'].apply(pd.to_numeric)\n\nsilver_data_eda['antal_værelser'] = silver_data_eda['antal_værelser'].apply(pd.to_numeric)\n\nsilver_data_eda['etage'] = silver_data_eda['etage'].apply(pd.to_numeric)\n\n#silver_data_eda['seneste_handlet_andel'] = silver_data_eda['seneste_handlet_andel'].apply(pd.to_numeric)\n#silver_data_eda['husnr'] = silver_data_eda['husnr'].apply(pd.to_numeric)\n",
   "execution_count": null,
   "outputs": []
  },
  {
   "cell_type": "code",
   "metadata": {
    "tags": [],
    "deepnote_to_be_reexecuted": false,
    "source_hash": "e4cf4a5d",
    "execution_start": 1652447547835,
    "execution_millis": 184,
    "deepnote_table_state": {
     "pageSize": 10,
     "pageIndex": 0,
     "filters": [
      {
       "id": "etage",
       "value": "",
       "type": "contains"
      }
     ],
     "sortBy": [
      {
       "id": "seneste_handelsdato",
       "type": "asc"
      }
     ]
    },
    "deepnote_table_loading": false,
    "cell_id": "00014-1c6fc6ef-6f68-4f62-9779-7906153c0395",
    "deepnote_cell_type": "code",
    "deepnote_cell_height": 647
   },
   "source": "silver_data_eda",
   "execution_count": null,
   "outputs": [
    {
     "output_type": "execute_result",
     "execution_count": 14,
     "data": {
      "application/vnd.deepnote.dataframe.v3+json": {
       "column_count": 23,
       "row_count": 4105,
       "columns": [
        {
         "name": "bfe_nummer",
         "dtype": "int64",
         "stats": {
          "unique_count": 4105,
          "nan_count": 0,
          "min": "101005",
          "max": "100384724",
          "histogram": [
           {
            "bin_start": 101005,
            "bin_end": 10129376.9,
            "count": 4039
           },
           {
            "bin_start": 10129376.9,
            "bin_end": 20157748.8,
            "count": 0
           },
           {
            "bin_start": 20157748.8,
            "bin_end": 30186120.700000003,
            "count": 0
           },
           {
            "bin_start": 30186120.700000003,
            "bin_end": 40214492.6,
            "count": 0
           },
           {
            "bin_start": 40214492.6,
            "bin_end": 50242864.5,
            "count": 0
           },
           {
            "bin_start": 50242864.5,
            "bin_end": 60271236.400000006,
            "count": 0
           },
           {
            "bin_start": 60271236.400000006,
            "bin_end": 70299608.3,
            "count": 0
           },
           {
            "bin_start": 70299608.3,
            "bin_end": 80327980.2,
            "count": 0
           },
           {
            "bin_start": 80327980.2,
            "bin_end": 90356352.10000001,
            "count": 0
           },
           {
            "bin_start": 90356352.10000001,
            "bin_end": 100384724,
            "count": 66
           }
          ]
         }
        },
        {
         "name": "adresse",
         "dtype": "object",
         "stats": {
          "unique_count": 4104,
          "nan_count": 0,
          "categories": [
           {
            "name": "Birketinget16,3.2,2300KøbenhavnS",
            "count": 2
           },
           {
            "name": "Strandlodsvej23A,1.tv,2300KøbenhavnS",
            "count": 1
           },
           {
            "name": "4102 others",
            "count": 4102
           }
          ]
         }
        },
        {
         "name": "offentlig_ejendomsværdi",
         "dtype": "float64",
         "stats": {
          "unique_count": 142,
          "nan_count": 60,
          "min": "11000.0",
          "max": "6850000.0",
          "histogram": [
           {
            "bin_start": 11000,
            "bin_end": 694900,
            "count": 191
           },
           {
            "bin_start": 694900,
            "bin_end": 1378800,
            "count": 1830
           },
           {
            "bin_start": 1378800,
            "bin_end": 2062700,
            "count": 985
           },
           {
            "bin_start": 2062700,
            "bin_end": 2746600,
            "count": 630
           },
           {
            "bin_start": 2746600,
            "bin_end": 3430500,
            "count": 299
           },
           {
            "bin_start": 3430500,
            "bin_end": 4114400,
            "count": 72
           },
           {
            "bin_start": 4114400,
            "bin_end": 4798300,
            "count": 18
           },
           {
            "bin_start": 4798300,
            "bin_end": 5482200,
            "count": 9
           },
           {
            "bin_start": 5482200,
            "bin_end": 6166100,
            "count": 4
           },
           {
            "bin_start": 6166100,
            "bin_end": 6850000,
            "count": 7
           }
          ]
         }
        },
        {
         "name": "offentlige_grundværdi",
         "dtype": "float64",
         "stats": {
          "unique_count": 1434,
          "nan_count": 60,
          "min": "0.0",
          "max": "1141300.0",
          "histogram": [
           {
            "bin_start": 0,
            "bin_end": 114130,
            "count": 1176
           },
           {
            "bin_start": 114130,
            "bin_end": 228260,
            "count": 1044
           },
           {
            "bin_start": 228260,
            "bin_end": 342390,
            "count": 598
           },
           {
            "bin_start": 342390,
            "bin_end": 456520,
            "count": 686
           },
           {
            "bin_start": 456520,
            "bin_end": 570650,
            "count": 397
           },
           {
            "bin_start": 570650,
            "bin_end": 684780,
            "count": 96
           },
           {
            "bin_start": 684780,
            "bin_end": 798910,
            "count": 25
           },
           {
            "bin_start": 798910,
            "bin_end": 913040,
            "count": 10
           },
           {
            "bin_start": 913040,
            "bin_end": 1027170,
            "count": 10
           },
           {
            "bin_start": 1027170,
            "bin_end": 1141300,
            "count": 3
           }
          ]
         }
        },
        {
         "name": "seneste_handelspris",
         "dtype": "int64",
         "stats": {
          "unique_count": 1089,
          "nan_count": 0,
          "min": "700000",
          "max": "15500000",
          "histogram": [
           {
            "bin_start": 700000,
            "bin_end": 2180000,
            "count": 867
           },
           {
            "bin_start": 2180000,
            "bin_end": 3660000,
            "count": 1666
           },
           {
            "bin_start": 3660000,
            "bin_end": 5140000,
            "count": 1022
           },
           {
            "bin_start": 5140000,
            "bin_end": 6620000,
            "count": 339
           },
           {
            "bin_start": 6620000,
            "bin_end": 8100000,
            "count": 132
           },
           {
            "bin_start": 8100000,
            "bin_end": 9580000,
            "count": 47
           },
           {
            "bin_start": 9580000,
            "bin_end": 11060000,
            "count": 16
           },
           {
            "bin_start": 11060000,
            "bin_end": 12540000,
            "count": 11
           },
           {
            "bin_start": 12540000,
            "bin_end": 14020000,
            "count": 2
           },
           {
            "bin_start": 14020000,
            "bin_end": 15500000,
            "count": 3
           }
          ]
         }
        },
        {
         "name": "enhedsareal_beboelse",
         "dtype": "float64",
         "stats": {
          "unique_count": 156,
          "nan_count": 1,
          "min": "25.0",
          "max": "254.0",
          "histogram": [
           {
            "bin_start": 25,
            "bin_end": 47.9,
            "count": 304
           },
           {
            "bin_start": 47.9,
            "bin_end": 70.8,
            "count": 1530
           },
           {
            "bin_start": 70.8,
            "bin_end": 93.69999999999999,
            "count": 889
           },
           {
            "bin_start": 93.69999999999999,
            "bin_end": 116.6,
            "count": 879
           },
           {
            "bin_start": 116.6,
            "bin_end": 139.5,
            "count": 370
           },
           {
            "bin_start": 139.5,
            "bin_end": 162.39999999999998,
            "count": 102
           },
           {
            "bin_start": 162.39999999999998,
            "bin_end": 185.29999999999998,
            "count": 17
           },
           {
            "bin_start": 185.29999999999998,
            "bin_end": 208.2,
            "count": 6
           },
           {
            "bin_start": 208.2,
            "bin_end": 231.1,
            "count": 3
           },
           {
            "bin_start": 231.1,
            "bin_end": 254,
            "count": 4
           }
          ]
         }
        },
        {
         "name": "pris_pr_m2",
         "dtype": "float64",
         "stats": {
          "unique_count": 2985,
          "nan_count": 1,
          "min": "8333.0",
          "max": "91176.0",
          "histogram": [
           {
            "bin_start": 8333,
            "bin_end": 16617.3,
            "count": 3
           },
           {
            "bin_start": 16617.3,
            "bin_end": 24901.6,
            "count": 25
           },
           {
            "bin_start": 24901.6,
            "bin_end": 33185.899999999994,
            "count": 443
           },
           {
            "bin_start": 33185.899999999994,
            "bin_end": 41470.2,
            "count": 1665
           },
           {
            "bin_start": 41470.2,
            "bin_end": 49754.5,
            "count": 1280
           },
           {
            "bin_start": 49754.5,
            "bin_end": 58038.799999999996,
            "count": 503
           },
           {
            "bin_start": 58038.799999999996,
            "bin_end": 66323.09999999999,
            "count": 130
           },
           {
            "bin_start": 66323.09999999999,
            "bin_end": 74607.4,
            "count": 35
           },
           {
            "bin_start": 74607.4,
            "bin_end": 82891.7,
            "count": 16
           },
           {
            "bin_start": 82891.7,
            "bin_end": 91176,
            "count": 4
           }
          ]
         }
        },
        {
         "name": "seneste_handelsdato",
         "dtype": "datetime64[ns]",
         "stats": {
          "unique_count": 323,
          "nan_count": 0,
          "min": "2019-01-02 00:00:00",
          "max": "2022-07-01 00:00:00",
          "histogram": [
           {
            "bin_start": 1546387200000000000,
            "bin_end": 1557411840000000000,
            "count": 287
           },
           {
            "bin_start": 1557411840000000000,
            "bin_end": 1568436480000000000,
            "count": 391
           },
           {
            "bin_start": 1568436480000000000,
            "bin_end": 1579461120000000000,
            "count": 325
           },
           {
            "bin_start": 1579461120000000000,
            "bin_end": 1590485760000000000,
            "count": 363
           },
           {
            "bin_start": 1590485760000000000,
            "bin_end": 1601510400000000000,
            "count": 408
           },
           {
            "bin_start": 1601510400000000000,
            "bin_end": 1612535040000000000,
            "count": 563
           },
           {
            "bin_start": 1612535040000000000,
            "bin_end": 1623559680000000000,
            "count": 593
           },
           {
            "bin_start": 1623559680000000000,
            "bin_end": 1634584320000000000,
            "count": 580
           },
           {
            "bin_start": 1634584320000000000,
            "bin_end": 1645608960000000000,
            "count": 414
           },
           {
            "bin_start": 1645608960000000000,
            "bin_end": 1656633600000000000,
            "count": 181
           }
          ]
         }
        },
        {
         "name": "seneste_handlet_andel",
         "dtype": "object",
         "stats": {
          "unique_count": 1,
          "nan_count": 0,
          "categories": [
           {
            "name": "100%",
            "count": 4105
           }
          ]
         }
        },
        {
         "name": "handelsmetode",
         "dtype": "object",
         "stats": {
          "unique_count": 1,
          "nan_count": 0,
          "categories": [
           {
            "name": "Almindeligfrihandel",
            "count": 4105
           }
          ]
         }
        },
        {
         "name": "anvendelse",
         "dtype": "object",
         "stats": {
          "unique_count": 1,
          "nan_count": 0,
          "categories": [
           {
            "name": "Etagebolig-bygning,flerfamiliehusellerto-familiehus",
            "count": 4105
           }
          ]
         }
        },
        {
         "name": "opførelsesår",
         "dtype": "float64",
         "stats": {
          "unique_count": 86,
          "nan_count": 182,
          "min": "1872.0",
          "max": "2021.0",
          "histogram": [
           {
            "bin_start": 1872,
            "bin_end": 1886.9,
            "count": 18
           },
           {
            "bin_start": 1886.9,
            "bin_end": 1901.8,
            "count": 93
           },
           {
            "bin_start": 1901.8,
            "bin_end": 1916.7,
            "count": 552
           },
           {
            "bin_start": 1916.7,
            "bin_end": 1931.6,
            "count": 230
           },
           {
            "bin_start": 1931.6,
            "bin_end": 1946.5,
            "count": 1162
           },
           {
            "bin_start": 1946.5,
            "bin_end": 1961.4,
            "count": 25
           },
           {
            "bin_start": 1961.4,
            "bin_end": 1976.3,
            "count": 324
           },
           {
            "bin_start": 1976.3,
            "bin_end": 1991.2,
            "count": 3
           },
           {
            "bin_start": 1991.2,
            "bin_end": 2006.1,
            "count": 498
           },
           {
            "bin_start": 2006.1,
            "bin_end": 2021,
            "count": 1018
           }
          ]
         }
        },
        {
         "name": "tinglyst_areal_ejerlejligheder",
         "dtype": "float64",
         "stats": {
          "unique_count": 152,
          "nan_count": 1,
          "min": "23.0",
          "max": "302.0",
          "histogram": [
           {
            "bin_start": 23,
            "bin_end": 50.9,
            "count": 874
           },
           {
            "bin_start": 50.9,
            "bin_end": 78.8,
            "count": 1607
           },
           {
            "bin_start": 78.8,
            "bin_end": 106.69999999999999,
            "count": 1174
           },
           {
            "bin_start": 106.69999999999999,
            "bin_end": 134.6,
            "count": 335
           },
           {
            "bin_start": 134.6,
            "bin_end": 162.5,
            "count": 90
           },
           {
            "bin_start": 162.5,
            "bin_end": 190.39999999999998,
            "count": 10
           },
           {
            "bin_start": 190.39999999999998,
            "bin_end": 218.29999999999998,
            "count": 7
           },
           {
            "bin_start": 218.29999999999998,
            "bin_end": 246.2,
            "count": 4
           },
           {
            "bin_start": 246.2,
            "bin_end": 274.1,
            "count": 2
           },
           {
            "bin_start": 274.1,
            "bin_end": 302,
            "count": 1
           }
          ]
         }
        },
        {
         "name": "longitude",
         "dtype": "float64",
         "stats": {
          "unique_count": 1257,
          "nan_count": 0,
          "min": "12.56400799",
          "max": "12.63511252",
          "histogram": [
           {
            "bin_start": 12.56400799,
            "bin_end": 12.571118443,
            "count": 405
           },
           {
            "bin_start": 12.571118443,
            "bin_end": 12.578228896,
            "count": 542
           },
           {
            "bin_start": 12.578228896,
            "bin_end": 12.585339349,
            "count": 332
           },
           {
            "bin_start": 12.585339349,
            "bin_end": 12.592449802,
            "count": 89
           },
           {
            "bin_start": 12.592449802,
            "bin_end": 12.599560255,
            "count": 277
           },
           {
            "bin_start": 12.599560255,
            "bin_end": 12.606670708,
            "count": 513
           },
           {
            "bin_start": 12.606670708,
            "bin_end": 12.613781161,
            "count": 665
           },
           {
            "bin_start": 12.613781161,
            "bin_end": 12.620891614,
            "count": 717
           },
           {
            "bin_start": 12.620891614,
            "bin_end": 12.628002067,
            "count": 396
           },
           {
            "bin_start": 12.628002067,
            "bin_end": 12.63511252,
            "count": 169
           }
          ]
         }
        },
        {
         "name": "latitude",
         "dtype": "float64",
         "stats": {
          "unique_count": 1257,
          "nan_count": 0,
          "min": "55.61653656",
          "max": "55.66870439",
          "histogram": [
           {
            "bin_start": 55.61653656,
            "bin_end": 55.621753343,
            "count": 184
           },
           {
            "bin_start": 55.621753343,
            "bin_end": 55.626970126,
            "count": 154
           },
           {
            "bin_start": 55.626970126,
            "bin_end": 55.632186909,
            "count": 9
           },
           {
            "bin_start": 55.632186909,
            "bin_end": 55.637403692,
            "count": 377
           },
           {
            "bin_start": 55.637403692,
            "bin_end": 55.642620475,
            "count": 44
           },
           {
            "bin_start": 55.642620475,
            "bin_end": 55.647837258,
            "count": 193
           },
           {
            "bin_start": 55.647837258,
            "bin_end": 55.653054041000004,
            "count": 203
           },
           {
            "bin_start": 55.653054041000004,
            "bin_end": 55.658270824,
            "count": 733
           },
           {
            "bin_start": 55.658270824,
            "bin_end": 55.663487607,
            "count": 1104
           },
           {
            "bin_start": 55.663487607,
            "bin_end": 55.66870439,
            "count": 1104
           }
          ]
         }
        },
        {
         "name": "primær_ejers_adresse",
         "dtype": "object",
         "stats": {
          "unique_count": 3957,
          "nan_count": 0,
          "categories": [
           {
            "name": "None,2300KøbenhavnS",
            "count": 62
           },
           {
            "name": "",
            "count": 29
           },
           {
            "name": "3955 others",
            "count": 4014
           }
          ]
         }
        },
        {
         "name": "vejnavn",
         "dtype": "object",
         "stats": {
          "unique_count": 192,
          "nan_count": 0,
          "categories": [
           {
            "name": "RobertJacobsensVej",
            "count": 173
           },
           {
            "name": "EdvardThomsensVej",
            "count": 156
           },
           {
            "name": "190 others",
            "count": 3776
           }
          ]
         }
        },
        {
         "name": "husnr",
         "dtype": "object",
         "stats": {
          "unique_count": 155,
          "nan_count": 0,
          "categories": [
           {
            "name": "12",
            "count": 169
           },
           {
            "name": "5",
            "count": 166
           },
           {
            "name": "153 others",
            "count": 3770
           }
          ]
         }
        },
        {
         "name": "etage",
         "dtype": "float64",
         "stats": {
          "unique_count": 15,
          "nan_count": 58,
          "min": "1.0",
          "max": "16.0",
          "histogram": [
           {
            "bin_start": 1,
            "bin_end": 2.5,
            "count": 1459
           },
           {
            "bin_start": 2.5,
            "bin_end": 4,
            "count": 707
           },
           {
            "bin_start": 4,
            "bin_end": 5.5,
            "count": 1202
           },
           {
            "bin_start": 5.5,
            "bin_end": 7,
            "count": 307
           },
           {
            "bin_start": 7,
            "bin_end": 8.5,
            "count": 252
           },
           {
            "bin_start": 8.5,
            "bin_end": 10,
            "count": 37
           },
           {
            "bin_start": 10,
            "bin_end": 11.5,
            "count": 62
           },
           {
            "bin_start": 11.5,
            "bin_end": 13,
            "count": 13
           },
           {
            "bin_start": 13,
            "bin_end": 14.5,
            "count": 7
           },
           {
            "bin_start": 14.5,
            "bin_end": 16,
            "count": 1
           }
          ]
         }
        },
        {
         "name": "antal_værelser",
         "dtype": "int64",
         "stats": {
          "unique_count": 8,
          "nan_count": 0,
          "min": "1",
          "max": "8",
          "histogram": [
           {
            "bin_start": 1,
            "bin_end": 1.7,
            "count": 262
           },
           {
            "bin_start": 1.7,
            "bin_end": 2.4,
            "count": 1621
           },
           {
            "bin_start": 2.4,
            "bin_end": 3.0999999999999996,
            "count": 1374
           },
           {
            "bin_start": 3.0999999999999996,
            "bin_end": 3.8,
            "count": 0
           },
           {
            "bin_start": 3.8,
            "bin_end": 4.5,
            "count": 717
           },
           {
            "bin_start": 4.5,
            "bin_end": 5.199999999999999,
            "count": 104
           },
           {
            "bin_start": 5.199999999999999,
            "bin_end": 5.8999999999999995,
            "count": 0
           },
           {
            "bin_start": 5.8999999999999995,
            "bin_end": 6.6,
            "count": 22
           },
           {
            "bin_start": 6.6,
            "bin_end": 7.3,
            "count": 1
           },
           {
            "bin_start": 7.3,
            "bin_end": 8,
            "count": 4
           }
          ]
         }
        },
        {
         "name": "year",
         "dtype": "int64",
         "stats": {
          "unique_count": 4,
          "nan_count": 0,
          "min": "2019",
          "max": "2022",
          "histogram": [
           {
            "bin_start": 2019,
            "bin_end": 2019.3,
            "count": 930
           },
           {
            "bin_start": 2019.3,
            "bin_end": 2019.6,
            "count": 0
           },
           {
            "bin_start": 2019.6,
            "bin_end": 2019.9,
            "count": 0
           },
           {
            "bin_start": 2019.9,
            "bin_end": 2020.2,
            "count": 1218
           },
           {
            "bin_start": 2020.2,
            "bin_end": 2020.5,
            "count": 0
           },
           {
            "bin_start": 2020.5,
            "bin_end": 2020.8,
            "count": 0
           },
           {
            "bin_start": 2020.8,
            "bin_end": 2021.1,
            "count": 1559
           },
           {
            "bin_start": 2021.1,
            "bin_end": 2021.4,
            "count": 0
           },
           {
            "bin_start": 2021.4,
            "bin_end": 2021.7,
            "count": 0
           },
           {
            "bin_start": 2021.7,
            "bin_end": 2022,
            "count": 398
           }
          ]
         }
        },
        {
         "name": "month",
         "dtype": "int64",
         "stats": {
          "unique_count": 12,
          "nan_count": 0,
          "min": "1",
          "max": "12",
          "histogram": [
           {
            "bin_start": 1,
            "bin_end": 2.1,
            "count": 726
           },
           {
            "bin_start": 2.1,
            "bin_end": 3.2,
            "count": 388
           },
           {
            "bin_start": 3.2,
            "bin_end": 4.300000000000001,
            "count": 351
           },
           {
            "bin_start": 4.300000000000001,
            "bin_end": 5.4,
            "count": 331
           },
           {
            "bin_start": 5.4,
            "bin_end": 6.5,
            "count": 323
           },
           {
            "bin_start": 6.5,
            "bin_end": 7.6000000000000005,
            "count": 370
           },
           {
            "bin_start": 7.6000000000000005,
            "bin_end": 8.700000000000001,
            "count": 356
           },
           {
            "bin_start": 8.700000000000001,
            "bin_end": 9.8,
            "count": 344
           },
           {
            "bin_start": 9.8,
            "bin_end": 10.9,
            "count": 327
           },
           {
            "bin_start": 10.9,
            "bin_end": 12,
            "count": 589
           }
          ]
         }
        },
        {
         "name": "day",
         "dtype": "int64",
         "stats": {
          "unique_count": 31,
          "nan_count": 0,
          "min": "1",
          "max": "31",
          "histogram": [
           {
            "bin_start": 1,
            "bin_end": 4,
            "count": 3009
           },
           {
            "bin_start": 4,
            "bin_end": 7,
            "count": 57
           },
           {
            "bin_start": 7,
            "bin_end": 10,
            "count": 31
           },
           {
            "bin_start": 10,
            "bin_end": 13,
            "count": 38
           },
           {
            "bin_start": 13,
            "bin_end": 16,
            "count": 789
           },
           {
            "bin_start": 16,
            "bin_end": 19,
            "count": 34
           },
           {
            "bin_start": 19,
            "bin_end": 22,
            "count": 30
           },
           {
            "bin_start": 22,
            "bin_end": 25,
            "count": 26
           },
           {
            "bin_start": 25,
            "bin_end": 28,
            "count": 30
           },
           {
            "bin_start": 28,
            "bin_end": 31,
            "count": 61
           }
          ]
         }
        },
        {
         "name": "_deepnote_index_column",
         "dtype": "int64"
        }
       ],
       "rows": [
        {
         "bfe_nummer": 421339,
         "adresse": "Strandlodsvej23A,1.tv,2300KøbenhavnS",
         "offentlig_ejendomsværdi": 2000000,
         "offentlige_grundværdi": 249300,
         "seneste_handelspris": 3740000,
         "enhedsareal_beboelse": 89,
         "pris_pr_m2": 42022,
         "seneste_handelsdato": "2019-01-02T00:00:00.000000",
         "seneste_handlet_andel": "100%",
         "handelsmetode": "Almindeligfrihandel",
         "anvendelse": "Etagebolig-bygning,flerfamiliehusellerto-familiehus",
         "opførelsesår": 2021,
         "tinglyst_areal_ejerlejligheder": 80,
         "longitude": 12.62523023,
         "latitude": 55.66516955,
         "primær_ejers_adresse": "Strandlodsvej23A,1tv,2300KøbenhavnS",
         "vejnavn": "Strandlodsvej",
         "husnr": "23",
         "etage": 2,
         "antal_værelser": 3,
         "year": 2019,
         "month": 1,
         "day": 2,
         "_deepnote_index_column": 4369
        },
        {
         "bfe_nummer": 134555,
         "adresse": "Øresundsvej58,1.th,2300KøbenhavnS",
         "offentlig_ejendomsværdi": 1150000,
         "offentlige_grundværdi": 105200,
         "seneste_handelspris": 2250000,
         "enhedsareal_beboelse": 64,
         "pris_pr_m2": 35156,
         "seneste_handelsdato": "2019-01-02T00:00:00.000000",
         "seneste_handlet_andel": "100%",
         "handelsmetode": "Almindeligfrihandel",
         "anvendelse": "Etagebolig-bygning,flerfamiliehusellerto-familiehus",
         "opførelsesår": 1914,
         "tinglyst_areal_ejerlejligheder": 57,
         "longitude": 12.61491787,
         "latitude": 55.66058496,
         "primær_ejers_adresse": "Nyrupvej145,4400Kalundborg",
         "vejnavn": "Øresundsvej",
         "husnr": "58",
         "etage": 2,
         "antal_værelser": 2,
         "year": 2019,
         "month": 1,
         "day": 2,
         "_deepnote_index_column": 4357
        },
        {
         "bfe_nummer": 123873,
         "adresse": "Højdevej5,5.th,2300KøbenhavnS",
         "offentlig_ejendomsværdi": 940000,
         "offentlige_grundværdi": 107900,
         "seneste_handelspris": 1699999,
         "enhedsareal_beboelse": 49,
         "pris_pr_m2": 34693,
         "seneste_handelsdato": "2019-01-02T00:00:00.000000",
         "seneste_handlet_andel": "100%",
         "handelsmetode": "Almindeligfrihandel",
         "anvendelse": "Etagebolig-bygning,flerfamiliehusellerto-familiehus",
         "opførelsesår": 1904,
         "tinglyst_areal_ejerlejligheder": 41,
         "longitude": 12.61151096,
         "latitude": 55.65451924,
         "primær_ejers_adresse": "Højdevej5,5th,2300KøbenhavnS",
         "vejnavn": "Højdevej",
         "husnr": "5",
         "etage": 6,
         "antal_værelser": 2,
         "year": 2019,
         "month": 1,
         "day": 2,
         "_deepnote_index_column": 4358
        },
        {
         "bfe_nummer": 122923,
         "adresse": "TychoBrahesAllé7,3.tv,2300KøbenhavnS",
         "offentlig_ejendomsværdi": 900000,
         "offentlige_grundværdi": 65500,
         "seneste_handelspris": 1900000,
         "enhedsareal_beboelse": 50,
         "pris_pr_m2": 38000,
         "seneste_handelsdato": "2019-01-02T00:00:00.000000",
         "seneste_handlet_andel": "100%",
         "handelsmetode": "Almindeligfrihandel",
         "anvendelse": "Etagebolig-bygning,flerfamiliehusellerto-familiehus",
         "opførelsesår": 1907,
         "tinglyst_areal_ejerlejligheder": 43,
         "longitude": 12.61098481,
         "latitude": 55.65539707,
         "primær_ejers_adresse": "NyTjørnegade24,8200AarhusN",
         "vejnavn": "TychoBrahesAllé",
         "husnr": "7",
         "etage": 4,
         "antal_værelser": 2,
         "year": 2019,
         "month": 1,
         "day": 2,
         "_deepnote_index_column": 4359
        },
        {
         "bfe_nummer": 123786,
         "adresse": "Rumæniensgade6,4.tv,2300KøbenhavnS",
         "offentlig_ejendomsværdi": 1350000,
         "offentlige_grundværdi": 141500,
         "seneste_handelspris": 2660000,
         "enhedsareal_beboelse": 78,
         "pris_pr_m2": 34102,
         "seneste_handelsdato": "2019-01-02T00:00:00.000000",
         "seneste_handlet_andel": "100%",
         "handelsmetode": "Almindeligfrihandel",
         "anvendelse": "Etagebolig-bygning,flerfamiliehusellerto-familiehus",
         "opførelsesår": 1930,
         "tinglyst_areal_ejerlejligheder": 71,
         "longitude": 12.61365497,
         "latitude": 55.65987523,
         "primær_ejers_adresse": "Rumæniensgade6,4tv,2300KøbenhavnS",
         "vejnavn": "Rumæniensgade",
         "husnr": "6",
         "etage": 5,
         "antal_værelser": 3,
         "year": 2019,
         "month": 1,
         "day": 2,
         "_deepnote_index_column": 4360
        },
        {
         "bfe_nummer": 128231,
         "adresse": "Hessensgade15,st.7,2300KøbenhavnS",
         "offentlig_ejendomsværdi": 860000,
         "offentlige_grundværdi": 200000,
         "seneste_handelspris": 1980000,
         "enhedsareal_beboelse": 59,
         "pris_pr_m2": 33559,
         "seneste_handelsdato": "2019-01-02T00:00:00.000000",
         "seneste_handlet_andel": "100%",
         "handelsmetode": "Almindeligfrihandel",
         "anvendelse": "Etagebolig-bygning,flerfamiliehusellerto-familiehus",
         "opførelsesår": 1970,
         "tinglyst_areal_ejerlejligheder": 55,
         "longitude": 12.61546683,
         "latitude": 55.66563322,
         "primær_ejers_adresse": "Hessensgade15,st,-7,2300KøbenhavnS",
         "vejnavn": "Hessensgade",
         "husnr": "15",
         "etage": 1,
         "antal_værelser": 2,
         "year": 2019,
         "month": 1,
         "day": 2,
         "_deepnote_index_column": 4361
        },
        {
         "bfe_nummer": 138884,
         "adresse": "Hyacintgården9,1.3,2300KøbenhavnS",
         "offentlig_ejendomsværdi": 560000,
         "offentlige_grundværdi": 82200,
         "seneste_handelspris": 1175000,
         "enhedsareal_beboelse": 34,
         "pris_pr_m2": 34558,
         "seneste_handelsdato": "2019-01-02T00:00:00.000000",
         "seneste_handlet_andel": "100%",
         "handelsmetode": "Almindeligfrihandel",
         "anvendelse": "Etagebolig-bygning,flerfamiliehusellerto-familiehus",
         "opførelsesår": 1968,
         "tinglyst_areal_ejerlejligheder": 31,
         "longitude": 12.61220597,
         "latitude": 55.64862252,
         "primær_ejers_adresse": "Bomhusvej18F,2th,2100KøbenhavnØ",
         "vejnavn": "Hyacintgården",
         "husnr": "9",
         "etage": 2,
         "antal_værelser": 1,
         "year": 2019,
         "month": 1,
         "day": 2,
         "_deepnote_index_column": 4368
        },
        {
         "bfe_nummer": 104117,
         "adresse": "UnderElmene12,st.tv,2300KøbenhavnS",
         "offentlig_ejendomsværdi": 1000000,
         "offentlige_grundværdi": 107100,
         "seneste_handelspris": 2350000,
         "enhedsareal_beboelse": 64,
         "pris_pr_m2": 36718,
         "seneste_handelsdato": "2019-01-02T00:00:00.000000",
         "seneste_handlet_andel": "100%",
         "handelsmetode": "Almindeligfrihandel",
         "anvendelse": "Etagebolig-bygning,flerfamiliehusellerto-familiehus",
         "opførelsesår": 1915,
         "tinglyst_areal_ejerlejligheder": 57,
         "longitude": 12.59778856,
         "latitude": 55.66493121,
         "primær_ejers_adresse": "BorupsAlle116,3tv,2000Frederiksberg",
         "vejnavn": "UnderElmene",
         "husnr": "12",
         "etage": 1,
         "antal_værelser": 2,
         "year": 2019,
         "month": 1,
         "day": 2,
         "_deepnote_index_column": 4363
        },
        {
         "bfe_nummer": 134871,
         "adresse": "Holmbladsgade70A,4.tv,2300KøbenhavnS",
         "offentlig_ejendomsværdi": 1850000,
         "offentlige_grundværdi": 110700,
         "seneste_handelspris": 3650000,
         "enhedsareal_beboelse": 94,
         "pris_pr_m2": 38829,
         "seneste_handelsdato": "2019-01-02T00:00:00.000000",
         "seneste_handlet_andel": "100%",
         "handelsmetode": "Almindeligfrihandel",
         "anvendelse": "Etagebolig-bygning,flerfamiliehusellerto-familiehus",
         "opførelsesår": 1913,
         "tinglyst_areal_ejerlejligheder": 90,
         "longitude": 12.61141095,
         "latitude": 55.66519302,
         "primær_ejers_adresse": "Holmbladsgade70A,4tv,2300KøbenhavnS",
         "vejnavn": "Holmbladsgade",
         "husnr": "70",
         "etage": 5,
         "antal_værelser": 3,
         "year": 2019,
         "month": 1,
         "day": 2,
         "_deepnote_index_column": 4367
        },
        {
         "bfe_nummer": 130268,
         "adresse": "Siciliensgade11,5.th,2300KøbenhavnS",
         "offentlig_ejendomsværdi": 580000,
         "offentlige_grundværdi": 53400,
         "seneste_handelspris": 1295000,
         "enhedsareal_beboelse": 32,
         "pris_pr_m2": 40468,
         "seneste_handelsdato": "2019-01-02T00:00:00.000000",
         "seneste_handlet_andel": "100%",
         "handelsmetode": "Almindeligfrihandel",
         "anvendelse": "Etagebolig-bygning,flerfamiliehusellerto-familiehus",
         "opførelsesår": 1936,
         "tinglyst_areal_ejerlejligheder": 27,
         "longitude": 12.61851122,
         "latitude": 55.65296381,
         "primær_ejers_adresse": "Brigadevej50,st,-124,2300KøbenhavnS",
         "vejnavn": "Siciliensgade",
         "husnr": "11",
         "etage": 6,
         "antal_værelser": 1,
         "year": 2019,
         "month": 1,
         "day": 2,
         "_deepnote_index_column": 4366
        }
       ]
      },
      "text/plain": "      bfe_nummer                                adresse  \\\n0         420766   ElseAlfeltsVej93,7.th,2300KøbenhavnS   \n1         109362  C.F.MøllersAllé66,7.tv,2300KøbenhavnS   \n2         124613     Lombardigade19,3.tv,2300KøbenhavnS   \n3         103200     VedAmagerport9,3.th,2300KøbenhavnS   \n4         132843     Øresundsvej104,4.th,2300KøbenhavnS   \n...          ...                                    ...   \n4365      107328       Myggenæsgade3,1.4,2300KøbenhavnS   \n4366      130268    Siciliensgade11,5.th,2300KøbenhavnS   \n4367      134871   Holmbladsgade70A,4.tv,2300KøbenhavnS   \n4368      138884      Hyacintgården9,1.3,2300KøbenhavnS   \n4369      421339   Strandlodsvej23A,1.tv,2300KøbenhavnS   \n\n      offentlig_ejendomsværdi  offentlige_grundværdi  seneste_handelspris  \\\n0                   1950000.0               349600.0              3950000   \n1                   1850000.0               351700.0              4300000   \n2                    960000.0                70200.0              2400000   \n3                   1600000.0               172900.0              5050000   \n4                   1400000.0               124300.0              4100000   \n...                       ...                    ...                  ...   \n4365                2450000.0               386900.0              3700000   \n4366                 580000.0                53400.0              1295000   \n4367                1850000.0               110700.0              3650000   \n4368                 560000.0                82200.0              1175000   \n4369                2000000.0               249300.0              3740000   \n\n      enhedsareal_beboelse  pris_pr_m2 seneste_handelsdato  \\\n0                     88.0     44886.0          2022-07-01   \n1                     92.0     46739.0          2022-06-01   \n2                     56.0     42857.0          2022-06-01   \n3                     90.0     56111.0          2022-06-01   \n4                     82.0     50000.0          2022-06-01   \n...                    ...         ...                 ...   \n4365                  90.0     41111.0          2019-01-02   \n4366                  32.0     40468.0          2019-01-02   \n4367                  94.0     38829.0          2019-01-02   \n4368                  34.0     34558.0          2019-01-02   \n4369                  89.0     42022.0          2019-01-02   \n\n     seneste_handlet_andel        handelsmetode  ...  longitude   latitude  \\\n0                     100%  Almindeligfrihandel  ...  12.568416  55.616910   \n1                     100%  Almindeligfrihandel  ...  12.577716  55.634468   \n2                     100%  Almindeligfrihandel  ...  12.613486  55.654329   \n3                     100%  Almindeligfrihandel  ...  12.596222  55.666609   \n4                     100%  Almindeligfrihandel  ...  12.621179  55.661221   \n...                    ...                  ...  ...        ...        ...   \n4365                  100%  Almindeligfrihandel  ...  12.584155  55.665330   \n4366                  100%  Almindeligfrihandel  ...  12.618511  55.652964   \n4367                  100%  Almindeligfrihandel  ...  12.611411  55.665193   \n4368                  100%  Almindeligfrihandel  ...  12.612206  55.648623   \n4369                  100%  Almindeligfrihandel  ...  12.625230  55.665170   \n\n                      primær_ejers_adresse          vejnavn  husnr etage  \\\n0      ElseAlfeltsVej93,7th,2300KøbenhavnS   ElseAlfeltsVej     93   8.0   \n1     C.F.MøllersAllé66,7tv,2300KøbenhavnS  C.F.MøllersAllé     66   8.0   \n2                 Skolegade10,4100Ringsted     Lombardigade     19   4.0   \n3        VedAmagerport9,3th,2300KøbenhavnS    VedAmagerport      9   4.0   \n4        Øresundsvej104,4th,2300KøbenhavnS      Øresundsvej    104   5.0   \n...                                    ...              ...    ...   ...   \n4365     Myggenæsgade3,1,-4,2300KøbenhavnS     Myggenæsgade      3   2.0   \n4366   Brigadevej50,st,-124,2300KøbenhavnS    Siciliensgade     11   6.0   \n4367   Holmbladsgade70A,4tv,2300KøbenhavnS    Holmbladsgade     70   5.0   \n4368       Bomhusvej18F,2th,2100KøbenhavnØ    Hyacintgården      9   2.0   \n4369   Strandlodsvej23A,1tv,2300KøbenhavnS    Strandlodsvej     23   2.0   \n\n     antal_værelser  year  month  day  \n0                 3  2022      7    1  \n1                 3  2022      6    1  \n2                 2  2022      6    1  \n3                 3  2022      6    1  \n4                 4  2022      6    1  \n...             ...   ...    ...  ...  \n4365              3  2019      1    2  \n4366              1  2019      1    2  \n4367              3  2019      1    2  \n4368              1  2019      1    2  \n4369              3  2019      1    2  \n\n[4105 rows x 23 columns]",
      "text/html": "<div>\n<style scoped>\n    .dataframe tbody tr th:only-of-type {\n        vertical-align: middle;\n    }\n\n    .dataframe tbody tr th {\n        vertical-align: top;\n    }\n\n    .dataframe thead th {\n        text-align: right;\n    }\n</style>\n<table border=\"1\" class=\"dataframe\">\n  <thead>\n    <tr style=\"text-align: right;\">\n      <th></th>\n      <th>bfe_nummer</th>\n      <th>adresse</th>\n      <th>offentlig_ejendomsværdi</th>\n      <th>offentlige_grundværdi</th>\n      <th>seneste_handelspris</th>\n      <th>enhedsareal_beboelse</th>\n      <th>pris_pr_m2</th>\n      <th>seneste_handelsdato</th>\n      <th>seneste_handlet_andel</th>\n      <th>handelsmetode</th>\n      <th>...</th>\n      <th>longitude</th>\n      <th>latitude</th>\n      <th>primær_ejers_adresse</th>\n      <th>vejnavn</th>\n      <th>husnr</th>\n      <th>etage</th>\n      <th>antal_værelser</th>\n      <th>year</th>\n      <th>month</th>\n      <th>day</th>\n    </tr>\n  </thead>\n  <tbody>\n    <tr>\n      <th>0</th>\n      <td>420766</td>\n      <td>ElseAlfeltsVej93,7.th,2300KøbenhavnS</td>\n      <td>1950000.0</td>\n      <td>349600.0</td>\n      <td>3950000</td>\n      <td>88.0</td>\n      <td>44886.0</td>\n      <td>2022-07-01</td>\n      <td>100%</td>\n      <td>Almindeligfrihandel</td>\n      <td>...</td>\n      <td>12.568416</td>\n      <td>55.616910</td>\n      <td>ElseAlfeltsVej93,7th,2300KøbenhavnS</td>\n      <td>ElseAlfeltsVej</td>\n      <td>93</td>\n      <td>8.0</td>\n      <td>3</td>\n      <td>2022</td>\n      <td>7</td>\n      <td>1</td>\n    </tr>\n    <tr>\n      <th>1</th>\n      <td>109362</td>\n      <td>C.F.MøllersAllé66,7.tv,2300KøbenhavnS</td>\n      <td>1850000.0</td>\n      <td>351700.0</td>\n      <td>4300000</td>\n      <td>92.0</td>\n      <td>46739.0</td>\n      <td>2022-06-01</td>\n      <td>100%</td>\n      <td>Almindeligfrihandel</td>\n      <td>...</td>\n      <td>12.577716</td>\n      <td>55.634468</td>\n      <td>C.F.MøllersAllé66,7tv,2300KøbenhavnS</td>\n      <td>C.F.MøllersAllé</td>\n      <td>66</td>\n      <td>8.0</td>\n      <td>3</td>\n      <td>2022</td>\n      <td>6</td>\n      <td>1</td>\n    </tr>\n    <tr>\n      <th>2</th>\n      <td>124613</td>\n      <td>Lombardigade19,3.tv,2300KøbenhavnS</td>\n      <td>960000.0</td>\n      <td>70200.0</td>\n      <td>2400000</td>\n      <td>56.0</td>\n      <td>42857.0</td>\n      <td>2022-06-01</td>\n      <td>100%</td>\n      <td>Almindeligfrihandel</td>\n      <td>...</td>\n      <td>12.613486</td>\n      <td>55.654329</td>\n      <td>Skolegade10,4100Ringsted</td>\n      <td>Lombardigade</td>\n      <td>19</td>\n      <td>4.0</td>\n      <td>2</td>\n      <td>2022</td>\n      <td>6</td>\n      <td>1</td>\n    </tr>\n    <tr>\n      <th>3</th>\n      <td>103200</td>\n      <td>VedAmagerport9,3.th,2300KøbenhavnS</td>\n      <td>1600000.0</td>\n      <td>172900.0</td>\n      <td>5050000</td>\n      <td>90.0</td>\n      <td>56111.0</td>\n      <td>2022-06-01</td>\n      <td>100%</td>\n      <td>Almindeligfrihandel</td>\n      <td>...</td>\n      <td>12.596222</td>\n      <td>55.666609</td>\n      <td>VedAmagerport9,3th,2300KøbenhavnS</td>\n      <td>VedAmagerport</td>\n      <td>9</td>\n      <td>4.0</td>\n      <td>3</td>\n      <td>2022</td>\n      <td>6</td>\n      <td>1</td>\n    </tr>\n    <tr>\n      <th>4</th>\n      <td>132843</td>\n      <td>Øresundsvej104,4.th,2300KøbenhavnS</td>\n      <td>1400000.0</td>\n      <td>124300.0</td>\n      <td>4100000</td>\n      <td>82.0</td>\n      <td>50000.0</td>\n      <td>2022-06-01</td>\n      <td>100%</td>\n      <td>Almindeligfrihandel</td>\n      <td>...</td>\n      <td>12.621179</td>\n      <td>55.661221</td>\n      <td>Øresundsvej104,4th,2300KøbenhavnS</td>\n      <td>Øresundsvej</td>\n      <td>104</td>\n      <td>5.0</td>\n      <td>4</td>\n      <td>2022</td>\n      <td>6</td>\n      <td>1</td>\n    </tr>\n    <tr>\n      <th>...</th>\n      <td>...</td>\n      <td>...</td>\n      <td>...</td>\n      <td>...</td>\n      <td>...</td>\n      <td>...</td>\n      <td>...</td>\n      <td>...</td>\n      <td>...</td>\n      <td>...</td>\n      <td>...</td>\n      <td>...</td>\n      <td>...</td>\n      <td>...</td>\n      <td>...</td>\n      <td>...</td>\n      <td>...</td>\n      <td>...</td>\n      <td>...</td>\n      <td>...</td>\n      <td>...</td>\n    </tr>\n    <tr>\n      <th>4365</th>\n      <td>107328</td>\n      <td>Myggenæsgade3,1.4,2300KøbenhavnS</td>\n      <td>2450000.0</td>\n      <td>386900.0</td>\n      <td>3700000</td>\n      <td>90.0</td>\n      <td>41111.0</td>\n      <td>2019-01-02</td>\n      <td>100%</td>\n      <td>Almindeligfrihandel</td>\n      <td>...</td>\n      <td>12.584155</td>\n      <td>55.665330</td>\n      <td>Myggenæsgade3,1,-4,2300KøbenhavnS</td>\n      <td>Myggenæsgade</td>\n      <td>3</td>\n      <td>2.0</td>\n      <td>3</td>\n      <td>2019</td>\n      <td>1</td>\n      <td>2</td>\n    </tr>\n    <tr>\n      <th>4366</th>\n      <td>130268</td>\n      <td>Siciliensgade11,5.th,2300KøbenhavnS</td>\n      <td>580000.0</td>\n      <td>53400.0</td>\n      <td>1295000</td>\n      <td>32.0</td>\n      <td>40468.0</td>\n      <td>2019-01-02</td>\n      <td>100%</td>\n      <td>Almindeligfrihandel</td>\n      <td>...</td>\n      <td>12.618511</td>\n      <td>55.652964</td>\n      <td>Brigadevej50,st,-124,2300KøbenhavnS</td>\n      <td>Siciliensgade</td>\n      <td>11</td>\n      <td>6.0</td>\n      <td>1</td>\n      <td>2019</td>\n      <td>1</td>\n      <td>2</td>\n    </tr>\n    <tr>\n      <th>4367</th>\n      <td>134871</td>\n      <td>Holmbladsgade70A,4.tv,2300KøbenhavnS</td>\n      <td>1850000.0</td>\n      <td>110700.0</td>\n      <td>3650000</td>\n      <td>94.0</td>\n      <td>38829.0</td>\n      <td>2019-01-02</td>\n      <td>100%</td>\n      <td>Almindeligfrihandel</td>\n      <td>...</td>\n      <td>12.611411</td>\n      <td>55.665193</td>\n      <td>Holmbladsgade70A,4tv,2300KøbenhavnS</td>\n      <td>Holmbladsgade</td>\n      <td>70</td>\n      <td>5.0</td>\n      <td>3</td>\n      <td>2019</td>\n      <td>1</td>\n      <td>2</td>\n    </tr>\n    <tr>\n      <th>4368</th>\n      <td>138884</td>\n      <td>Hyacintgården9,1.3,2300KøbenhavnS</td>\n      <td>560000.0</td>\n      <td>82200.0</td>\n      <td>1175000</td>\n      <td>34.0</td>\n      <td>34558.0</td>\n      <td>2019-01-02</td>\n      <td>100%</td>\n      <td>Almindeligfrihandel</td>\n      <td>...</td>\n      <td>12.612206</td>\n      <td>55.648623</td>\n      <td>Bomhusvej18F,2th,2100KøbenhavnØ</td>\n      <td>Hyacintgården</td>\n      <td>9</td>\n      <td>2.0</td>\n      <td>1</td>\n      <td>2019</td>\n      <td>1</td>\n      <td>2</td>\n    </tr>\n    <tr>\n      <th>4369</th>\n      <td>421339</td>\n      <td>Strandlodsvej23A,1.tv,2300KøbenhavnS</td>\n      <td>2000000.0</td>\n      <td>249300.0</td>\n      <td>3740000</td>\n      <td>89.0</td>\n      <td>42022.0</td>\n      <td>2019-01-02</td>\n      <td>100%</td>\n      <td>Almindeligfrihandel</td>\n      <td>...</td>\n      <td>12.625230</td>\n      <td>55.665170</td>\n      <td>Strandlodsvej23A,1tv,2300KøbenhavnS</td>\n      <td>Strandlodsvej</td>\n      <td>23</td>\n      <td>2.0</td>\n      <td>3</td>\n      <td>2019</td>\n      <td>1</td>\n      <td>2</td>\n    </tr>\n  </tbody>\n</table>\n<p>4105 rows × 23 columns</p>\n</div>"
     },
     "metadata": {}
    }
   ]
  },
  {
   "cell_type": "code",
   "metadata": {
    "cell_id": "b2a03a719d0842168a5b6504d8e0927b",
    "tags": [],
    "deepnote_to_be_reexecuted": false,
    "source_hash": "2e3e3f64",
    "execution_start": 1652447548000,
    "execution_millis": 0,
    "deepnote_table_state": {
     "pageSize": 10,
     "pageIndex": 0,
     "filters": [],
     "sortBy": [
      {
       "id": "seneste_handelsdato",
       "type": "desc"
      }
     ]
    },
    "deepnote_table_loading": false,
    "deepnote_cell_type": "code",
    "deepnote_cell_height": 99
   },
   "source": "# set the date period for the data\nsilver_data_eda = silver_data_eda[(silver_data_eda['seneste_handelsdato'] > '2019-1-1') & (silver_data_eda['seneste_handelsdato'] <= '2022-3-31')]",
   "execution_count": null,
   "outputs": []
  },
  {
   "cell_type": "code",
   "metadata": {
    "tags": [],
    "deepnote_to_be_reexecuted": false,
    "source_hash": "c75f3e6",
    "execution_start": 1652447548001,
    "execution_millis": 19,
    "cell_id": "00015-800631bb-22f8-4ce6-9c60-66df0084e124",
    "deepnote_cell_type": "code",
    "deepnote_cell_height": 613.5,
    "deepnote_output_heights": [
     462.5
    ]
   },
   "source": "#missing values \n\n#silver_data_eda.info() \nsilver_data_eda.isnull().sum()",
   "execution_count": null,
   "outputs": [
    {
     "output_type": "execute_result",
     "execution_count": 16,
     "data": {
      "text/plain": "bfe_nummer                          0\nadresse                             0\noffentlig_ejendomsværdi            60\noffentlige_grundværdi              60\nseneste_handelspris                 0\nenhedsareal_beboelse                1\npris_pr_m2                          1\nseneste_handelsdato                 0\nseneste_handlet_andel               0\nhandelsmetode                       0\nanvendelse                          0\nopførelsesår                      180\ntinglyst_areal_ejerlejligheder      1\nlongitude                           0\nlatitude                            0\nprimær_ejers_adresse                0\nvejnavn                             0\nhusnr                               0\netage                              58\nantal_værelser                      0\nyear                                0\nmonth                               0\nday                                 0\ndtype: int64"
     },
     "metadata": {}
    }
   ]
  },
  {
   "cell_type": "code",
   "metadata": {
    "tags": [],
    "deepnote_to_be_reexecuted": false,
    "source_hash": "4b17d2a5",
    "execution_start": 1652447548006,
    "execution_millis": 31,
    "cell_id": "00016-4241591f-8b8c-4d1a-a81a-940827c6da43",
    "deepnote_cell_type": "code",
    "deepnote_cell_height": 595.5,
    "deepnote_output_heights": [
     462.5
    ]
   },
   "source": "#remove rows where null appears \nsilver_data_eda = silver_data_eda.dropna()\nsilver_data_eda.isnull().sum()",
   "execution_count": null,
   "outputs": [
    {
     "output_type": "execute_result",
     "execution_count": 17,
     "data": {
      "text/plain": "bfe_nummer                        0\nadresse                           0\noffentlig_ejendomsværdi           0\noffentlige_grundværdi             0\nseneste_handelspris               0\nenhedsareal_beboelse              0\npris_pr_m2                        0\nseneste_handelsdato               0\nseneste_handlet_andel             0\nhandelsmetode                     0\nanvendelse                        0\nopførelsesår                      0\ntinglyst_areal_ejerlejligheder    0\nlongitude                         0\nlatitude                          0\nprimær_ejers_adresse              0\nvejnavn                           0\nhusnr                             0\netage                             0\nantal_værelser                    0\nyear                              0\nmonth                             0\nday                               0\ndtype: int64"
     },
     "metadata": {}
    }
   ]
  },
  {
   "cell_type": "code",
   "metadata": {
    "tags": [],
    "deepnote_to_be_reexecuted": false,
    "source_hash": "dca8f4b8",
    "execution_start": 1652447548008,
    "execution_millis": 0,
    "cell_id": "00017-881fa8ed-8f75-42ef-9b2f-c7296c2c9170",
    "deepnote_cell_type": "code",
    "deepnote_cell_height": 99
   },
   "source": "#remove rows with 0. Somehow the rows didn’t get removed before\nsilver_data_eda = silver_data_eda[silver_data_eda.offentlige_grundværdi != 0]",
   "execution_count": null,
   "outputs": []
  },
  {
   "cell_type": "code",
   "metadata": {
    "tags": [],
    "cell_id": "00018-14591c8f-46ce-41b8-ae2d-6b559e465132",
    "deepnote_to_be_reexecuted": false,
    "source_hash": "e4cf4a5d",
    "execution_start": 1652447548008,
    "execution_millis": 124,
    "deepnote_cell_type": "code",
    "deepnote_cell_height": 615
   },
   "source": "silver_data_eda",
   "execution_count": null,
   "outputs": [
    {
     "output_type": "execute_result",
     "execution_count": 19,
     "data": {
      "application/vnd.deepnote.dataframe.v3+json": {
       "column_count": 23,
       "row_count": 3762,
       "columns": [
        {
         "name": "bfe_nummer",
         "dtype": "int64",
         "stats": {
          "unique_count": 3762,
          "nan_count": 0,
          "min": "101006",
          "max": "100179329",
          "histogram": [
           {
            "bin_start": 101006,
            "bin_end": 10108838.3,
            "count": 3761
           },
           {
            "bin_start": 10108838.3,
            "bin_end": 20116670.6,
            "count": 0
           },
           {
            "bin_start": 20116670.6,
            "bin_end": 30124502.900000002,
            "count": 0
           },
           {
            "bin_start": 30124502.900000002,
            "bin_end": 40132335.2,
            "count": 0
           },
           {
            "bin_start": 40132335.2,
            "bin_end": 50140167.5,
            "count": 0
           },
           {
            "bin_start": 50140167.5,
            "bin_end": 60147999.800000004,
            "count": 0
           },
           {
            "bin_start": 60147999.800000004,
            "bin_end": 70155832.10000001,
            "count": 0
           },
           {
            "bin_start": 70155832.10000001,
            "bin_end": 80163664.4,
            "count": 0
           },
           {
            "bin_start": 80163664.4,
            "bin_end": 90171496.7,
            "count": 0
           },
           {
            "bin_start": 90171496.7,
            "bin_end": 100179329,
            "count": 1
           }
          ]
         }
        },
        {
         "name": "adresse",
         "dtype": "object",
         "stats": {
          "unique_count": 3762,
          "nan_count": 0,
          "categories": [
           {
            "name": "AmagerBoulevard110,st.tv,2300KøbenhavnS",
            "count": 1
           },
           {
            "name": "Weidekampsgade61,st.th,2300KøbenhavnS",
            "count": 1
           },
           {
            "name": "3760 others",
            "count": 3760
           }
          ]
         }
        },
        {
         "name": "offentlig_ejendomsværdi",
         "dtype": "float64",
         "stats": {
          "unique_count": 135,
          "nan_count": 0,
          "min": "280000.0",
          "max": "6850000.0",
          "histogram": [
           {
            "bin_start": 280000,
            "bin_end": 937000,
            "count": 770
           },
           {
            "bin_start": 937000,
            "bin_end": 1594000,
            "count": 1369
           },
           {
            "bin_start": 1594000,
            "bin_end": 2251000,
            "count": 942
           },
           {
            "bin_start": 2251000,
            "bin_end": 2908000,
            "count": 425
           },
           {
            "bin_start": 2908000,
            "bin_end": 3565000,
            "count": 181
           },
           {
            "bin_start": 3565000,
            "bin_end": 4222000,
            "count": 55
           },
           {
            "bin_start": 4222000,
            "bin_end": 4879000,
            "count": 10
           },
           {
            "bin_start": 4879000,
            "bin_end": 5536000,
            "count": 8
           },
           {
            "bin_start": 5536000,
            "bin_end": 6193000,
            "count": 0
           },
           {
            "bin_start": 6193000,
            "bin_end": 6850000,
            "count": 2
           }
          ]
         }
        },
        {
         "name": "offentlige_grundværdi",
         "dtype": "float64",
         "stats": {
          "unique_count": 1337,
          "nan_count": 0,
          "min": "37200.0",
          "max": "1141300.0",
          "histogram": [
           {
            "bin_start": 37200,
            "bin_end": 147610,
            "count": 1696
           },
           {
            "bin_start": 147610,
            "bin_end": 258020,
            "count": 598
           },
           {
            "bin_start": 258020,
            "bin_end": 368430,
            "count": 492
           },
           {
            "bin_start": 368430,
            "bin_end": 478840,
            "count": 581
           },
           {
            "bin_start": 478840,
            "bin_end": 589250,
            "count": 283
           },
           {
            "bin_start": 589250,
            "bin_end": 699660,
            "count": 74
           },
           {
            "bin_start": 699660,
            "bin_end": 810070,
            "count": 18
           },
           {
            "bin_start": 810070,
            "bin_end": 920480,
            "count": 11
           },
           {
            "bin_start": 920480,
            "bin_end": 1030890,
            "count": 7
           },
           {
            "bin_start": 1030890,
            "bin_end": 1141300,
            "count": 2
           }
          ]
         }
        },
        {
         "name": "seneste_handelspris",
         "dtype": "int64",
         "stats": {
          "unique_count": 1018,
          "nan_count": 0,
          "min": "920000",
          "max": "15500000",
          "histogram": [
           {
            "bin_start": 920000,
            "bin_end": 2378000,
            "count": 1185
           },
           {
            "bin_start": 2378000,
            "bin_end": 3836000,
            "count": 1401
           },
           {
            "bin_start": 3836000,
            "bin_end": 5294000,
            "count": 765
           },
           {
            "bin_start": 5294000,
            "bin_end": 6752000,
            "count": 264
           },
           {
            "bin_start": 6752000,
            "bin_end": 8210000,
            "count": 85
           },
           {
            "bin_start": 8210000,
            "bin_end": 9668000,
            "count": 35
           },
           {
            "bin_start": 9668000,
            "bin_end": 11126000,
            "count": 15
           },
           {
            "bin_start": 11126000,
            "bin_end": 12584000,
            "count": 9
           },
           {
            "bin_start": 12584000,
            "bin_end": 14042000,
            "count": 1
           },
           {
            "bin_start": 14042000,
            "bin_end": 15500000,
            "count": 2
           }
          ]
         }
        },
        {
         "name": "enhedsareal_beboelse",
         "dtype": "float64",
         "stats": {
          "unique_count": 151,
          "nan_count": 0,
          "min": "25.0",
          "max": "224.0",
          "histogram": [
           {
            "bin_start": 25,
            "bin_end": 44.9,
            "count": 222
           },
           {
            "bin_start": 44.9,
            "bin_end": 64.8,
            "count": 1275
           },
           {
            "bin_start": 64.8,
            "bin_end": 84.69999999999999,
            "count": 704
           },
           {
            "bin_start": 84.69999999999999,
            "bin_end": 104.6,
            "count": 761
           },
           {
            "bin_start": 104.6,
            "bin_end": 124.5,
            "count": 549
           },
           {
            "bin_start": 124.5,
            "bin_end": 144.39999999999998,
            "count": 164
           },
           {
            "bin_start": 144.39999999999998,
            "bin_end": 164.29999999999998,
            "count": 66
           },
           {
            "bin_start": 164.29999999999998,
            "bin_end": 184.2,
            "count": 10
           },
           {
            "bin_start": 184.2,
            "bin_end": 204.1,
            "count": 7
           },
           {
            "bin_start": 204.1,
            "bin_end": 224,
            "count": 4
           }
          ]
         }
        },
        {
         "name": "pris_pr_m2",
         "dtype": "float64",
         "stats": {
          "unique_count": 2752,
          "nan_count": 0,
          "min": "16120.0",
          "max": "90637.0",
          "histogram": [
           {
            "bin_start": 16120,
            "bin_end": 23571.7,
            "count": 20
           },
           {
            "bin_start": 23571.7,
            "bin_end": 31023.4,
            "count": 187
           },
           {
            "bin_start": 31023.4,
            "bin_end": 38475.1,
            "count": 1202
           },
           {
            "bin_start": 38475.1,
            "bin_end": 45926.8,
            "count": 1377
           },
           {
            "bin_start": 45926.8,
            "bin_end": 53378.5,
            "count": 648
           },
           {
            "bin_start": 53378.5,
            "bin_end": 60830.2,
            "count": 237
           },
           {
            "bin_start": 60830.2,
            "bin_end": 68281.9,
            "count": 58
           },
           {
            "bin_start": 68281.9,
            "bin_end": 75733.6,
            "count": 21
           },
           {
            "bin_start": 75733.6,
            "bin_end": 83185.3,
            "count": 9
           },
           {
            "bin_start": 83185.3,
            "bin_end": 90637,
            "count": 3
           }
          ]
         }
        },
        {
         "name": "seneste_handelsdato",
         "dtype": "datetime64[ns]",
         "stats": {
          "unique_count": 267,
          "nan_count": 0,
          "min": "2019-01-02 00:00:00",
          "max": "2022-03-25 00:00:00",
          "histogram": [
           {
            "bin_start": 1546387200000000000,
            "bin_end": 1556565120000000000,
            "count": 226
           },
           {
            "bin_start": 1556565120000000000,
            "bin_end": 1566743040000000000,
            "count": 345
           },
           {
            "bin_start": 1566743040000000000,
            "bin_end": 1576920960000000000,
            "count": 293
           },
           {
            "bin_start": 1576920960000000000,
            "bin_end": 1587098880000000000,
            "count": 327
           },
           {
            "bin_start": 1587098880000000000,
            "bin_end": 1597276800000000000,
            "count": 310
           },
           {
            "bin_start": 1597276800000000000,
            "bin_end": 1607454720000000000,
            "count": 470
           },
           {
            "bin_start": 1607454720000000000,
            "bin_end": 1617632640000000000,
            "count": 485
           },
           {
            "bin_start": 1617632640000000000,
            "bin_end": 1627810560000000000,
            "count": 560
           },
           {
            "bin_start": 1627810560000000000,
            "bin_end": 1637988480000000000,
            "count": 366
           },
           {
            "bin_start": 1637988480000000000,
            "bin_end": 1648166400000000000,
            "count": 380
           }
          ]
         }
        },
        {
         "name": "seneste_handlet_andel",
         "dtype": "object",
         "stats": {
          "unique_count": 1,
          "nan_count": 0,
          "categories": [
           {
            "name": "100%",
            "count": 3762
           }
          ]
         }
        },
        {
         "name": "handelsmetode",
         "dtype": "object",
         "stats": {
          "unique_count": 1,
          "nan_count": 0,
          "categories": [
           {
            "name": "Almindeligfrihandel",
            "count": 3762
           }
          ]
         }
        },
        {
         "name": "anvendelse",
         "dtype": "object",
         "stats": {
          "unique_count": 1,
          "nan_count": 0,
          "categories": [
           {
            "name": "Etagebolig-bygning,flerfamiliehusellerto-familiehus",
            "count": 3762
           }
          ]
         }
        },
        {
         "name": "opførelsesår",
         "dtype": "float64",
         "stats": {
          "unique_count": 85,
          "nan_count": 0,
          "min": "1872.0",
          "max": "2021.0",
          "histogram": [
           {
            "bin_start": 1872,
            "bin_end": 1886.9,
            "count": 18
           },
           {
            "bin_start": 1886.9,
            "bin_end": 1901.8,
            "count": 90
           },
           {
            "bin_start": 1901.8,
            "bin_end": 1916.7,
            "count": 534
           },
           {
            "bin_start": 1916.7,
            "bin_end": 1931.6,
            "count": 224
           },
           {
            "bin_start": 1931.6,
            "bin_end": 1946.5,
            "count": 1138
           },
           {
            "bin_start": 1946.5,
            "bin_end": 1961.4,
            "count": 22
           },
           {
            "bin_start": 1961.4,
            "bin_end": 1976.3,
            "count": 314
           },
           {
            "bin_start": 1976.3,
            "bin_end": 1991.2,
            "count": 2
           },
           {
            "bin_start": 1991.2,
            "bin_end": 2006.1,
            "count": 481
           },
           {
            "bin_start": 2006.1,
            "bin_end": 2021,
            "count": 939
           }
          ]
         }
        },
        {
         "name": "tinglyst_areal_ejerlejligheder",
         "dtype": "float64",
         "stats": {
          "unique_count": 146,
          "nan_count": 0,
          "min": "23.0",
          "max": "302.0",
          "histogram": [
           {
            "bin_start": 23,
            "bin_end": 50.9,
            "count": 859
           },
           {
            "bin_start": 50.9,
            "bin_end": 78.8,
            "count": 1494
           },
           {
            "bin_start": 78.8,
            "bin_end": 106.69999999999999,
            "count": 1053
           },
           {
            "bin_start": 106.69999999999999,
            "bin_end": 134.6,
            "count": 267
           },
           {
            "bin_start": 134.6,
            "bin_end": 162.5,
            "count": 73
           },
           {
            "bin_start": 162.5,
            "bin_end": 190.39999999999998,
            "count": 10
           },
           {
            "bin_start": 190.39999999999998,
            "bin_end": 218.29999999999998,
            "count": 5
           },
           {
            "bin_start": 218.29999999999998,
            "bin_end": 246.2,
            "count": 0
           },
           {
            "bin_start": 246.2,
            "bin_end": 274.1,
            "count": 0
           },
           {
            "bin_start": 274.1,
            "bin_end": 302,
            "count": 1
           }
          ]
         }
        },
        {
         "name": "longitude",
         "dtype": "float64",
         "stats": {
          "unique_count": 1155,
          "nan_count": 0,
          "min": "12.56400799",
          "max": "12.63511252",
          "histogram": [
           {
            "bin_start": 12.56400799,
            "bin_end": 12.571118443,
            "count": 284
           },
           {
            "bin_start": 12.571118443,
            "bin_end": 12.578228896,
            "count": 515
           },
           {
            "bin_start": 12.578228896,
            "bin_end": 12.585339349,
            "count": 323
           },
           {
            "bin_start": 12.585339349,
            "bin_end": 12.592449802,
            "count": 87
           },
           {
            "bin_start": 12.592449802,
            "bin_end": 12.599560255,
            "count": 263
           },
           {
            "bin_start": 12.599560255,
            "bin_end": 12.606670708,
            "count": 500
           },
           {
            "bin_start": 12.606670708,
            "bin_end": 12.613781161,
            "count": 649
           },
           {
            "bin_start": 12.613781161,
            "bin_end": 12.620891614,
            "count": 703
           },
           {
            "bin_start": 12.620891614,
            "bin_end": 12.628002067,
            "count": 334
           },
           {
            "bin_start": 12.628002067,
            "bin_end": 12.63511252,
            "count": 104
           }
          ]
         }
        },
        {
         "name": "latitude",
         "dtype": "float64",
         "stats": {
          "unique_count": 1155,
          "nan_count": 0,
          "min": "55.61653656",
          "max": "55.66870439",
          "histogram": [
           {
            "bin_start": 55.61653656,
            "bin_end": 55.621753343,
            "count": 175
           },
           {
            "bin_start": 55.621753343,
            "bin_end": 55.626970126,
            "count": 85
           },
           {
            "bin_start": 55.626970126,
            "bin_end": 55.632186909,
            "count": 9
           },
           {
            "bin_start": 55.632186909,
            "bin_end": 55.637403692,
            "count": 365
           },
           {
            "bin_start": 55.637403692,
            "bin_end": 55.642620475,
            "count": 43
           },
           {
            "bin_start": 55.642620475,
            "bin_end": 55.647837258,
            "count": 187
           },
           {
            "bin_start": 55.647837258,
            "bin_end": 55.653054041000004,
            "count": 198
           },
           {
            "bin_start": 55.653054041000004,
            "bin_end": 55.658270824,
            "count": 665
           },
           {
            "bin_start": 55.658270824,
            "bin_end": 55.663487607,
            "count": 1019
           },
           {
            "bin_start": 55.663487607,
            "bin_end": 55.66870439,
            "count": 1016
           }
          ]
         }
        },
        {
         "name": "primær_ejers_adresse",
         "dtype": "object",
         "stats": {
          "unique_count": 3638,
          "nan_count": 0,
          "categories": [
           {
            "name": "None,2300KøbenhavnS",
            "count": 61
           },
           {
            "name": "",
            "count": 24
           },
           {
            "name": "3636 others",
            "count": 3677
           }
          ]
         }
        },
        {
         "name": "vejnavn",
         "dtype": "object",
         "stats": {
          "unique_count": 184,
          "nan_count": 0,
          "categories": [
           {
            "name": "RobertJacobsensVej",
            "count": 166
           },
           {
            "name": "EdvardThomsensVej",
            "count": 151
           },
           {
            "name": "182 others",
            "count": 3445
           }
          ]
         }
        },
        {
         "name": "husnr",
         "dtype": "object",
         "stats": {
          "unique_count": 149,
          "nan_count": 0,
          "categories": [
           {
            "name": "5",
            "count": 151
           },
           {
            "name": "2",
            "count": 129
           },
           {
            "name": "147 others",
            "count": 3482
           }
          ]
         }
        },
        {
         "name": "etage",
         "dtype": "float64",
         "stats": {
          "unique_count": 15,
          "nan_count": 0,
          "min": "1.0",
          "max": "16.0",
          "histogram": [
           {
            "bin_start": 1,
            "bin_end": 2.5,
            "count": 1372
           },
           {
            "bin_start": 2.5,
            "bin_end": 4,
            "count": 666
           },
           {
            "bin_start": 4,
            "bin_end": 5.5,
            "count": 1131
           },
           {
            "bin_start": 5.5,
            "bin_end": 7,
            "count": 276
           },
           {
            "bin_start": 7,
            "bin_end": 8.5,
            "count": 217
           },
           {
            "bin_start": 8.5,
            "bin_end": 10,
            "count": 34
           },
           {
            "bin_start": 10,
            "bin_end": 11.5,
            "count": 52
           },
           {
            "bin_start": 11.5,
            "bin_end": 13,
            "count": 8
           },
           {
            "bin_start": 13,
            "bin_end": 14.5,
            "count": 5
           },
           {
            "bin_start": 14.5,
            "bin_end": 16,
            "count": 1
           }
          ]
         }
        },
        {
         "name": "antal_værelser",
         "dtype": "int64",
         "stats": {
          "unique_count": 7,
          "nan_count": 0,
          "min": "1",
          "max": "7",
          "histogram": [
           {
            "bin_start": 1,
            "bin_end": 1.6,
            "count": 259
           },
           {
            "bin_start": 1.6,
            "bin_end": 2.2,
            "count": 1546
           },
           {
            "bin_start": 2.2,
            "bin_end": 2.8,
            "count": 0
           },
           {
            "bin_start": 2.8,
            "bin_end": 3.4,
            "count": 1239
           },
           {
            "bin_start": 3.4,
            "bin_end": 4,
            "count": 0
           },
           {
            "bin_start": 4,
            "bin_end": 4.6,
            "count": 625
           },
           {
            "bin_start": 4.6,
            "bin_end": 5.2,
            "count": 77
           },
           {
            "bin_start": 5.2,
            "bin_end": 5.8,
            "count": 0
           },
           {
            "bin_start": 5.8,
            "bin_end": 6.3999999999999995,
            "count": 15
           },
           {
            "bin_start": 6.3999999999999995,
            "bin_end": 7,
            "count": 1
           }
          ]
         }
        },
        {
         "name": "year",
         "dtype": "int64",
         "stats": {
          "unique_count": 4,
          "nan_count": 0,
          "min": "2019",
          "max": "2022",
          "histogram": [
           {
            "bin_start": 2019,
            "bin_end": 2019.3,
            "count": 867
           },
           {
            "bin_start": 2019.3,
            "bin_end": 2019.6,
            "count": 0
           },
           {
            "bin_start": 2019.6,
            "bin_end": 2019.9,
            "count": 0
           },
           {
            "bin_start": 2019.9,
            "bin_end": 2020.2,
            "count": 1143
           },
           {
            "bin_start": 2020.2,
            "bin_end": 2020.5,
            "count": 0
           },
           {
            "bin_start": 2020.5,
            "bin_end": 2020.8,
            "count": 0
           },
           {
            "bin_start": 2020.8,
            "bin_end": 2021.1,
            "count": 1467
           },
           {
            "bin_start": 2021.1,
            "bin_end": 2021.4,
            "count": 0
           },
           {
            "bin_start": 2021.4,
            "bin_end": 2021.7,
            "count": 0
           },
           {
            "bin_start": 2021.7,
            "bin_end": 2022,
            "count": 285
           }
          ]
         }
        },
        {
         "name": "month",
         "dtype": "int64",
         "stats": {
          "unique_count": 12,
          "nan_count": 0,
          "min": "1",
          "max": "12",
          "histogram": [
           {
            "bin_start": 1,
            "bin_end": 2.1,
            "count": 667
           },
           {
            "bin_start": 2.1,
            "bin_end": 3.2,
            "count": 368
           },
           {
            "bin_start": 3.2,
            "bin_end": 4.300000000000001,
            "count": 267
           },
           {
            "bin_start": 4.300000000000001,
            "bin_end": 5.4,
            "count": 292
           },
           {
            "bin_start": 5.4,
            "bin_end": 6.5,
            "count": 289
           },
           {
            "bin_start": 6.5,
            "bin_end": 7.6000000000000005,
            "count": 333
           },
           {
            "bin_start": 7.6000000000000005,
            "bin_end": 8.700000000000001,
            "count": 347
           },
           {
            "bin_start": 8.700000000000001,
            "bin_end": 9.8,
            "count": 321
           },
           {
            "bin_start": 9.8,
            "bin_end": 10.9,
            "count": 311
           },
           {
            "bin_start": 10.9,
            "bin_end": 12,
            "count": 567
           }
          ]
         }
        },
        {
         "name": "day",
         "dtype": "int64",
         "stats": {
          "unique_count": 31,
          "nan_count": 0,
          "min": "1",
          "max": "31",
          "histogram": [
           {
            "bin_start": 1,
            "bin_end": 4,
            "count": 2803
           },
           {
            "bin_start": 4,
            "bin_end": 7,
            "count": 44
           },
           {
            "bin_start": 7,
            "bin_end": 10,
            "count": 26
           },
           {
            "bin_start": 10,
            "bin_end": 13,
            "count": 24
           },
           {
            "bin_start": 13,
            "bin_end": 16,
            "count": 749
           },
           {
            "bin_start": 16,
            "bin_end": 19,
            "count": 19
           },
           {
            "bin_start": 19,
            "bin_end": 22,
            "count": 26
           },
           {
            "bin_start": 22,
            "bin_end": 25,
            "count": 18
           },
           {
            "bin_start": 25,
            "bin_end": 28,
            "count": 15
           },
           {
            "bin_start": 28,
            "bin_end": 31,
            "count": 38
           }
          ]
         }
        },
        {
         "name": "_deepnote_index_column",
         "dtype": "int64"
        }
       ],
       "rows": [
        {
         "bfe_nummer": 111445,
         "adresse": "AmagerBoulevard110,st.tv,2300KøbenhavnS",
         "offentlig_ejendomsværdi": 2250000,
         "offentlige_grundværdi": 326700,
         "seneste_handelspris": 6200000,
         "enhedsareal_beboelse": 114,
         "pris_pr_m2": 54385,
         "seneste_handelsdato": "2022-03-25T00:00:00.000000",
         "seneste_handlet_andel": "100%",
         "handelsmetode": "Almindeligfrihandel",
         "anvendelse": "Etagebolig-bygning,flerfamiliehusellerto-familiehus",
         "opførelsesår": 2018,
         "tinglyst_areal_ejerlejligheder": 101,
         "longitude": 12.59378819,
         "latitude": 55.66651293,
         "primær_ejers_adresse": "Stenrosevej1A,2300KøbenhavnS",
         "vejnavn": "AmagerBoulevard",
         "husnr": "110",
         "etage": 1,
         "antal_værelser": 4,
         "year": 2022,
         "month": 3,
         "day": 25,
         "_deepnote_index_column": 99
        },
        {
         "bfe_nummer": 103789,
         "adresse": "Weidekampsgade61,st.th,2300KøbenhavnS",
         "offentlig_ejendomsværdi": 2100000,
         "offentlige_grundværdi": 404900,
         "seneste_handelspris": 4000000,
         "enhedsareal_beboelse": 83,
         "pris_pr_m2": 48192,
         "seneste_handelsdato": "2022-03-24T00:00:00.000000",
         "seneste_handlet_andel": "100%",
         "handelsmetode": "Almindeligfrihandel",
         "anvendelse": "Etagebolig-bygning,flerfamiliehusellerto-familiehus",
         "opførelsesår": 2006,
         "tinglyst_areal_ejerlejligheder": 71,
         "longitude": 12.58163606,
         "latitude": 55.6673983,
         "primær_ejers_adresse": "Weidekampsgade61,stth,2300KøbenhavnS",
         "vejnavn": "Weidekampsgade",
         "husnr": "61",
         "etage": 1,
         "antal_værelser": 2,
         "year": 2022,
         "month": 3,
         "day": 24,
         "_deepnote_index_column": 100
        },
        {
         "bfe_nummer": 135089,
         "adresse": "Marengovej12,1.tv,2300KøbenhavnS",
         "offentlig_ejendomsværdi": 1350000,
         "offentlige_grundværdi": 167400,
         "seneste_handelspris": 3845000,
         "enhedsareal_beboelse": 78,
         "pris_pr_m2": 49294,
         "seneste_handelsdato": "2022-03-21T00:00:00.000000",
         "seneste_handlet_andel": "100%",
         "handelsmetode": "Almindeligfrihandel",
         "anvendelse": "Etagebolig-bygning,flerfamiliehusellerto-familiehus",
         "opførelsesår": 1935,
         "tinglyst_areal_ejerlejligheder": 75,
         "longitude": 12.62113554,
         "latitude": 55.65820336,
         "primær_ejers_adresse": "Højdevej36,2th,2300KøbenhavnS",
         "vejnavn": "Marengovej",
         "husnr": "12",
         "etage": 2,
         "antal_værelser": 4,
         "year": 2022,
         "month": 3,
         "day": 21,
         "_deepnote_index_column": 101
        },
        {
         "bfe_nummer": 109719,
         "adresse": "IslandsBrygge36A,5.2,2300KøbenhavnS",
         "offentlig_ejendomsværdi": 2650000,
         "offentlige_grundværdi": 311800,
         "seneste_handelspris": 5400000,
         "enhedsareal_beboelse": 78,
         "pris_pr_m2": 69230,
         "seneste_handelsdato": "2022-03-15T00:00:00.000000",
         "seneste_handlet_andel": "100%",
         "handelsmetode": "Almindeligfrihandel",
         "anvendelse": "Etagebolig-bygning,flerfamiliehusellerto-familiehus",
         "opførelsesår": 2012,
         "tinglyst_areal_ejerlejligheder": 71,
         "longitude": 12.56741573,
         "latitude": 55.65893424,
         "primær_ejers_adresse": "IslandsBrygge36A,5,-2,2300KøbenhavnS",
         "vejnavn": "IslandsBrygge",
         "husnr": "36",
         "etage": 6,
         "antal_værelser": 3,
         "year": 2022,
         "month": 3,
         "day": 15,
         "_deepnote_index_column": 111
        },
        {
         "bfe_nummer": 136552,
         "adresse": "Tønnesvej12,1.tv,2300KøbenhavnS",
         "offentlig_ejendomsværdi": 1000000,
         "offentlige_grundværdi": 170900,
         "seneste_handelspris": 2050000,
         "enhedsareal_beboelse": 59,
         "pris_pr_m2": 34745,
         "seneste_handelsdato": "2022-03-15T00:00:00.000000",
         "seneste_handlet_andel": "100%",
         "handelsmetode": "Almindeligfrihandel",
         "anvendelse": "Etagebolig-bygning,flerfamiliehusellerto-familiehus",
         "opførelsesår": 1935,
         "tinglyst_areal_ejerlejligheder": 53,
         "longitude": 12.61852339,
         "latitude": 55.64543159,
         "primær_ejers_adresse": "Rønnevej4,4050Skibby",
         "vejnavn": "Tønnesvej",
         "husnr": "12",
         "etage": 2,
         "antal_værelser": 2,
         "year": 2022,
         "month": 3,
         "day": 15,
         "_deepnote_index_column": 117
        },
        {
         "bfe_nummer": 137966,
         "adresse": "Englandsvej34B,2.th,2300KøbenhavnS",
         "offentlig_ejendomsværdi": 960000,
         "offentlige_grundværdi": 120500,
         "seneste_handelspris": 2245500,
         "enhedsareal_beboelse": 63,
         "pris_pr_m2": 35642,
         "seneste_handelsdato": "2022-03-15T00:00:00.000000",
         "seneste_handlet_andel": "100%",
         "handelsmetode": "Almindeligfrihandel",
         "anvendelse": "Etagebolig-bygning,flerfamiliehusellerto-familiehus",
         "opførelsesår": 1935,
         "tinglyst_areal_ejerlejligheder": 54,
         "longitude": 12.60385907,
         "latitude": 55.6554835,
         "primær_ejers_adresse": "PederLykkesVej54,1,-1,2300KøbenhavnS",
         "vejnavn": "Englandsvej",
         "husnr": "34",
         "etage": 3,
         "antal_værelser": 2,
         "year": 2022,
         "month": 3,
         "day": 15,
         "_deepnote_index_column": 116
        },
        {
         "bfe_nummer": 136770,
         "adresse": "Gårdfæstevej1,1.th,2300KøbenhavnS",
         "offentlig_ejendomsværdi": 750000,
         "offentlige_grundværdi": 126600,
         "seneste_handelspris": 2040000,
         "enhedsareal_beboelse": 47,
         "pris_pr_m2": 43404,
         "seneste_handelsdato": "2022-03-15T00:00:00.000000",
         "seneste_handlet_andel": "100%",
         "handelsmetode": "Almindeligfrihandel",
         "anvendelse": "Etagebolig-bygning,flerfamiliehusellerto-familiehus",
         "opførelsesår": 1960,
         "tinglyst_areal_ejerlejligheder": 41,
         "longitude": 12.5887181,
         "latitude": 55.64005383,
         "primær_ejers_adresse": "Gårdfæstevej1,1th,2300KøbenhavnS",
         "vejnavn": "Gårdfæstevej",
         "husnr": "1",
         "etage": 2,
         "antal_værelser": 2,
         "year": 2022,
         "month": 3,
         "day": 15,
         "_deepnote_index_column": 114
        },
        {
         "bfe_nummer": 126964,
         "adresse": "Tovværkgade6,2.th,2300KøbenhavnS",
         "offentlig_ejendomsværdi": 1200000,
         "offentlige_grundværdi": 93500,
         "seneste_handelspris": 3100000,
         "enhedsareal_beboelse": 68,
         "pris_pr_m2": 45588,
         "seneste_handelsdato": "2022-03-15T00:00:00.000000",
         "seneste_handlet_andel": "100%",
         "handelsmetode": "Almindeligfrihandel",
         "anvendelse": "Etagebolig-bygning,flerfamiliehusellerto-familiehus",
         "opførelsesår": 1900,
         "tinglyst_areal_ejerlejligheder": 62,
         "longitude": 12.60302352,
         "latitude": 55.66296758,
         "primær_ejers_adresse": "Svinget21,3tv,2300KøbenhavnS",
         "vejnavn": "Tovværkgade",
         "husnr": "6",
         "etage": 3,
         "antal_værelser": 3,
         "year": 2022,
         "month": 3,
         "day": 15,
         "_deepnote_index_column": 113
        },
        {
         "bfe_nummer": 109298,
         "adresse": "IslandsBrygge32A,8.876,2300KøbenhavnS",
         "offentlig_ejendomsværdi": 3250000,
         "offentlige_grundværdi": 441400,
         "seneste_handelspris": 6800000,
         "enhedsareal_beboelse": 109,
         "pris_pr_m2": 62385,
         "seneste_handelsdato": "2022-03-15T00:00:00.000000",
         "seneste_handlet_andel": "100%",
         "handelsmetode": "Almindeligfrihandel",
         "anvendelse": "Etagebolig-bygning,flerfamiliehusellerto-familiehus",
         "opførelsesår": 1963,
         "tinglyst_areal_ejerlejligheder": 70,
         "longitude": 12.56855846,
         "latitude": 55.6609904,
         "primær_ejers_adresse": "IslandsBrygge32A,5,-545,2300KøbenhavnS",
         "vejnavn": "IslandsBrygge",
         "husnr": "32",
         "etage": 9,
         "antal_værelser": 2,
         "year": 2022,
         "month": 3,
         "day": 15,
         "_deepnote_index_column": 112
        },
        {
         "bfe_nummer": 111971,
         "adresse": "IslandsBrygge75B,6.2,2300KøbenhavnS",
         "offentlig_ejendomsværdi": 1950000,
         "offentlige_grundværdi": 289500,
         "seneste_handelspris": 4300000,
         "enhedsareal_beboelse": 77,
         "pris_pr_m2": 55844,
         "seneste_handelsdato": "2022-03-15T00:00:00.000000",
         "seneste_handlet_andel": "100%",
         "handelsmetode": "Almindeligfrihandel",
         "anvendelse": "Etagebolig-bygning,flerfamiliehusellerto-familiehus",
         "opførelsesår": 2005,
         "tinglyst_areal_ejerlejligheder": 65,
         "longitude": 12.56936585,
         "latitude": 55.65997942,
         "primær_ejers_adresse": "IslandsBrygge75B,6,-2,2300KøbenhavnS",
         "vejnavn": "IslandsBrygge",
         "husnr": "75",
         "etage": 7,
         "antal_værelser": 2,
         "year": 2022,
         "month": 3,
         "day": 15,
         "_deepnote_index_column": 118
        }
       ]
      },
      "text/plain": "      bfe_nummer                                  adresse  \\\n99        111445  AmagerBoulevard110,st.tv,2300KøbenhavnS   \n100       103789    Weidekampsgade61,st.th,2300KøbenhavnS   \n101       135089         Marengovej12,1.tv,2300KøbenhavnS   \n103       132821           Elbagade21,4.th,2300KøbenhavnS   \n104       131622            Caprivej2,1.tv,2300KøbenhavnS   \n...          ...                                      ...   \n4365      107328         Myggenæsgade3,1.4,2300KøbenhavnS   \n4366      130268      Siciliensgade11,5.th,2300KøbenhavnS   \n4367      134871     Holmbladsgade70A,4.tv,2300KøbenhavnS   \n4368      138884        Hyacintgården9,1.3,2300KøbenhavnS   \n4369      421339     Strandlodsvej23A,1.tv,2300KøbenhavnS   \n\n      offentlig_ejendomsværdi  offentlige_grundværdi  seneste_handelspris  \\\n99                  2250000.0               326700.0              6200000   \n100                 2100000.0               404900.0              4000000   \n101                 1350000.0               167400.0              3845000   \n103                 1050000.0                97500.0              2375000   \n104                  960000.0                82000.0              2725000   \n...                       ...                    ...                  ...   \n4365                2450000.0               386900.0              3700000   \n4366                 580000.0                53400.0              1295000   \n4367                1850000.0               110700.0              3650000   \n4368                 560000.0                82200.0              1175000   \n4369                2000000.0               249300.0              3740000   \n\n      enhedsareal_beboelse  pris_pr_m2 seneste_handelsdato  \\\n99                   114.0     54385.0          2022-03-25   \n100                   83.0     48192.0          2022-03-24   \n101                   78.0     49294.0          2022-03-21   \n103                   62.0     38306.0          2022-03-15   \n104                   56.0     48660.0          2022-03-15   \n...                    ...         ...                 ...   \n4365                  90.0     41111.0          2019-01-02   \n4366                  32.0     40468.0          2019-01-02   \n4367                  94.0     38829.0          2019-01-02   \n4368                  34.0     34558.0          2019-01-02   \n4369                  89.0     42022.0          2019-01-02   \n\n     seneste_handlet_andel        handelsmetode  ...  longitude   latitude  \\\n99                    100%  Almindeligfrihandel  ...  12.593788  55.666513   \n100                   100%  Almindeligfrihandel  ...  12.581636  55.667398   \n101                   100%  Almindeligfrihandel  ...  12.621136  55.658203   \n103                   100%  Almindeligfrihandel  ...  12.613412  55.653728   \n104                   100%  Almindeligfrihandel  ...  12.621147  55.660681   \n...                    ...                  ...  ...        ...        ...   \n4365                  100%  Almindeligfrihandel  ...  12.584155  55.665330   \n4366                  100%  Almindeligfrihandel  ...  12.618511  55.652964   \n4367                  100%  Almindeligfrihandel  ...  12.611411  55.665193   \n4368                  100%  Almindeligfrihandel  ...  12.612206  55.648623   \n4369                  100%  Almindeligfrihandel  ...  12.625230  55.665170   \n\n                      primær_ejers_adresse          vejnavn  husnr etage  \\\n99            Stenrosevej1A,2300KøbenhavnS  AmagerBoulevard    110   1.0   \n100   Weidekampsgade61,stth,2300KøbenhavnS   Weidekampsgade     61   1.0   \n101          Højdevej36,2th,2300KøbenhavnS       Marengovej     12   2.0   \n103                 VibyAlle42,2770Kastrup         Elbagade     21   5.0   \n104           Caprivej2,1tv,2300KøbenhavnS         Caprivej      2   2.0   \n...                                    ...              ...    ...   ...   \n4365     Myggenæsgade3,1,-4,2300KøbenhavnS     Myggenæsgade      3   2.0   \n4366   Brigadevej50,st,-124,2300KøbenhavnS    Siciliensgade     11   6.0   \n4367   Holmbladsgade70A,4tv,2300KøbenhavnS    Holmbladsgade     70   5.0   \n4368       Bomhusvej18F,2th,2100KøbenhavnØ    Hyacintgården      9   2.0   \n4369   Strandlodsvej23A,1tv,2300KøbenhavnS    Strandlodsvej     23   2.0   \n\n     antal_værelser  year  month  day  \n99                4  2022      3   25  \n100               2  2022      3   24  \n101               4  2022      3   21  \n103               2  2022      3   15  \n104               2  2022      3   15  \n...             ...   ...    ...  ...  \n4365              3  2019      1    2  \n4366              1  2019      1    2  \n4367              3  2019      1    2  \n4368              1  2019      1    2  \n4369              3  2019      1    2  \n\n[3762 rows x 23 columns]",
      "text/html": "<div>\n<style scoped>\n    .dataframe tbody tr th:only-of-type {\n        vertical-align: middle;\n    }\n\n    .dataframe tbody tr th {\n        vertical-align: top;\n    }\n\n    .dataframe thead th {\n        text-align: right;\n    }\n</style>\n<table border=\"1\" class=\"dataframe\">\n  <thead>\n    <tr style=\"text-align: right;\">\n      <th></th>\n      <th>bfe_nummer</th>\n      <th>adresse</th>\n      <th>offentlig_ejendomsværdi</th>\n      <th>offentlige_grundværdi</th>\n      <th>seneste_handelspris</th>\n      <th>enhedsareal_beboelse</th>\n      <th>pris_pr_m2</th>\n      <th>seneste_handelsdato</th>\n      <th>seneste_handlet_andel</th>\n      <th>handelsmetode</th>\n      <th>...</th>\n      <th>longitude</th>\n      <th>latitude</th>\n      <th>primær_ejers_adresse</th>\n      <th>vejnavn</th>\n      <th>husnr</th>\n      <th>etage</th>\n      <th>antal_værelser</th>\n      <th>year</th>\n      <th>month</th>\n      <th>day</th>\n    </tr>\n  </thead>\n  <tbody>\n    <tr>\n      <th>99</th>\n      <td>111445</td>\n      <td>AmagerBoulevard110,st.tv,2300KøbenhavnS</td>\n      <td>2250000.0</td>\n      <td>326700.0</td>\n      <td>6200000</td>\n      <td>114.0</td>\n      <td>54385.0</td>\n      <td>2022-03-25</td>\n      <td>100%</td>\n      <td>Almindeligfrihandel</td>\n      <td>...</td>\n      <td>12.593788</td>\n      <td>55.666513</td>\n      <td>Stenrosevej1A,2300KøbenhavnS</td>\n      <td>AmagerBoulevard</td>\n      <td>110</td>\n      <td>1.0</td>\n      <td>4</td>\n      <td>2022</td>\n      <td>3</td>\n      <td>25</td>\n    </tr>\n    <tr>\n      <th>100</th>\n      <td>103789</td>\n      <td>Weidekampsgade61,st.th,2300KøbenhavnS</td>\n      <td>2100000.0</td>\n      <td>404900.0</td>\n      <td>4000000</td>\n      <td>83.0</td>\n      <td>48192.0</td>\n      <td>2022-03-24</td>\n      <td>100%</td>\n      <td>Almindeligfrihandel</td>\n      <td>...</td>\n      <td>12.581636</td>\n      <td>55.667398</td>\n      <td>Weidekampsgade61,stth,2300KøbenhavnS</td>\n      <td>Weidekampsgade</td>\n      <td>61</td>\n      <td>1.0</td>\n      <td>2</td>\n      <td>2022</td>\n      <td>3</td>\n      <td>24</td>\n    </tr>\n    <tr>\n      <th>101</th>\n      <td>135089</td>\n      <td>Marengovej12,1.tv,2300KøbenhavnS</td>\n      <td>1350000.0</td>\n      <td>167400.0</td>\n      <td>3845000</td>\n      <td>78.0</td>\n      <td>49294.0</td>\n      <td>2022-03-21</td>\n      <td>100%</td>\n      <td>Almindeligfrihandel</td>\n      <td>...</td>\n      <td>12.621136</td>\n      <td>55.658203</td>\n      <td>Højdevej36,2th,2300KøbenhavnS</td>\n      <td>Marengovej</td>\n      <td>12</td>\n      <td>2.0</td>\n      <td>4</td>\n      <td>2022</td>\n      <td>3</td>\n      <td>21</td>\n    </tr>\n    <tr>\n      <th>103</th>\n      <td>132821</td>\n      <td>Elbagade21,4.th,2300KøbenhavnS</td>\n      <td>1050000.0</td>\n      <td>97500.0</td>\n      <td>2375000</td>\n      <td>62.0</td>\n      <td>38306.0</td>\n      <td>2022-03-15</td>\n      <td>100%</td>\n      <td>Almindeligfrihandel</td>\n      <td>...</td>\n      <td>12.613412</td>\n      <td>55.653728</td>\n      <td>VibyAlle42,2770Kastrup</td>\n      <td>Elbagade</td>\n      <td>21</td>\n      <td>5.0</td>\n      <td>2</td>\n      <td>2022</td>\n      <td>3</td>\n      <td>15</td>\n    </tr>\n    <tr>\n      <th>104</th>\n      <td>131622</td>\n      <td>Caprivej2,1.tv,2300KøbenhavnS</td>\n      <td>960000.0</td>\n      <td>82000.0</td>\n      <td>2725000</td>\n      <td>56.0</td>\n      <td>48660.0</td>\n      <td>2022-03-15</td>\n      <td>100%</td>\n      <td>Almindeligfrihandel</td>\n      <td>...</td>\n      <td>12.621147</td>\n      <td>55.660681</td>\n      <td>Caprivej2,1tv,2300KøbenhavnS</td>\n      <td>Caprivej</td>\n      <td>2</td>\n      <td>2.0</td>\n      <td>2</td>\n      <td>2022</td>\n      <td>3</td>\n      <td>15</td>\n    </tr>\n    <tr>\n      <th>...</th>\n      <td>...</td>\n      <td>...</td>\n      <td>...</td>\n      <td>...</td>\n      <td>...</td>\n      <td>...</td>\n      <td>...</td>\n      <td>...</td>\n      <td>...</td>\n      <td>...</td>\n      <td>...</td>\n      <td>...</td>\n      <td>...</td>\n      <td>...</td>\n      <td>...</td>\n      <td>...</td>\n      <td>...</td>\n      <td>...</td>\n      <td>...</td>\n      <td>...</td>\n      <td>...</td>\n    </tr>\n    <tr>\n      <th>4365</th>\n      <td>107328</td>\n      <td>Myggenæsgade3,1.4,2300KøbenhavnS</td>\n      <td>2450000.0</td>\n      <td>386900.0</td>\n      <td>3700000</td>\n      <td>90.0</td>\n      <td>41111.0</td>\n      <td>2019-01-02</td>\n      <td>100%</td>\n      <td>Almindeligfrihandel</td>\n      <td>...</td>\n      <td>12.584155</td>\n      <td>55.665330</td>\n      <td>Myggenæsgade3,1,-4,2300KøbenhavnS</td>\n      <td>Myggenæsgade</td>\n      <td>3</td>\n      <td>2.0</td>\n      <td>3</td>\n      <td>2019</td>\n      <td>1</td>\n      <td>2</td>\n    </tr>\n    <tr>\n      <th>4366</th>\n      <td>130268</td>\n      <td>Siciliensgade11,5.th,2300KøbenhavnS</td>\n      <td>580000.0</td>\n      <td>53400.0</td>\n      <td>1295000</td>\n      <td>32.0</td>\n      <td>40468.0</td>\n      <td>2019-01-02</td>\n      <td>100%</td>\n      <td>Almindeligfrihandel</td>\n      <td>...</td>\n      <td>12.618511</td>\n      <td>55.652964</td>\n      <td>Brigadevej50,st,-124,2300KøbenhavnS</td>\n      <td>Siciliensgade</td>\n      <td>11</td>\n      <td>6.0</td>\n      <td>1</td>\n      <td>2019</td>\n      <td>1</td>\n      <td>2</td>\n    </tr>\n    <tr>\n      <th>4367</th>\n      <td>134871</td>\n      <td>Holmbladsgade70A,4.tv,2300KøbenhavnS</td>\n      <td>1850000.0</td>\n      <td>110700.0</td>\n      <td>3650000</td>\n      <td>94.0</td>\n      <td>38829.0</td>\n      <td>2019-01-02</td>\n      <td>100%</td>\n      <td>Almindeligfrihandel</td>\n      <td>...</td>\n      <td>12.611411</td>\n      <td>55.665193</td>\n      <td>Holmbladsgade70A,4tv,2300KøbenhavnS</td>\n      <td>Holmbladsgade</td>\n      <td>70</td>\n      <td>5.0</td>\n      <td>3</td>\n      <td>2019</td>\n      <td>1</td>\n      <td>2</td>\n    </tr>\n    <tr>\n      <th>4368</th>\n      <td>138884</td>\n      <td>Hyacintgården9,1.3,2300KøbenhavnS</td>\n      <td>560000.0</td>\n      <td>82200.0</td>\n      <td>1175000</td>\n      <td>34.0</td>\n      <td>34558.0</td>\n      <td>2019-01-02</td>\n      <td>100%</td>\n      <td>Almindeligfrihandel</td>\n      <td>...</td>\n      <td>12.612206</td>\n      <td>55.648623</td>\n      <td>Bomhusvej18F,2th,2100KøbenhavnØ</td>\n      <td>Hyacintgården</td>\n      <td>9</td>\n      <td>2.0</td>\n      <td>1</td>\n      <td>2019</td>\n      <td>1</td>\n      <td>2</td>\n    </tr>\n    <tr>\n      <th>4369</th>\n      <td>421339</td>\n      <td>Strandlodsvej23A,1.tv,2300KøbenhavnS</td>\n      <td>2000000.0</td>\n      <td>249300.0</td>\n      <td>3740000</td>\n      <td>89.0</td>\n      <td>42022.0</td>\n      <td>2019-01-02</td>\n      <td>100%</td>\n      <td>Almindeligfrihandel</td>\n      <td>...</td>\n      <td>12.625230</td>\n      <td>55.665170</td>\n      <td>Strandlodsvej23A,1tv,2300KøbenhavnS</td>\n      <td>Strandlodsvej</td>\n      <td>23</td>\n      <td>2.0</td>\n      <td>3</td>\n      <td>2019</td>\n      <td>1</td>\n      <td>2</td>\n    </tr>\n  </tbody>\n</table>\n<p>3762 rows × 23 columns</p>\n</div>"
     },
     "metadata": {}
    }
   ]
  },
  {
   "cell_type": "markdown",
   "source": "# EDA",
   "metadata": {
    "tags": [],
    "is_collapsed": false,
    "cell_id": "00019-427bb0cf-73b4-423d-897c-5acd2fb44811",
    "deepnote_cell_type": "text-cell-h1"
   }
  },
  {
   "cell_type": "markdown",
   "source": "## Map visualisation ",
   "metadata": {
    "tags": [],
    "is_collapsed": false,
    "cell_id": "00020-4a3dec7d-1cfe-4f52-b23e-f7e151e0da64",
    "deepnote_cell_type": "text-cell-h2"
   }
  },
  {
   "cell_type": "code",
   "metadata": {
    "tags": [],
    "deepnote_to_be_reexecuted": false,
    "source_hash": "13c0104c",
    "execution_start": 1652447548176,
    "execution_millis": 376,
    "cell_id": "00021-8d2e0f89-8037-4ac5-bd69-ecd3d88223bd",
    "deepnote_cell_type": "code",
    "deepnote_cell_height": 169.984375
   },
   "source": "map_1 = keplergl.KeplerGl(height=600, data={'data_1': silver_data_eda})\nmap_1\n",
   "execution_count": null,
   "outputs": [
    {
     "name": "stdout",
     "text": "User Guide: https://docs.kepler.gl/docs/keplergl-jupyter\n",
     "output_type": "stream"
    },
    {
     "data": {
      "text/plain": "KeplerGl(data={'data_1':       bfe_nummer                                  adresse  \\\n99        111445  Amager…",
      "application/vnd.jupyter.widget-view+json": {
       "version_major": 2,
       "version_minor": 0,
       "model_id": "f06bf20225074665a147fd985ab76e66"
      }
     },
     "metadata": {},
     "output_type": "display_data"
    }
   ]
  },
  {
   "cell_type": "code",
   "metadata": {
    "cell_id": "258f3edb04b84a3c87576f22d7366807",
    "tags": [],
    "deepnote_to_be_reexecuted": false,
    "source_hash": "a241358d",
    "execution_start": 1652447548560,
    "execution_millis": 67958007,
    "deepnote_cell_type": "code",
    "deepnote_cell_height": 182.375,
    "deepnote_output_heights": [
     null,
     21.1875
    ]
   },
   "source": "print (silver_data_eda.seneste_handelsdato.min()), (silver_data_eda.seneste_handelsdato.max())\n",
   "execution_count": null,
   "outputs": [
    {
     "name": "stdout",
     "text": "2019-01-02 00:00:00\n",
     "output_type": "stream"
    },
    {
     "output_type": "execute_result",
     "execution_count": 21,
     "data": {
      "text/plain": "(None, Timestamp('2022-03-25 00:00:00'))"
     },
     "metadata": {}
    }
   ]
  },
  {
   "cell_type": "code",
   "metadata": {
    "cell_id": "2722cc0651b24e71be32f7649d8c4fda",
    "tags": [],
    "deepnote_to_be_reexecuted": false,
    "source_hash": "162b0b41",
    "execution_start": 1652447548561,
    "execution_millis": 67958012,
    "deepnote_cell_type": "code",
    "deepnote_cell_height": 697.625
   },
   "source": "silver_data_eda.info()",
   "execution_count": null,
   "outputs": [
    {
     "name": "stdout",
     "text": "<class 'pandas.core.frame.DataFrame'>\nInt64Index: 3762 entries, 99 to 4369\nData columns (total 23 columns):\n #   Column                          Non-Null Count  Dtype         \n---  ------                          --------------  -----         \n 0   bfe_nummer                      3762 non-null   int64         \n 1   adresse                         3762 non-null   object        \n 2   offentlig_ejendomsværdi         3762 non-null   float64       \n 3   offentlige_grundværdi           3762 non-null   float64       \n 4   seneste_handelspris             3762 non-null   int64         \n 5   enhedsareal_beboelse            3762 non-null   float64       \n 6   pris_pr_m2                      3762 non-null   float64       \n 7   seneste_handelsdato             3762 non-null   datetime64[ns]\n 8   seneste_handlet_andel           3762 non-null   object        \n 9   handelsmetode                   3762 non-null   object        \n 10  anvendelse                      3762 non-null   object        \n 11  opførelsesår                    3762 non-null   float64       \n 12  tinglyst_areal_ejerlejligheder  3762 non-null   float64       \n 13  longitude                       3762 non-null   float64       \n 14  latitude                        3762 non-null   float64       \n 15  primær_ejers_adresse            3762 non-null   object        \n 16  vejnavn                         3762 non-null   object        \n 17  husnr                           3762 non-null   object        \n 18  etage                           3762 non-null   float64       \n 19  antal_værelser                  3762 non-null   int64         \n 20  year                            3762 non-null   int64         \n 21  month                           3762 non-null   int64         \n 22  day                             3762 non-null   int64         \ndtypes: datetime64[ns](1), float64(9), int64(6), object(7)\nmemory usage: 705.4+ KB\n",
     "output_type": "stream"
    }
   ]
  },
  {
   "cell_type": "code",
   "metadata": {
    "tags": [],
    "deepnote_to_be_reexecuted": false,
    "source_hash": "f5d2a404",
    "execution_start": 1652447548561,
    "execution_millis": 100,
    "deepnote_table_state": {
     "pageSize": 25,
     "pageIndex": 0,
     "filters": [],
     "sortBy": []
    },
    "deepnote_table_loading": false,
    "cell_id": "00022-f435eea8-289d-49c2-a01f-8cf5ab714430",
    "deepnote_cell_type": "code",
    "deepnote_cell_height": 946
   },
   "source": "# export describe data for viz in tableau \n\ndescribe_df = pd.DataFrame()\ndescribe_df = silver_data_eda.describe().transpose()\ndescribe_df.to_csv(\"describe_df.csv\")\nsilver_data_eda.to_csv(\"silver_data_eda_tableau.csv\")\n\ndescribe_df",
   "execution_count": null,
   "outputs": [
    {
     "output_type": "execute_result",
     "execution_count": 23,
     "data": {
      "application/vnd.deepnote.dataframe.v3+json": {
       "column_count": 8,
       "row_count": 15,
       "columns": [
        {
         "name": "count",
         "dtype": "float64",
         "stats": {
          "unique_count": 1,
          "nan_count": 0,
          "min": "3762.0",
          "max": "3762.0",
          "histogram": [
           {
            "bin_start": 3761.5,
            "bin_end": 3761.6,
            "count": 0
           },
           {
            "bin_start": 3761.6,
            "bin_end": 3761.7,
            "count": 0
           },
           {
            "bin_start": 3761.7,
            "bin_end": 3761.8,
            "count": 0
           },
           {
            "bin_start": 3761.8,
            "bin_end": 3761.9,
            "count": 0
           },
           {
            "bin_start": 3761.9,
            "bin_end": 3762,
            "count": 0
           },
           {
            "bin_start": 3762,
            "bin_end": 3762.1,
            "count": 15
           },
           {
            "bin_start": 3762.1,
            "bin_end": 3762.2,
            "count": 0
           },
           {
            "bin_start": 3762.2,
            "bin_end": 3762.3,
            "count": 0
           },
           {
            "bin_start": 3762.3,
            "bin_end": 3762.4,
            "count": 0
           },
           {
            "bin_start": 3762.4,
            "bin_end": 3762.5,
            "count": 0
           }
          ]
         }
        },
        {
         "name": "mean",
         "dtype": "float64",
         "stats": {
          "unique_count": 15,
          "nan_count": 0,
          "min": "2.671451355661882",
          "max": "3390777.4191919193",
          "histogram": [
           {
            "bin_start": 2.671451355661882,
            "bin_end": 339080.146225412,
            "count": 13
           },
           {
            "bin_start": 339080.146225412,
            "bin_end": 678157.6209994684,
            "count": 0
           },
           {
            "bin_start": 678157.6209994684,
            "bin_end": 1017235.0957735247,
            "count": 0
           },
           {
            "bin_start": 1017235.0957735247,
            "bin_end": 1356312.570547581,
            "count": 0
           },
           {
            "bin_start": 1356312.570547581,
            "bin_end": 1695390.0453216373,
            "count": 1
           },
           {
            "bin_start": 1695390.0453216373,
            "bin_end": 2034467.5200956936,
            "count": 0
           },
           {
            "bin_start": 2034467.5200956936,
            "bin_end": 2373544.9948697505,
            "count": 0
           },
           {
            "bin_start": 2373544.9948697505,
            "bin_end": 2712622.4696438066,
            "count": 0
           },
           {
            "bin_start": 2712622.4696438066,
            "bin_end": 3051699.9444178627,
            "count": 0
           },
           {
            "bin_start": 3051699.9444178627,
            "bin_end": 3390777.4191919193,
            "count": 1
           }
          ]
         }
        },
        {
         "name": "std",
         "dtype": "float64",
         "stats": {
          "unique_count": 15,
          "nan_count": 0,
          "min": "0.013581174581973332",
          "max": "1632462.3669044517",
          "histogram": [
           {
            "bin_start": 0.013581174581973332,
            "bin_end": 163246.2489135023,
            "count": 11
           },
           {
            "bin_start": 163246.2489135023,
            "bin_end": 326492.48424583004,
            "count": 1
           },
           {
            "bin_start": 326492.48424583004,
            "bin_end": 489738.71957815776,
            "count": 0
           },
           {
            "bin_start": 489738.71957815776,
            "bin_end": 652984.9549104854,
            "count": 0
           },
           {
            "bin_start": 652984.9549104854,
            "bin_end": 816231.1902428131,
            "count": 1
           },
           {
            "bin_start": 816231.1902428131,
            "bin_end": 979477.4255751409,
            "count": 0
           },
           {
            "bin_start": 979477.4255751409,
            "bin_end": 1142723.6609074688,
            "count": 0
           },
           {
            "bin_start": 1142723.6609074688,
            "bin_end": 1305969.8962397964,
            "count": 0
           },
           {
            "bin_start": 1305969.8962397964,
            "bin_end": 1469216.131572124,
            "count": 0
           },
           {
            "bin_start": 1469216.131572124,
            "bin_end": 1632462.3669044517,
            "count": 2
           }
          ]
         }
        },
        {
         "name": "min",
         "dtype": "float64",
         "stats": {
          "unique_count": 12,
          "nan_count": 0,
          "min": "1.0",
          "max": "920000.0",
          "histogram": [
           {
            "bin_start": 1,
            "bin_end": 92000.9,
            "count": 12
           },
           {
            "bin_start": 92000.9,
            "bin_end": 184000.8,
            "count": 1
           },
           {
            "bin_start": 184000.8,
            "bin_end": 276000.69999999995,
            "count": 0
           },
           {
            "bin_start": 276000.69999999995,
            "bin_end": 368000.6,
            "count": 1
           },
           {
            "bin_start": 368000.6,
            "bin_end": 460000.5,
            "count": 0
           },
           {
            "bin_start": 460000.5,
            "bin_end": 552000.3999999999,
            "count": 0
           },
           {
            "bin_start": 552000.3999999999,
            "bin_end": 644000.2999999999,
            "count": 0
           },
           {
            "bin_start": 644000.2999999999,
            "bin_end": 736000.2,
            "count": 0
           },
           {
            "bin_start": 736000.2,
            "bin_end": 828000.1,
            "count": 0
           },
           {
            "bin_start": 828000.1,
            "bin_end": 920000,
            "count": 1
           }
          ]
         }
        },
        {
         "name": "25%",
         "dtype": "float64",
         "stats": {
          "unique_count": 14,
          "nan_count": 0,
          "min": "1.0",
          "max": "2225000.0",
          "histogram": [
           {
            "bin_start": 1,
            "bin_end": 222500.9,
            "count": 13
           },
           {
            "bin_start": 222500.9,
            "bin_end": 445000.8,
            "count": 0
           },
           {
            "bin_start": 445000.8,
            "bin_end": 667500.7,
            "count": 0
           },
           {
            "bin_start": 667500.7,
            "bin_end": 890000.6,
            "count": 0
           },
           {
            "bin_start": 890000.6,
            "bin_end": 1112500.5,
            "count": 1
           },
           {
            "bin_start": 1112500.5,
            "bin_end": 1335000.4,
            "count": 0
           },
           {
            "bin_start": 1335000.4,
            "bin_end": 1557500.3,
            "count": 0
           },
           {
            "bin_start": 1557500.3,
            "bin_end": 1780000.2,
            "count": 0
           },
           {
            "bin_start": 1780000.2,
            "bin_end": 2002500.0999999999,
            "count": 0
           },
           {
            "bin_start": 2002500.0999999999,
            "bin_end": 2225000,
            "count": 1
           }
          ]
         }
        },
        {
         "name": "50%",
         "dtype": "float64",
         "stats": {
          "unique_count": 14,
          "nan_count": 0,
          "min": "1.0",
          "max": "3020000.0",
          "histogram": [
           {
            "bin_start": 1,
            "bin_end": 302000.9,
            "count": 13
           },
           {
            "bin_start": 302000.9,
            "bin_end": 604000.8,
            "count": 0
           },
           {
            "bin_start": 604000.8,
            "bin_end": 906000.7000000001,
            "count": 0
           },
           {
            "bin_start": 906000.7000000001,
            "bin_end": 1208000.6,
            "count": 0
           },
           {
            "bin_start": 1208000.6,
            "bin_end": 1510000.5,
            "count": 1
           },
           {
            "bin_start": 1510000.5,
            "bin_end": 1812000.4000000001,
            "count": 0
           },
           {
            "bin_start": 1812000.4000000001,
            "bin_end": 2114000.3000000003,
            "count": 0
           },
           {
            "bin_start": 2114000.3000000003,
            "bin_end": 2416000.2,
            "count": 0
           },
           {
            "bin_start": 2416000.2,
            "bin_end": 2718000.1,
            "count": 0
           },
           {
            "bin_start": 2718000.1,
            "bin_end": 3020000,
            "count": 1
           }
          ]
         }
        },
        {
         "name": "75%",
         "dtype": "float64",
         "stats": {
          "unique_count": 15,
          "nan_count": 0,
          "min": "3.0",
          "max": "4143750.0",
          "histogram": [
           {
            "bin_start": 3,
            "bin_end": 414377.7,
            "count": 13
           },
           {
            "bin_start": 414377.7,
            "bin_end": 828752.4,
            "count": 0
           },
           {
            "bin_start": 828752.4,
            "bin_end": 1243127.1,
            "count": 0
           },
           {
            "bin_start": 1243127.1,
            "bin_end": 1657501.8,
            "count": 0
           },
           {
            "bin_start": 1657501.8,
            "bin_end": 2071876.5,
            "count": 1
           },
           {
            "bin_start": 2071876.5,
            "bin_end": 2486251.2,
            "count": 0
           },
           {
            "bin_start": 2486251.2,
            "bin_end": 2900625.9,
            "count": 0
           },
           {
            "bin_start": 2900625.9,
            "bin_end": 3315000.6,
            "count": 0
           },
           {
            "bin_start": 3315000.6,
            "bin_end": 3729375.3000000003,
            "count": 0
           },
           {
            "bin_start": 3729375.3000000003,
            "bin_end": 4143750,
            "count": 1
           }
          ]
         }
        },
        {
         "name": "max",
         "dtype": "float64",
         "stats": {
          "unique_count": 15,
          "nan_count": 0,
          "min": "7.0",
          "max": "100179329.0",
          "histogram": [
           {
            "bin_start": 7,
            "bin_end": 10017939.2,
            "count": 13
           },
           {
            "bin_start": 10017939.2,
            "bin_end": 20035871.4,
            "count": 1
           },
           {
            "bin_start": 20035871.4,
            "bin_end": 30053803.599999998,
            "count": 0
           },
           {
            "bin_start": 30053803.599999998,
            "bin_end": 40071735.8,
            "count": 0
           },
           {
            "bin_start": 40071735.8,
            "bin_end": 50089668,
            "count": 0
           },
           {
            "bin_start": 50089668,
            "bin_end": 60107600.199999996,
            "count": 0
           },
           {
            "bin_start": 60107600.199999996,
            "bin_end": 70125532.39999999,
            "count": 0
           },
           {
            "bin_start": 70125532.39999999,
            "bin_end": 80143464.6,
            "count": 0
           },
           {
            "bin_start": 80143464.6,
            "bin_end": 90161396.8,
            "count": 0
           },
           {
            "bin_start": 90161396.8,
            "bin_end": 100179329,
            "count": 1
           }
          ]
         }
        },
        {
         "name": "_deepnote_index_column",
         "dtype": "object"
        }
       ],
       "rows": [
        {
         "count": 3762,
         "mean": 168948.48777246146,
         "std": 1632462.3669044517,
         "min": 101006,
         "25%": 113396,
         "50%": 131665.5,
         "75%": 136119.75,
         "max": 100179329,
         "_deepnote_index_column": "bfe_nummer"
        },
        {
         "count": 3762,
         "mean": 1578928.7347155767,
         "std": 797736.2122066589,
         "min": 280000,
         "25%": 960000,
         "50%": 1300000,
         "75%": 2050000,
         "max": 6850000,
         "_deepnote_index_column": "offentlig_ejendomsværdi"
        },
        {
         "count": 3762,
         "mean": 242874.80063795854,
         "std": 168536.7173092797,
         "min": 37200,
         "25%": 104700,
         "50%": 168300,
         "75%": 374000,
         "max": 1141300,
         "_deepnote_index_column": "offentlige_grundværdi"
        },
        {
         "count": 3762,
         "mean": 3390777.4191919193,
         "std": 1606765.0364434589,
         "min": 920000,
         "25%": 2225000,
         "50%": 3020000,
         "75%": 4143750,
         "max": 15500000,
         "_deepnote_index_column": "seneste_handelspris"
        },
        {
         "count": 3762,
         "mean": 79.84316852737905,
         "std": 28.444432501691796,
         "min": 25,
         "25%": 57,
         "50%": 74,
         "75%": 100,
         "max": 224,
         "_deepnote_index_column": "enhedsareal_beboelse"
        },
        {
         "count": 3762,
         "mean": 41816.437267410955,
         "std": 8242.580183265301,
         "min": 16120,
         "25%": 36170,
         "50%": 40767,
         "75%": 46153,
         "max": 90637,
         "_deepnote_index_column": "pris_pr_m2"
        },
        {
         "count": 3762,
         "mean": 1961.077086656034,
         "std": 40.9995935313272,
         "min": 1872,
         "25%": 1932,
         "50%": 1940,
         "75%": 2006,
         "max": 2021,
         "_deepnote_index_column": "opførelsesår"
        },
        {
         "count": 3762,
         "mean": 71.66533758639022,
         "std": 26.555674435566544,
         "min": 23,
         "25%": 51,
         "50%": 67,
         "75%": 89,
         "max": 302,
         "_deepnote_index_column": "tinglyst_areal_ejerlejligheder"
        },
        {
         "count": 3762,
         "mean": 12.60033059871611,
         "std": 0.01894321975177889,
         "min": 12.56400799,
         "25%": 12.58153275,
         "50%": 12.605722145,
         "75%": 12.61607108,
         "max": 12.63511252,
         "_deepnote_index_column": "longitude"
        },
        {
         "count": 3762,
         "mean": 55.65422764633971,
         "std": 0.013581174581973332,
         "min": 55.61653656,
         "25%": 55.65061406,
         "50%": 55.65941015,
         "75%": 55.66391855,
         "max": 55.66870439,
         "_deepnote_index_column": "latitude"
        },
        {
         "count": 3762,
         "mean": 3.5704412546517807,
         "std": 2.1304089124884773,
         "min": 1,
         "25%": 2,
         "50%": 3,
         "75%": 5,
         "max": 16,
         "_deepnote_index_column": "etage"
        },
        {
         "count": 3762,
         "mean": 2.671451355661882,
         "std": 0.9310036776543504,
         "min": 1,
         "25%": 2,
         "50%": 3,
         "75%": 3,
         "max": 7,
         "_deepnote_index_column": "antal_værelser"
        },
        {
         "count": 3762,
         "mean": 2020.311004784689,
         "std": 0.909362861635703,
         "min": 2019,
         "25%": 2020,
         "50%": 2020,
         "75%": 2021,
         "max": 2022,
         "_deepnote_index_column": "year"
        },
        {
         "count": 3762,
         "mean": 6.390483785220628,
         "std": 3.4292863888572533,
         "min": 1,
         "25%": 3,
         "50%": 6,
         "75%": 9,
         "max": 12,
         "_deepnote_index_column": "month"
        },
        {
         "count": 3762,
         "mean": 4.664274322169059,
         "std": 6.590603046463914,
         "min": 1,
         "25%": 1,
         "50%": 1,
         "75%": 4,
         "max": 31,
         "_deepnote_index_column": "day"
        }
       ]
      },
      "text/plain": "                                 count          mean           std  \\\nbfe_nummer                      3762.0  1.689485e+05  1.632462e+06   \noffentlig_ejendomsværdi         3762.0  1.578929e+06  7.977362e+05   \noffentlige_grundværdi           3762.0  2.428748e+05  1.685367e+05   \nseneste_handelspris             3762.0  3.390777e+06  1.606765e+06   \nenhedsareal_beboelse            3762.0  7.984317e+01  2.844443e+01   \npris_pr_m2                      3762.0  4.181644e+04  8.242580e+03   \nopførelsesår                    3762.0  1.961077e+03  4.099959e+01   \ntinglyst_areal_ejerlejligheder  3762.0  7.166534e+01  2.655567e+01   \nlongitude                       3762.0  1.260033e+01  1.894322e-02   \nlatitude                        3762.0  5.565423e+01  1.358117e-02   \netage                           3762.0  3.570441e+00  2.130409e+00   \nantal_værelser                  3762.0  2.671451e+00  9.310037e-01   \nyear                            3762.0  2.020311e+03  9.093629e-01   \nmonth                           3762.0  6.390484e+00  3.429286e+00   \nday                             3762.0  4.664274e+00  6.590603e+00   \n\n                                          min           25%           50%  \\\nbfe_nummer                      101006.000000  1.133960e+05  1.316655e+05   \noffentlig_ejendomsværdi         280000.000000  9.600000e+05  1.300000e+06   \noffentlige_grundværdi            37200.000000  1.047000e+05  1.683000e+05   \nseneste_handelspris             920000.000000  2.225000e+06  3.020000e+06   \nenhedsareal_beboelse                25.000000  5.700000e+01  7.400000e+01   \npris_pr_m2                       16120.000000  3.617000e+04  4.076700e+04   \nopførelsesår                      1872.000000  1.932000e+03  1.940000e+03   \ntinglyst_areal_ejerlejligheder      23.000000  5.100000e+01  6.700000e+01   \nlongitude                           12.564008  1.258153e+01  1.260572e+01   \nlatitude                            55.616537  5.565061e+01  5.565941e+01   \netage                                1.000000  2.000000e+00  3.000000e+00   \nantal_værelser                       1.000000  2.000000e+00  3.000000e+00   \nyear                              2019.000000  2.020000e+03  2.020000e+03   \nmonth                                1.000000  3.000000e+00  6.000000e+00   \nday                                  1.000000  1.000000e+00  1.000000e+00   \n\n                                         75%           max  \nbfe_nummer                      1.361198e+05  1.001793e+08  \noffentlig_ejendomsværdi         2.050000e+06  6.850000e+06  \noffentlige_grundværdi           3.740000e+05  1.141300e+06  \nseneste_handelspris             4.143750e+06  1.550000e+07  \nenhedsareal_beboelse            1.000000e+02  2.240000e+02  \npris_pr_m2                      4.615300e+04  9.063700e+04  \nopførelsesår                    2.006000e+03  2.021000e+03  \ntinglyst_areal_ejerlejligheder  8.900000e+01  3.020000e+02  \nlongitude                       1.261607e+01  1.263511e+01  \nlatitude                        5.566392e+01  5.566870e+01  \netage                           5.000000e+00  1.600000e+01  \nantal_værelser                  3.000000e+00  7.000000e+00  \nyear                            2.021000e+03  2.022000e+03  \nmonth                           9.000000e+00  1.200000e+01  \nday                             4.000000e+00  3.100000e+01  ",
      "text/html": "<div>\n<style scoped>\n    .dataframe tbody tr th:only-of-type {\n        vertical-align: middle;\n    }\n\n    .dataframe tbody tr th {\n        vertical-align: top;\n    }\n\n    .dataframe thead th {\n        text-align: right;\n    }\n</style>\n<table border=\"1\" class=\"dataframe\">\n  <thead>\n    <tr style=\"text-align: right;\">\n      <th></th>\n      <th>count</th>\n      <th>mean</th>\n      <th>std</th>\n      <th>min</th>\n      <th>25%</th>\n      <th>50%</th>\n      <th>75%</th>\n      <th>max</th>\n    </tr>\n  </thead>\n  <tbody>\n    <tr>\n      <th>bfe_nummer</th>\n      <td>3762.0</td>\n      <td>1.689485e+05</td>\n      <td>1.632462e+06</td>\n      <td>101006.000000</td>\n      <td>1.133960e+05</td>\n      <td>1.316655e+05</td>\n      <td>1.361198e+05</td>\n      <td>1.001793e+08</td>\n    </tr>\n    <tr>\n      <th>offentlig_ejendomsværdi</th>\n      <td>3762.0</td>\n      <td>1.578929e+06</td>\n      <td>7.977362e+05</td>\n      <td>280000.000000</td>\n      <td>9.600000e+05</td>\n      <td>1.300000e+06</td>\n      <td>2.050000e+06</td>\n      <td>6.850000e+06</td>\n    </tr>\n    <tr>\n      <th>offentlige_grundværdi</th>\n      <td>3762.0</td>\n      <td>2.428748e+05</td>\n      <td>1.685367e+05</td>\n      <td>37200.000000</td>\n      <td>1.047000e+05</td>\n      <td>1.683000e+05</td>\n      <td>3.740000e+05</td>\n      <td>1.141300e+06</td>\n    </tr>\n    <tr>\n      <th>seneste_handelspris</th>\n      <td>3762.0</td>\n      <td>3.390777e+06</td>\n      <td>1.606765e+06</td>\n      <td>920000.000000</td>\n      <td>2.225000e+06</td>\n      <td>3.020000e+06</td>\n      <td>4.143750e+06</td>\n      <td>1.550000e+07</td>\n    </tr>\n    <tr>\n      <th>enhedsareal_beboelse</th>\n      <td>3762.0</td>\n      <td>7.984317e+01</td>\n      <td>2.844443e+01</td>\n      <td>25.000000</td>\n      <td>5.700000e+01</td>\n      <td>7.400000e+01</td>\n      <td>1.000000e+02</td>\n      <td>2.240000e+02</td>\n    </tr>\n    <tr>\n      <th>pris_pr_m2</th>\n      <td>3762.0</td>\n      <td>4.181644e+04</td>\n      <td>8.242580e+03</td>\n      <td>16120.000000</td>\n      <td>3.617000e+04</td>\n      <td>4.076700e+04</td>\n      <td>4.615300e+04</td>\n      <td>9.063700e+04</td>\n    </tr>\n    <tr>\n      <th>opførelsesår</th>\n      <td>3762.0</td>\n      <td>1.961077e+03</td>\n      <td>4.099959e+01</td>\n      <td>1872.000000</td>\n      <td>1.932000e+03</td>\n      <td>1.940000e+03</td>\n      <td>2.006000e+03</td>\n      <td>2.021000e+03</td>\n    </tr>\n    <tr>\n      <th>tinglyst_areal_ejerlejligheder</th>\n      <td>3762.0</td>\n      <td>7.166534e+01</td>\n      <td>2.655567e+01</td>\n      <td>23.000000</td>\n      <td>5.100000e+01</td>\n      <td>6.700000e+01</td>\n      <td>8.900000e+01</td>\n      <td>3.020000e+02</td>\n    </tr>\n    <tr>\n      <th>longitude</th>\n      <td>3762.0</td>\n      <td>1.260033e+01</td>\n      <td>1.894322e-02</td>\n      <td>12.564008</td>\n      <td>1.258153e+01</td>\n      <td>1.260572e+01</td>\n      <td>1.261607e+01</td>\n      <td>1.263511e+01</td>\n    </tr>\n    <tr>\n      <th>latitude</th>\n      <td>3762.0</td>\n      <td>5.565423e+01</td>\n      <td>1.358117e-02</td>\n      <td>55.616537</td>\n      <td>5.565061e+01</td>\n      <td>5.565941e+01</td>\n      <td>5.566392e+01</td>\n      <td>5.566870e+01</td>\n    </tr>\n    <tr>\n      <th>etage</th>\n      <td>3762.0</td>\n      <td>3.570441e+00</td>\n      <td>2.130409e+00</td>\n      <td>1.000000</td>\n      <td>2.000000e+00</td>\n      <td>3.000000e+00</td>\n      <td>5.000000e+00</td>\n      <td>1.600000e+01</td>\n    </tr>\n    <tr>\n      <th>antal_værelser</th>\n      <td>3762.0</td>\n      <td>2.671451e+00</td>\n      <td>9.310037e-01</td>\n      <td>1.000000</td>\n      <td>2.000000e+00</td>\n      <td>3.000000e+00</td>\n      <td>3.000000e+00</td>\n      <td>7.000000e+00</td>\n    </tr>\n    <tr>\n      <th>year</th>\n      <td>3762.0</td>\n      <td>2.020311e+03</td>\n      <td>9.093629e-01</td>\n      <td>2019.000000</td>\n      <td>2.020000e+03</td>\n      <td>2.020000e+03</td>\n      <td>2.021000e+03</td>\n      <td>2.022000e+03</td>\n    </tr>\n    <tr>\n      <th>month</th>\n      <td>3762.0</td>\n      <td>6.390484e+00</td>\n      <td>3.429286e+00</td>\n      <td>1.000000</td>\n      <td>3.000000e+00</td>\n      <td>6.000000e+00</td>\n      <td>9.000000e+00</td>\n      <td>1.200000e+01</td>\n    </tr>\n    <tr>\n      <th>day</th>\n      <td>3762.0</td>\n      <td>4.664274e+00</td>\n      <td>6.590603e+00</td>\n      <td>1.000000</td>\n      <td>1.000000e+00</td>\n      <td>1.000000e+00</td>\n      <td>4.000000e+00</td>\n      <td>3.100000e+01</td>\n    </tr>\n  </tbody>\n</table>\n</div>"
     },
     "metadata": {}
    }
   ]
  },
  {
   "cell_type": "code",
   "metadata": {
    "cell_id": "21279e5de670482e828e736262e5b842",
    "tags": [],
    "deepnote_to_be_reexecuted": false,
    "source_hash": "793ca41c",
    "execution_start": 1652447548649,
    "execution_millis": 41,
    "deepnote_cell_type": "code",
    "deepnote_cell_height": 677
   },
   "source": "pd.DataFrame(silver_data_eda[[\n    'offentlig_ejendomsværdi',\n    'offentlige_grundværdi',\n    'seneste_handelspris',\n    'enhedsareal_beboelse',\n    'pris_pr_m2',\n    'etage',\n    'antal_værelser'\n    ]].describe())",
   "execution_count": null,
   "outputs": [
    {
     "output_type": "execute_result",
     "execution_count": 24,
     "data": {
      "application/vnd.deepnote.dataframe.v3+json": {
       "column_count": 7,
       "row_count": 8,
       "columns": [
        {
         "name": "offentlig_ejendomsværdi",
         "dtype": "float64",
         "stats": {
          "unique_count": 8,
          "nan_count": 0,
          "min": "3762.0",
          "max": "6850000.0",
          "histogram": [
           {
            "bin_start": 3762,
            "bin_end": 688385.8,
            "count": 2
           },
           {
            "bin_start": 688385.8,
            "bin_end": 1373009.6,
            "count": 3
           },
           {
            "bin_start": 1373009.6,
            "bin_end": 2057633.4000000001,
            "count": 2
           },
           {
            "bin_start": 2057633.4000000001,
            "bin_end": 2742257.2,
            "count": 0
           },
           {
            "bin_start": 2742257.2,
            "bin_end": 3426881,
            "count": 0
           },
           {
            "bin_start": 3426881,
            "bin_end": 4111504.8000000003,
            "count": 0
           },
           {
            "bin_start": 4111504.8000000003,
            "bin_end": 4796128.600000001,
            "count": 0
           },
           {
            "bin_start": 4796128.600000001,
            "bin_end": 5480752.4,
            "count": 0
           },
           {
            "bin_start": 5480752.4,
            "bin_end": 6165376.2,
            "count": 0
           },
           {
            "bin_start": 6165376.2,
            "bin_end": 6850000,
            "count": 1
           }
          ]
         }
        },
        {
         "name": "offentlige_grundværdi",
         "dtype": "float64",
         "stats": {
          "unique_count": 8,
          "nan_count": 0,
          "min": "3762.0",
          "max": "1141300.0",
          "histogram": [
           {
            "bin_start": 3762,
            "bin_end": 117515.8,
            "count": 3
           },
           {
            "bin_start": 117515.8,
            "bin_end": 231269.6,
            "count": 2
           },
           {
            "bin_start": 231269.6,
            "bin_end": 345023.4,
            "count": 1
           },
           {
            "bin_start": 345023.4,
            "bin_end": 458777.2,
            "count": 1
           },
           {
            "bin_start": 458777.2,
            "bin_end": 572531,
            "count": 0
           },
           {
            "bin_start": 572531,
            "bin_end": 686284.8,
            "count": 0
           },
           {
            "bin_start": 686284.8,
            "bin_end": 800038.6,
            "count": 0
           },
           {
            "bin_start": 800038.6,
            "bin_end": 913792.4,
            "count": 0
           },
           {
            "bin_start": 913792.4,
            "bin_end": 1027546.2000000001,
            "count": 0
           },
           {
            "bin_start": 1027546.2000000001,
            "bin_end": 1141300,
            "count": 1
           }
          ]
         }
        },
        {
         "name": "seneste_handelspris",
         "dtype": "float64",
         "stats": {
          "unique_count": 8,
          "nan_count": 0,
          "min": "3762.0",
          "max": "15500000.0",
          "histogram": [
           {
            "bin_start": 3762,
            "bin_end": 1553385.8,
            "count": 2
           },
           {
            "bin_start": 1553385.8,
            "bin_end": 3103009.6,
            "count": 3
           },
           {
            "bin_start": 3103009.6,
            "bin_end": 4652633.4,
            "count": 2
           },
           {
            "bin_start": 4652633.4,
            "bin_end": 6202257.2,
            "count": 0
           },
           {
            "bin_start": 6202257.2,
            "bin_end": 7751881,
            "count": 0
           },
           {
            "bin_start": 7751881,
            "bin_end": 9301504.8,
            "count": 0
           },
           {
            "bin_start": 9301504.8,
            "bin_end": 10851128.6,
            "count": 0
           },
           {
            "bin_start": 10851128.6,
            "bin_end": 12400752.4,
            "count": 0
           },
           {
            "bin_start": 12400752.4,
            "bin_end": 13950376.200000001,
            "count": 0
           },
           {
            "bin_start": 13950376.200000001,
            "bin_end": 15500000,
            "count": 1
           }
          ]
         }
        },
        {
         "name": "enhedsareal_beboelse",
         "dtype": "float64",
         "stats": {
          "unique_count": 8,
          "nan_count": 0,
          "min": "25.0",
          "max": "3762.0",
          "histogram": [
           {
            "bin_start": 25,
            "bin_end": 398.7,
            "count": 7
           },
           {
            "bin_start": 398.7,
            "bin_end": 772.4,
            "count": 0
           },
           {
            "bin_start": 772.4,
            "bin_end": 1146.1,
            "count": 0
           },
           {
            "bin_start": 1146.1,
            "bin_end": 1519.8,
            "count": 0
           },
           {
            "bin_start": 1519.8,
            "bin_end": 1893.5,
            "count": 0
           },
           {
            "bin_start": 1893.5,
            "bin_end": 2267.2,
            "count": 0
           },
           {
            "bin_start": 2267.2,
            "bin_end": 2640.9,
            "count": 0
           },
           {
            "bin_start": 2640.9,
            "bin_end": 3014.6,
            "count": 0
           },
           {
            "bin_start": 3014.6,
            "bin_end": 3388.2999999999997,
            "count": 0
           },
           {
            "bin_start": 3388.2999999999997,
            "bin_end": 3762,
            "count": 1
           }
          ]
         }
        },
        {
         "name": "pris_pr_m2",
         "dtype": "float64",
         "stats": {
          "unique_count": 8,
          "nan_count": 0,
          "min": "3762.0",
          "max": "90637.0",
          "histogram": [
           {
            "bin_start": 3762,
            "bin_end": 12449.5,
            "count": 2
           },
           {
            "bin_start": 12449.5,
            "bin_end": 21137,
            "count": 1
           },
           {
            "bin_start": 21137,
            "bin_end": 29824.5,
            "count": 0
           },
           {
            "bin_start": 29824.5,
            "bin_end": 38512,
            "count": 1
           },
           {
            "bin_start": 38512,
            "bin_end": 47199.5,
            "count": 3
           },
           {
            "bin_start": 47199.5,
            "bin_end": 55887,
            "count": 0
           },
           {
            "bin_start": 55887,
            "bin_end": 64574.5,
            "count": 0
           },
           {
            "bin_start": 64574.5,
            "bin_end": 73262,
            "count": 0
           },
           {
            "bin_start": 73262,
            "bin_end": 81949.5,
            "count": 0
           },
           {
            "bin_start": 81949.5,
            "bin_end": 90637,
            "count": 1
           }
          ]
         }
        },
        {
         "name": "etage",
         "dtype": "float64",
         "stats": {
          "unique_count": 8,
          "nan_count": 0,
          "min": "1.0",
          "max": "3762.0",
          "histogram": [
           {
            "bin_start": 1,
            "bin_end": 377.1,
            "count": 7
           },
           {
            "bin_start": 377.1,
            "bin_end": 753.2,
            "count": 0
           },
           {
            "bin_start": 753.2,
            "bin_end": 1129.3000000000002,
            "count": 0
           },
           {
            "bin_start": 1129.3000000000002,
            "bin_end": 1505.4,
            "count": 0
           },
           {
            "bin_start": 1505.4,
            "bin_end": 1881.5,
            "count": 0
           },
           {
            "bin_start": 1881.5,
            "bin_end": 2257.6000000000004,
            "count": 0
           },
           {
            "bin_start": 2257.6000000000004,
            "bin_end": 2633.7000000000003,
            "count": 0
           },
           {
            "bin_start": 2633.7000000000003,
            "bin_end": 3009.8,
            "count": 0
           },
           {
            "bin_start": 3009.8,
            "bin_end": 3385.9,
            "count": 0
           },
           {
            "bin_start": 3385.9,
            "bin_end": 3762,
            "count": 1
           }
          ]
         }
        },
        {
         "name": "antal_værelser",
         "dtype": "float64",
         "stats": {
          "unique_count": 7,
          "nan_count": 0,
          "min": "0.9310036776543504",
          "max": "3762.0",
          "histogram": [
           {
            "bin_start": 0.9310036776543504,
            "bin_end": 377.0379033098889,
            "count": 7
           },
           {
            "bin_start": 377.0379033098889,
            "bin_end": 753.1448029421234,
            "count": 0
           },
           {
            "bin_start": 753.1448029421234,
            "bin_end": 1129.251702574358,
            "count": 0
           },
           {
            "bin_start": 1129.251702574358,
            "bin_end": 1505.3586022065926,
            "count": 0
           },
           {
            "bin_start": 1505.3586022065926,
            "bin_end": 1881.4655018388273,
            "count": 0
           },
           {
            "bin_start": 1881.4655018388273,
            "bin_end": 2257.5724014710613,
            "count": 0
           },
           {
            "bin_start": 2257.5724014710613,
            "bin_end": 2633.679301103296,
            "count": 0
           },
           {
            "bin_start": 2633.679301103296,
            "bin_end": 3009.7862007355307,
            "count": 0
           },
           {
            "bin_start": 3009.7862007355307,
            "bin_end": 3385.8931003677653,
            "count": 0
           },
           {
            "bin_start": 3385.8931003677653,
            "bin_end": 3762,
            "count": 1
           }
          ]
         }
        },
        {
         "name": "_deepnote_index_column",
         "dtype": "object"
        }
       ],
       "rows": [
        {
         "offentlig_ejendomsværdi": 3762,
         "offentlige_grundværdi": 3762,
         "seneste_handelspris": 3762,
         "enhedsareal_beboelse": 3762,
         "pris_pr_m2": 3762,
         "etage": 3762,
         "antal_værelser": 3762,
         "_deepnote_index_column": "count"
        },
        {
         "offentlig_ejendomsværdi": 1578928.7347155767,
         "offentlige_grundværdi": 242874.80063795854,
         "seneste_handelspris": 3390777.4191919193,
         "enhedsareal_beboelse": 79.84316852737905,
         "pris_pr_m2": 41816.437267410955,
         "etage": 3.5704412546517807,
         "antal_værelser": 2.671451355661882,
         "_deepnote_index_column": "mean"
        },
        {
         "offentlig_ejendomsværdi": 797736.2122066589,
         "offentlige_grundværdi": 168536.7173092797,
         "seneste_handelspris": 1606765.0364434589,
         "enhedsareal_beboelse": 28.444432501691796,
         "pris_pr_m2": 8242.580183265301,
         "etage": 2.1304089124884773,
         "antal_værelser": 0.9310036776543504,
         "_deepnote_index_column": "std"
        },
        {
         "offentlig_ejendomsværdi": 280000,
         "offentlige_grundværdi": 37200,
         "seneste_handelspris": 920000,
         "enhedsareal_beboelse": 25,
         "pris_pr_m2": 16120,
         "etage": 1,
         "antal_værelser": 1,
         "_deepnote_index_column": "min"
        },
        {
         "offentlig_ejendomsværdi": 960000,
         "offentlige_grundværdi": 104700,
         "seneste_handelspris": 2225000,
         "enhedsareal_beboelse": 57,
         "pris_pr_m2": 36170,
         "etage": 2,
         "antal_værelser": 2,
         "_deepnote_index_column": "25%"
        },
        {
         "offentlig_ejendomsværdi": 1300000,
         "offentlige_grundværdi": 168300,
         "seneste_handelspris": 3020000,
         "enhedsareal_beboelse": 74,
         "pris_pr_m2": 40767,
         "etage": 3,
         "antal_værelser": 3,
         "_deepnote_index_column": "50%"
        },
        {
         "offentlig_ejendomsværdi": 2050000,
         "offentlige_grundværdi": 374000,
         "seneste_handelspris": 4143750,
         "enhedsareal_beboelse": 100,
         "pris_pr_m2": 46153,
         "etage": 5,
         "antal_værelser": 3,
         "_deepnote_index_column": "75%"
        },
        {
         "offentlig_ejendomsværdi": 6850000,
         "offentlige_grundværdi": 1141300,
         "seneste_handelspris": 15500000,
         "enhedsareal_beboelse": 224,
         "pris_pr_m2": 90637,
         "etage": 16,
         "antal_værelser": 7,
         "_deepnote_index_column": "max"
        }
       ]
      },
      "text/plain": "       offentlig_ejendomsværdi  offentlige_grundværdi  seneste_handelspris  \\\ncount             3.762000e+03           3.762000e+03         3.762000e+03   \nmean              1.578929e+06           2.428748e+05         3.390777e+06   \nstd               7.977362e+05           1.685367e+05         1.606765e+06   \nmin               2.800000e+05           3.720000e+04         9.200000e+05   \n25%               9.600000e+05           1.047000e+05         2.225000e+06   \n50%               1.300000e+06           1.683000e+05         3.020000e+06   \n75%               2.050000e+06           3.740000e+05         4.143750e+06   \nmax               6.850000e+06           1.141300e+06         1.550000e+07   \n\n       enhedsareal_beboelse    pris_pr_m2        etage  antal_værelser  \ncount           3762.000000   3762.000000  3762.000000     3762.000000  \nmean              79.843169  41816.437267     3.570441        2.671451  \nstd               28.444433   8242.580183     2.130409        0.931004  \nmin               25.000000  16120.000000     1.000000        1.000000  \n25%               57.000000  36170.000000     2.000000        2.000000  \n50%               74.000000  40767.000000     3.000000        3.000000  \n75%              100.000000  46153.000000     5.000000        3.000000  \nmax              224.000000  90637.000000    16.000000        7.000000  ",
      "text/html": "<div>\n<style scoped>\n    .dataframe tbody tr th:only-of-type {\n        vertical-align: middle;\n    }\n\n    .dataframe tbody tr th {\n        vertical-align: top;\n    }\n\n    .dataframe thead th {\n        text-align: right;\n    }\n</style>\n<table border=\"1\" class=\"dataframe\">\n  <thead>\n    <tr style=\"text-align: right;\">\n      <th></th>\n      <th>offentlig_ejendomsværdi</th>\n      <th>offentlige_grundværdi</th>\n      <th>seneste_handelspris</th>\n      <th>enhedsareal_beboelse</th>\n      <th>pris_pr_m2</th>\n      <th>etage</th>\n      <th>antal_værelser</th>\n    </tr>\n  </thead>\n  <tbody>\n    <tr>\n      <th>count</th>\n      <td>3.762000e+03</td>\n      <td>3.762000e+03</td>\n      <td>3.762000e+03</td>\n      <td>3762.000000</td>\n      <td>3762.000000</td>\n      <td>3762.000000</td>\n      <td>3762.000000</td>\n    </tr>\n    <tr>\n      <th>mean</th>\n      <td>1.578929e+06</td>\n      <td>2.428748e+05</td>\n      <td>3.390777e+06</td>\n      <td>79.843169</td>\n      <td>41816.437267</td>\n      <td>3.570441</td>\n      <td>2.671451</td>\n    </tr>\n    <tr>\n      <th>std</th>\n      <td>7.977362e+05</td>\n      <td>1.685367e+05</td>\n      <td>1.606765e+06</td>\n      <td>28.444433</td>\n      <td>8242.580183</td>\n      <td>2.130409</td>\n      <td>0.931004</td>\n    </tr>\n    <tr>\n      <th>min</th>\n      <td>2.800000e+05</td>\n      <td>3.720000e+04</td>\n      <td>9.200000e+05</td>\n      <td>25.000000</td>\n      <td>16120.000000</td>\n      <td>1.000000</td>\n      <td>1.000000</td>\n    </tr>\n    <tr>\n      <th>25%</th>\n      <td>9.600000e+05</td>\n      <td>1.047000e+05</td>\n      <td>2.225000e+06</td>\n      <td>57.000000</td>\n      <td>36170.000000</td>\n      <td>2.000000</td>\n      <td>2.000000</td>\n    </tr>\n    <tr>\n      <th>50%</th>\n      <td>1.300000e+06</td>\n      <td>1.683000e+05</td>\n      <td>3.020000e+06</td>\n      <td>74.000000</td>\n      <td>40767.000000</td>\n      <td>3.000000</td>\n      <td>3.000000</td>\n    </tr>\n    <tr>\n      <th>75%</th>\n      <td>2.050000e+06</td>\n      <td>3.740000e+05</td>\n      <td>4.143750e+06</td>\n      <td>100.000000</td>\n      <td>46153.000000</td>\n      <td>5.000000</td>\n      <td>3.000000</td>\n    </tr>\n    <tr>\n      <th>max</th>\n      <td>6.850000e+06</td>\n      <td>1.141300e+06</td>\n      <td>1.550000e+07</td>\n      <td>224.000000</td>\n      <td>90637.000000</td>\n      <td>16.000000</td>\n      <td>7.000000</td>\n    </tr>\n  </tbody>\n</table>\n</div>"
     },
     "metadata": {}
    }
   ]
  },
  {
   "cell_type": "code",
   "metadata": {
    "tags": [],
    "deepnote_to_be_reexecuted": false,
    "source_hash": "2db54cbf",
    "execution_start": 1652447548692,
    "execution_millis": 38,
    "cell_id": "00023-ba5c016d-a03f-49df-badd-a48e7cf6a495",
    "owner_user_id": "fb559975-4917-403a-887b-d1eaae0ada1d",
    "deepnote_cell_type": "code",
    "deepnote_cell_height": 657
   },
   "source": "# median \n\npd.DataFrame(silver_data_eda[[\n    'offentlig_ejendomsværdi',\n    'offentlige_grundværdi',\n    'seneste_handelspris',\n    'enhedsareal_beboelse',\n    'pris_pr_m2',\n    'etage',\n    'antal_værelser'\n    ]].median())",
   "execution_count": null,
   "outputs": [
    {
     "output_type": "execute_result",
     "execution_count": 25,
     "data": {
      "application/vnd.deepnote.dataframe.v3+json": {
       "column_count": 1,
       "row_count": 7,
       "columns": [
        {
         "name": 0,
         "dtype": "float64",
         "stats": {
          "unique_count": 6,
          "nan_count": 0,
          "min": "3.0",
          "max": "3020000.0",
          "histogram": [
           {
            "bin_start": 3,
            "bin_end": 302002.7,
            "count": 5
           },
           {
            "bin_start": 302002.7,
            "bin_end": 604002.4,
            "count": 0
           },
           {
            "bin_start": 604002.4,
            "bin_end": 906002.1000000001,
            "count": 0
           },
           {
            "bin_start": 906002.1000000001,
            "bin_end": 1208001.8,
            "count": 0
           },
           {
            "bin_start": 1208001.8,
            "bin_end": 1510001.5,
            "count": 1
           },
           {
            "bin_start": 1510001.5,
            "bin_end": 1812001.2000000002,
            "count": 0
           },
           {
            "bin_start": 1812001.2000000002,
            "bin_end": 2114000.9,
            "count": 0
           },
           {
            "bin_start": 2114000.9,
            "bin_end": 2416000.6,
            "count": 0
           },
           {
            "bin_start": 2416000.6,
            "bin_end": 2718000.3000000003,
            "count": 0
           },
           {
            "bin_start": 2718000.3000000003,
            "bin_end": 3020000,
            "count": 1
           }
          ]
         }
        },
        {
         "name": "_deepnote_index_column",
         "dtype": "object"
        }
       ],
       "rows": [
        {
         "0": 1300000,
         "_deepnote_index_column": "offentlig_ejendomsværdi"
        },
        {
         "0": 168300,
         "_deepnote_index_column": "offentlige_grundværdi"
        },
        {
         "0": 3020000,
         "_deepnote_index_column": "seneste_handelspris"
        },
        {
         "0": 74,
         "_deepnote_index_column": "enhedsareal_beboelse"
        },
        {
         "0": 40767,
         "_deepnote_index_column": "pris_pr_m2"
        },
        {
         "0": 3,
         "_deepnote_index_column": "etage"
        },
        {
         "0": 3,
         "_deepnote_index_column": "antal_værelser"
        }
       ]
      },
      "text/plain": "                                 0\noffentlig_ejendomsværdi  1300000.0\noffentlige_grundværdi     168300.0\nseneste_handelspris      3020000.0\nenhedsareal_beboelse          74.0\npris_pr_m2                 40767.0\netage                          3.0\nantal_værelser                 3.0",
      "text/html": "<div>\n<style scoped>\n    .dataframe tbody tr th:only-of-type {\n        vertical-align: middle;\n    }\n\n    .dataframe tbody tr th {\n        vertical-align: top;\n    }\n\n    .dataframe thead th {\n        text-align: right;\n    }\n</style>\n<table border=\"1\" class=\"dataframe\">\n  <thead>\n    <tr style=\"text-align: right;\">\n      <th></th>\n      <th>0</th>\n    </tr>\n  </thead>\n  <tbody>\n    <tr>\n      <th>offentlig_ejendomsværdi</th>\n      <td>1300000.0</td>\n    </tr>\n    <tr>\n      <th>offentlige_grundværdi</th>\n      <td>168300.0</td>\n    </tr>\n    <tr>\n      <th>seneste_handelspris</th>\n      <td>3020000.0</td>\n    </tr>\n    <tr>\n      <th>enhedsareal_beboelse</th>\n      <td>74.0</td>\n    </tr>\n    <tr>\n      <th>pris_pr_m2</th>\n      <td>40767.0</td>\n    </tr>\n    <tr>\n      <th>etage</th>\n      <td>3.0</td>\n    </tr>\n    <tr>\n      <th>antal_værelser</th>\n      <td>3.0</td>\n    </tr>\n  </tbody>\n</table>\n</div>"
     },
     "metadata": {}
    }
   ]
  },
  {
   "cell_type": "markdown",
   "source": "### Count of deals per year",
   "metadata": {
    "tags": [],
    "is_collapsed": false,
    "cell_id": "00024-a0cbbe84-2196-4530-a856-74545c05fabd",
    "deepnote_cell_type": "text-cell-h3"
   }
  },
  {
   "cell_type": "code",
   "metadata": {
    "tags": [],
    "deepnote_to_be_reexecuted": false,
    "source_hash": "4711648d",
    "execution_start": 1652447548693,
    "execution_millis": 37,
    "cell_id": "00025-ac5a4186-4c6d-4d66-a197-07528944e7d5",
    "deepnote_cell_type": "code",
    "deepnote_cell_height": 135
   },
   "source": "data_2019 = silver_data_eda.loc[silver_data_eda['year'] == 2019] \ndata_2020 = silver_data_eda.loc[silver_data_eda['year'] == 2020]\ndata_2021 = silver_data_eda.loc[silver_data_eda['year'] == 2021]\ndata_2022 = silver_data_eda.loc[silver_data_eda['year'] == 2022]",
   "execution_count": null,
   "outputs": []
  },
  {
   "cell_type": "code",
   "metadata": {
    "tags": [],
    "deepnote_to_be_reexecuted": false,
    "source_hash": "399ce04a",
    "execution_start": 1652447548753,
    "execution_millis": 79,
    "cell_id": "00026-94a108c8-ffad-4b25-b38b-b1f18af3ebdc",
    "deepnote_cell_type": "code",
    "deepnote_cell_height": 533
   },
   "source": "data_2019.describe()",
   "execution_count": null,
   "outputs": [
    {
     "output_type": "execute_result",
     "execution_count": 27,
     "data": {
      "application/vnd.deepnote.dataframe.v3+json": {
       "column_count": 15,
       "row_count": 8,
       "columns": [
        {
         "name": "bfe_nummer",
         "dtype": "float64",
         "stats": {
          "unique_count": 8,
          "nan_count": 0,
          "min": "867.0",
          "max": "428396.0",
          "histogram": [
           {
            "bin_start": 867,
            "bin_end": 43619.9,
            "count": 1
           },
           {
            "bin_start": 43619.9,
            "bin_end": 86372.8,
            "count": 1
           },
           {
            "bin_start": 86372.8,
            "bin_end": 129125.70000000001,
            "count": 2
           },
           {
            "bin_start": 129125.70000000001,
            "bin_end": 171878.6,
            "count": 3
           },
           {
            "bin_start": 171878.6,
            "bin_end": 214631.5,
            "count": 0
           },
           {
            "bin_start": 214631.5,
            "bin_end": 257384.40000000002,
            "count": 0
           },
           {
            "bin_start": 257384.40000000002,
            "bin_end": 300137.3,
            "count": 0
           },
           {
            "bin_start": 300137.3,
            "bin_end": 342890.2,
            "count": 0
           },
           {
            "bin_start": 342890.2,
            "bin_end": 385643.10000000003,
            "count": 0
           },
           {
            "bin_start": 385643.10000000003,
            "bin_end": 428396,
            "count": 1
           }
          ]
         }
        },
        {
         "name": "offentlig_ejendomsværdi",
         "dtype": "float64",
         "stats": {
          "unique_count": 8,
          "nan_count": 0,
          "min": "867.0",
          "max": "6850000.0",
          "histogram": [
           {
            "bin_start": 867,
            "bin_end": 685780.3,
            "count": 2
           },
           {
            "bin_start": 685780.3,
            "bin_end": 1370693.6,
            "count": 3
           },
           {
            "bin_start": 1370693.6,
            "bin_end": 2055606.9000000001,
            "count": 1
           },
           {
            "bin_start": 2055606.9000000001,
            "bin_end": 2740520.2,
            "count": 1
           },
           {
            "bin_start": 2740520.2,
            "bin_end": 3425433.5,
            "count": 0
           },
           {
            "bin_start": 3425433.5,
            "bin_end": 4110346.8000000003,
            "count": 0
           },
           {
            "bin_start": 4110346.8000000003,
            "bin_end": 4795260.100000001,
            "count": 0
           },
           {
            "bin_start": 4795260.100000001,
            "bin_end": 5480173.4,
            "count": 0
           },
           {
            "bin_start": 5480173.4,
            "bin_end": 6165086.7,
            "count": 0
           },
           {
            "bin_start": 6165086.7,
            "bin_end": 6850000,
            "count": 1
           }
          ]
         }
        },
        {
         "name": "offentlige_grundværdi",
         "dtype": "float64",
         "stats": {
          "unique_count": 8,
          "nan_count": 0,
          "min": "867.0",
          "max": "1141300.0",
          "histogram": [
           {
            "bin_start": 867,
            "bin_end": 114910.3,
            "count": 3
           },
           {
            "bin_start": 114910.3,
            "bin_end": 228953.6,
            "count": 2
           },
           {
            "bin_start": 228953.6,
            "bin_end": 342996.9,
            "count": 1
           },
           {
            "bin_start": 342996.9,
            "bin_end": 457040.2,
            "count": 1
           },
           {
            "bin_start": 457040.2,
            "bin_end": 571083.5,
            "count": 0
           },
           {
            "bin_start": 571083.5,
            "bin_end": 685126.8,
            "count": 0
           },
           {
            "bin_start": 685126.8,
            "bin_end": 799170.1,
            "count": 0
           },
           {
            "bin_start": 799170.1,
            "bin_end": 913213.4,
            "count": 0
           },
           {
            "bin_start": 913213.4,
            "bin_end": 1027256.7000000001,
            "count": 0
           },
           {
            "bin_start": 1027256.7000000001,
            "bin_end": 1141300,
            "count": 1
           }
          ]
         }
        },
        {
         "name": "seneste_handelspris",
         "dtype": "float64",
         "stats": {
          "unique_count": 8,
          "nan_count": 0,
          "min": "867.0",
          "max": "15500000.0",
          "histogram": [
           {
            "bin_start": 867,
            "bin_end": 1550780.3,
            "count": 2
           },
           {
            "bin_start": 1550780.3,
            "bin_end": 3100693.6,
            "count": 3
           },
           {
            "bin_start": 3100693.6,
            "bin_end": 4650606.9,
            "count": 2
           },
           {
            "bin_start": 4650606.9,
            "bin_end": 6200520.2,
            "count": 0
           },
           {
            "bin_start": 6200520.2,
            "bin_end": 7750433.5,
            "count": 0
           },
           {
            "bin_start": 7750433.5,
            "bin_end": 9300346.8,
            "count": 0
           },
           {
            "bin_start": 9300346.8,
            "bin_end": 10850260.1,
            "count": 0
           },
           {
            "bin_start": 10850260.1,
            "bin_end": 12400173.4,
            "count": 0
           },
           {
            "bin_start": 12400173.4,
            "bin_end": 13950086.700000001,
            "count": 0
           },
           {
            "bin_start": 13950086.700000001,
            "bin_end": 15500000,
            "count": 1
           }
          ]
         }
        },
        {
         "name": "enhedsareal_beboelse",
         "dtype": "float64",
         "stats": {
          "unique_count": 8,
          "nan_count": 0,
          "min": "26.0",
          "max": "867.0",
          "histogram": [
           {
            "bin_start": 26,
            "bin_end": 110.1,
            "count": 6
           },
           {
            "bin_start": 110.1,
            "bin_end": 194.2,
            "count": 0
           },
           {
            "bin_start": 194.2,
            "bin_end": 278.29999999999995,
            "count": 1
           },
           {
            "bin_start": 278.29999999999995,
            "bin_end": 362.4,
            "count": 0
           },
           {
            "bin_start": 362.4,
            "bin_end": 446.5,
            "count": 0
           },
           {
            "bin_start": 446.5,
            "bin_end": 530.5999999999999,
            "count": 0
           },
           {
            "bin_start": 530.5999999999999,
            "bin_end": 614.6999999999999,
            "count": 0
           },
           {
            "bin_start": 614.6999999999999,
            "bin_end": 698.8,
            "count": 0
           },
           {
            "bin_start": 698.8,
            "bin_end": 782.9,
            "count": 0
           },
           {
            "bin_start": 782.9,
            "bin_end": 867,
            "count": 1
           }
          ]
         }
        },
        {
         "name": "pris_pr_m2",
         "dtype": "float64",
         "stats": {
          "unique_count": 8,
          "nan_count": 0,
          "min": "867.0",
          "max": "81081.0",
          "histogram": [
           {
            "bin_start": 867,
            "bin_end": 8888.4,
            "count": 2
           },
           {
            "bin_start": 8888.4,
            "bin_end": 16909.8,
            "count": 0
           },
           {
            "bin_start": 16909.8,
            "bin_end": 24931.199999999997,
            "count": 1
           },
           {
            "bin_start": 24931.199999999997,
            "bin_end": 32952.6,
            "count": 0
           },
           {
            "bin_start": 32952.6,
            "bin_end": 40974,
            "count": 3
           },
           {
            "bin_start": 40974,
            "bin_end": 48995.399999999994,
            "count": 1
           },
           {
            "bin_start": 48995.399999999994,
            "bin_end": 57016.799999999996,
            "count": 0
           },
           {
            "bin_start": 57016.799999999996,
            "bin_end": 65038.2,
            "count": 0
           },
           {
            "bin_start": 65038.2,
            "bin_end": 73059.59999999999,
            "count": 0
           },
           {
            "bin_start": 73059.59999999999,
            "bin_end": 81081,
            "count": 1
           }
          ]
         }
        },
        {
         "name": "opførelsesår",
         "dtype": "float64",
         "stats": {
          "unique_count": 8,
          "nan_count": 0,
          "min": "41.0341197417627",
          "max": "2021.0",
          "histogram": [
           {
            "bin_start": 41.0341197417627,
            "bin_end": 239.03070776758645,
            "count": 1
           },
           {
            "bin_start": 239.03070776758645,
            "bin_end": 437.0272957934102,
            "count": 0
           },
           {
            "bin_start": 437.0272957934102,
            "bin_end": 635.0238838192339,
            "count": 0
           },
           {
            "bin_start": 635.0238838192339,
            "bin_end": 833.0204718450576,
            "count": 0
           },
           {
            "bin_start": 833.0204718450576,
            "bin_end": 1031.0170598708814,
            "count": 1
           },
           {
            "bin_start": 1031.0170598708814,
            "bin_end": 1229.0136478967052,
            "count": 0
           },
           {
            "bin_start": 1229.0136478967052,
            "bin_end": 1427.0102359225289,
            "count": 0
           },
           {
            "bin_start": 1427.0102359225289,
            "bin_end": 1625.0068239483526,
            "count": 0
           },
           {
            "bin_start": 1625.0068239483526,
            "bin_end": 1823.0034119741763,
            "count": 0
           },
           {
            "bin_start": 1823.0034119741763,
            "bin_end": 2021,
            "count": 6
           }
          ]
         }
        },
        {
         "name": "tinglyst_areal_ejerlejligheder",
         "dtype": "float64",
         "stats": {
          "unique_count": 8,
          "nan_count": 0,
          "min": "23.0",
          "max": "867.0",
          "histogram": [
           {
            "bin_start": 23,
            "bin_end": 107.4,
            "count": 6
           },
           {
            "bin_start": 107.4,
            "bin_end": 191.8,
            "count": 0
           },
           {
            "bin_start": 191.8,
            "bin_end": 276.20000000000005,
            "count": 1
           },
           {
            "bin_start": 276.20000000000005,
            "bin_end": 360.6,
            "count": 0
           },
           {
            "bin_start": 360.6,
            "bin_end": 445,
            "count": 0
           },
           {
            "bin_start": 445,
            "bin_end": 529.4000000000001,
            "count": 0
           },
           {
            "bin_start": 529.4000000000001,
            "bin_end": 613.8000000000001,
            "count": 0
           },
           {
            "bin_start": 613.8000000000001,
            "bin_end": 698.2,
            "count": 0
           },
           {
            "bin_start": 698.2,
            "bin_end": 782.6,
            "count": 0
           },
           {
            "bin_start": 782.6,
            "bin_end": 867,
            "count": 1
           }
          ]
         }
        },
        {
         "name": "longitude",
         "dtype": "float64",
         "stats": {
          "unique_count": 8,
          "nan_count": 0,
          "min": "0.019163566221046254",
          "max": "867.0",
          "histogram": [
           {
            "bin_start": 0.019163566221046254,
            "bin_end": 86.71724720959894,
            "count": 7
           },
           {
            "bin_start": 86.71724720959894,
            "bin_end": 173.4153308529768,
            "count": 0
           },
           {
            "bin_start": 173.4153308529768,
            "bin_end": 260.11341449635466,
            "count": 0
           },
           {
            "bin_start": 260.11341449635466,
            "bin_end": 346.8114981397326,
            "count": 0
           },
           {
            "bin_start": 346.8114981397326,
            "bin_end": 433.5095817831105,
            "count": 0
           },
           {
            "bin_start": 433.5095817831105,
            "bin_end": 520.2076654264883,
            "count": 0
           },
           {
            "bin_start": 520.2076654264883,
            "bin_end": 606.9057490698663,
            "count": 0
           },
           {
            "bin_start": 606.9057490698663,
            "bin_end": 693.6038327132442,
            "count": 0
           },
           {
            "bin_start": 693.6038327132442,
            "bin_end": 780.3019163566221,
            "count": 0
           },
           {
            "bin_start": 780.3019163566221,
            "bin_end": 867,
            "count": 1
           }
          ]
         }
        },
        {
         "name": "latitude",
         "dtype": "float64",
         "stats": {
          "unique_count": 8,
          "nan_count": 0,
          "min": "0.013148021604378168",
          "max": "867.0",
          "histogram": [
           {
            "bin_start": 0.013148021604378168,
            "bin_end": 86.71183321944395,
            "count": 7
           },
           {
            "bin_start": 86.71183321944395,
            "bin_end": 173.4105184172835,
            "count": 0
           },
           {
            "bin_start": 173.4105184172835,
            "bin_end": 260.1092036151231,
            "count": 0
           },
           {
            "bin_start": 260.1092036151231,
            "bin_end": 346.80788881296263,
            "count": 0
           },
           {
            "bin_start": 346.80788881296263,
            "bin_end": 433.5065740108022,
            "count": 0
           },
           {
            "bin_start": 433.5065740108022,
            "bin_end": 520.2052592086418,
            "count": 0
           },
           {
            "bin_start": 520.2052592086418,
            "bin_end": 606.9039444064813,
            "count": 0
           },
           {
            "bin_start": 606.9039444064813,
            "bin_end": 693.6026296043209,
            "count": 0
           },
           {
            "bin_start": 693.6026296043209,
            "bin_end": 780.3013148021605,
            "count": 0
           },
           {
            "bin_start": 780.3013148021605,
            "bin_end": 867,
            "count": 1
           }
          ]
         }
        },
        {
         "name": "etage",
         "dtype": "float64",
         "stats": {
          "unique_count": 8,
          "nan_count": 0,
          "min": "1.0",
          "max": "867.0",
          "histogram": [
           {
            "bin_start": 1,
            "bin_end": 87.6,
            "count": 7
           },
           {
            "bin_start": 87.6,
            "bin_end": 174.2,
            "count": 0
           },
           {
            "bin_start": 174.2,
            "bin_end": 260.79999999999995,
            "count": 0
           },
           {
            "bin_start": 260.79999999999995,
            "bin_end": 347.4,
            "count": 0
           },
           {
            "bin_start": 347.4,
            "bin_end": 434,
            "count": 0
           },
           {
            "bin_start": 434,
            "bin_end": 520.5999999999999,
            "count": 0
           },
           {
            "bin_start": 520.5999999999999,
            "bin_end": 607.1999999999999,
            "count": 0
           },
           {
            "bin_start": 607.1999999999999,
            "bin_end": 693.8,
            "count": 0
           },
           {
            "bin_start": 693.8,
            "bin_end": 780.4,
            "count": 0
           },
           {
            "bin_start": 780.4,
            "bin_end": 867,
            "count": 1
           }
          ]
         }
        },
        {
         "name": "antal_værelser",
         "dtype": "float64",
         "stats": {
          "unique_count": 7,
          "nan_count": 0,
          "min": "0.9288923473354735",
          "max": "867.0",
          "histogram": [
           {
            "bin_start": 0.9288923473354735,
            "bin_end": 87.53600311260193,
            "count": 7
           },
           {
            "bin_start": 87.53600311260193,
            "bin_end": 174.1431138778684,
            "count": 0
           },
           {
            "bin_start": 174.1431138778684,
            "bin_end": 260.75022464313486,
            "count": 0
           },
           {
            "bin_start": 260.75022464313486,
            "bin_end": 347.3573354084013,
            "count": 0
           },
           {
            "bin_start": 347.3573354084013,
            "bin_end": 433.96444617366774,
            "count": 0
           },
           {
            "bin_start": 433.96444617366774,
            "bin_end": 520.5715569389342,
            "count": 0
           },
           {
            "bin_start": 520.5715569389342,
            "bin_end": 607.1786677042006,
            "count": 0
           },
           {
            "bin_start": 607.1786677042006,
            "bin_end": 693.7857784694671,
            "count": 0
           },
           {
            "bin_start": 693.7857784694671,
            "bin_end": 780.3928892347336,
            "count": 0
           },
           {
            "bin_start": 780.3928892347336,
            "bin_end": 867,
            "count": 1
           }
          ]
         }
        },
        {
         "name": "year",
         "dtype": "float64",
         "stats": {
          "unique_count": 3,
          "nan_count": 0,
          "min": "0.0",
          "max": "2019.0",
          "histogram": [
           {
            "bin_start": 0,
            "bin_end": 201.9,
            "count": 1
           },
           {
            "bin_start": 201.9,
            "bin_end": 403.8,
            "count": 0
           },
           {
            "bin_start": 403.8,
            "bin_end": 605.7,
            "count": 0
           },
           {
            "bin_start": 605.7,
            "bin_end": 807.6,
            "count": 0
           },
           {
            "bin_start": 807.6,
            "bin_end": 1009.5,
            "count": 1
           },
           {
            "bin_start": 1009.5,
            "bin_end": 1211.4,
            "count": 0
           },
           {
            "bin_start": 1211.4,
            "bin_end": 1413.3,
            "count": 0
           },
           {
            "bin_start": 1413.3,
            "bin_end": 1615.2,
            "count": 0
           },
           {
            "bin_start": 1615.2,
            "bin_end": 1817.1000000000001,
            "count": 0
           },
           {
            "bin_start": 1817.1000000000001,
            "bin_end": 2019,
            "count": 6
           }
          ]
         }
        },
        {
         "name": "month",
         "dtype": "float64",
         "stats": {
          "unique_count": 8,
          "nan_count": 0,
          "min": "1.0",
          "max": "867.0",
          "histogram": [
           {
            "bin_start": 1,
            "bin_end": 87.6,
            "count": 7
           },
           {
            "bin_start": 87.6,
            "bin_end": 174.2,
            "count": 0
           },
           {
            "bin_start": 174.2,
            "bin_end": 260.79999999999995,
            "count": 0
           },
           {
            "bin_start": 260.79999999999995,
            "bin_end": 347.4,
            "count": 0
           },
           {
            "bin_start": 347.4,
            "bin_end": 434,
            "count": 0
           },
           {
            "bin_start": 434,
            "bin_end": 520.5999999999999,
            "count": 0
           },
           {
            "bin_start": 520.5999999999999,
            "bin_end": 607.1999999999999,
            "count": 0
           },
           {
            "bin_start": 607.1999999999999,
            "bin_end": 693.8,
            "count": 0
           },
           {
            "bin_start": 693.8,
            "bin_end": 780.4,
            "count": 0
           },
           {
            "bin_start": 780.4,
            "bin_end": 867,
            "count": 1
           }
          ]
         }
        },
        {
         "name": "day",
         "dtype": "float64",
         "stats": {
          "unique_count": 6,
          "nan_count": 0,
          "min": "1.0",
          "max": "867.0",
          "histogram": [
           {
            "bin_start": 1,
            "bin_end": 87.6,
            "count": 7
           },
           {
            "bin_start": 87.6,
            "bin_end": 174.2,
            "count": 0
           },
           {
            "bin_start": 174.2,
            "bin_end": 260.79999999999995,
            "count": 0
           },
           {
            "bin_start": 260.79999999999995,
            "bin_end": 347.4,
            "count": 0
           },
           {
            "bin_start": 347.4,
            "bin_end": 434,
            "count": 0
           },
           {
            "bin_start": 434,
            "bin_end": 520.5999999999999,
            "count": 0
           },
           {
            "bin_start": 520.5999999999999,
            "bin_end": 607.1999999999999,
            "count": 0
           },
           {
            "bin_start": 607.1999999999999,
            "bin_end": 693.8,
            "count": 0
           },
           {
            "bin_start": 693.8,
            "bin_end": 780.4,
            "count": 0
           },
           {
            "bin_start": 780.4,
            "bin_end": 867,
            "count": 1
           }
          ]
         }
        },
        {
         "name": "_deepnote_index_column",
         "dtype": "object"
        }
       ],
       "rows": [
        {
         "bfe_nummer": 867,
         "offentlig_ejendomsværdi": 867,
         "offentlige_grundværdi": 867,
         "seneste_handelspris": 867,
         "enhedsareal_beboelse": 867,
         "pris_pr_m2": 867,
         "opførelsesår": 867,
         "tinglyst_areal_ejerlejligheder": 867,
         "longitude": 867,
         "latitude": 867,
         "etage": 867,
         "antal_værelser": 867,
         "year": 867,
         "month": 867,
         "day": 867,
         "_deepnote_index_column": "count"
        },
        {
         "bfe_nummer": 142551.79584775085,
         "offentlig_ejendomsværdi": 1639388.6966551326,
         "offentlige_grundværdi": 244974.74048442906,
         "seneste_handelspris": 3158215.2076124568,
         "enhedsareal_beboelse": 80.59515570934256,
         "pris_pr_m2": 38220.346020761244,
         "opførelsesår": 1959.60092272203,
         "tinglyst_areal_ejerlejligheder": 72.38062283737024,
         "longitude": 12.600061994636679,
         "latitude": 55.65516739717416,
         "etage": 3.5870818915801617,
         "antal_værelser": 2.696655132641292,
         "year": 2019,
         "month": 6.9100346020761245,
         "day": 4.690888119953864,
         "_deepnote_index_column": "mean"
        },
        {
         "bfe_nummer": 71346.65357636639,
         "offentlig_ejendomsværdi": 875971.5002753913,
         "offentlige_grundværdi": 174138.77252909722,
         "seneste_handelspris": 1607799.243935361,
         "enhedsareal_beboelse": 29.24687661526003,
         "pris_pr_m2": 7185.693984702813,
         "opførelsesår": 41.0341197417627,
         "tinglyst_areal_ejerlejligheder": 27.198067331820134,
         "longitude": 0.019163566221046254,
         "latitude": 0.013148021604378168,
         "etage": 2.059220047079222,
         "antal_værelser": 0.9288923473354735,
         "year": 0,
         "month": 3.1817505565147854,
         "day": 6.6881334727186985,
         "_deepnote_index_column": "std"
        },
        {
         "bfe_nummer": 101006,
         "offentlig_ejendomsværdi": 420000,
         "offentlige_grundværdi": 46600,
         "seneste_handelspris": 1000000,
         "enhedsareal_beboelse": 26,
         "pris_pr_m2": 18390,
         "opførelsesår": 1872,
         "tinglyst_areal_ejerlejligheder": 23,
         "longitude": 12.56400799,
         "latitude": 55.61656733,
         "etage": 1,
         "antal_værelser": 1,
         "year": 2019,
         "month": 1,
         "day": 1,
         "_deepnote_index_column": "min"
        },
        {
         "bfe_nummer": 112034.5,
         "offentlig_ejendomsværdi": 960000,
         "offentlige_grundværdi": 105200,
         "seneste_handelspris": 2020000,
         "enhedsareal_beboelse": 58,
         "pris_pr_m2": 33595.5,
         "opførelsesår": 1931,
         "tinglyst_areal_ejerlejligheder": 52,
         "longitude": 12.58094434,
         "latitude": 55.65303161,
         "etage": 2,
         "antal_værelser": 2,
         "year": 2019,
         "month": 4,
         "day": 1,
         "_deepnote_index_column": "25%"
        },
        {
         "bfe_nummer": 131083,
         "offentlig_ejendomsværdi": 1350000,
         "offentlige_grundværdi": 165800,
         "seneste_handelspris": 2745000,
         "enhedsareal_beboelse": 76,
         "pris_pr_m2": 37087,
         "opførelsesår": 1940,
         "tinglyst_areal_ejerlejligheder": 68,
         "longitude": 12.60619336,
         "latitude": 55.6600609,
         "etage": 3,
         "antal_værelser": 3,
         "year": 2019,
         "month": 7,
         "day": 1,
         "_deepnote_index_column": "50%"
        },
        {
         "bfe_nummer": 135920.5,
         "offentlig_ejendomsværdi": 2100000,
         "offentlige_grundværdi": 374600,
         "seneste_handelspris": 3900000,
         "enhedsareal_beboelse": 100,
         "pris_pr_m2": 41322,
         "opførelsesår": 2006,
         "tinglyst_areal_ejerlejligheder": 89.5,
         "longitude": 12.61611051,
         "latitude": 55.66457901,
         "etage": 5,
         "antal_værelser": 3,
         "year": 2019,
         "month": 10,
         "day": 4,
         "_deepnote_index_column": "75%"
        },
        {
         "bfe_nummer": 428396,
         "offentlig_ejendomsværdi": 6850000,
         "offentlige_grundværdi": 1141300,
         "seneste_handelspris": 15500000,
         "enhedsareal_beboelse": 220,
         "pris_pr_m2": 81081,
         "opførelsesår": 2021,
         "tinglyst_areal_ejerlejligheder": 213,
         "longitude": 12.63472843,
         "latitude": 55.66870439,
         "etage": 14,
         "antal_værelser": 6,
         "year": 2019,
         "month": 12,
         "day": 31,
         "_deepnote_index_column": "max"
        }
       ]
      },
      "text/plain": "          bfe_nummer  offentlig_ejendomsværdi  offentlige_grundværdi  \\\ncount     867.000000             8.670000e+02           8.670000e+02   \nmean   142551.795848             1.639389e+06           2.449747e+05   \nstd     71346.653576             8.759715e+05           1.741388e+05   \nmin    101006.000000             4.200000e+05           4.660000e+04   \n25%    112034.500000             9.600000e+05           1.052000e+05   \n50%    131083.000000             1.350000e+06           1.658000e+05   \n75%    135920.500000             2.100000e+06           3.746000e+05   \nmax    428396.000000             6.850000e+06           1.141300e+06   \n\n       seneste_handelspris  enhedsareal_beboelse    pris_pr_m2  opførelsesår  \\\ncount         8.670000e+02            867.000000    867.000000    867.000000   \nmean          3.158215e+06             80.595156  38220.346021   1959.600923   \nstd           1.607799e+06             29.246877   7185.693985     41.034120   \nmin           1.000000e+06             26.000000  18390.000000   1872.000000   \n25%           2.020000e+06             58.000000  33595.500000   1931.000000   \n50%           2.745000e+06             76.000000  37087.000000   1940.000000   \n75%           3.900000e+06            100.000000  41322.000000   2006.000000   \nmax           1.550000e+07            220.000000  81081.000000   2021.000000   \n\n       tinglyst_areal_ejerlejligheder   longitude    latitude       etage  \\\ncount                      867.000000  867.000000  867.000000  867.000000   \nmean                        72.380623   12.600062   55.655167    3.587082   \nstd                         27.198067    0.019164    0.013148    2.059220   \nmin                         23.000000   12.564008   55.616567    1.000000   \n25%                         52.000000   12.580944   55.653032    2.000000   \n50%                         68.000000   12.606193   55.660061    3.000000   \n75%                         89.500000   12.616111   55.664579    5.000000   \nmax                        213.000000   12.634728   55.668704   14.000000   \n\n       antal_værelser    year       month         day  \ncount      867.000000   867.0  867.000000  867.000000  \nmean         2.696655  2019.0    6.910035    4.690888  \nstd          0.928892     0.0    3.181751    6.688133  \nmin          1.000000  2019.0    1.000000    1.000000  \n25%          2.000000  2019.0    4.000000    1.000000  \n50%          3.000000  2019.0    7.000000    1.000000  \n75%          3.000000  2019.0   10.000000    4.000000  \nmax          6.000000  2019.0   12.000000   31.000000  ",
      "text/html": "<div>\n<style scoped>\n    .dataframe tbody tr th:only-of-type {\n        vertical-align: middle;\n    }\n\n    .dataframe tbody tr th {\n        vertical-align: top;\n    }\n\n    .dataframe thead th {\n        text-align: right;\n    }\n</style>\n<table border=\"1\" class=\"dataframe\">\n  <thead>\n    <tr style=\"text-align: right;\">\n      <th></th>\n      <th>bfe_nummer</th>\n      <th>offentlig_ejendomsværdi</th>\n      <th>offentlige_grundværdi</th>\n      <th>seneste_handelspris</th>\n      <th>enhedsareal_beboelse</th>\n      <th>pris_pr_m2</th>\n      <th>opførelsesår</th>\n      <th>tinglyst_areal_ejerlejligheder</th>\n      <th>longitude</th>\n      <th>latitude</th>\n      <th>etage</th>\n      <th>antal_værelser</th>\n      <th>year</th>\n      <th>month</th>\n      <th>day</th>\n    </tr>\n  </thead>\n  <tbody>\n    <tr>\n      <th>count</th>\n      <td>867.000000</td>\n      <td>8.670000e+02</td>\n      <td>8.670000e+02</td>\n      <td>8.670000e+02</td>\n      <td>867.000000</td>\n      <td>867.000000</td>\n      <td>867.000000</td>\n      <td>867.000000</td>\n      <td>867.000000</td>\n      <td>867.000000</td>\n      <td>867.000000</td>\n      <td>867.000000</td>\n      <td>867.0</td>\n      <td>867.000000</td>\n      <td>867.000000</td>\n    </tr>\n    <tr>\n      <th>mean</th>\n      <td>142551.795848</td>\n      <td>1.639389e+06</td>\n      <td>2.449747e+05</td>\n      <td>3.158215e+06</td>\n      <td>80.595156</td>\n      <td>38220.346021</td>\n      <td>1959.600923</td>\n      <td>72.380623</td>\n      <td>12.600062</td>\n      <td>55.655167</td>\n      <td>3.587082</td>\n      <td>2.696655</td>\n      <td>2019.0</td>\n      <td>6.910035</td>\n      <td>4.690888</td>\n    </tr>\n    <tr>\n      <th>std</th>\n      <td>71346.653576</td>\n      <td>8.759715e+05</td>\n      <td>1.741388e+05</td>\n      <td>1.607799e+06</td>\n      <td>29.246877</td>\n      <td>7185.693985</td>\n      <td>41.034120</td>\n      <td>27.198067</td>\n      <td>0.019164</td>\n      <td>0.013148</td>\n      <td>2.059220</td>\n      <td>0.928892</td>\n      <td>0.0</td>\n      <td>3.181751</td>\n      <td>6.688133</td>\n    </tr>\n    <tr>\n      <th>min</th>\n      <td>101006.000000</td>\n      <td>4.200000e+05</td>\n      <td>4.660000e+04</td>\n      <td>1.000000e+06</td>\n      <td>26.000000</td>\n      <td>18390.000000</td>\n      <td>1872.000000</td>\n      <td>23.000000</td>\n      <td>12.564008</td>\n      <td>55.616567</td>\n      <td>1.000000</td>\n      <td>1.000000</td>\n      <td>2019.0</td>\n      <td>1.000000</td>\n      <td>1.000000</td>\n    </tr>\n    <tr>\n      <th>25%</th>\n      <td>112034.500000</td>\n      <td>9.600000e+05</td>\n      <td>1.052000e+05</td>\n      <td>2.020000e+06</td>\n      <td>58.000000</td>\n      <td>33595.500000</td>\n      <td>1931.000000</td>\n      <td>52.000000</td>\n      <td>12.580944</td>\n      <td>55.653032</td>\n      <td>2.000000</td>\n      <td>2.000000</td>\n      <td>2019.0</td>\n      <td>4.000000</td>\n      <td>1.000000</td>\n    </tr>\n    <tr>\n      <th>50%</th>\n      <td>131083.000000</td>\n      <td>1.350000e+06</td>\n      <td>1.658000e+05</td>\n      <td>2.745000e+06</td>\n      <td>76.000000</td>\n      <td>37087.000000</td>\n      <td>1940.000000</td>\n      <td>68.000000</td>\n      <td>12.606193</td>\n      <td>55.660061</td>\n      <td>3.000000</td>\n      <td>3.000000</td>\n      <td>2019.0</td>\n      <td>7.000000</td>\n      <td>1.000000</td>\n    </tr>\n    <tr>\n      <th>75%</th>\n      <td>135920.500000</td>\n      <td>2.100000e+06</td>\n      <td>3.746000e+05</td>\n      <td>3.900000e+06</td>\n      <td>100.000000</td>\n      <td>41322.000000</td>\n      <td>2006.000000</td>\n      <td>89.500000</td>\n      <td>12.616111</td>\n      <td>55.664579</td>\n      <td>5.000000</td>\n      <td>3.000000</td>\n      <td>2019.0</td>\n      <td>10.000000</td>\n      <td>4.000000</td>\n    </tr>\n    <tr>\n      <th>max</th>\n      <td>428396.000000</td>\n      <td>6.850000e+06</td>\n      <td>1.141300e+06</td>\n      <td>1.550000e+07</td>\n      <td>220.000000</td>\n      <td>81081.000000</td>\n      <td>2021.000000</td>\n      <td>213.000000</td>\n      <td>12.634728</td>\n      <td>55.668704</td>\n      <td>14.000000</td>\n      <td>6.000000</td>\n      <td>2019.0</td>\n      <td>12.000000</td>\n      <td>31.000000</td>\n    </tr>\n  </tbody>\n</table>\n</div>"
     },
     "metadata": {}
    }
   ]
  },
  {
   "cell_type": "markdown",
   "source": "## Outlier detection - viz",
   "metadata": {
    "tags": [],
    "is_collapsed": false,
    "cell_id": "00027-215bd76c-26fb-4fe5-9cf3-8f66cd5369f0",
    "deepnote_cell_type": "text-cell-h2"
   }
  },
  {
   "cell_type": "code",
   "metadata": {
    "cell_id": "320228aa2e91411aa9f86f7039ca7451",
    "tags": [],
    "deepnote_to_be_reexecuted": false,
    "source_hash": "fc019f2",
    "execution_start": 1652447548815,
    "execution_millis": 124,
    "deepnote_cell_type": "code",
    "deepnote_cell_height": 411.1875,
    "deepnote_output_heights": [
     21.1875,
     262
    ]
   },
   "source": "silver_data_eda[[\"seneste_handelspris\"]].boxplot()",
   "execution_count": null,
   "outputs": [
    {
     "output_type": "execute_result",
     "execution_count": 28,
     "data": {
      "text/plain": "<AxesSubplot:>"
     },
     "metadata": {}
    },
    {
     "data": {
      "text/plain": "<Figure size 432x288 with 1 Axes>",
      "image/png": "[encoded data removed]"
     },
     "metadata": {
      "needs_background": "light",
      "image/png": {
       "width": 372,
       "height": 260
      }
     },
     "output_type": "display_data"
    }
   ]
  },
  {
   "cell_type": "code",
   "metadata": {
    "tags": [],
    "deepnote_to_be_reexecuted": false,
    "source_hash": "ed0c420e",
    "execution_start": 1652447548936,
    "execution_millis": 95,
    "cell_id": "00028-64a0e788-0dd5-46a1-bc34-4aaecb851115",
    "deepnote_cell_type": "code",
    "deepnote_cell_height": 380,
    "deepnote_output_heights": [
     265
    ]
   },
   "source": "#outlier detection - boxplot \nax = sns.boxplot(x=silver_data_eda[\"seneste_handelspris\"], data=silver_data_eda, saturation=1.75, width=0.8)",
   "execution_count": null,
   "outputs": [
    {
     "data": {
      "text/plain": "<Figure size 432x288 with 1 Axes>",
      "image/png": "[encoded data removed]"
     },
     "metadata": {
      "needs_background": "light",
      "image/png": {
       "width": 355,
       "height": 263
      }
     },
     "output_type": "display_data"
    }
   ]
  },
  {
   "cell_type": "code",
   "metadata": {
    "tags": [],
    "deepnote_to_be_reexecuted": false,
    "source_hash": "eb19e560",
    "execution_start": 1652447549032,
    "execution_millis": 158,
    "cell_id": "00029-1fd4ad0a-c9a9-42a4-adaf-b07b07cc4f3b",
    "deepnote_cell_type": "code",
    "deepnote_cell_height": 372,
    "deepnote_output_heights": [
     275
    ]
   },
   "source": "ax = sns.boxplot(x=\"year\", y=\"seneste_handelspris\", data=silver_data_eda, saturation=1.75, width=0.8)",
   "execution_count": null,
   "outputs": [
    {
     "data": {
      "text/plain": "<Figure size 432x288 with 1 Axes>",
      "image/png": "[encoded data removed]"
     },
     "metadata": {
      "needs_background": "light",
      "image/png": {
       "width": 387,
       "height": 273
      }
     },
     "output_type": "display_data"
    }
   ]
  },
  {
   "cell_type": "code",
   "metadata": {
    "tags": [],
    "deepnote_to_be_reexecuted": false,
    "source_hash": "8fe0c014",
    "execution_start": 1652447549189,
    "execution_millis": 718,
    "cell_id": "00030-580b5be6-1b01-4f7f-9c71-1c09d32dea50",
    "deepnote_cell_type": "code",
    "deepnote_cell_height": 361,
    "deepnote_output_heights": [
     264
    ]
   },
   "source": "ax = sns.boxplot(x=\"year\", y=\"pris_pr_m2\", data=silver_data_eda, saturation=1.75, width=0.8)",
   "execution_count": null,
   "outputs": [
    {
     "data": {
      "text/plain": "<Figure size 432x288 with 1 Axes>",
      "image/png": "[encoded data removed]"
     },
     "metadata": {
      "needs_background": "light",
      "image/png": {
       "width": 402,
       "height": 262
      }
     },
     "output_type": "display_data"
    }
   ]
  },
  {
   "cell_type": "code",
   "metadata": {
    "tags": [],
    "deepnote_to_be_reexecuted": false,
    "source_hash": "7a25b5c6",
    "execution_start": 1652447549336,
    "execution_millis": 571,
    "cell_id": "00031-ab087010-3f78-431d-83cd-350c49948a63",
    "deepnote_cell_type": "code",
    "deepnote_cell_height": 372,
    "deepnote_output_heights": [
     275
    ]
   },
   "source": "ax = sns.boxplot(x=\"year\", y=\"offentlig_ejendomsværdi\", data=silver_data_eda, saturation=1.75, width=0.8)",
   "execution_count": null,
   "outputs": [
    {
     "data": {
      "text/plain": "<Figure size 432x288 with 1 Axes>",
      "image/png": "[encoded data removed]"
     },
     "metadata": {
      "needs_background": "light",
      "image/png": {
       "width": 377,
       "height": 273
      }
     },
     "output_type": "display_data"
    }
   ]
  },
  {
   "cell_type": "code",
   "metadata": {
    "tags": [],
    "deepnote_to_be_reexecuted": false,
    "source_hash": "8c037a64",
    "execution_start": 1652447549520,
    "execution_millis": 3296,
    "cell_id": "00032-4540e297-1eaf-44c4-bb6a-0090ba7e2427",
    "deepnote_cell_type": "code",
    "deepnote_cell_height": 373,
    "deepnote_output_heights": [
     276
    ]
   },
   "source": "ax = sns.boxplot(x=\"enhedsareal_beboelse\", y=\"seneste_handelspris\", data=silver_data_eda, saturation=0.4, width=0.8)",
   "execution_count": null,
   "outputs": [
    {
     "data": {
      "text/plain": "<Figure size 432x288 with 1 Axes>",
      "image/png": "[encoded data removed]"
     },
     "metadata": {
      "needs_background": "light",
      "image/png": {
       "width": 400,
       "height": 274
      }
     },
     "output_type": "display_data"
    }
   ]
  },
  {
   "cell_type": "markdown",
   "source": "### Use z_score to remove outliers",
   "metadata": {
    "cell_id": "908668148429439abf3be6a13889307d",
    "tags": [],
    "is_collapsed": false,
    "deepnote_cell_type": "text-cell-h3"
   }
  },
  {
   "cell_type": "code",
   "metadata": {
    "cell_id": "8eb2d4ccd9dd4b61964d064f24d7b2fe",
    "tags": [],
    "deepnote_to_be_reexecuted": false,
    "source_hash": "c24adc29",
    "execution_start": 1652447552822,
    "execution_millis": 3,
    "deepnote_cell_type": "code",
    "deepnote_cell_height": 687.3125
   },
   "source": "mean = np.mean(silver_data_eda[\"seneste_handelspris\"])\nstd = np.std(silver_data_eda[\"seneste_handelspris\"])\nmedian = np.median(silver_data_eda[\"seneste_handelspris\"])\nprint('mean of the dataset is', mean)\nprint('std. deviation is', std)\nprint('median of the data is', median)\n\n\n\"\"\"\nA normal distribution is shown below and it is estimated that\n68% of the data points lie between +/- 1 standard deviation.\n95% of the data points lie between +/- 2 standard deviation\n99.7% of the data points lie between +/- 3 standard deviation\n\"\"\"\n\nthreshold = 2\noutlier = []\nfor i in silver_data_eda[\"seneste_handelspris\"]:\n\tz = (i-mean)/std\n\tif z > threshold:\n\t\toutlier.append(i)\nprint('outlier in dataset is', outlier)\n\nprint('len', len(outlier))\nprint('max', max(outlier))\nprint('min', min(outlier))",
   "execution_count": null,
   "outputs": [
    {
     "name": "stdout",
     "text": "mean of the dataset is 3390777.4191919193\nstd. deviation is 1606551.4702783043\nmedian of the data is 3020000.0\noutlier in dataset is [6800000, 8600000, 8775000, 7625000, 11500000, 6900000, 8200000, 8850000, 6850000, 7315000, 6950000, 10500000, 10300000, 7510000, 11750000, 8000000, 6695000, 7400000, 8020000, 11500000, 7795000, 7150000, 7995000, 9950000, 10000000, 6795000, 7767000, 6775000, 7200000, 8445000, 7620000, 9050000, 7825000, 6650000, 7500000, 7050000, 11500000, 10000000, 9245000, 8498000, 6775000, 7350000, 7495000, 6875000, 7450000, 7000000, 7500000, 11700000, 9800000, 6650000, 8495000, 7995000, 6750000, 6875000, 7900000, 9150000, 13025000, 7800000, 6645000, 7695000, 6975000, 6795000, 6895000, 11200000, 9800000, 6995000, 11100000, 6800000, 6995000, 7095000, 7800000, 8200000, 8325000, 6815000, 6950000, 9725000, 9550000, 11511000, 6650000, 7545000, 7650000, 8250000, 8375000, 7475000, 9011100, 7450000, 7100000, 6650000, 10350000, 6750000, 6950000, 7995000, 6935000, 9000000, 7000000, 7495000, 11300000, 6650000, 7995000, 8400000, 6750000, 9700000, 7250000, 6650000, 7250000, 9695000, 8700000, 8995000, 7050000, 9525000, 9200000, 8545000, 7275000, 7000000, 7495000, 8300000, 7200000, 6700000, 6900000, 8500000, 7098000, 8039000, 8225000, 8445000, 7900000, 11800000, 7080000, 7850000, 6699000, 7600000, 7200000, 7650000, 7300000, 15500000, 11000000, 6650000, 8699000, 9999000, 8448000, 7425000, 8850000, 8000000, 8795000, 8500000, 8750000, 7800000, 15000000, 7400000, 8499000, 6660000, 7000000, 10499000, 6800000, 7500000, 7500000, 6920000, 7300000, 8850000, 7850000, 8500000, 7850000, 8650000]\nlen 162\nmax 15500000\nmin 6645000\n",
     "output_type": "stream"
    }
   ]
  },
  {
   "cell_type": "code",
   "metadata": {
    "cell_id": "49bffd6f04a143958a77cbe26f97e00c",
    "tags": [],
    "deepnote_to_be_reexecuted": false,
    "source_hash": "c69b6644",
    "execution_start": 1652447552827,
    "execution_millis": 96,
    "deepnote_cell_type": "code",
    "deepnote_cell_height": 447.1875,
    "deepnote_output_heights": [
     21.1875,
     262
    ]
   },
   "source": "silver_without_outlier = silver_data_eda.loc[silver_data_eda['seneste_handelspris'] < min(outlier) ]\n\nsilver_without_outlier[['seneste_handelspris']].boxplot()",
   "execution_count": null,
   "outputs": [
    {
     "output_type": "execute_result",
     "execution_count": 35,
     "data": {
      "text/plain": "<AxesSubplot:>"
     },
     "metadata": {}
    },
    {
     "data": {
      "text/plain": "<Figure size 432x288 with 1 Axes>",
      "image/png": "[encoded data removed]"
     },
     "metadata": {
      "needs_background": "light",
      "image/png": {
       "width": 362,
       "height": 260
      }
     },
     "output_type": "display_data"
    }
   ]
  },
  {
   "cell_type": "code",
   "metadata": {
    "cell_id": "84e62421b0fc424f94d5cfce4e77571d",
    "tags": [],
    "deepnote_to_be_reexecuted": false,
    "source_hash": "7f4b77bb",
    "execution_start": 1652447552924,
    "execution_millis": 135,
    "deepnote_cell_type": "code",
    "deepnote_cell_height": 372,
    "deepnote_output_heights": [
     275
    ]
   },
   "source": "ax = sns.boxplot(x=\"year\", y=\"seneste_handelspris\", data=silver_without_outlier, saturation=1.75, width=0.8)",
   "execution_count": null,
   "outputs": [
    {
     "data": {
      "text/plain": "<Figure size 432x288 with 1 Axes>",
      "image/png": "[encoded data removed]"
     },
     "metadata": {
      "needs_background": "light",
      "image/png": {
       "width": 377,
       "height": 273
      }
     },
     "output_type": "display_data"
    }
   ]
  },
  {
   "cell_type": "markdown",
   "source": "### Sqm price and sold price over time",
   "metadata": {
    "cell_id": "1f954a7712b245c2842fc3c2ca6c3316",
    "tags": [],
    "is_collapsed": false,
    "deepnote_cell_type": "text-cell-h3"
   }
  },
  {
   "cell_type": "code",
   "metadata": {
    "tags": [],
    "deepnote_to_be_reexecuted": false,
    "source_hash": "ea10e4c3",
    "execution_start": 1652447553061,
    "execution_millis": 2423,
    "cell_id": "00033-48ff31ed-0f76-4e3d-9fb8-1b9f27751f97",
    "deepnote_cell_type": "code",
    "deepnote_cell_height": 414.1875,
    "deepnote_output_heights": [
     21.1875,
     265
    ]
   },
   "source": "sns.lineplot(data=silver_data_eda, x=\"seneste_handelsdato\", y=\"pris_pr_m2\")",
   "execution_count": null,
   "outputs": [
    {
     "output_type": "execute_result",
     "execution_count": 37,
     "data": {
      "text/plain": "<AxesSubplot:xlabel='seneste_handelsdato', ylabel='pris_pr_m2'>"
     },
     "metadata": {}
    },
    {
     "data": {
      "text/plain": "<Figure size 432x288 with 1 Axes>",
      "image/png": "[encoded data removed]"
     },
     "metadata": {
      "needs_background": "light",
      "image/png": {
       "width": 417,
       "height": 263
      }
     },
     "output_type": "display_data"
    }
   ]
  },
  {
   "cell_type": "code",
   "metadata": {
    "tags": [],
    "deepnote_to_be_reexecuted": false,
    "source_hash": "14da3b06",
    "execution_start": 1652447555477,
    "execution_millis": 159,
    "cell_id": "00034-41600fc2-3871-45b7-be7a-6f501e87babf",
    "deepnote_cell_type": "code",
    "deepnote_cell_height": 361,
    "deepnote_output_heights": [
     264
    ]
   },
   "source": "ax = sns.violinplot(x=\"year\", y=\"pris_pr_m2\", data=silver_data_eda)",
   "execution_count": null,
   "outputs": [
    {
     "data": {
      "text/plain": "<Figure size 432x288 with 1 Axes>",
      "image/png": "[encoded data removed]"
     },
     "metadata": {
      "needs_background": "light",
      "image/png": {
       "width": 402,
       "height": 262
      }
     },
     "output_type": "display_data"
    }
   ]
  },
  {
   "cell_type": "code",
   "metadata": {
    "tags": [],
    "deepnote_to_be_reexecuted": false,
    "source_hash": "ceb3de36",
    "execution_start": 1652447555637,
    "execution_millis": 176,
    "cell_id": "00035-ee666b60-06a6-498b-b96e-7c2c577ff8f5",
    "deepnote_cell_type": "code",
    "deepnote_cell_height": 372,
    "deepnote_output_heights": [
     275
    ]
   },
   "source": "ax = sns.violinplot(x=\"year\", y=\"seneste_handelspris\", data=silver_data_eda)",
   "execution_count": null,
   "outputs": [
    {
     "data": {
      "text/plain": "<Figure size 432x288 with 1 Axes>",
      "image/png": "[encoded data removed]"
     },
     "metadata": {
      "needs_background": "light",
      "image/png": {
       "width": 393,
       "height": 273
      }
     },
     "output_type": "display_data"
    }
   ]
  },
  {
   "cell_type": "markdown",
   "source": "## Correlation ",
   "metadata": {
    "tags": [],
    "is_collapsed": false,
    "cell_id": "00036-3defd28f-b5b1-4723-81ad-72e733310bbe",
    "deepnote_cell_type": "text-cell-h2"
   }
  },
  {
   "cell_type": "code",
   "metadata": {
    "tags": [],
    "deepnote_to_be_reexecuted": false,
    "source_hash": "d9d49539",
    "execution_start": 1652447555811,
    "execution_millis": 2273,
    "cell_id": "00037-e13982d6-d03b-4efa-8683-024e6b72e4e5",
    "deepnote_cell_type": "code",
    "deepnote_cell_height": 735.8125,
    "deepnote_output_heights": [
     602.8125
    ]
   },
   "source": "plt.figure(figsize=(16, 10))\nheatmap = sns.heatmap(silver_data_eda.corr(), vmin=-1, vmax=1, annot=True)\nheatmap.set_title('Correlation Heatmap', fontdict={'fontsize':12}, pad=1);",
   "execution_count": null,
   "outputs": [
    {
     "data": {
      "text/plain": "<Figure size 1152x720 with 2 Axes>",
      "image/png": "[encoded data removed]"
     },
     "metadata": {
      "needs_background": "light",
      "image/png": {
       "width": 989,
       "height": 722
      }
     },
     "output_type": "display_data"
    }
   ]
  },
  {
   "cell_type": "markdown",
   "source": "## Distribution ",
   "metadata": {
    "tags": [],
    "is_collapsed": false,
    "cell_id": "00040-a55bdf49-63d3-4eef-85ea-cac2129f0d44",
    "deepnote_cell_type": "text-cell-h2"
   }
  },
  {
   "cell_type": "code",
   "metadata": {
    "tags": [],
    "deepnote_to_be_reexecuted": false,
    "source_hash": "948136e1",
    "execution_start": 1652447557506,
    "execution_millis": 597,
    "cell_id": "00041-71cc99d6-fd01-4707-bb19-888175a2ce6e",
    "deepnote_cell_type": "code",
    "deepnote_cell_height": 503.1875,
    "deepnote_output_heights": [
     21.1875,
     354
    ]
   },
   "source": "sns.displot(data=silver_data_eda, x=\"seneste_handelspris\", kde=True)",
   "execution_count": null,
   "outputs": [
    {
     "output_type": "execute_result",
     "execution_count": 41,
     "data": {
      "text/plain": "<seaborn.axisgrid.FacetGrid at 0x7fbea7f77490>"
     },
     "metadata": {}
    },
    {
     "data": {
      "text/plain": "<Figure size 360x360 with 1 Axes>",
      "image/png": "[encoded data removed]"
     },
     "metadata": {
      "needs_background": "light",
      "image/png": {
       "width": 352,
       "height": 352
      }
     },
     "output_type": "display_data"
    }
   ]
  },
  {
   "cell_type": "code",
   "metadata": {
    "tags": [],
    "deepnote_to_be_reexecuted": false,
    "source_hash": "6fcad1ed",
    "execution_start": 1652447557825,
    "execution_millis": 344,
    "cell_id": "00042-1fed75f6-e572-43bc-b262-68ff3b212ac4",
    "deepnote_cell_type": "code",
    "deepnote_cell_height": 503.1875,
    "deepnote_output_heights": [
     21.1875,
     354
    ]
   },
   "source": "sns.displot(data=silver_data_eda, x=\"seneste_handelspris\", hue=\"year\", kind=\"kde\")",
   "execution_count": null,
   "outputs": [
    {
     "output_type": "execute_result",
     "execution_count": 42,
     "data": {
      "text/plain": "<seaborn.axisgrid.FacetGrid at 0x7fbeac17b3d0>"
     },
     "metadata": {}
    },
    {
     "data": {
      "text/plain": "<Figure size 421.375x360 with 1 Axes>",
      "image/png": "[encoded data removed]"
     },
     "metadata": {
      "needs_background": "light",
      "image/png": {
       "width": 419,
       "height": 352
      }
     },
     "output_type": "display_data"
    }
   ]
  },
  {
   "cell_type": "code",
   "metadata": {
    "tags": [],
    "deepnote_to_be_reexecuted": false,
    "source_hash": "25ef0a33",
    "execution_start": 1652447558167,
    "execution_millis": 7,
    "cell_id": "00043-d4a20350-2b47-4275-a133-66c364c90a71",
    "deepnote_cell_type": "code",
    "deepnote_cell_height": 443.1875,
    "deepnote_output_heights": [
     328.1875
    ]
   },
   "source": "#skewness\nsilver_data_eda.skew()",
   "execution_count": null,
   "outputs": [
    {
     "output_type": "execute_result",
     "execution_count": 43,
     "data": {
      "text/plain": "bfe_nummer                        61.169455\noffentlig_ejendomsværdi            1.187929\noffentlige_grundværdi              0.995796\nseneste_handelspris                1.657192\nenhedsareal_beboelse               0.722190\npris_pr_m2                         0.915160\nopførelsesår                       0.108132\ntinglyst_areal_ejerlejligheder     1.039122\nlongitude                         -0.384877\nlatitude                          -1.357140\nhusnr                              2.493493\netage                              1.048678\nantal_værelser                     0.474237\nyear                              -0.047743\nmonth                              0.025492\nday                                1.558003\ndtype: float64"
     },
     "metadata": {}
    }
   ]
  },
  {
   "cell_type": "code",
   "metadata": {
    "tags": [],
    "deepnote_to_be_reexecuted": false,
    "source_hash": "878bfda9",
    "execution_start": 1652447558180,
    "execution_millis": 2699,
    "cell_id": "00045-3793d7d1-a377-48f1-adb1-b15f11a0c53a",
    "deepnote_cell_type": "code",
    "deepnote_cell_height": 1048,
    "deepnote_output_heights": [
     309,
     611
    ]
   },
   "source": "silver_data_eda.hist(figsize=(16, 16))",
   "execution_count": null,
   "outputs": [
    {
     "output_type": "execute_result",
     "execution_count": 44,
     "data": {
      "text/plain": "array([[<AxesSubplot:title={'center':'bfe_nummer'}>,\n        <AxesSubplot:title={'center':'offentlig_ejendomsværdi'}>,\n        <AxesSubplot:title={'center':'offentlige_grundværdi'}>,\n        <AxesSubplot:title={'center':'seneste_handelspris'}>],\n       [<AxesSubplot:title={'center':'enhedsareal_beboelse'}>,\n        <AxesSubplot:title={'center':'pris_pr_m2'}>,\n        <AxesSubplot:title={'center':'seneste_handelsdato'}>,\n        <AxesSubplot:title={'center':'opførelsesår'}>],\n       [<AxesSubplot:title={'center':'tinglyst_areal_ejerlejligheder'}>,\n        <AxesSubplot:title={'center':'longitude'}>,\n        <AxesSubplot:title={'center':'latitude'}>,\n        <AxesSubplot:title={'center':'etage'}>],\n       [<AxesSubplot:title={'center':'antal_værelser'}>,\n        <AxesSubplot:title={'center':'year'}>,\n        <AxesSubplot:title={'center':'month'}>,\n        <AxesSubplot:title={'center':'day'}>]], dtype=object)"
     },
     "metadata": {}
    },
    {
     "data": {
      "text/plain": "<Figure size 1152x1152 with 16 Axes>",
      "image/png": "[encoded data removed]"
     },
     "metadata": {
      "needs_background": "light",
      "image/png": {
       "width": 939,
       "height": 917
      }
     },
     "output_type": "display_data"
    }
   ]
  },
  {
   "cell_type": "markdown",
   "source": "# Save to CSV",
   "metadata": {
    "tags": [],
    "is_collapsed": false,
    "cell_id": "00054-2efab585-8f2d-4860-b485-1cf6f27a37e0",
    "deepnote_cell_type": "text-cell-h1"
   }
  },
  {
   "cell_type": "code",
   "metadata": {
    "tags": [],
    "deepnote_to_be_reexecuted": false,
    "source_hash": "7ee3de2e",
    "execution_start": 1652447560324,
    "execution_millis": 66,
    "cell_id": "00055-f8535271-a0e0-4bb0-aacd-3494cefbd25c",
    "deepnote_cell_type": "code",
    "deepnote_cell_height": 189
   },
   "source": "# pick if the dataset should be saved with or without the outliers \n\n# dataset without outliers\nsilver_without_outlier.to_csv(\"silver_data_eda.csv\", index=False)\n\n# dataset with outliers \n#silver_data_eda.to_csv(\"silver_data_eda.csv\", index=False)",
   "execution_count": null,
   "outputs": []
  },
  {
   "cell_type": "markdown",
   "source": "<a style='text-decoration:none;line-height:16px;display:flex;color:#5B5B62;padding:10px;justify-content:end;' href='https://deepnote.com?utm_source=created-in-deepnote-cell&projectId=8a2d9d23-5445-401b-81ac-9e4d2df66dba' target=\"_blank\">\n<img alt='Created in deepnote.com' style='display:inline;max-height:16px;margin:0px;margin-right:7.5px;' src='data:image/svg+xml;base64,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' > </img>\nCreated in <span style='font-weight:600;margin-left:4px;'>Deepnote</span></a>",
   "metadata": {
    "tags": [],
    "created_in_deepnote_cell": true,
    "deepnote_cell_type": "markdown"
   }
  }
 ],
 "nbformat": 4,
 "nbformat_minor": 2,
 "metadata": {
  "orig_nbformat": 2,
  "deepnote": {
   "is_reactive": false
  },
  "deepnote_notebook_id": "bc76f2ea-1690-4a2f-ad2a-bc1f57af737d",
  "deepnote_execution_queue": [],
  "deepnote_app_layout": "dashboard"
 }
}

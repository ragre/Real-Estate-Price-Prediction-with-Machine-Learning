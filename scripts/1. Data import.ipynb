{
 "cells": [
  {
   "cell_type": "markdown",
   "source": "# Data Import",
   "metadata": {
    "tags": [],
    "is_collapsed": false,
    "cell_id": "299f3b1d-2224-4150-8895-80df4297afd3",
    "deepnote_cell_type": "text-cell-h1"
   }
  },
  {
   "cell_type": "code",
   "metadata": {
    "tags": [],
    "deepnote_to_be_reexecuted": false,
    "source_hash": "8701c68a",
    "execution_start": 1652174040315,
    "execution_millis": 5,
    "cell_id": "00001-cf8aa451-3fd4-4327-92af-70e774f4222a",
    "deepnote_cell_type": "code",
    "deepnote_cell_height": 135
   },
   "source": "# import packages \nimport pandas as pd\nimport numpy as np\n",
   "execution_count": null,
   "outputs": []
  },
  {
   "cell_type": "code",
   "metadata": {
    "tags": [],
    "deepnote_to_be_reexecuted": false,
    "source_hash": "52871119",
    "execution_start": 1652174042565,
    "execution_millis": 188,
    "cell_id": "00002-23cdbe02-1df2-465e-a50c-c522979696c0",
    "deepnote_cell_type": "code",
    "deepnote_cell_height": 171
   },
   "source": "# import dataset \n# transaction data\nraw_data_main = pd.read_csv('cphdata2019_2022.csv')\n\n# data with rooms for each BFE\nraw_data_room = pd.read_csv('cphdata2019_2022 - Enheder.csv')",
   "execution_count": null,
   "outputs": []
  },
  {
   "cell_type": "code",
   "metadata": {
    "cell_id": "a1595fc0e35045f594980e15c4888d93",
    "tags": [],
    "deepnote_to_be_reexecuted": false,
    "source_hash": "b0eeefa9",
    "execution_start": 1652174082055,
    "execution_millis": 55,
    "deepnote_cell_type": "code",
    "deepnote_cell_height": 305
   },
   "source": "# review main dataset\nraw_data_main.head(2)",
   "execution_count": null,
   "outputs": [
    {
     "output_type": "execute_result",
     "execution_count": 7,
     "data": {
      "application/vnd.deepnote.dataframe.v3+json": {
       "column_count": 19,
       "row_count": 2,
       "columns": [
        {
         "name": "BFE-nummer",
         "dtype": "int64",
         "stats": {
          "unique_count": 2,
          "nan_count": 0,
          "min": "109362",
          "max": "420766",
          "histogram": [
           {
            "bin_start": 109362,
            "bin_end": 140502.4,
            "count": 1
           },
           {
            "bin_start": 140502.4,
            "bin_end": 171642.8,
            "count": 0
           },
           {
            "bin_start": 171642.8,
            "bin_end": 202783.2,
            "count": 0
           },
           {
            "bin_start": 202783.2,
            "bin_end": 233923.6,
            "count": 0
           },
           {
            "bin_start": 233923.6,
            "bin_end": 265064,
            "count": 0
           },
           {
            "bin_start": 265064,
            "bin_end": 296204.4,
            "count": 0
           },
           {
            "bin_start": 296204.4,
            "bin_end": 327344.80000000005,
            "count": 0
           },
           {
            "bin_start": 327344.80000000005,
            "bin_end": 358485.2,
            "count": 0
           },
           {
            "bin_start": 358485.2,
            "bin_end": 389625.60000000003,
            "count": 0
           },
           {
            "bin_start": 389625.60000000003,
            "bin_end": 420766,
            "count": 1
           }
          ]
         }
        },
        {
         "name": "Adresse",
         "dtype": "object",
         "stats": {
          "unique_count": 2,
          "nan_count": 0,
          "categories": [
           {
            "name": "Else Alfelts Vej 93, 7. th, 2300 København S",
            "count": 1
           },
           {
            "name": "C.F. Møllers Allé 66, 7. tv, 2300 København S",
            "count": 1
           }
          ]
         }
        },
        {
         "name": "Offentlig ejendomsværdi",
         "dtype": "object",
         "stats": {
          "unique_count": 2,
          "nan_count": 0,
          "categories": [
           {
            "name": " kr. 1.950.000",
            "count": 1
           },
           {
            "name": " kr. 1.850.000",
            "count": 1
           }
          ]
         }
        },
        {
         "name": "Offentlige grundværdi",
         "dtype": "object",
         "stats": {
          "unique_count": 2,
          "nan_count": 0,
          "categories": [
           {
            "name": " kr. 349.600",
            "count": 1
           },
           {
            "name": " kr. 351.700",
            "count": 1
           }
          ]
         }
        },
        {
         "name": "Seneste handelspris",
         "dtype": "object",
         "stats": {
          "unique_count": 2,
          "nan_count": 0,
          "categories": [
           {
            "name": " kr. 3.950.000",
            "count": 1
           },
           {
            "name": " kr. 4.300.000",
            "count": 1
           }
          ]
         }
        },
        {
         "name": "Enhedsareal - Beboelse",
         "dtype": "object",
         "stats": {
          "unique_count": 2,
          "nan_count": 0,
          "categories": [
           {
            "name": "  88   ",
            "count": 1
           },
           {
            "name": "  92   ",
            "count": 1
           }
          ]
         }
        },
        {
         "name": "Pris pr. m2",
         "dtype": "object",
         "stats": {
          "unique_count": 2,
          "nan_count": 0,
          "categories": [
           {
            "name": " kr. 44.886",
            "count": 1
           },
           {
            "name": " kr. 46.739",
            "count": 1
           }
          ]
         }
        },
        {
         "name": "Seneste handelsdato",
         "dtype": "object",
         "stats": {
          "unique_count": 2,
          "nan_count": 0,
          "categories": [
           {
            "name": "01/07/2022",
            "count": 1
           },
           {
            "name": "01/06/2022",
            "count": 1
           }
          ]
         }
        },
        {
         "name": "Seneste handlet andel",
         "dtype": "object",
         "stats": {
          "unique_count": 1,
          "nan_count": 0,
          "categories": [
           {
            "name": "100%",
            "count": 2
           }
          ]
         }
        },
        {
         "name": "Handelsmetode",
         "dtype": "object",
         "stats": {
          "unique_count": 1,
          "nan_count": 0,
          "categories": [
           {
            "name": "Almindelig fri handel",
            "count": 2
           }
          ]
         }
        },
        {
         "name": "Anvendelse",
         "dtype": "object",
         "stats": {
          "unique_count": 1,
          "nan_count": 0,
          "categories": [
           {
            "name": "Etagebolig-bygning, flerfamiliehus eller to-familiehus",
            "count": 2
           }
          ]
         }
        },
        {
         "name": "Opførelsesår",
         "dtype": "object",
         "stats": {
          "unique_count": 2,
          "nan_count": 0,
          "categories": [
           {
            "name": "2014",
            "count": 1
           },
           {
            "name": "2007",
            "count": 1
           }
          ]
         }
        },
        {
         "name": "Tinglyst areal (Ejerlejligheder)",
         "dtype": "object",
         "stats": {
          "unique_count": 2,
          "nan_count": 0,
          "categories": [
           {
            "name": "  75   ",
            "count": 1
           },
           {
            "name": "  76   ",
            "count": 1
           }
          ]
         }
        },
        {
         "name": "Longitude",
         "dtype": "object",
         "stats": {
          "unique_count": 2,
          "nan_count": 0,
          "categories": [
           {
            "name": "12,56841568",
            "count": 1
           },
           {
            "name": "12,57771642",
            "count": 1
           }
          ]
         }
        },
        {
         "name": "Latitude",
         "dtype": "object",
         "stats": {
          "unique_count": 2,
          "nan_count": 0,
          "categories": [
           {
            "name": "55,61690988",
            "count": 1
           },
           {
            "name": "55,63446794",
            "count": 1
           }
          ]
         }
        },
        {
         "name": "Primær ejers adresse",
         "dtype": "object",
         "stats": {
          "unique_count": 2,
          "nan_count": 0,
          "categories": [
           {
            "name": "Else Alfelts Vej 93,7 th, 2300 København S",
            "count": 1
           },
           {
            "name": "C.F. Møllers Allé 66,7 tv, 2300 København S",
            "count": 1
           }
          ]
         }
        },
        {
         "name": "Vejnavn",
         "dtype": "object",
         "stats": {
          "unique_count": 2,
          "nan_count": 0,
          "categories": [
           {
            "name": "Else Alfelts Vej",
            "count": 1
           },
           {
            "name": "C.F. Møllers Allé",
            "count": 1
           }
          ]
         }
        },
        {
         "name": "Husnr.",
         "dtype": "object",
         "stats": {
          "unique_count": 2,
          "nan_count": 0,
          "categories": [
           {
            "name": "93",
            "count": 1
           },
           {
            "name": "66",
            "count": 1
           }
          ]
         }
        },
        {
         "name": "Etage",
         "dtype": "object",
         "stats": {
          "unique_count": 1,
          "nan_count": 0,
          "categories": [
           {
            "name": "7",
            "count": 2
           }
          ]
         }
        },
        {
         "name": "_deepnote_index_column",
         "dtype": "int64"
        }
       ],
       "rows": [
        {
         "BFE-nummer": 420766,
         "Adresse": "Else Alfelts Vej 93, 7. th, 2300 København S",
         "Offentlig ejendomsværdi": " kr. 1.950.000",
         "Offentlige grundværdi": " kr. 349.600",
         "Seneste handelspris": " kr. 3.950.000",
         "Enhedsareal - Beboelse": "  88   ",
         "Pris pr. m2": " kr. 44.886",
         "Seneste handelsdato": "01/07/2022",
         "Seneste handlet andel": "100%",
         "Handelsmetode": "Almindelig fri handel",
         "Anvendelse": "Etagebolig-bygning, flerfamiliehus eller to-familiehus",
         "Opførelsesår": "2014",
         "Tinglyst areal (Ejerlejligheder)": "  75   ",
         "Longitude": "12,56841568",
         "Latitude": "55,61690988",
         "Primær ejers adresse": "Else Alfelts Vej 93,7 th, 2300 København S",
         "Vejnavn": "Else Alfelts Vej",
         "Husnr.": "93",
         "Etage": "7",
         "_deepnote_index_column": 0
        },
        {
         "BFE-nummer": 109362,
         "Adresse": "C.F. Møllers Allé 66, 7. tv, 2300 København S",
         "Offentlig ejendomsværdi": " kr. 1.850.000",
         "Offentlige grundværdi": " kr. 351.700",
         "Seneste handelspris": " kr. 4.300.000",
         "Enhedsareal - Beboelse": "  92   ",
         "Pris pr. m2": " kr. 46.739",
         "Seneste handelsdato": "01/06/2022",
         "Seneste handlet andel": "100%",
         "Handelsmetode": "Almindelig fri handel",
         "Anvendelse": "Etagebolig-bygning, flerfamiliehus eller to-familiehus",
         "Opførelsesår": "2007",
         "Tinglyst areal (Ejerlejligheder)": "  76   ",
         "Longitude": "12,57771642",
         "Latitude": "55,63446794",
         "Primær ejers adresse": "C.F. Møllers Allé 66,7 tv, 2300 København S",
         "Vejnavn": "C.F. Møllers Allé",
         "Husnr.": "66",
         "Etage": "7",
         "_deepnote_index_column": 1
        }
       ]
      },
      "text/plain": "   BFE-nummer                                        Adresse  \\\n0      420766   Else Alfelts Vej 93, 7. th, 2300 København S   \n1      109362  C.F. Møllers Allé 66, 7. tv, 2300 København S   \n\n  Offentlig ejendomsværdi Offentlige grundværdi Seneste handelspris  \\\n0           kr. 1.950.000           kr. 349.600       kr. 3.950.000   \n1           kr. 1.850.000           kr. 351.700       kr. 4.300.000   \n\n  Enhedsareal - Beboelse  Pris pr. m2 Seneste handelsdato  \\\n0                  88      kr. 44.886          01/07/2022   \n1                  92      kr. 46.739          01/06/2022   \n\n  Seneste handlet andel          Handelsmetode  \\\n0                  100%  Almindelig fri handel   \n1                  100%  Almindelig fri handel   \n\n                                          Anvendelse Opførelsesår  \\\n0  Etagebolig-bygning, flerfamiliehus eller to-fa...         2014   \n1  Etagebolig-bygning, flerfamiliehus eller to-fa...         2007   \n\n  Tinglyst areal (Ejerlejligheder)    Longitude     Latitude  \\\n0                            75     12,56841568  55,61690988   \n1                            76     12,57771642  55,63446794   \n\n                          Primær ejers adresse            Vejnavn Husnr. Etage  \n0   Else Alfelts Vej 93,7 th, 2300 København S   Else Alfelts Vej     93     7  \n1  C.F. Møllers Allé 66,7 tv, 2300 København S  C.F. Møllers Allé     66     7  ",
      "text/html": "<div>\n<style scoped>\n    .dataframe tbody tr th:only-of-type {\n        vertical-align: middle;\n    }\n\n    .dataframe tbody tr th {\n        vertical-align: top;\n    }\n\n    .dataframe thead th {\n        text-align: right;\n    }\n</style>\n<table border=\"1\" class=\"dataframe\">\n  <thead>\n    <tr style=\"text-align: right;\">\n      <th></th>\n      <th>BFE-nummer</th>\n      <th>Adresse</th>\n      <th>Offentlig ejendomsværdi</th>\n      <th>Offentlige grundværdi</th>\n      <th>Seneste handelspris</th>\n      <th>Enhedsareal - Beboelse</th>\n      <th>Pris pr. m2</th>\n      <th>Seneste handelsdato</th>\n      <th>Seneste handlet andel</th>\n      <th>Handelsmetode</th>\n      <th>Anvendelse</th>\n      <th>Opførelsesår</th>\n      <th>Tinglyst areal (Ejerlejligheder)</th>\n      <th>Longitude</th>\n      <th>Latitude</th>\n      <th>Primær ejers adresse</th>\n      <th>Vejnavn</th>\n      <th>Husnr.</th>\n      <th>Etage</th>\n    </tr>\n  </thead>\n  <tbody>\n    <tr>\n      <th>0</th>\n      <td>420766</td>\n      <td>Else Alfelts Vej 93, 7. th, 2300 København S</td>\n      <td>kr. 1.950.000</td>\n      <td>kr. 349.600</td>\n      <td>kr. 3.950.000</td>\n      <td>88</td>\n      <td>kr. 44.886</td>\n      <td>01/07/2022</td>\n      <td>100%</td>\n      <td>Almindelig fri handel</td>\n      <td>Etagebolig-bygning, flerfamiliehus eller to-fa...</td>\n      <td>2014</td>\n      <td>75</td>\n      <td>12,56841568</td>\n      <td>55,61690988</td>\n      <td>Else Alfelts Vej 93,7 th, 2300 København S</td>\n      <td>Else Alfelts Vej</td>\n      <td>93</td>\n      <td>7</td>\n    </tr>\n    <tr>\n      <th>1</th>\n      <td>109362</td>\n      <td>C.F. Møllers Allé 66, 7. tv, 2300 København S</td>\n      <td>kr. 1.850.000</td>\n      <td>kr. 351.700</td>\n      <td>kr. 4.300.000</td>\n      <td>92</td>\n      <td>kr. 46.739</td>\n      <td>01/06/2022</td>\n      <td>100%</td>\n      <td>Almindelig fri handel</td>\n      <td>Etagebolig-bygning, flerfamiliehus eller to-fa...</td>\n      <td>2007</td>\n      <td>76</td>\n      <td>12,57771642</td>\n      <td>55,63446794</td>\n      <td>C.F. Møllers Allé 66,7 tv, 2300 København S</td>\n      <td>C.F. Møllers Allé</td>\n      <td>66</td>\n      <td>7</td>\n    </tr>\n  </tbody>\n</table>\n</div>"
     },
     "metadata": {}
    }
   ]
  },
  {
   "cell_type": "code",
   "metadata": {
    "cell_id": "d7910ecfd6dd42e08206cf77d26b770f",
    "tags": [],
    "deepnote_to_be_reexecuted": false,
    "source_hash": "b729086",
    "execution_start": 1652174086862,
    "execution_millis": 29,
    "owner_user_id": "fb559975-4917-403a-887b-d1eaae0ada1d",
    "deepnote_cell_type": "code",
    "deepnote_cell_height": 305
   },
   "source": "# review room dataset\nraw_data_room.head(2)",
   "execution_count": null,
   "outputs": [
    {
     "output_type": "execute_result",
     "execution_count": 8,
     "data": {
      "application/vnd.deepnote.dataframe.v3+json": {
       "column_count": 31,
       "row_count": 2,
       "columns": [
        {
         "name": "BFE-nummer",
         "dtype": "int64",
         "stats": {
          "unique_count": 2,
          "nan_count": 0,
          "min": "132466",
          "max": "139263",
          "histogram": [
           {
            "bin_start": 132466,
            "bin_end": 133145.7,
            "count": 1
           },
           {
            "bin_start": 133145.7,
            "bin_end": 133825.4,
            "count": 0
           },
           {
            "bin_start": 133825.4,
            "bin_end": 134505.1,
            "count": 0
           },
           {
            "bin_start": 134505.1,
            "bin_end": 135184.8,
            "count": 0
           },
           {
            "bin_start": 135184.8,
            "bin_end": 135864.5,
            "count": 0
           },
           {
            "bin_start": 135864.5,
            "bin_end": 136544.2,
            "count": 0
           },
           {
            "bin_start": 136544.2,
            "bin_end": 137223.9,
            "count": 0
           },
           {
            "bin_start": 137223.9,
            "bin_end": 137903.6,
            "count": 0
           },
           {
            "bin_start": 137903.6,
            "bin_end": 138583.3,
            "count": 0
           },
           {
            "bin_start": 138583.3,
            "bin_end": 139263,
            "count": 1
           }
          ]
         }
        },
        {
         "name": "BygningsID",
         "dtype": "object",
         "stats": {
          "unique_count": 2,
          "nan_count": 0,
          "categories": [
           {
            "name": "1878cb5a-0d33-4a87-a2cf-fad4bf17180a",
            "count": 1
           },
           {
            "name": "e076f1f8-d777-437f-bccf-4aa9d564daba",
            "count": 1
           }
          ]
         }
        },
        {
         "name": "EnhedsID",
         "dtype": "object",
         "stats": {
          "unique_count": 2,
          "nan_count": 0,
          "categories": [
           {
            "name": "dd882c96-c169-431f-9793-1aba19174020",
            "count": 1
           },
           {
            "name": "fdb9ceba-f60a-4f16-86b9-5617e5e20a54",
            "count": 1
           }
          ]
         }
        },
        {
         "name": "Status",
         "dtype": "object",
         "stats": {
          "unique_count": 1,
          "nan_count": 0,
          "categories": [
           {
            "name": "Opført",
            "count": 2
           }
          ]
         }
        },
        {
         "name": "Vejnavn",
         "dtype": "object",
         "stats": {
          "unique_count": 2,
          "nan_count": 0,
          "categories": [
           {
            "name": "Hyacintgården",
            "count": 1
           },
           {
            "name": "Jansvej",
            "count": 1
           }
          ]
         }
        },
        {
         "name": "Nr",
         "dtype": "object",
         "stats": {
          "unique_count": 2,
          "nan_count": 0,
          "categories": [
           {
            "name": "13",
            "count": 1
           },
           {
            "name": "3",
            "count": 1
           }
          ]
         }
        },
        {
         "name": "Etage",
         "dtype": "object",
         "stats": {
          "unique_count": 2,
          "nan_count": 0,
          "categories": [
           {
            "name": "1",
            "count": 1
           },
           {
            "name": "st",
            "count": 1
           }
          ]
         }
        },
        {
         "name": "Dør",
         "dtype": "object",
         "stats": {
          "unique_count": 2,
          "nan_count": 0,
          "categories": [
           {
            "name": "1",
            "count": 1
           },
           {
            "name": "3",
            "count": 1
           }
          ]
         }
        },
        {
         "name": "Postnr",
         "dtype": "int64",
         "stats": {
          "unique_count": 1,
          "nan_count": 0,
          "min": "2300",
          "max": "2300",
          "histogram": [
           {
            "bin_start": 2299.5,
            "bin_end": 2299.6,
            "count": 0
           },
           {
            "bin_start": 2299.6,
            "bin_end": 2299.7,
            "count": 0
           },
           {
            "bin_start": 2299.7,
            "bin_end": 2299.8,
            "count": 0
           },
           {
            "bin_start": 2299.8,
            "bin_end": 2299.9,
            "count": 0
           },
           {
            "bin_start": 2299.9,
            "bin_end": 2300,
            "count": 0
           },
           {
            "bin_start": 2300,
            "bin_end": 2300.1,
            "count": 2
           },
           {
            "bin_start": 2300.1,
            "bin_end": 2300.2,
            "count": 0
           },
           {
            "bin_start": 2300.2,
            "bin_end": 2300.3,
            "count": 0
           },
           {
            "bin_start": 2300.3,
            "bin_end": 2300.4,
            "count": 0
           },
           {
            "bin_start": 2300.4,
            "bin_end": 2300.5,
            "count": 0
           }
          ]
         }
        },
        {
         "name": "By",
         "dtype": "object",
         "stats": {
          "unique_count": 1,
          "nan_count": 0,
          "categories": [
           {
            "name": "København S",
            "count": 2
           }
          ]
         }
        },
        {
         "name": "Enhedens anvendelse",
         "dtype": "object",
         "stats": {
          "unique_count": 1,
          "nan_count": 0,
          "categories": [
           {
            "name": "Bolig i etageejendom, flerfamiliehus eller to-familiehus",
            "count": 2
           }
          ]
         }
        },
        {
         "name": "Enhedens samlede areal",
         "dtype": "object",
         "stats": {
          "unique_count": 2,
          "nan_count": 0,
          "categories": [
           {
            "name": "  72   ",
            "count": 1
           },
           {
            "name": "  50   ",
            "count": 1
           }
          ]
         }
        },
        {
         "name": "Areal til beboelse",
         "dtype": "object",
         "stats": {
          "unique_count": 2,
          "nan_count": 0,
          "categories": [
           {
            "name": "  72   ",
            "count": 1
           },
           {
            "name": "  50   ",
            "count": 1
           }
          ]
         }
        },
        {
         "name": "Areal til erhverv",
         "dtype": "object",
         "stats": {
          "unique_count": 1,
          "nan_count": 0,
          "categories": [
           {
            "name": " -",
            "count": 2
           }
          ]
         }
        },
        {
         "name": "Andet areal",
         "dtype": "object",
         "stats": {
          "unique_count": 1,
          "nan_count": 0,
          "categories": [
           {
            "name": " -",
            "count": 2
           }
          ]
         }
        },
        {
         "name": "Enhedens andel af fælles adgangsareal",
         "dtype": "object",
         "stats": {
          "unique_count": 1,
          "nan_count": 0,
          "categories": [
           {
            "name": " -",
            "count": 2
           }
          ]
         }
        },
        {
         "name": "Areal af åben overdækning",
         "dtype": "object",
         "stats": {
          "unique_count": 1,
          "nan_count": 0,
          "categories": [
           {
            "name": " -",
            "count": 2
           }
          ]
         }
        },
        {
         "name": "Areal af overdækket udestue",
         "dtype": "object",
         "stats": {
          "unique_count": 1,
          "nan_count": 0,
          "categories": [
           {
            "name": " -",
            "count": 2
           }
          ]
         }
        },
        {
         "name": "Åben tagterrasse areal",
         "dtype": "object",
         "stats": {
          "unique_count": 1,
          "nan_count": 0,
          "categories": [
           {
            "name": " -",
            "count": 2
           }
          ]
         }
        },
        {
         "name": "Fysisk areal til beboelse",
         "dtype": "object",
         "stats": {
          "unique_count": 1,
          "nan_count": 0,
          "categories": [
           {
            "name": " -",
            "count": 2
           }
          ]
         }
        },
        {
         "name": "Fysisk areal til erhverv",
         "dtype": "object",
         "stats": {
          "unique_count": 1,
          "nan_count": 0,
          "categories": [
           {
            "name": " -",
            "count": 2
           }
          ]
         }
        },
        {
         "name": "Antal værelser",
         "dtype": "object",
         "stats": {
          "unique_count": 2,
          "nan_count": 0,
          "categories": [
           {
            "name": "3",
            "count": 1
           },
           {
            "name": "2",
            "count": 1
           }
          ]
         }
        },
        {
         "name": "Kilde til enhedens arealer",
         "dtype": "object",
         "stats": {
          "unique_count": 1,
          "nan_count": 0,
          "categories": [
           {
            "name": "Oplyst af teknisk forvaltning",
            "count": 2
           }
          ]
         }
        },
        {
         "name": "Toiletforhold",
         "dtype": "object",
         "stats": {
          "unique_count": 1,
          "nan_count": 0,
          "categories": [
           {
            "name": "Vandskyllende toilet i enheden",
            "count": 2
           }
          ]
         }
        },
        {
         "name": "Badeforhold",
         "dtype": "object",
         "stats": {
          "unique_count": 1,
          "nan_count": 0,
          "categories": [
           {
            "name": "Badeværelser i enheden",
            "count": 2
           }
          ]
         }
        },
        {
         "name": "Køkkenforhold",
         "dtype": "object",
         "stats": {
          "unique_count": 1,
          "nan_count": 0,
          "categories": [
           {
            "name": "Eget køkken med afløb",
            "count": 2
           }
          ]
         }
        },
        {
         "name": "Godkendt tom bolig",
         "dtype": "object",
         "stats": {
          "unique_count": 1,
          "nan_count": 0,
          "categories": [
           {
            "name": "Krav om persontilmelding",
            "count": 2
           }
          ]
         }
        },
        {
         "name": "Longitude",
         "dtype": "object",
         "stats": {
          "unique_count": 2,
          "nan_count": 0,
          "categories": [
           {
            "name": "12,61206358",
            "count": 1
           },
           {
            "name": "12,61712492",
            "count": 1
           }
          ]
         }
        },
        {
         "name": "Latitude",
         "dtype": "object",
         "stats": {
          "unique_count": 2,
          "nan_count": 0,
          "categories": [
           {
            "name": "55,6489426",
            "count": 1
           },
           {
            "name": "55,64681645",
            "count": 1
           }
          ]
         }
        },
        {
         "name": "Kommunekode",
         "dtype": "int64",
         "stats": {
          "unique_count": 1,
          "nan_count": 0,
          "min": "101",
          "max": "101",
          "histogram": [
           {
            "bin_start": 100.5,
            "bin_end": 100.6,
            "count": 0
           },
           {
            "bin_start": 100.6,
            "bin_end": 100.7,
            "count": 0
           },
           {
            "bin_start": 100.7,
            "bin_end": 100.8,
            "count": 0
           },
           {
            "bin_start": 100.8,
            "bin_end": 100.9,
            "count": 0
           },
           {
            "bin_start": 100.9,
            "bin_end": 101,
            "count": 0
           },
           {
            "bin_start": 101,
            "bin_end": 101.1,
            "count": 2
           },
           {
            "bin_start": 101.1,
            "bin_end": 101.2,
            "count": 0
           },
           {
            "bin_start": 101.2,
            "bin_end": 101.3,
            "count": 0
           },
           {
            "bin_start": 101.3,
            "bin_end": 101.4,
            "count": 0
           },
           {
            "bin_start": 101.4,
            "bin_end": 101.5,
            "count": 0
           }
          ]
         }
        },
        {
         "name": "Ejendomsnummer",
         "dtype": "int64",
         "stats": {
          "unique_count": 2,
          "nan_count": 0,
          "min": "272176",
          "max": "968235",
          "histogram": [
           {
            "bin_start": 272176,
            "bin_end": 341781.9,
            "count": 1
           },
           {
            "bin_start": 341781.9,
            "bin_end": 411387.8,
            "count": 0
           },
           {
            "bin_start": 411387.8,
            "bin_end": 480993.69999999995,
            "count": 0
           },
           {
            "bin_start": 480993.69999999995,
            "bin_end": 550599.6,
            "count": 0
           },
           {
            "bin_start": 550599.6,
            "bin_end": 620205.5,
            "count": 0
           },
           {
            "bin_start": 620205.5,
            "bin_end": 689811.3999999999,
            "count": 0
           },
           {
            "bin_start": 689811.3999999999,
            "bin_end": 759417.2999999999,
            "count": 0
           },
           {
            "bin_start": 759417.2999999999,
            "bin_end": 829023.2,
            "count": 0
           },
           {
            "bin_start": 829023.2,
            "bin_end": 898629.1,
            "count": 0
           },
           {
            "bin_start": 898629.1,
            "bin_end": 968235,
            "count": 1
           }
          ]
         }
        },
        {
         "name": "_deepnote_index_column",
         "dtype": "int64"
        }
       ],
       "rows": [
        {
         "BFE-nummer": 139263,
         "BygningsID": "1878cb5a-0d33-4a87-a2cf-fad4bf17180a",
         "EnhedsID": "dd882c96-c169-431f-9793-1aba19174020",
         "Status": "Opført",
         "Vejnavn": "Hyacintgården",
         "Nr": "13",
         "Etage": "1",
         "Dør": "1",
         "Postnr": 2300,
         "By": "København S",
         "Enhedens anvendelse": "Bolig i etageejendom, flerfamiliehus eller to-familiehus",
         "Enhedens samlede areal": "  72   ",
         "Areal til beboelse": "  72   ",
         "Areal til erhverv": " -",
         "Andet areal": " -",
         "Enhedens andel af fælles adgangsareal": " -",
         "Areal af åben overdækning": " -",
         "Areal af overdækket udestue": " -",
         "Åben tagterrasse areal": " -",
         "Fysisk areal til beboelse": " -",
         "Fysisk areal til erhverv": " -",
         "Antal værelser": "3",
         "Kilde til enhedens arealer": "Oplyst af teknisk forvaltning",
         "Toiletforhold": "Vandskyllende toilet i enheden",
         "Badeforhold": "Badeværelser i enheden",
         "Køkkenforhold": "Eget køkken med afløb",
         "Godkendt tom bolig": "Krav om persontilmelding",
         "Longitude": "12,61206358",
         "Latitude": "55,6489426",
         "Kommunekode": 101,
         "Ejendomsnummer": 968235,
         "_deepnote_index_column": 0
        },
        {
         "BFE-nummer": 132466,
         "BygningsID": "e076f1f8-d777-437f-bccf-4aa9d564daba",
         "EnhedsID": "fdb9ceba-f60a-4f16-86b9-5617e5e20a54",
         "Status": "Opført",
         "Vejnavn": "Jansvej",
         "Nr": "3",
         "Etage": "st",
         "Dør": "3",
         "Postnr": 2300,
         "By": "København S",
         "Enhedens anvendelse": "Bolig i etageejendom, flerfamiliehus eller to-familiehus",
         "Enhedens samlede areal": "  50   ",
         "Areal til beboelse": "  50   ",
         "Areal til erhverv": " -",
         "Andet areal": " -",
         "Enhedens andel af fælles adgangsareal": " -",
         "Areal af åben overdækning": " -",
         "Areal af overdækket udestue": " -",
         "Åben tagterrasse areal": " -",
         "Fysisk areal til beboelse": " -",
         "Fysisk areal til erhverv": " -",
         "Antal værelser": "2",
         "Kilde til enhedens arealer": "Oplyst af teknisk forvaltning",
         "Toiletforhold": "Vandskyllende toilet i enheden",
         "Badeforhold": "Badeværelser i enheden",
         "Køkkenforhold": "Eget køkken med afløb",
         "Godkendt tom bolig": "Krav om persontilmelding",
         "Longitude": "12,61712492",
         "Latitude": "55,64681645",
         "Kommunekode": 101,
         "Ejendomsnummer": 272176,
         "_deepnote_index_column": 1
        }
       ]
      },
      "text/plain": "   BFE-nummer                            BygningsID  \\\n0      139263  1878cb5a-0d33-4a87-a2cf-fad4bf17180a   \n1      132466  e076f1f8-d777-437f-bccf-4aa9d564daba   \n\n                               EnhedsID  Status        Vejnavn  Nr Etage Dør  \\\n0  dd882c96-c169-431f-9793-1aba19174020  Opført  Hyacintgården  13     1   1   \n1  fdb9ceba-f60a-4f16-86b9-5617e5e20a54  Opført        Jansvej   3    st   3   \n\n   Postnr           By  ... Antal værelser     Kilde til enhedens arealer  \\\n0    2300  København S  ...              3  Oplyst af teknisk forvaltning   \n1    2300  København S  ...              2  Oplyst af teknisk forvaltning   \n\n                    Toiletforhold             Badeforhold  \\\n0  Vandskyllende toilet i enheden  Badeværelser i enheden   \n1  Vandskyllende toilet i enheden  Badeværelser i enheden   \n\n           Køkkenforhold        Godkendt tom bolig    Longitude     Latitude  \\\n0  Eget køkken med afløb  Krav om persontilmelding  12,61206358   55,6489426   \n1  Eget køkken med afløb  Krav om persontilmelding  12,61712492  55,64681645   \n\n  Kommunekode Ejendomsnummer  \n0         101         968235  \n1         101         272176  \n\n[2 rows x 31 columns]",
      "text/html": "<div>\n<style scoped>\n    .dataframe tbody tr th:only-of-type {\n        vertical-align: middle;\n    }\n\n    .dataframe tbody tr th {\n        vertical-align: top;\n    }\n\n    .dataframe thead th {\n        text-align: right;\n    }\n</style>\n<table border=\"1\" class=\"dataframe\">\n  <thead>\n    <tr style=\"text-align: right;\">\n      <th></th>\n      <th>BFE-nummer</th>\n      <th>BygningsID</th>\n      <th>EnhedsID</th>\n      <th>Status</th>\n      <th>Vejnavn</th>\n      <th>Nr</th>\n      <th>Etage</th>\n      <th>Dør</th>\n      <th>Postnr</th>\n      <th>By</th>\n      <th>...</th>\n      <th>Antal værelser</th>\n      <th>Kilde til enhedens arealer</th>\n      <th>Toiletforhold</th>\n      <th>Badeforhold</th>\n      <th>Køkkenforhold</th>\n      <th>Godkendt tom bolig</th>\n      <th>Longitude</th>\n      <th>Latitude</th>\n      <th>Kommunekode</th>\n      <th>Ejendomsnummer</th>\n    </tr>\n  </thead>\n  <tbody>\n    <tr>\n      <th>0</th>\n      <td>139263</td>\n      <td>1878cb5a-0d33-4a87-a2cf-fad4bf17180a</td>\n      <td>dd882c96-c169-431f-9793-1aba19174020</td>\n      <td>Opført</td>\n      <td>Hyacintgården</td>\n      <td>13</td>\n      <td>1</td>\n      <td>1</td>\n      <td>2300</td>\n      <td>København S</td>\n      <td>...</td>\n      <td>3</td>\n      <td>Oplyst af teknisk forvaltning</td>\n      <td>Vandskyllende toilet i enheden</td>\n      <td>Badeværelser i enheden</td>\n      <td>Eget køkken med afløb</td>\n      <td>Krav om persontilmelding</td>\n      <td>12,61206358</td>\n      <td>55,6489426</td>\n      <td>101</td>\n      <td>968235</td>\n    </tr>\n    <tr>\n      <th>1</th>\n      <td>132466</td>\n      <td>e076f1f8-d777-437f-bccf-4aa9d564daba</td>\n      <td>fdb9ceba-f60a-4f16-86b9-5617e5e20a54</td>\n      <td>Opført</td>\n      <td>Jansvej</td>\n      <td>3</td>\n      <td>st</td>\n      <td>3</td>\n      <td>2300</td>\n      <td>København S</td>\n      <td>...</td>\n      <td>2</td>\n      <td>Oplyst af teknisk forvaltning</td>\n      <td>Vandskyllende toilet i enheden</td>\n      <td>Badeværelser i enheden</td>\n      <td>Eget køkken med afløb</td>\n      <td>Krav om persontilmelding</td>\n      <td>12,61712492</td>\n      <td>55,64681645</td>\n      <td>101</td>\n      <td>272176</td>\n    </tr>\n  </tbody>\n</table>\n<p>2 rows × 31 columns</p>\n</div>"
     },
     "metadata": {}
    }
   ]
  },
  {
   "cell_type": "code",
   "metadata": {
    "tags": [],
    "deepnote_to_be_reexecuted": false,
    "source_hash": "9875094c",
    "execution_start": 1650525145283,
    "execution_millis": 0,
    "cell_id": "00003-86c01f1a-f2bd-4ace-b613-85359e344b82",
    "deepnote_cell_type": "code",
    "deepnote_cell_height": 99
   },
   "source": "# extract room data from dataset\nraw_data_room = raw_data_room[[\"BFE-nummer\",\"Antal værelser\"]]",
   "execution_count": null,
   "outputs": []
  },
  {
   "cell_type": "markdown",
   "source": "## Bronze - Raw data ",
   "metadata": {
    "tags": [],
    "is_collapsed": false,
    "cell_id": "00004-7aa4bb97-4ca5-4de1-97e5-314b5e1b66f4",
    "deepnote_cell_type": "text-cell-h2"
   }
  },
  {
   "cell_type": "code",
   "metadata": {
    "tags": [],
    "deepnote_to_be_reexecuted": false,
    "source_hash": "147f8535",
    "execution_start": 1650525145284,
    "execution_millis": 14,
    "cell_id": "00005-ff816d08-d99f-43ed-8418-d8dd912d6960",
    "deepnote_cell_type": "code",
    "deepnote_cell_height": 99
   },
   "source": "# merge datasets\nbronze_data = pd.merge(raw_data_main, raw_data_room, on=[\"BFE-nummer\"])",
   "execution_count": null,
   "outputs": []
  },
  {
   "cell_type": "code",
   "metadata": {
    "tags": [],
    "deepnote_to_be_reexecuted": false,
    "source_hash": "2734dca6",
    "execution_start": 1650525145299,
    "execution_millis": 3,
    "cell_id": "00006-d97b9585-c147-412c-8b8f-a0857d546988",
    "deepnote_cell_type": "code",
    "deepnote_cell_height": 192.9375
   },
   "source": "print(f\"The len() of \\n raw_data_main: {len(raw_data_main)} \\n raw_data_room: {len(raw_data_room)} \\n bronze_data: {len(bronze_data)} \\n diff: {len(bronze_data) - len(raw_data_main)}\") ",
   "execution_count": null,
   "outputs": [
    {
     "name": "stdout",
     "text": "The len() of \n raw_data_main: 4235 \n raw_data_room: 4499 \n bronze_data: 4370 \n diff: 135\n",
     "output_type": "stream"
    }
   ]
  },
  {
   "cell_type": "code",
   "metadata": {
    "tags": [],
    "deepnote_to_be_reexecuted": false,
    "source_hash": "de91098c",
    "execution_start": 1650525145301,
    "execution_millis": 117,
    "cell_id": "00007-987295a0-5b28-4388-af56-aca8d18d8099",
    "deepnote_table_state": {
     "pageSize": 10,
     "pageIndex": 0,
     "filters": [],
     "sortBy": [
      {
       "id": "Seneste handelsdato",
       "type": "asc"
      }
     ]
    },
    "deepnote_table_loading": false,
    "deepnote_cell_type": "code",
    "deepnote_cell_height": 647
   },
   "source": "bronze_data",
   "execution_count": null,
   "outputs": [
    {
     "output_type": "execute_result",
     "execution_count": 6,
     "data": {
      "application/vnd.deepnote.dataframe.v3+json": {
       "column_count": 20,
       "row_count": 4370,
       "columns": [
        {
         "name": "BFE-nummer",
         "dtype": "int64",
         "stats": {
          "unique_count": 4226,
          "nan_count": 0,
          "min": "100980",
          "max": "100384724",
          "histogram": [
           {
            "bin_start": 100980,
            "bin_end": 10129354.4,
            "count": 4304
           },
           {
            "bin_start": 10129354.4,
            "bin_end": 20157728.8,
            "count": 0
           },
           {
            "bin_start": 20157728.8,
            "bin_end": 30186103.200000003,
            "count": 0
           },
           {
            "bin_start": 30186103.200000003,
            "bin_end": 40214477.6,
            "count": 0
           },
           {
            "bin_start": 40214477.6,
            "bin_end": 50242852,
            "count": 0
           },
           {
            "bin_start": 50242852,
            "bin_end": 60271226.400000006,
            "count": 0
           },
           {
            "bin_start": 60271226.400000006,
            "bin_end": 70299600.8,
            "count": 0
           },
           {
            "bin_start": 70299600.8,
            "bin_end": 80327975.2,
            "count": 0
           },
           {
            "bin_start": 80327975.2,
            "bin_end": 90356349.60000001,
            "count": 0
           },
           {
            "bin_start": 90356349.60000001,
            "bin_end": 100384724,
            "count": 66
           }
          ]
         }
        },
        {
         "name": "Adresse",
         "dtype": "object",
         "stats": {
          "unique_count": 4225,
          "nan_count": 0,
          "categories": [
           {
            "name": "Hveensvej 12, 3. tv, 2300 København S",
            "count": 8
           },
           {
            "name": "Norgesgade 10, 1. 5, 2300 København S",
            "count": 4
           },
           {
            "name": "4223 others",
            "count": 4358
           }
          ]
         }
        },
        {
         "name": "Offentlig ejendomsværdi",
         "dtype": "object",
         "stats": {
          "unique_count": 144,
          "nan_count": 0,
          "categories": [
           {
            "name": " kr. 1.000.000",
            "count": 275
           },
           {
            "name": " kr. 960.000",
            "count": 238
           },
           {
            "name": "142 others",
            "count": 3857
           }
          ]
         }
        },
        {
         "name": "Offentlige grundværdi",
         "dtype": "object",
         "stats": {
          "unique_count": 1462,
          "nan_count": 0,
          "categories": [
           {
            "name": "-",
            "count": 60
           },
           {
            "name": " kr. 102.500",
            "count": 32
           },
           {
            "name": "1460 others",
            "count": 4278
           }
          ]
         }
        },
        {
         "name": "Seneste handelspris",
         "dtype": "object",
         "stats": {
          "unique_count": 1103,
          "nan_count": 0,
          "categories": [
           {
            "name": " kr. 1.995.000",
            "count": 50
           },
           {
            "name": " kr. 2.100.000",
            "count": 49
           },
           {
            "name": "1101 others",
            "count": 4271
           }
          ]
         }
        },
        {
         "name": "Enhedsareal - Beboelse",
         "dtype": "object",
         "stats": {
          "unique_count": 157,
          "nan_count": 0,
          "categories": [
           {
            "name": "  56   ",
            "count": 128
           },
           {
            "name": "  59   ",
            "count": 122
           },
           {
            "name": "155 others",
            "count": 4120
           }
          ]
         }
        },
        {
         "name": "Pris pr. m2",
         "dtype": "object",
         "stats": {
          "unique_count": 3051,
          "nan_count": 0,
          "categories": [
           {
            "name": " kr. 50.000",
            "count": 24
           },
           {
            "name": " kr. 37.500",
            "count": 22
           },
           {
            "name": "3049 others",
            "count": 4324
           }
          ]
         }
        },
        {
         "name": "Seneste handelsdato",
         "dtype": "object",
         "stats": {
          "unique_count": 333,
          "nan_count": 0,
          "categories": [
           {
            "name": "01/05/2021",
            "count": 132
           },
           {
            "name": "01/06/2021",
            "count": 131
           },
           {
            "name": "331 others",
            "count": 4107
           }
          ]
         }
        },
        {
         "name": "Seneste handlet andel",
         "dtype": "object",
         "stats": {
          "unique_count": 1,
          "nan_count": 0,
          "categories": [
           {
            "name": "100%",
            "count": 4370
           }
          ]
         }
        },
        {
         "name": "Handelsmetode",
         "dtype": "object",
         "stats": {
          "unique_count": 1,
          "nan_count": 0,
          "categories": [
           {
            "name": "Almindelig fri handel",
            "count": 4370
           }
          ]
         }
        },
        {
         "name": "Anvendelse",
         "dtype": "object",
         "stats": {
          "unique_count": 1,
          "nan_count": 0,
          "categories": [
           {
            "name": "Etagebolig-bygning, flerfamiliehus eller to-familiehus",
            "count": 4370
           }
          ]
         }
        },
        {
         "name": "Opførelsesår",
         "dtype": "object",
         "stats": {
          "unique_count": 87,
          "nan_count": 0,
          "categories": [
           {
            "name": "2007",
            "count": 360
           },
           {
            "name": "1935",
            "count": 238
           },
           {
            "name": "85 others",
            "count": 3772
           }
          ]
         }
        },
        {
         "name": "Tinglyst areal (Ejerlejligheder)",
         "dtype": "object",
         "stats": {
          "unique_count": 154,
          "nan_count": 0,
          "categories": [
           {
            "name": "  48   ",
            "count": 156
           },
           {
            "name": "  51   ",
            "count": 141
           },
           {
            "name": "152 others",
            "count": 4073
           }
          ]
         }
        },
        {
         "name": "Longitude",
         "dtype": "object",
         "stats": {
          "unique_count": 1271,
          "nan_count": 0,
          "categories": [
           {
            "name": "12,56881133",
            "count": 38
           },
           {
            "name": "12,58224692",
            "count": 23
           },
           {
            "name": "1269 others",
            "count": 4309
           }
          ]
         }
        },
        {
         "name": "Latitude",
         "dtype": "object",
         "stats": {
          "unique_count": 1271,
          "nan_count": 0,
          "categories": [
           {
            "name": "55,62356398",
            "count": 38
           },
           {
            "name": "55,63443774",
            "count": 23
           },
           {
            "name": "1269 others",
            "count": 4309
           }
          ]
         }
        },
        {
         "name": "Primær ejers adresse",
         "dtype": "object",
         "stats": {
          "unique_count": 4075,
          "nan_count": 0,
          "categories": [
           {
            "name": "None, 2300 København S",
            "count": 62
           },
           {
            "name": "-",
            "count": 29
           },
           {
            "name": "4073 others",
            "count": 4279
           }
          ]
         }
        },
        {
         "name": "Vejnavn",
         "dtype": "object",
         "stats": {
          "unique_count": 192,
          "nan_count": 0,
          "categories": [
           {
            "name": "Robert Jacobsens Vej",
            "count": 173
           },
           {
            "name": "Islands Brygge",
            "count": 156
           },
           {
            "name": "190 others",
            "count": 4041
           }
          ]
         }
        },
        {
         "name": "Husnr.",
         "dtype": "object",
         "stats": {
          "unique_count": 339,
          "nan_count": 0,
          "categories": [
           {
            "name": "12",
            "count": 139
           },
           {
            "name": "8",
            "count": 121
           },
           {
            "name": "337 others",
            "count": 4110
           }
          ]
         }
        },
        {
         "name": "Etage",
         "dtype": "object",
         "stats": {
          "unique_count": 16,
          "nan_count": 0,
          "categories": [
           {
            "name": "1",
            "count": 815
           },
           {
            "name": "2",
            "count": 768
           },
           {
            "name": "14 others",
            "count": 2787
           }
          ]
         }
        },
        {
         "name": "Antal værelser",
         "dtype": "object",
         "stats": {
          "unique_count": 9,
          "nan_count": 0,
          "categories": [
           {
            "name": "2",
            "count": 1685
           },
           {
            "name": "3",
            "count": 1396
           },
           {
            "name": "7 others",
            "count": 1289
           }
          ]
         }
        },
        {
         "name": "_deepnote_index_column",
         "dtype": "int64"
        }
       ],
       "rows": [
        {
         "BFE-nummer": 128738,
         "Adresse": "Rodosvej 7B, 3. tv, 2300 København S",
         "Offentlig ejendomsværdi": " kr. 790.000",
         "Offentlige grundværdi": " kr. 112.300",
         "Seneste handelspris": " kr. 1.570.000",
         "Enhedsareal - Beboelse": "  47   ",
         "Pris pr. m2": " kr. 33.404",
         "Seneste handelsdato": "01/01/2020",
         "Seneste handlet andel": "100%",
         "Handelsmetode": "Almindelig fri handel",
         "Anvendelse": "Etagebolig-bygning, flerfamiliehus eller to-familiehus",
         "Opførelsesår": "1940",
         "Tinglyst areal (Ejerlejligheder)": "  42   ",
         "Longitude": "12,61355899",
         "Latitude": "55,65062777",
         "Primær ejers adresse": "Strandgårdsvej 13A, 5762 Vester Skerninge",
         "Vejnavn": "Rodosvej",
         "Husnr.": "7B",
         "Etage": "3",
         "Antal værelser": "2",
         "_deepnote_index_column": 3373
        },
        {
         "BFE-nummer": 122930,
         "Adresse": "Tycho Brahes Allé 23, 1. tv, 2300 København S",
         "Offentlig ejendomsværdi": " kr. 830.000",
         "Offentlige grundværdi": " kr. 59.100",
         "Seneste handelspris": " kr. 1.650.000",
         "Enhedsareal - Beboelse": "  46   ",
         "Pris pr. m2": " kr. 35.869",
         "Seneste handelsdato": "01/01/2020",
         "Seneste handlet andel": "100%",
         "Handelsmetode": "Almindelig fri handel",
         "Anvendelse": "Etagebolig-bygning, flerfamiliehus eller to-familiehus",
         "Opførelsesår": "1903",
         "Tinglyst areal (Ejerlejligheder)": "  40   ",
         "Longitude": "12,61226017",
         "Latitude": "55,65565928",
         "Primær ejers adresse": "Nyvej 20, 5690 Tommerup",
         "Vejnavn": "Tycho Brahes Allé",
         "Husnr.": "23",
         "Etage": "1",
         "Antal værelser": "2",
         "_deepnote_index_column": 3356
        },
        {
         "BFE-nummer": 103672,
         "Adresse": "Snorresgade 8, 1. tv, 2300 København S",
         "Offentlig ejendomsværdi": " kr. 2.150.000",
         "Offentlige grundværdi": " kr. 137.100",
         "Seneste handelspris": " kr. 4.195.000",
         "Enhedsareal - Beboelse": "  94   ",
         "Pris pr. m2": " kr. 44.627",
         "Seneste handelsdato": "01/01/2020",
         "Seneste handlet andel": "100%",
         "Handelsmetode": "Almindelig fri handel",
         "Anvendelse": "Etagebolig-bygning, flerfamiliehus eller to-familiehus",
         "Opførelsesår": "1913",
         "Tinglyst areal (Ejerlejligheder)": "  87   ",
         "Longitude": "12,57611419",
         "Latitude": "55,66551106",
         "Primær ejers adresse": "Snorresgade 8,1 tv, 2300 København S",
         "Vejnavn": "Snorresgade",
         "Husnr.": "8",
         "Etage": "1",
         "Antal værelser": "3",
         "_deepnote_index_column": 3357
        },
        {
         "BFE-nummer": 140557,
         "Adresse": "Robert Jacobsens Vej 70, 2. t2, 2300 København S",
         "Offentlig ejendomsværdi": " kr. 2.650.000",
         "Offentlige grundværdi": " kr. 628.700",
         "Seneste handelspris": " kr. 4.390.000",
         "Enhedsareal - Beboelse": "  133   ",
         "Pris pr. m2": " kr. 33.007",
         "Seneste handelsdato": "01/01/2020",
         "Seneste handlet andel": "100%",
         "Handelsmetode": "Almindelig fri handel",
         "Anvendelse": "Etagebolig-bygning, flerfamiliehus eller to-familiehus",
         "Opførelsesår": "2010",
         "Tinglyst areal (Ejerlejligheder)": "  121   ",
         "Longitude": "12,57207819",
         "Latitude": "55,61774495",
         "Primær ejers adresse": "None, 2300 København S",
         "Vejnavn": "Robert Jacobsens Vej",
         "Husnr.": "70",
         "Etage": "2",
         "Antal værelser": "5",
         "_deepnote_index_column": 3358
        },
        {
         "BFE-nummer": 133985,
         "Adresse": "Holmbladsgade 111C, 1. tv, 2300 København S",
         "Offentlig ejendomsværdi": " kr. 2.000.000",
         "Offentlige grundværdi": " kr. 341.100",
         "Seneste handelspris": " kr. 5.000.000",
         "Enhedsareal - Beboelse": "  120   ",
         "Pris pr. m2": " kr. 41.666",
         "Seneste handelsdato": "01/01/2020",
         "Seneste handlet andel": "100%",
         "Handelsmetode": "Almindelig fri handel",
         "Anvendelse": "Etagebolig-bygning, flerfamiliehus eller to-familiehus",
         "Opførelsesår": "1922",
         "Tinglyst areal (Ejerlejligheder)": "  108   ",
         "Longitude": "12,61679409",
         "Latitude": "55,66777983",
         "Primær ejers adresse": "Holmbladsgade 111C,1 tv, 2300 København S",
         "Vejnavn": "Holmbladsgade",
         "Husnr.": "111C",
         "Etage": "1",
         "Antal værelser": "4",
         "_deepnote_index_column": 3359
        },
        {
         "BFE-nummer": 130793,
         "Adresse": "Sorrentovej 11, 2. mf, 2300 København S",
         "Offentlig ejendomsværdi": " kr. 480.000",
         "Offentlige grundværdi": " kr. 80.200",
         "Seneste handelspris": " kr. 1.050.000",
         "Enhedsareal - Beboelse": "  26   ",
         "Pris pr. m2": " kr. 40.384",
         "Seneste handelsdato": "01/01/2020",
         "Seneste handlet andel": "100%",
         "Handelsmetode": "Almindelig fri handel",
         "Anvendelse": "Etagebolig-bygning, flerfamiliehus eller to-familiehus",
         "Opførelsesår": "1941",
         "Tinglyst areal (Ejerlejligheder)": "  23   ",
         "Longitude": "12,62286054",
         "Latitude": "55,65833807",
         "Primær ejers adresse": "Sorrentovej 11,2 mf, 2300 København S",
         "Vejnavn": "Sorrentovej",
         "Husnr.": "11",
         "Etage": "2",
         "Antal værelser": "1",
         "_deepnote_index_column": 3362
        },
        {
         "BFE-nummer": 105444,
         "Adresse": "Amagerfælledvej 33, 4. th, 2300 København S",
         "Offentlig ejendomsværdi": " kr. 1.250.000",
         "Offentlige grundværdi": " kr. 110.700",
         "Seneste handelspris": " kr. 2.600.000",
         "Enhedsareal - Beboelse": "  70   ",
         "Pris pr. m2": " kr. 37.142",
         "Seneste handelsdato": "01/01/2020",
         "Seneste handlet andel": "100%",
         "Handelsmetode": "Almindelig fri handel",
         "Anvendelse": "Etagebolig-bygning, flerfamiliehus eller to-familiehus",
         "Opførelsesår": "1914",
         "Tinglyst areal (Ejerlejligheder)": "  62   ",
         "Longitude": "12,59487011",
         "Latitude": "55,66511367",
         "Primær ejers adresse": "Amagerfælledvej 33,4 th, 2300 København S",
         "Vejnavn": "Amagerfælledvej",
         "Husnr.": "33",
         "Etage": "4",
         "Antal værelser": "2",
         "_deepnote_index_column": 3377
        },
        {
         "BFE-nummer": 421287,
         "Adresse": "Strandlodsvej 23D, 1. tv, 2300 København S",
         "Offentlig ejendomsværdi": " kr. 2.300.000",
         "Offentlige grundværdi": " kr. 286.700",
         "Seneste handelspris": " kr. 4.095.000",
         "Enhedsareal - Beboelse": "  101   ",
         "Pris pr. m2": " kr. 40.544",
         "Seneste handelsdato": "01/01/2020",
         "Seneste handlet andel": "100%",
         "Handelsmetode": "Almindelig fri handel",
         "Anvendelse": "Etagebolig-bygning, flerfamiliehus eller to-familiehus",
         "Opførelsesår": "2021",
         "Tinglyst areal (Ejerlejligheder)": "  92   ",
         "Longitude": "12,62555177",
         "Latitude": "55,66538636",
         "Primær ejers adresse": "Strandlodsvej 23D,1 tv, 2300 København S",
         "Vejnavn": "Strandlodsvej",
         "Husnr.": "23D",
         "Etage": "1",
         "Antal værelser": "3",
         "_deepnote_index_column": 3376
        },
        {
         "BFE-nummer": 109667,
         "Adresse": "Islands Brygge 34A, 7. th, 2300 København S",
         "Offentlig ejendomsværdi": " kr. 3.750.000",
         "Offentlige grundværdi": " kr. 453.800",
         "Seneste handelspris": " kr. 7.300.000",
         "Enhedsareal - Beboelse": "  113   ",
         "Pris pr. m2": " kr. 64.601",
         "Seneste handelsdato": "01/01/2020",
         "Seneste handlet andel": "100%",
         "Handelsmetode": "Almindelig fri handel",
         "Anvendelse": "Etagebolig-bygning, flerfamiliehus eller to-familiehus",
         "Opførelsesår": "2004",
         "Tinglyst areal (Ejerlejligheder)": "  105   ",
         "Longitude": "12,56792776",
         "Latitude": "55,65957385",
         "Primær ejers adresse": "Astrupvej 11A, 4450 Jyderup",
         "Vejnavn": "Islands Brygge",
         "Husnr.": "34A",
         "Etage": "7",
         "Antal værelser": "2",
         "_deepnote_index_column": 3375
        },
        {
         "BFE-nummer": 112972,
         "Adresse": "Ørestads Boulevard 57A, 9. 911, 2300 København S",
         "Offentlig ejendomsværdi": " kr. 2.950.000",
         "Offentlige grundværdi": " kr. 628.500",
         "Seneste handelspris": " kr. 4.500.000",
         "Enhedsareal - Beboelse": "  143   ",
         "Pris pr. m2": " kr. 31.468",
         "Seneste handelsdato": "01/01/2020",
         "Seneste handlet andel": "100%",
         "Handelsmetode": "Almindelig fri handel",
         "Anvendelse": "Etagebolig-bygning, flerfamiliehus eller to-familiehus",
         "Opførelsesår": "2005",
         "Tinglyst areal (Ejerlejligheder)": "  126   ",
         "Longitude": "12,58224692",
         "Latitude": "55,63443774",
         "Primær ejers adresse": "Ørestads Boulevard 57A,9,-911, 2300 København S",
         "Vejnavn": "Ørestads Boulevard",
         "Husnr.": "57A",
         "Etage": "9",
         "Antal værelser": "1",
         "_deepnote_index_column": 3374
        }
       ]
      },
      "text/plain": "      BFE-nummer                                        Adresse  \\\n0         420766   Else Alfelts Vej 93, 7. th, 2300 København S   \n1         109362  C.F. Møllers Allé 66, 7. tv, 2300 København S   \n2         124613       Lombardigade 19, 3. tv, 2300 København S   \n3         103200      Ved Amagerport 9, 3. th, 2300 København S   \n4         132843       Øresundsvej 104, 4. th, 2300 København S   \n...          ...                                            ...   \n4365      107328         Myggenæsgade 3, 1. 4, 2300 København S   \n4366      130268      Siciliensgade 11, 5. th, 2300 København S   \n4367      134871     Holmbladsgade 70A, 4. tv, 2300 København S   \n4368      138884        Hyacintgården 9, 1. 3, 2300 København S   \n4369      421339     Strandlodsvej 23A, 1. tv, 2300 København S   \n\n     Offentlig ejendomsværdi Offentlige grundværdi Seneste handelspris  \\\n0              kr. 1.950.000           kr. 349.600       kr. 3.950.000   \n1              kr. 1.850.000           kr. 351.700       kr. 4.300.000   \n2                kr. 960.000            kr. 70.200       kr. 2.400.000   \n3              kr. 1.600.000           kr. 172.900       kr. 5.050.000   \n4              kr. 1.400.000           kr. 124.300       kr. 4.100.000   \n...                      ...                   ...                 ...   \n4365           kr. 2.450.000           kr. 386.900       kr. 3.700.000   \n4366             kr. 580.000            kr. 53.400       kr. 1.295.000   \n4367           kr. 1.850.000           kr. 110.700       kr. 3.650.000   \n4368             kr. 560.000            kr. 82.200       kr. 1.175.000   \n4369           kr. 2.000.000           kr. 249.300       kr. 3.740.000   \n\n     Enhedsareal - Beboelse  Pris pr. m2 Seneste handelsdato  \\\n0                     88      kr. 44.886          01/07/2022   \n1                     92      kr. 46.739          01/06/2022   \n2                     56      kr. 42.857          01/06/2022   \n3                     90      kr. 56.111          01/06/2022   \n4                     82      kr. 50.000          01/06/2022   \n...                     ...          ...                 ...   \n4365                  90      kr. 41.111          02/01/2019   \n4366                  32      kr. 40.468          02/01/2019   \n4367                  94      kr. 38.829          02/01/2019   \n4368                  34      kr. 34.558          02/01/2019   \n4369                  89      kr. 42.022          02/01/2019   \n\n     Seneste handlet andel          Handelsmetode  \\\n0                     100%  Almindelig fri handel   \n1                     100%  Almindelig fri handel   \n2                     100%  Almindelig fri handel   \n3                     100%  Almindelig fri handel   \n4                     100%  Almindelig fri handel   \n...                    ...                    ...   \n4365                  100%  Almindelig fri handel   \n4366                  100%  Almindelig fri handel   \n4367                  100%  Almindelig fri handel   \n4368                  100%  Almindelig fri handel   \n4369                  100%  Almindelig fri handel   \n\n                                             Anvendelse Opførelsesår  \\\n0     Etagebolig-bygning, flerfamiliehus eller to-fa...         2014   \n1     Etagebolig-bygning, flerfamiliehus eller to-fa...         2007   \n2     Etagebolig-bygning, flerfamiliehus eller to-fa...         1904   \n3     Etagebolig-bygning, flerfamiliehus eller to-fa...         1913   \n4     Etagebolig-bygning, flerfamiliehus eller to-fa...         1932   \n...                                                 ...          ...   \n4365  Etagebolig-bygning, flerfamiliehus eller to-fa...         2006   \n4366  Etagebolig-bygning, flerfamiliehus eller to-fa...         1936   \n4367  Etagebolig-bygning, flerfamiliehus eller to-fa...         1913   \n4368  Etagebolig-bygning, flerfamiliehus eller to-fa...         1968   \n4369  Etagebolig-bygning, flerfamiliehus eller to-fa...         2021   \n\n     Tinglyst areal (Ejerlejligheder)    Longitude     Latitude  \\\n0                               75     12,56841568  55,61690988   \n1                               76     12,57771642  55,63446794   \n2                               48     12,61348571  55,65432904   \n3                               83     12,59622212  55,66660875   \n4                               74     12,62117919  55,66122067   \n...                               ...          ...          ...   \n4365                            79     12,58415453  55,66533048   \n4366                            27     12,61851122  55,65296381   \n4367                            90     12,61141095  55,66519302   \n4368                            31     12,61220597  55,64862252   \n4369                            80     12,62523023  55,66516955   \n\n                             Primær ejers adresse            Vejnavn Husnr.  \\\n0      Else Alfelts Vej 93,7 th, 2300 København S   Else Alfelts Vej     93   \n1     C.F. Møllers Allé 66,7 tv, 2300 København S  C.F. Møllers Allé     66   \n2                     Skolegade 10, 4100 Ringsted       Lombardigade     19   \n3         Ved Amagerport 9,3 th, 2300 København S     Ved Amagerport      9   \n4          Øresundsvej 104,4 th, 2300 København S        Øresundsvej    104   \n...                                           ...                ...    ...   \n4365        Myggenæsgade 3,1,-4, 2300 København S       Myggenæsgade      3   \n4366      Brigadevej 50,st,-124, 2300 København S      Siciliensgade     11   \n4367     Holmbladsgade 70A,4 tv, 2300 København S      Holmbladsgade    70A   \n4368         Bomhusvej 18F,2 th, 2100 København Ø      Hyacintgården      9   \n4369     Strandlodsvej 23A,1 tv, 2300 København S      Strandlodsvej    23A   \n\n     Etage Antal værelser  \n0        7              3  \n1        7              3  \n2        3              2  \n3        3              3  \n4        4              4  \n...    ...            ...  \n4365     1              3  \n4366     5              1  \n4367     4              3  \n4368     1              1  \n4369     1              3  \n\n[4370 rows x 20 columns]",
      "text/html": "<div>\n<style scoped>\n    .dataframe tbody tr th:only-of-type {\n        vertical-align: middle;\n    }\n\n    .dataframe tbody tr th {\n        vertical-align: top;\n    }\n\n    .dataframe thead th {\n        text-align: right;\n    }\n</style>\n<table border=\"1\" class=\"dataframe\">\n  <thead>\n    <tr style=\"text-align: right;\">\n      <th></th>\n      <th>BFE-nummer</th>\n      <th>Adresse</th>\n      <th>Offentlig ejendomsværdi</th>\n      <th>Offentlige grundværdi</th>\n      <th>Seneste handelspris</th>\n      <th>Enhedsareal - Beboelse</th>\n      <th>Pris pr. m2</th>\n      <th>Seneste handelsdato</th>\n      <th>Seneste handlet andel</th>\n      <th>Handelsmetode</th>\n      <th>Anvendelse</th>\n      <th>Opførelsesår</th>\n      <th>Tinglyst areal (Ejerlejligheder)</th>\n      <th>Longitude</th>\n      <th>Latitude</th>\n      <th>Primær ejers adresse</th>\n      <th>Vejnavn</th>\n      <th>Husnr.</th>\n      <th>Etage</th>\n      <th>Antal værelser</th>\n    </tr>\n  </thead>\n  <tbody>\n    <tr>\n      <th>0</th>\n      <td>420766</td>\n      <td>Else Alfelts Vej 93, 7. th, 2300 København S</td>\n      <td>kr. 1.950.000</td>\n      <td>kr. 349.600</td>\n      <td>kr. 3.950.000</td>\n      <td>88</td>\n      <td>kr. 44.886</td>\n      <td>01/07/2022</td>\n      <td>100%</td>\n      <td>Almindelig fri handel</td>\n      <td>Etagebolig-bygning, flerfamiliehus eller to-fa...</td>\n      <td>2014</td>\n      <td>75</td>\n      <td>12,56841568</td>\n      <td>55,61690988</td>\n      <td>Else Alfelts Vej 93,7 th, 2300 København S</td>\n      <td>Else Alfelts Vej</td>\n      <td>93</td>\n      <td>7</td>\n      <td>3</td>\n    </tr>\n    <tr>\n      <th>1</th>\n      <td>109362</td>\n      <td>C.F. Møllers Allé 66, 7. tv, 2300 København S</td>\n      <td>kr. 1.850.000</td>\n      <td>kr. 351.700</td>\n      <td>kr. 4.300.000</td>\n      <td>92</td>\n      <td>kr. 46.739</td>\n      <td>01/06/2022</td>\n      <td>100%</td>\n      <td>Almindelig fri handel</td>\n      <td>Etagebolig-bygning, flerfamiliehus eller to-fa...</td>\n      <td>2007</td>\n      <td>76</td>\n      <td>12,57771642</td>\n      <td>55,63446794</td>\n      <td>C.F. Møllers Allé 66,7 tv, 2300 København S</td>\n      <td>C.F. Møllers Allé</td>\n      <td>66</td>\n      <td>7</td>\n      <td>3</td>\n    </tr>\n    <tr>\n      <th>2</th>\n      <td>124613</td>\n      <td>Lombardigade 19, 3. tv, 2300 København S</td>\n      <td>kr. 960.000</td>\n      <td>kr. 70.200</td>\n      <td>kr. 2.400.000</td>\n      <td>56</td>\n      <td>kr. 42.857</td>\n      <td>01/06/2022</td>\n      <td>100%</td>\n      <td>Almindelig fri handel</td>\n      <td>Etagebolig-bygning, flerfamiliehus eller to-fa...</td>\n      <td>1904</td>\n      <td>48</td>\n      <td>12,61348571</td>\n      <td>55,65432904</td>\n      <td>Skolegade 10, 4100 Ringsted</td>\n      <td>Lombardigade</td>\n      <td>19</td>\n      <td>3</td>\n      <td>2</td>\n    </tr>\n    <tr>\n      <th>3</th>\n      <td>103200</td>\n      <td>Ved Amagerport 9, 3. th, 2300 København S</td>\n      <td>kr. 1.600.000</td>\n      <td>kr. 172.900</td>\n      <td>kr. 5.050.000</td>\n      <td>90</td>\n      <td>kr. 56.111</td>\n      <td>01/06/2022</td>\n      <td>100%</td>\n      <td>Almindelig fri handel</td>\n      <td>Etagebolig-bygning, flerfamiliehus eller to-fa...</td>\n      <td>1913</td>\n      <td>83</td>\n      <td>12,59622212</td>\n      <td>55,66660875</td>\n      <td>Ved Amagerport 9,3 th, 2300 København S</td>\n      <td>Ved Amagerport</td>\n      <td>9</td>\n      <td>3</td>\n      <td>3</td>\n    </tr>\n    <tr>\n      <th>4</th>\n      <td>132843</td>\n      <td>Øresundsvej 104, 4. th, 2300 København S</td>\n      <td>kr. 1.400.000</td>\n      <td>kr. 124.300</td>\n      <td>kr. 4.100.000</td>\n      <td>82</td>\n      <td>kr. 50.000</td>\n      <td>01/06/2022</td>\n      <td>100%</td>\n      <td>Almindelig fri handel</td>\n      <td>Etagebolig-bygning, flerfamiliehus eller to-fa...</td>\n      <td>1932</td>\n      <td>74</td>\n      <td>12,62117919</td>\n      <td>55,66122067</td>\n      <td>Øresundsvej 104,4 th, 2300 København S</td>\n      <td>Øresundsvej</td>\n      <td>104</td>\n      <td>4</td>\n      <td>4</td>\n    </tr>\n    <tr>\n      <th>...</th>\n      <td>...</td>\n      <td>...</td>\n      <td>...</td>\n      <td>...</td>\n      <td>...</td>\n      <td>...</td>\n      <td>...</td>\n      <td>...</td>\n      <td>...</td>\n      <td>...</td>\n      <td>...</td>\n      <td>...</td>\n      <td>...</td>\n      <td>...</td>\n      <td>...</td>\n      <td>...</td>\n      <td>...</td>\n      <td>...</td>\n      <td>...</td>\n      <td>...</td>\n    </tr>\n    <tr>\n      <th>4365</th>\n      <td>107328</td>\n      <td>Myggenæsgade 3, 1. 4, 2300 København S</td>\n      <td>kr. 2.450.000</td>\n      <td>kr. 386.900</td>\n      <td>kr. 3.700.000</td>\n      <td>90</td>\n      <td>kr. 41.111</td>\n      <td>02/01/2019</td>\n      <td>100%</td>\n      <td>Almindelig fri handel</td>\n      <td>Etagebolig-bygning, flerfamiliehus eller to-fa...</td>\n      <td>2006</td>\n      <td>79</td>\n      <td>12,58415453</td>\n      <td>55,66533048</td>\n      <td>Myggenæsgade 3,1,-4, 2300 København S</td>\n      <td>Myggenæsgade</td>\n      <td>3</td>\n      <td>1</td>\n      <td>3</td>\n    </tr>\n    <tr>\n      <th>4366</th>\n      <td>130268</td>\n      <td>Siciliensgade 11, 5. th, 2300 København S</td>\n      <td>kr. 580.000</td>\n      <td>kr. 53.400</td>\n      <td>kr. 1.295.000</td>\n      <td>32</td>\n      <td>kr. 40.468</td>\n      <td>02/01/2019</td>\n      <td>100%</td>\n      <td>Almindelig fri handel</td>\n      <td>Etagebolig-bygning, flerfamiliehus eller to-fa...</td>\n      <td>1936</td>\n      <td>27</td>\n      <td>12,61851122</td>\n      <td>55,65296381</td>\n      <td>Brigadevej 50,st,-124, 2300 København S</td>\n      <td>Siciliensgade</td>\n      <td>11</td>\n      <td>5</td>\n      <td>1</td>\n    </tr>\n    <tr>\n      <th>4367</th>\n      <td>134871</td>\n      <td>Holmbladsgade 70A, 4. tv, 2300 København S</td>\n      <td>kr. 1.850.000</td>\n      <td>kr. 110.700</td>\n      <td>kr. 3.650.000</td>\n      <td>94</td>\n      <td>kr. 38.829</td>\n      <td>02/01/2019</td>\n      <td>100%</td>\n      <td>Almindelig fri handel</td>\n      <td>Etagebolig-bygning, flerfamiliehus eller to-fa...</td>\n      <td>1913</td>\n      <td>90</td>\n      <td>12,61141095</td>\n      <td>55,66519302</td>\n      <td>Holmbladsgade 70A,4 tv, 2300 København S</td>\n      <td>Holmbladsgade</td>\n      <td>70A</td>\n      <td>4</td>\n      <td>3</td>\n    </tr>\n    <tr>\n      <th>4368</th>\n      <td>138884</td>\n      <td>Hyacintgården 9, 1. 3, 2300 København S</td>\n      <td>kr. 560.000</td>\n      <td>kr. 82.200</td>\n      <td>kr. 1.175.000</td>\n      <td>34</td>\n      <td>kr. 34.558</td>\n      <td>02/01/2019</td>\n      <td>100%</td>\n      <td>Almindelig fri handel</td>\n      <td>Etagebolig-bygning, flerfamiliehus eller to-fa...</td>\n      <td>1968</td>\n      <td>31</td>\n      <td>12,61220597</td>\n      <td>55,64862252</td>\n      <td>Bomhusvej 18F,2 th, 2100 København Ø</td>\n      <td>Hyacintgården</td>\n      <td>9</td>\n      <td>1</td>\n      <td>1</td>\n    </tr>\n    <tr>\n      <th>4369</th>\n      <td>421339</td>\n      <td>Strandlodsvej 23A, 1. tv, 2300 København S</td>\n      <td>kr. 2.000.000</td>\n      <td>kr. 249.300</td>\n      <td>kr. 3.740.000</td>\n      <td>89</td>\n      <td>kr. 42.022</td>\n      <td>02/01/2019</td>\n      <td>100%</td>\n      <td>Almindelig fri handel</td>\n      <td>Etagebolig-bygning, flerfamiliehus eller to-fa...</td>\n      <td>2021</td>\n      <td>80</td>\n      <td>12,62523023</td>\n      <td>55,66516955</td>\n      <td>Strandlodsvej 23A,1 tv, 2300 København S</td>\n      <td>Strandlodsvej</td>\n      <td>23A</td>\n      <td>1</td>\n      <td>3</td>\n    </tr>\n  </tbody>\n</table>\n<p>4370 rows × 20 columns</p>\n</div>"
     },
     "metadata": {}
    }
   ]
  },
  {
   "cell_type": "code",
   "metadata": {
    "tags": [],
    "deepnote_to_be_reexecuted": false,
    "source_hash": "4154fc17",
    "execution_start": 1650525145417,
    "execution_millis": 52,
    "cell_id": "00008-b1055693-2839-4ce1-b480-71426889a596",
    "deepnote_cell_type": "code",
    "deepnote_cell_height": 81
   },
   "source": "bronze_data.to_csv('bronze_data.csv', index=False)",
   "execution_count": null,
   "outputs": []
  },
  {
   "cell_type": "markdown",
   "source": "### Stats about the data",
   "metadata": {
    "cell_id": "23bd00dc0fe343f590bbb644dff01968",
    "tags": [],
    "is_collapsed": false,
    "deepnote_cell_type": "text-cell-h3"
   }
  },
  {
   "cell_type": "code",
   "metadata": {
    "cell_id": "c059f1bade7942fb974eae5aff941436",
    "tags": [],
    "deepnote_to_be_reexecuted": false,
    "source_hash": "d969400",
    "execution_start": 1650525145471,
    "execution_millis": 4,
    "deepnote_cell_type": "code",
    "deepnote_cell_height": 150.375
   },
   "source": "print('Observations:', len(bronze_data))\nprint('Columns:', len(bronze_data.columns))",
   "execution_count": null,
   "outputs": [
    {
     "name": "stdout",
     "text": "Observations: 4370\nColumns: 20\n",
     "output_type": "stream"
    }
   ]
  },
  {
   "cell_type": "markdown",
   "source": "<a style='text-decoration:none;line-height:16px;display:flex;color:#5B5B62;padding:10px;justify-content:end;' href='https://deepnote.com?utm_source=created-in-deepnote-cell&projectId=8a2d9d23-5445-401b-81ac-9e4d2df66dba' target=\"_blank\">\n<img alt='Created in deepnote.com' style='display:inline;max-height:16px;margin:0px;margin-right:7.5px;' src='data:image/svg+xml;base64,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' > </img>\nCreated in <span style='font-weight:600;margin-left:4px;'>Deepnote</span></a>",
   "metadata": {
    "tags": [],
    "created_in_deepnote_cell": true,
    "deepnote_cell_type": "markdown"
   }
  }
 ],
 "nbformat": 4,
 "nbformat_minor": 2,
 "metadata": {
  "orig_nbformat": 2,
  "deepnote": {
   "is_reactive": false
  },
  "deepnote_notebook_id": "6281e5fa-7d6c-40c9-b468-7f3f5adefc09",
  "deepnote_execution_queue": []
 }
}

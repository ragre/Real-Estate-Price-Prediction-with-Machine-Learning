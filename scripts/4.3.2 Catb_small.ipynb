{
 "cells": [
  {
   "cell_type": "markdown",
   "source": "# CatBoost Regression model - small data split!!!!",
   "metadata": {
    "tags": [],
    "is_collapsed": false,
    "cell_id": "52d5f57c-a1f2-48b7-b700-ac5928392d4d",
    "deepnote_cell_type": "text-cell-h1"
   }
  },
  {
   "cell_type": "code",
   "metadata": {
    "tags": [],
    "deepnote_to_be_reexecuted": false,
    "source_hash": "919d9bcf",
    "execution_start": 1651517635869,
    "execution_millis": 2291,
    "cell_id": "00001-3331da74-b468-472f-b7ca-dedf714299c2",
    "deepnote_cell_type": "code",
    "deepnote_cell_height": 423
   },
   "source": "# import packages \n\nimport numpy as np\nimport pandas as pd\n\nimport seaborn as sns\nimport matplotlib.pyplot as plt\nfrom matplotlib.pyplot import figure\n\n# import ML packages \nimport catboost as cb\nfrom catboost import CatBoostRegressor, Pool\n\nfrom sklearn.model_selection import GridSearchCV\nfrom sklearn.model_selection import train_test_split\nfrom sklearn.metrics import mean_squared_error\n\nfrom sklearn import metrics\n\nimport pickle",
   "execution_count": null,
   "outputs": []
  },
  {
   "cell_type": "markdown",
   "source": "### Import &amp; split data",
   "metadata": {
    "tags": [],
    "is_collapsed": false,
    "cell_id": "00002-be779ffa-d952-4ef4-a6c5-5ae0d3c7e960",
    "deepnote_cell_type": "text-cell-h3"
   }
  },
  {
   "cell_type": "code",
   "metadata": {
    "tags": [],
    "deepnote_to_be_reexecuted": false,
    "source_hash": "a4afacfc",
    "execution_start": 1651517638163,
    "execution_millis": 3,
    "cell_id": "00003-a1fbe134-8a86-4ce9-a7ba-b68797f89952",
    "deepnote_cell_type": "code",
    "deepnote_cell_height": 172.1875,
    "deepnote_output_heights": [
     21.1875
    ]
   },
   "source": "\"\"\"\nSince Catboost can handle text and not only int input, the dataset is import before its previous split.\n\n\"\"\"",
   "execution_count": null,
   "outputs": [
    {
     "output_type": "execute_result",
     "execution_count": 2,
     "data": {
      "text/plain": "'\\nSince Catboost can handle text and not only int input, the dataset is import before its previous split.\\n\\n'"
     },
     "metadata": {}
    }
   ]
  },
  {
   "cell_type": "code",
   "metadata": {
    "tags": [],
    "deepnote_to_be_reexecuted": false,
    "source_hash": "694eed89",
    "execution_start": 1651517638168,
    "execution_millis": 14,
    "cell_id": "00004-c2ca94ba-a708-4672-b623-d362bb68508f",
    "deepnote_cell_type": "code",
    "deepnote_cell_height": 117
   },
   "source": "# import data \n\ngold_data_model = pd.read_csv(\"silver_data_model.csv\")",
   "execution_count": null,
   "outputs": []
  },
  {
   "cell_type": "code",
   "metadata": {
    "tags": [],
    "deepnote_to_be_reexecuted": false,
    "source_hash": "fd0d5647",
    "execution_start": 1651518353020,
    "execution_millis": 10,
    "cell_id": "00005-dc3ad24f-6f5c-4edd-bf49-ba9cb104b01a",
    "deepnote_cell_type": "code",
    "deepnote_cell_height": 528.375
   },
   "source": "# train data \n\nmask = (gold_data_model['sold_date'] > '2018-12-31') & (gold_data_model['sold_date'] <= '2022-01-31')\ntrain_data = pd.DataFrame(gold_data_model.loc[mask])\n\nprint(min(train_data['sold_date']), (max(train_data['sold_date'])))\n\n\"\"\"\n# train data \ntrain_data_1 = gold_data_model.loc[(gold_data_model['year'] == 2022) & (gold_data_model['month'] == 1)]\ntrain_data_2 = gold_data_model.loc[gold_data_model['year'] <= 2021]\n\ntrain_data = pd.concat([train_data_1,train_data_2])\n\"\"\"\n# test data 2022.02-2022.03: \ntest_data_1 = gold_data_model.loc[(gold_data_model['year'] == 2022) & (gold_data_model['month'] == 2)]\ntest_data_2 = gold_data_model.loc[(gold_data_model['year'] == 2022) & (gold_data_model['month'] == 3)]\n\ntest_data = pd.concat([test_data_1,test_data_2])\n\n\n# view shape \nprint(train_data.shape, test_data.shape)",
   "execution_count": null,
   "outputs": [
    {
     "name": "stdout",
     "text": "2019-01-02 2022-01-31\n(3422, 16) (178, 16)\n",
     "output_type": "stream"
    }
   ]
  },
  {
   "cell_type": "code",
   "metadata": {
    "cell_id": "9c7fb7fb9899465bb422c65c90d83815",
    "tags": [],
    "deepnote_to_be_reexecuted": false,
    "source_hash": "dc669d3a",
    "execution_start": 1651518353032,
    "execution_millis": 622,
    "deepnote_table_state": {
     "pageSize": 10,
     "pageIndex": 0,
     "filters": [],
     "sortBy": [
      {
       "id": "month",
       "type": "asc"
      }
     ]
    },
    "deepnote_table_loading": false,
    "deepnote_cell_type": "code",
    "deepnote_cell_height": 647
   },
   "source": "train_data",
   "execution_count": null,
   "outputs": [
    {
     "output_type": "execute_result",
     "execution_count": 110,
     "data": {
      "application/vnd.deepnote.dataframe.v3+json": {
       "column_count": 16,
       "row_count": 3422,
       "columns": [
        {
         "name": "bfe",
         "dtype": "int64",
         "stats": {
          "unique_count": 3422,
          "nan_count": 0,
          "min": "101006",
          "max": "100179329",
          "histogram": [
           {
            "bin_start": 101006,
            "bin_end": 10108838.3,
            "count": 3421
           },
           {
            "bin_start": 10108838.3,
            "bin_end": 20116670.6,
            "count": 0
           },
           {
            "bin_start": 20116670.6,
            "bin_end": 30124502.900000002,
            "count": 0
           },
           {
            "bin_start": 30124502.900000002,
            "bin_end": 40132335.2,
            "count": 0
           },
           {
            "bin_start": 40132335.2,
            "bin_end": 50140167.5,
            "count": 0
           },
           {
            "bin_start": 50140167.5,
            "bin_end": 60147999.800000004,
            "count": 0
           },
           {
            "bin_start": 60147999.800000004,
            "bin_end": 70155832.10000001,
            "count": 0
           },
           {
            "bin_start": 70155832.10000001,
            "bin_end": 80163664.4,
            "count": 0
           },
           {
            "bin_start": 80163664.4,
            "bin_end": 90171496.7,
            "count": 0
           },
           {
            "bin_start": 90171496.7,
            "bin_end": 100179329,
            "count": 1
           }
          ]
         }
        },
        {
         "name": "gov_property_value",
         "dtype": "float64",
         "stats": {
          "unique_count": 124,
          "nan_count": 0,
          "min": "280000.0",
          "max": "5400000.0",
          "histogram": [
           {
            "bin_start": 280000,
            "bin_end": 792000,
            "count": 305
           },
           {
            "bin_start": 792000,
            "bin_end": 1304000,
            "count": 1484
           },
           {
            "bin_start": 1304000,
            "bin_end": 1816000,
            "count": 530
           },
           {
            "bin_start": 1816000,
            "bin_end": 2328000,
            "count": 654
           },
           {
            "bin_start": 2328000,
            "bin_end": 2840000,
            "count": 266
           },
           {
            "bin_start": 2840000,
            "bin_end": 3352000,
            "count": 144
           },
           {
            "bin_start": 3352000,
            "bin_end": 3864000,
            "count": 31
           },
           {
            "bin_start": 3864000,
            "bin_end": 4376000,
            "count": 7
           },
           {
            "bin_start": 4376000,
            "bin_end": 4888000,
            "count": 0
           },
           {
            "bin_start": 4888000,
            "bin_end": 5400000,
            "count": 1
           }
          ]
         }
        },
        {
         "name": "gov_land_value",
         "dtype": "float64",
         "stats": {
          "unique_count": 1228,
          "nan_count": 0,
          "min": "39000.0",
          "max": "1021400.0",
          "histogram": [
           {
            "bin_start": 39000,
            "bin_end": 137240,
            "count": 1468
           },
           {
            "bin_start": 137240,
            "bin_end": 235480,
            "count": 602
           },
           {
            "bin_start": 235480,
            "bin_end": 333720,
            "count": 387
           },
           {
            "bin_start": 333720,
            "bin_end": 431960,
            "count": 438
           },
           {
            "bin_start": 431960,
            "bin_end": 530200,
            "count": 390
           },
           {
            "bin_start": 530200,
            "bin_end": 628440,
            "count": 92
           },
           {
            "bin_start": 628440,
            "bin_end": 726680,
            "count": 29
           },
           {
            "bin_start": 726680,
            "bin_end": 824920,
            "count": 9
           },
           {
            "bin_start": 824920,
            "bin_end": 923160,
            "count": 3
           },
           {
            "bin_start": 923160,
            "bin_end": 1021400,
            "count": 4
           }
          ]
         }
        },
        {
         "name": "sold_price",
         "dtype": "int64",
         "stats": {
          "unique_count": 882,
          "nan_count": 0,
          "min": "920000",
          "max": "6600000",
          "histogram": [
           {
            "bin_start": 920000,
            "bin_end": 1488000,
            "count": 128
           },
           {
            "bin_start": 1488000,
            "bin_end": 2056000,
            "count": 537
           },
           {
            "bin_start": 2056000,
            "bin_end": 2624000,
            "count": 771
           },
           {
            "bin_start": 2624000,
            "bin_end": 3192000,
            "count": 456
           },
           {
            "bin_start": 3192000,
            "bin_end": 3760000,
            "count": 522
           },
           {
            "bin_start": 3760000,
            "bin_end": 4328000,
            "count": 389
           },
           {
            "bin_start": 4328000,
            "bin_end": 4896000,
            "count": 269
           },
           {
            "bin_start": 4896000,
            "bin_end": 5464000,
            "count": 163
           },
           {
            "bin_start": 5464000,
            "bin_end": 6032000,
            "count": 120
           },
           {
            "bin_start": 6032000,
            "bin_end": 6600000,
            "count": 67
           }
          ]
         }
        },
        {
         "name": "unit_sqm_resi",
         "dtype": "float64",
         "stats": {
          "unique_count": 139,
          "nan_count": 0,
          "min": "25.0",
          "max": "208.0",
          "histogram": [
           {
            "bin_start": 25,
            "bin_end": 43.3,
            "count": 177
           },
           {
            "bin_start": 43.3,
            "bin_end": 61.6,
            "count": 1051
           },
           {
            "bin_start": 61.6,
            "bin_end": 79.9,
            "count": 708
           },
           {
            "bin_start": 79.9,
            "bin_end": 98.2,
            "count": 692
           },
           {
            "bin_start": 98.2,
            "bin_end": 116.5,
            "count": 525
           },
           {
            "bin_start": 116.5,
            "bin_end": 134.8,
            "count": 216
           },
           {
            "bin_start": 134.8,
            "bin_end": 153.1,
            "count": 36
           },
           {
            "bin_start": 153.1,
            "bin_end": 171.4,
            "count": 11
           },
           {
            "bin_start": 171.4,
            "bin_end": 189.70000000000002,
            "count": 4
           },
           {
            "bin_start": 189.70000000000002,
            "bin_end": 208,
            "count": 2
           }
          ]
         }
        },
        {
         "name": "rooms",
         "dtype": "int64",
         "stats": {
          "unique_count": 7,
          "nan_count": 0,
          "min": "1",
          "max": "7",
          "histogram": [
           {
            "bin_start": 1,
            "bin_end": 1.6,
            "count": 248
           },
           {
            "bin_start": 1.6,
            "bin_end": 2.2,
            "count": 1458
           },
           {
            "bin_start": 2.2,
            "bin_end": 2.8,
            "count": 0
           },
           {
            "bin_start": 2.8,
            "bin_end": 3.4,
            "count": 1155
           },
           {
            "bin_start": 3.4,
            "bin_end": 4,
            "count": 0
           },
           {
            "bin_start": 4,
            "bin_end": 4.6,
            "count": 503
           },
           {
            "bin_start": 4.6,
            "bin_end": 5.2,
            "count": 50
           },
           {
            "bin_start": 5.2,
            "bin_end": 5.8,
            "count": 0
           },
           {
            "bin_start": 5.8,
            "bin_end": 6.3999999999999995,
            "count": 7
           },
           {
            "bin_start": 6.3999999999999995,
            "bin_end": 7,
            "count": 1
           }
          ]
         }
        },
        {
         "name": "street_name",
         "dtype": "object",
         "stats": {
          "unique_count": 182,
          "nan_count": 0,
          "categories": [
           {
            "name": "RobertJacobsensVej",
            "count": 152
           },
           {
            "name": "EdvardThomsensVej",
            "count": 145
           },
           {
            "name": "180 others",
            "count": 3125
           }
          ]
         }
        },
        {
         "name": "street_number",
         "dtype": "int64",
         "stats": {
          "unique_count": 148,
          "nan_count": 0,
          "min": "1",
          "max": "305",
          "histogram": [
           {
            "bin_start": 1,
            "bin_end": 31.4,
            "count": 2150
           },
           {
            "bin_start": 31.4,
            "bin_end": 61.8,
            "count": 588
           },
           {
            "bin_start": 61.8,
            "bin_end": 92.19999999999999,
            "count": 458
           },
           {
            "bin_start": 92.19999999999999,
            "bin_end": 122.6,
            "count": 122
           },
           {
            "bin_start": 122.6,
            "bin_end": 153,
            "count": 55
           },
           {
            "bin_start": 153,
            "bin_end": 183.39999999999998,
            "count": 20
           },
           {
            "bin_start": 183.39999999999998,
            "bin_end": 213.79999999999998,
            "count": 2
           },
           {
            "bin_start": 213.79999999999998,
            "bin_end": 244.2,
            "count": 2
           },
           {
            "bin_start": 244.2,
            "bin_end": 274.59999999999997,
            "count": 15
           },
           {
            "bin_start": 274.59999999999997,
            "bin_end": 305,
            "count": 10
           }
          ]
         }
        },
        {
         "name": "longitude",
         "dtype": "float64",
         "stats": {
          "unique_count": 1122,
          "nan_count": 0,
          "min": "12.56400799",
          "max": "12.63511252",
          "histogram": [
           {
            "bin_start": 12.56400799,
            "bin_end": 12.571118443,
            "count": 207
           },
           {
            "bin_start": 12.571118443,
            "bin_end": 12.578228896,
            "count": 472
           },
           {
            "bin_start": 12.578228896,
            "bin_end": 12.585339349,
            "count": 296
           },
           {
            "bin_start": 12.585339349,
            "bin_end": 12.592449802,
            "count": 81
           },
           {
            "bin_start": 12.592449802,
            "bin_end": 12.599560255,
            "count": 238
           },
           {
            "bin_start": 12.599560255,
            "bin_end": 12.606670708,
            "count": 469
           },
           {
            "bin_start": 12.606670708,
            "bin_end": 12.613781161,
            "count": 614
           },
           {
            "bin_start": 12.613781161,
            "bin_end": 12.620891614,
            "count": 672
           },
           {
            "bin_start": 12.620891614,
            "bin_end": 12.628002067,
            "count": 303
           },
           {
            "bin_start": 12.628002067,
            "bin_end": 12.63511252,
            "count": 70
           }
          ]
         }
        },
        {
         "name": "latitude",
         "dtype": "float64",
         "stats": {
          "unique_count": 1122,
          "nan_count": 0,
          "min": "55.61653656",
          "max": "55.66870439",
          "histogram": [
           {
            "bin_start": 55.61653656,
            "bin_end": 55.621753343,
            "count": 159
           },
           {
            "bin_start": 55.621753343,
            "bin_end": 55.626970126,
            "count": 81
           },
           {
            "bin_start": 55.626970126,
            "bin_end": 55.632186909,
            "count": 9
           },
           {
            "bin_start": 55.632186909,
            "bin_end": 55.637403692,
            "count": 346
           },
           {
            "bin_start": 55.637403692,
            "bin_end": 55.642620475,
            "count": 39
           },
           {
            "bin_start": 55.642620475,
            "bin_end": 55.647837258,
            "count": 174
           },
           {
            "bin_start": 55.647837258,
            "bin_end": 55.653054041000004,
            "count": 190
           },
           {
            "bin_start": 55.653054041000004,
            "bin_end": 55.658270824,
            "count": 576
           },
           {
            "bin_start": 55.658270824,
            "bin_end": 55.663487607,
            "count": 918
           },
           {
            "bin_start": 55.663487607,
            "bin_end": 55.66870439,
            "count": 930
           }
          ]
         }
        },
        {
         "name": "building_year",
         "dtype": "float64",
         "stats": {
          "unique_count": 84,
          "nan_count": 0,
          "min": "1872.0",
          "max": "2021.0",
          "histogram": [
           {
            "bin_start": 1872,
            "bin_end": 1886.9,
            "count": 16
           },
           {
            "bin_start": 1886.9,
            "bin_end": 1901.8,
            "count": 84
           },
           {
            "bin_start": 1901.8,
            "bin_end": 1916.7,
            "count": 497
           },
           {
            "bin_start": 1916.7,
            "bin_end": 1931.6,
            "count": 206
           },
           {
            "bin_start": 1931.6,
            "bin_end": 1946.5,
            "count": 1085
           },
           {
            "bin_start": 1946.5,
            "bin_end": 1961.4,
            "count": 19
           },
           {
            "bin_start": 1961.4,
            "bin_end": 1976.3,
            "count": 284
           },
           {
            "bin_start": 1976.3,
            "bin_end": 1991.2,
            "count": 2
           },
           {
            "bin_start": 1991.2,
            "bin_end": 2006.1,
            "count": 443
           },
           {
            "bin_start": 2006.1,
            "bin_end": 2021,
            "count": 786
           }
          ]
         }
        },
        {
         "name": "gov_sqm",
         "dtype": "float64",
         "stats": {
          "unique_count": 131,
          "nan_count": 0,
          "min": "23.0",
          "max": "302.0",
          "histogram": [
           {
            "bin_start": 23,
            "bin_end": 50.9,
            "count": 808
           },
           {
            "bin_start": 50.9,
            "bin_end": 78.8,
            "count": 1426
           },
           {
            "bin_start": 78.8,
            "bin_end": 106.69999999999999,
            "count": 966
           },
           {
            "bin_start": 106.69999999999999,
            "bin_end": 134.6,
            "count": 189
           },
           {
            "bin_start": 134.6,
            "bin_end": 162.5,
            "count": 26
           },
           {
            "bin_start": 162.5,
            "bin_end": 190.39999999999998,
            "count": 4
           },
           {
            "bin_start": 190.39999999999998,
            "bin_end": 218.29999999999998,
            "count": 2
           },
           {
            "bin_start": 218.29999999999998,
            "bin_end": 246.2,
            "count": 0
           },
           {
            "bin_start": 246.2,
            "bin_end": 274.1,
            "count": 0
           },
           {
            "bin_start": 274.1,
            "bin_end": 302,
            "count": 1
           }
          ]
         }
        },
        {
         "name": "sold_date",
         "dtype": "object",
         "stats": {
          "unique_count": 253,
          "nan_count": 0,
          "categories": [
           {
            "name": "2021-07-01",
            "count": 108
           },
           {
            "name": "2021-06-01",
            "count": 107
           },
           {
            "name": "251 others",
            "count": 3207
           }
          ]
         }
        },
        {
         "name": "year",
         "dtype": "int64",
         "stats": {
          "unique_count": 4,
          "nan_count": 0,
          "min": "2019",
          "max": "2022",
          "histogram": [
           {
            "bin_start": 2019,
            "bin_end": 2019.3,
            "count": 838
           },
           {
            "bin_start": 2019.3,
            "bin_end": 2019.6,
            "count": 0
           },
           {
            "bin_start": 2019.6,
            "bin_end": 2019.9,
            "count": 0
           },
           {
            "bin_start": 2019.9,
            "bin_end": 2020.2,
            "count": 1116
           },
           {
            "bin_start": 2020.2,
            "bin_end": 2020.5,
            "count": 0
           },
           {
            "bin_start": 2020.5,
            "bin_end": 2020.8,
            "count": 0
           },
           {
            "bin_start": 2020.8,
            "bin_end": 2021.1,
            "count": 1382
           },
           {
            "bin_start": 2021.1,
            "bin_end": 2021.4,
            "count": 0
           },
           {
            "bin_start": 2021.4,
            "bin_end": 2021.7,
            "count": 0
           },
           {
            "bin_start": 2021.7,
            "bin_end": 2022,
            "count": 86
           }
          ]
         }
        },
        {
         "name": "month",
         "dtype": "int64",
         "stats": {
          "unique_count": 12,
          "nan_count": 0,
          "min": "1",
          "max": "12",
          "histogram": [
           {
            "bin_start": 1,
            "bin_end": 2.1,
            "count": 536
           },
           {
            "bin_start": 2.1,
            "bin_end": 3.2,
            "count": 282
           },
           {
            "bin_start": 3.2,
            "bin_end": 4.300000000000001,
            "count": 259
           },
           {
            "bin_start": 4.300000000000001,
            "bin_end": 5.4,
            "count": 279
           },
           {
            "bin_start": 5.4,
            "bin_end": 6.5,
            "count": 268
           },
           {
            "bin_start": 6.5,
            "bin_end": 7.6000000000000005,
            "count": 316
           },
           {
            "bin_start": 7.6000000000000005,
            "bin_end": 8.700000000000001,
            "count": 332
           },
           {
            "bin_start": 8.700000000000001,
            "bin_end": 9.8,
            "count": 313
           },
           {
            "bin_start": 9.8,
            "bin_end": 10.9,
            "count": 294
           },
           {
            "bin_start": 10.9,
            "bin_end": 12,
            "count": 543
           }
          ]
         }
        },
        {
         "name": "floor",
         "dtype": "float64",
         "stats": {
          "unique_count": 14,
          "nan_count": 0,
          "min": "1.0",
          "max": "14.0",
          "histogram": [
           {
            "bin_start": 1,
            "bin_end": 2.3,
            "count": 1289
           },
           {
            "bin_start": 2.3,
            "bin_end": 3.6,
            "count": 611
           },
           {
            "bin_start": 3.6,
            "bin_end": 4.9,
            "count": 545
           },
           {
            "bin_start": 4.9,
            "bin_end": 6.2,
            "count": 729
           },
           {
            "bin_start": 6.2,
            "bin_end": 7.5,
            "count": 99
           },
           {
            "bin_start": 7.5,
            "bin_end": 8.8,
            "count": 82
           },
           {
            "bin_start": 8.8,
            "bin_end": 10.1,
            "count": 49
           },
           {
            "bin_start": 10.1,
            "bin_end": 11.4,
            "count": 13
           },
           {
            "bin_start": 11.4,
            "bin_end": 12.700000000000001,
            "count": 3
           },
           {
            "bin_start": 12.700000000000001,
            "bin_end": 14,
            "count": 2
           }
          ]
         }
        },
        {
         "name": "_deepnote_index_column",
         "dtype": "int64"
        }
       ],
       "rows": [
        {
         "bfe": 139177,
         "gov_property_value": 2050000,
         "gov_land_value": 493600,
         "sold_price": 6225000,
         "unit_sqm_resi": 107,
         "rooms": 3,
         "street_name": "RobertJacobsensVej",
         "street_number": 82,
         "longitude": 12.57196634,
         "latitude": 55.616704799999994,
         "building_year": 2010,
         "gov_sqm": 95,
         "sold_date": "2022-01-31",
         "year": 2022,
         "month": 1,
         "floor": 4,
         "_deepnote_index_column": 178
        },
        {
         "bfe": 131497,
         "gov_property_value": 960000,
         "gov_land_value": 73400,
         "sold_price": 2300000,
         "unit_sqm_resi": 56,
         "rooms": 2,
         "street_name": "Ungarnsgade",
         "street_number": 37,
         "longitude": 12.61482692,
         "latitude": 55.66270381,
         "building_year": 1929,
         "gov_sqm": 49,
         "sold_date": "2021-01-01",
         "year": 2021,
         "month": 1,
         "floor": 2,
         "_deepnote_index_column": 1634
        },
        {
         "bfe": 133934,
         "gov_property_value": 890000,
         "gov_land_value": 109500,
         "sold_price": 2195000,
         "unit_sqm_resi": 59,
         "rooms": 2,
         "street_name": "Bremensgade",
         "street_number": 27,
         "longitude": 12.6176427,
         "latitude": 55.66595946,
         "building_year": 1939,
         "gov_sqm": 55,
         "sold_date": "2021-01-01",
         "year": 2021,
         "month": 1,
         "floor": 1,
         "_deepnote_index_column": 1633
        },
        {
         "bfe": 112976,
         "gov_property_value": 2250000,
         "gov_land_value": 483800,
         "sold_price": 2800000,
         "unit_sqm_resi": 113,
         "rooms": 1,
         "street_name": "ØrestadsBoulevard",
         "street_number": 57,
         "longitude": 12.58224692,
         "latitude": 55.63443774,
         "building_year": 2005,
         "gov_sqm": 96,
         "sold_date": "2021-01-01",
         "year": 2021,
         "month": 1,
         "floor": 2,
         "_deepnote_index_column": 1632
        },
        {
         "bfe": 136480,
         "gov_property_value": 720000,
         "gov_land_value": 76400,
         "sold_price": 1740000,
         "unit_sqm_resi": 46,
         "rooms": 2,
         "street_name": "Kastrupvej",
         "street_number": 58,
         "longitude": 12.61766949,
         "latitude": 55.65499854,
         "building_year": 1935,
         "gov_sqm": 41,
         "sold_date": "2021-01-01",
         "year": 2021,
         "month": 1,
         "floor": 1,
         "_deepnote_index_column": 1631
        },
        {
         "bfe": 134717,
         "gov_property_value": 850000,
         "gov_land_value": 104900,
         "sold_price": 2135000,
         "unit_sqm_resi": 51,
         "rooms": 2,
         "street_name": "Sorrentovej",
         "street_number": 6,
         "longitude": 12.620995800000001,
         "latitude": 55.65851564,
         "building_year": 1935,
         "gov_sqm": 48,
         "sold_date": "2021-01-01",
         "year": 2021,
         "month": 1,
         "floor": 1,
         "_deepnote_index_column": 1630
        },
        {
         "bfe": 107745,
         "gov_property_value": 3550000,
         "gov_land_value": 660100,
         "sold_price": 5980000,
         "unit_sqm_resi": 127,
         "rooms": 4,
         "street_name": "H.C.HansensGade",
         "street_number": 7,
         "longitude": 12.57320273,
         "latitude": 55.66323246,
         "building_year": 2007,
         "gov_sqm": 117,
         "sold_date": "2021-01-01",
         "year": 2021,
         "month": 1,
         "floor": 5,
         "_deepnote_index_column": 1629
        },
        {
         "bfe": 143771,
         "gov_property_value": 710000,
         "gov_land_value": 80000,
         "sold_price": 1740000,
         "unit_sqm_resi": 41,
         "rooms": 2,
         "street_name": "Brigadevej",
         "street_number": 8,
         "longitude": 12.60097752,
         "latitude": 55.66279453,
         "building_year": 1898,
         "gov_sqm": 37,
         "sold_date": "2021-01-01",
         "year": 2021,
         "month": 1,
         "floor": 2,
         "_deepnote_index_column": 1628
        },
        {
         "bfe": 105064,
         "gov_property_value": 1600000,
         "gov_land_value": 143800,
         "sold_price": 3650000,
         "unit_sqm_resi": 99,
         "rooms": 4,
         "street_name": "Amagerfælledvej",
         "street_number": 15,
         "longitude": 12.595436300000001,
         "latitude": 55.66699597,
         "building_year": 1913,
         "gov_sqm": 92,
         "sold_date": "2021-01-01",
         "year": 2021,
         "month": 1,
         "floor": 1,
         "_deepnote_index_column": 1627
        },
        {
         "bfe": 415758,
         "gov_property_value": 2350000,
         "gov_land_value": 553000,
         "sold_price": 4195000,
         "unit_sqm_resi": 111,
         "rooms": 4,
         "street_name": "RobertJacobsensVej",
         "street_number": 8,
         "longitude": 12.57467044,
         "latitude": 55.62360477,
         "building_year": 2017,
         "gov_sqm": 104,
         "sold_date": "2021-01-01",
         "year": 2021,
         "month": 1,
         "floor": 4,
         "_deepnote_index_column": 1626
        }
       ]
      },
      "text/plain": "         bfe  gov_property_value  gov_land_value  sold_price  unit_sqm_resi  \\\n178   139177           2050000.0        493600.0     6225000          107.0   \n179   112307           2150000.0        451900.0     5525000          106.0   \n180   131723           2300000.0        376400.0     6250000          126.0   \n181   105096           2200000.0        374600.0     4100000           92.0   \n182   140179            660000.0         55200.0     1695000           39.0   \n...      ...                 ...             ...         ...            ...   \n3595  107328           2450000.0        386900.0     3700000           90.0   \n3596  130268            580000.0         53400.0     1295000           32.0   \n3597  134871           1850000.0        110700.0     3650000           94.0   \n3598  138884            560000.0         82200.0     1175000           34.0   \n3599  421339           2000000.0        249300.0     3740000           89.0   \n\n      rooms         street_name  street_number  longitude   latitude  \\\n178       3  RobertJacobsensVej             82  12.571966  55.616705   \n179       4   JensOttoKragsGade             17  12.570181  55.658902   \n180       3       Strandlodsvej             18  12.620666  55.666225   \n181       2   CarlTh.ZahlesGade              8  12.574426  55.662261   \n182       1       Østerdalsgade              1  12.603144  55.655009   \n...     ...                 ...            ...        ...        ...   \n3595      3        Myggenæsgade              3  12.584155  55.665330   \n3596      1       Siciliensgade             11  12.618511  55.652964   \n3597      3       Holmbladsgade             70  12.611411  55.665193   \n3598      1       Hyacintgården              9  12.612206  55.648623   \n3599      3       Strandlodsvej             23  12.625230  55.665170   \n\n      building_year  gov_sqm   sold_date  year  month  floor  \n178          2010.0     95.0  2022-01-31  2022      1    4.0  \n179          2006.0     94.0  2022-01-25  2022      1    2.0  \n180          1963.0    115.0  2022-01-20  2022      1    2.0  \n181          2005.0     81.0  2022-01-19  2022      1    2.0  \n182          1936.0     32.0  2022-01-16  2022      1    5.0  \n...             ...      ...         ...   ...    ...    ...  \n3595         2006.0     79.0  2019-01-02  2019      1    2.0  \n3596         1936.0     27.0  2019-01-02  2019      1    6.0  \n3597         1913.0     90.0  2019-01-02  2019      1    5.0  \n3598         1968.0     31.0  2019-01-02  2019      1    2.0  \n3599         2021.0     80.0  2019-01-02  2019      1    2.0  \n\n[3422 rows x 16 columns]",
      "text/html": "<div>\n<style scoped>\n    .dataframe tbody tr th:only-of-type {\n        vertical-align: middle;\n    }\n\n    .dataframe tbody tr th {\n        vertical-align: top;\n    }\n\n    .dataframe thead th {\n        text-align: right;\n    }\n</style>\n<table border=\"1\" class=\"dataframe\">\n  <thead>\n    <tr style=\"text-align: right;\">\n      <th></th>\n      <th>bfe</th>\n      <th>gov_property_value</th>\n      <th>gov_land_value</th>\n      <th>sold_price</th>\n      <th>unit_sqm_resi</th>\n      <th>rooms</th>\n      <th>street_name</th>\n      <th>street_number</th>\n      <th>longitude</th>\n      <th>latitude</th>\n      <th>building_year</th>\n      <th>gov_sqm</th>\n      <th>sold_date</th>\n      <th>year</th>\n      <th>month</th>\n      <th>floor</th>\n    </tr>\n  </thead>\n  <tbody>\n    <tr>\n      <th>178</th>\n      <td>139177</td>\n      <td>2050000.0</td>\n      <td>493600.0</td>\n      <td>6225000</td>\n      <td>107.0</td>\n      <td>3</td>\n      <td>RobertJacobsensVej</td>\n      <td>82</td>\n      <td>12.571966</td>\n      <td>55.616705</td>\n      <td>2010.0</td>\n      <td>95.0</td>\n      <td>2022-01-31</td>\n      <td>2022</td>\n      <td>1</td>\n      <td>4.0</td>\n    </tr>\n    <tr>\n      <th>179</th>\n      <td>112307</td>\n      <td>2150000.0</td>\n      <td>451900.0</td>\n      <td>5525000</td>\n      <td>106.0</td>\n      <td>4</td>\n      <td>JensOttoKragsGade</td>\n      <td>17</td>\n      <td>12.570181</td>\n      <td>55.658902</td>\n      <td>2006.0</td>\n      <td>94.0</td>\n      <td>2022-01-25</td>\n      <td>2022</td>\n      <td>1</td>\n      <td>2.0</td>\n    </tr>\n    <tr>\n      <th>180</th>\n      <td>131723</td>\n      <td>2300000.0</td>\n      <td>376400.0</td>\n      <td>6250000</td>\n      <td>126.0</td>\n      <td>3</td>\n      <td>Strandlodsvej</td>\n      <td>18</td>\n      <td>12.620666</td>\n      <td>55.666225</td>\n      <td>1963.0</td>\n      <td>115.0</td>\n      <td>2022-01-20</td>\n      <td>2022</td>\n      <td>1</td>\n      <td>2.0</td>\n    </tr>\n    <tr>\n      <th>181</th>\n      <td>105096</td>\n      <td>2200000.0</td>\n      <td>374600.0</td>\n      <td>4100000</td>\n      <td>92.0</td>\n      <td>2</td>\n      <td>CarlTh.ZahlesGade</td>\n      <td>8</td>\n      <td>12.574426</td>\n      <td>55.662261</td>\n      <td>2005.0</td>\n      <td>81.0</td>\n      <td>2022-01-19</td>\n      <td>2022</td>\n      <td>1</td>\n      <td>2.0</td>\n    </tr>\n    <tr>\n      <th>182</th>\n      <td>140179</td>\n      <td>660000.0</td>\n      <td>55200.0</td>\n      <td>1695000</td>\n      <td>39.0</td>\n      <td>1</td>\n      <td>Østerdalsgade</td>\n      <td>1</td>\n      <td>12.603144</td>\n      <td>55.655009</td>\n      <td>1936.0</td>\n      <td>32.0</td>\n      <td>2022-01-16</td>\n      <td>2022</td>\n      <td>1</td>\n      <td>5.0</td>\n    </tr>\n    <tr>\n      <th>...</th>\n      <td>...</td>\n      <td>...</td>\n      <td>...</td>\n      <td>...</td>\n      <td>...</td>\n      <td>...</td>\n      <td>...</td>\n      <td>...</td>\n      <td>...</td>\n      <td>...</td>\n      <td>...</td>\n      <td>...</td>\n      <td>...</td>\n      <td>...</td>\n      <td>...</td>\n      <td>...</td>\n    </tr>\n    <tr>\n      <th>3595</th>\n      <td>107328</td>\n      <td>2450000.0</td>\n      <td>386900.0</td>\n      <td>3700000</td>\n      <td>90.0</td>\n      <td>3</td>\n      <td>Myggenæsgade</td>\n      <td>3</td>\n      <td>12.584155</td>\n      <td>55.665330</td>\n      <td>2006.0</td>\n      <td>79.0</td>\n      <td>2019-01-02</td>\n      <td>2019</td>\n      <td>1</td>\n      <td>2.0</td>\n    </tr>\n    <tr>\n      <th>3596</th>\n      <td>130268</td>\n      <td>580000.0</td>\n      <td>53400.0</td>\n      <td>1295000</td>\n      <td>32.0</td>\n      <td>1</td>\n      <td>Siciliensgade</td>\n      <td>11</td>\n      <td>12.618511</td>\n      <td>55.652964</td>\n      <td>1936.0</td>\n      <td>27.0</td>\n      <td>2019-01-02</td>\n      <td>2019</td>\n      <td>1</td>\n      <td>6.0</td>\n    </tr>\n    <tr>\n      <th>3597</th>\n      <td>134871</td>\n      <td>1850000.0</td>\n      <td>110700.0</td>\n      <td>3650000</td>\n      <td>94.0</td>\n      <td>3</td>\n      <td>Holmbladsgade</td>\n      <td>70</td>\n      <td>12.611411</td>\n      <td>55.665193</td>\n      <td>1913.0</td>\n      <td>90.0</td>\n      <td>2019-01-02</td>\n      <td>2019</td>\n      <td>1</td>\n      <td>5.0</td>\n    </tr>\n    <tr>\n      <th>3598</th>\n      <td>138884</td>\n      <td>560000.0</td>\n      <td>82200.0</td>\n      <td>1175000</td>\n      <td>34.0</td>\n      <td>1</td>\n      <td>Hyacintgården</td>\n      <td>9</td>\n      <td>12.612206</td>\n      <td>55.648623</td>\n      <td>1968.0</td>\n      <td>31.0</td>\n      <td>2019-01-02</td>\n      <td>2019</td>\n      <td>1</td>\n      <td>2.0</td>\n    </tr>\n    <tr>\n      <th>3599</th>\n      <td>421339</td>\n      <td>2000000.0</td>\n      <td>249300.0</td>\n      <td>3740000</td>\n      <td>89.0</td>\n      <td>3</td>\n      <td>Strandlodsvej</td>\n      <td>23</td>\n      <td>12.625230</td>\n      <td>55.665170</td>\n      <td>2021.0</td>\n      <td>80.0</td>\n      <td>2019-01-02</td>\n      <td>2019</td>\n      <td>1</td>\n      <td>2.0</td>\n    </tr>\n  </tbody>\n</table>\n<p>3422 rows × 16 columns</p>\n</div>"
     },
     "metadata": {}
    }
   ]
  },
  {
   "cell_type": "code",
   "metadata": {
    "tags": [],
    "deepnote_to_be_reexecuted": false,
    "source_hash": "8555cb0",
    "execution_start": 1651518353098,
    "execution_millis": 561,
    "cell_id": "00006-626155be-3c88-4ff5-a7d8-3e1f43a76e43",
    "deepnote_cell_type": "code",
    "deepnote_cell_height": 425.1875,
    "deepnote_output_heights": [
     328.1875
    ]
   },
   "source": "train_data.max()",
   "execution_count": null,
   "outputs": [
    {
     "output_type": "execute_result",
     "execution_count": 111,
     "data": {
      "text/plain": "bfe                     100179329\ngov_property_value        5.4e+06\ngov_land_value         1.0214e+06\nsold_price                6600000\nunit_sqm_resi                 208\nrooms                           7\nstreet_name           Østrigsgade\nstreet_number                 305\nlongitude                 12.6351\nlatitude                  55.6687\nbuilding_year                2021\ngov_sqm                       302\nsold_date              2022-01-31\nyear                         2022\nmonth                          12\nfloor                          14\ndtype: object"
     },
     "metadata": {}
    }
   ]
  },
  {
   "cell_type": "code",
   "metadata": {
    "tags": [],
    "deepnote_to_be_reexecuted": false,
    "source_hash": "a74e07a0",
    "execution_start": 1651518353112,
    "execution_millis": 551,
    "cell_id": "00007-350ffeb0-dc10-4b45-acbd-afbba5233a3b",
    "deepnote_cell_type": "code",
    "deepnote_cell_height": 194.9375,
    "deepnote_output_heights": [
     97.9375
    ]
   },
   "source": "train_data.columns",
   "execution_count": null,
   "outputs": [
    {
     "output_type": "execute_result",
     "execution_count": 112,
     "data": {
      "text/plain": "Index(['bfe', 'gov_property_value', 'gov_land_value', 'sold_price',\n       'unit_sqm_resi', 'rooms', 'street_name', 'street_number', 'longitude',\n       'latitude', 'building_year', 'gov_sqm', 'sold_date', 'year', 'month',\n       'floor'],\n      dtype='object')"
     },
     "metadata": {}
    }
   ]
  },
  {
   "cell_type": "code",
   "metadata": {
    "tags": [],
    "deepnote_to_be_reexecuted": false,
    "source_hash": "18523781",
    "execution_start": 1651518353129,
    "execution_millis": 1,
    "cell_id": "00008-3522ee69-dae9-4ebd-a8ad-06ce532a2e3b",
    "deepnote_cell_type": "code",
    "deepnote_cell_height": 333
   },
   "source": "# drop col for train\ntrain_data = train_data.drop(columns=[\n    #'street_name',\n    #'year',\n    'sold_date',\n    #'bfe'\n    ]) \n\n# drop col for test\ntest_data = test_data.drop(columns=[\n    #'street_name',\n    #'year',\n    'sold_date',\n    #'bfe'\n    ]) ",
   "execution_count": null,
   "outputs": []
  },
  {
   "cell_type": "code",
   "metadata": {
    "tags": [],
    "deepnote_to_be_reexecuted": false,
    "source_hash": "6292f728",
    "execution_start": 1651518353130,
    "execution_millis": 535,
    "cell_id": "00009-186c1164-9b69-452f-b536-92a8be45cff7",
    "deepnote_cell_type": "code",
    "deepnote_cell_height": 312.375
   },
   "source": "# split TRAIN and drop target aka. sold_price\n\nX_train = train_data.drop(['sold_price'], axis= 1)\ny_train = train_data['sold_price']\nprint(X_train.shape, y_train.shape)\n\n# split TEST and drop target aka. sold_price\n\nX_test = test_data.drop(['sold_price'], axis= 1)\ny_test = test_data['sold_price']\nprint(X_test.shape, y_test.shape)",
   "execution_count": null,
   "outputs": [
    {
     "name": "stdout",
     "text": "(3422, 14) (3422,)\n(178, 14) (178,)\n",
     "output_type": "stream"
    }
   ]
  },
  {
   "cell_type": "code",
   "metadata": {
    "tags": [],
    "deepnote_to_be_reexecuted": false,
    "source_hash": "2175c87",
    "execution_start": 1651518353131,
    "execution_millis": 536,
    "cell_id": "00010-53b43275-45fb-4351-b448-e14a7cebccba",
    "deepnote_cell_type": "code",
    "deepnote_cell_height": 175.75,
    "deepnote_output_heights": [
     78.75
    ]
   },
   "source": "X_train.columns",
   "execution_count": null,
   "outputs": [
    {
     "output_type": "execute_result",
     "execution_count": 115,
     "data": {
      "text/plain": "Index(['bfe', 'gov_property_value', 'gov_land_value', 'unit_sqm_resi', 'rooms',\n       'street_name', 'street_number', 'longitude', 'latitude',\n       'building_year', 'gov_sqm', 'year', 'month', 'floor'],\n      dtype='object')"
     },
     "metadata": {}
    }
   ]
  },
  {
   "cell_type": "markdown",
   "source": "## CatBoost",
   "metadata": {
    "tags": [],
    "is_collapsed": false,
    "cell_id": "00011-2ef8bd6e-4580-4a95-a883-401cead7970b",
    "deepnote_cell_type": "text-cell-h2"
   }
  },
  {
   "cell_type": "markdown",
   "source": "### Stooop building model with best param",
   "metadata": {
    "tags": [],
    "is_collapsed": false,
    "cell_id": "00019-2d3d2393-56b4-419a-a079-ee0e66ba4d6f",
    "deepnote_cell_type": "text-cell-h3"
   }
  },
  {
   "cell_type": "code",
   "metadata": {
    "tags": [],
    "deepnote_to_be_reexecuted": false,
    "source_hash": "8bf12ade",
    "execution_start": 1651518353176,
    "execution_millis": 494,
    "cell_id": "00020-00770c31-bc83-4c9a-ad4f-cd9d32e54e15",
    "deepnote_cell_type": "code",
    "deepnote_cell_height": 334.1875,
    "deepnote_output_heights": [
     21.1875
    ]
   },
   "source": "# hot one encoded setup - only run if its needed\n\"\"\"\ntrain_dataset = cb.Pool(X_train, y_train) \ntest_dataset = cb.Pool(X_test, y_test)\n\"\"\"\n\n\"\"\"\nX_train = pd.read_csv(\"X_train.csv\")\ny_train = pd.read_csv(\"y_train.csv\")\n\nX_test = pd.read_csv(\"X_test.csv\")\ny_test = pd.read_csv(\"y_test.csv\")\n\"\"\"",
   "execution_count": null,
   "outputs": [
    {
     "output_type": "execute_result",
     "execution_count": 116,
     "data": {
      "text/plain": "'\\nX_train = pd.read_csv(\"X_train.csv\")\\ny_train = pd.read_csv(\"y_train.csv\")\\n\\nX_test = pd.read_csv(\"X_test.csv\")\\ny_test = pd.read_csv(\"y_test.csv\")\\n'"
     },
     "metadata": {}
    }
   ]
  },
  {
   "cell_type": "code",
   "metadata": {
    "tags": [],
    "deepnote_to_be_reexecuted": false,
    "source_hash": "4def1cab",
    "execution_start": 1651518353177,
    "execution_millis": 31630,
    "cell_id": "00021-f9e2f7e2-21c3-4ad9-a232-27d412a6b5cc",
    "deepnote_cell_type": "code",
    "deepnote_cell_height": 680.125
   },
   "source": "train_dataset = cb.Pool(X_train, y_train, cat_features=['street_name']) \ntest_dataset = cb.Pool(X_test, y_test, cat_features= ['street_name'])\n\ncat_model = cb.CatBoostRegressor(\n    eval_metric = 'MAE',  \n    n_estimators= 20000, \n    depth =6).fit(\n        train_dataset,\n        verbose=1000)",
   "execution_count": null,
   "outputs": [
    {
     "name": "stdout",
     "text": "Learning rate set to 0.004354\n0:\tlearn: 1003112.5815221\ttotal: 2.21ms\tremaining: 44.2s\n1000:\tlearn: 235494.4076502\ttotal: 1.58s\tremaining: 30.1s\n2000:\tlearn: 202955.9316504\ttotal: 3.13s\tremaining: 28.1s\n3000:\tlearn: 184693.5593598\ttotal: 4.63s\tremaining: 26.2s\n4000:\tlearn: 172673.6202627\ttotal: 6.13s\tremaining: 24.5s\n5000:\tlearn: 163066.5104491\ttotal: 7.64s\tremaining: 22.9s\n6000:\tlearn: 155139.0754906\ttotal: 9.15s\tremaining: 21.3s\n7000:\tlearn: 148621.9206990\ttotal: 10.7s\tremaining: 19.8s\n8000:\tlearn: 142839.3702350\ttotal: 12.2s\tremaining: 18.3s\n9000:\tlearn: 137525.8104272\ttotal: 13.7s\tremaining: 16.8s\n10000:\tlearn: 132837.0104219\ttotal: 15.3s\tremaining: 15.3s\n11000:\tlearn: 128549.4381567\ttotal: 16.8s\tremaining: 13.7s\n12000:\tlearn: 124529.2622433\ttotal: 18.3s\tremaining: 12.2s\n13000:\tlearn: 120809.0835250\ttotal: 19.9s\tremaining: 10.7s\n14000:\tlearn: 117290.7871290\ttotal: 21.4s\tremaining: 9.16s\n15000:\tlearn: 113972.7743426\ttotal: 22.9s\tremaining: 7.64s\n16000:\tlearn: 110868.7948566\ttotal: 24.4s\tremaining: 6.11s\n17000:\tlearn: 107999.8093443\ttotal: 26s\tremaining: 4.58s\n18000:\tlearn: 105184.0714178\ttotal: 27.6s\tremaining: 3.06s\n19000:\tlearn: 102584.2798974\ttotal: 29.1s\tremaining: 1.53s\n19999:\tlearn: 100083.3642871\ttotal: 30.7s\tremaining: 0us\n",
     "output_type": "stream"
    }
   ]
  },
  {
   "cell_type": "markdown",
   "source": "### Evaluate ",
   "metadata": {
    "tags": [],
    "is_collapsed": false,
    "cell_id": "00022-16e41a4a-4021-4eb4-955b-c1471fe9bd62",
    "deepnote_cell_type": "text-cell-h3"
   }
  },
  {
   "cell_type": "code",
   "metadata": {
    "tags": [],
    "deepnote_to_be_reexecuted": false,
    "source_hash": "5c4c6c8d",
    "execution_start": 1651518384808,
    "execution_millis": 24,
    "cell_id": "00023-831e55e1-3783-478f-9100-0ef36e5ff5be",
    "deepnote_cell_type": "code",
    "deepnote_cell_height": 447
   },
   "source": "# evaluate \n\ny_true = y_test # real values \ny_pred = cat_model.predict(X_test) # predicted values \n\nr2 = round(metrics.r2_score(y_true, y_pred), 4)\nmae = round(metrics.mean_absolute_error(y_true, y_pred),2)\nmape = round(metrics.mean_absolute_percentage_error(y_true, y_pred),4)\n\neval_dict = {'R2': r2, 'MAE': mae, 'MAPE': mape}\neval_df = pd.DataFrame.from_dict(eval_dict, orient='index').transpose()\n\neval_df",
   "execution_count": null,
   "outputs": [
    {
     "output_type": "execute_result",
     "execution_count": 118,
     "data": {
      "application/vnd.deepnote.dataframe.v3+json": {
       "column_count": 3,
       "row_count": 1,
       "columns": [
        {
         "name": "R2",
         "dtype": "float64",
         "stats": {
          "unique_count": 1,
          "nan_count": 0,
          "min": "0.9423",
          "max": "0.9423",
          "histogram": [
           {
            "bin_start": 0.4423,
            "bin_end": 0.5423,
            "count": 0
           },
           {
            "bin_start": 0.5423,
            "bin_end": 0.6423,
            "count": 0
           },
           {
            "bin_start": 0.6423,
            "bin_end": 0.7423,
            "count": 0
           },
           {
            "bin_start": 0.7423,
            "bin_end": 0.8423,
            "count": 0
           },
           {
            "bin_start": 0.8423,
            "bin_end": 0.9422999999999999,
            "count": 0
           },
           {
            "bin_start": 0.9422999999999999,
            "bin_end": 1.0423,
            "count": 1
           },
           {
            "bin_start": 1.0423,
            "bin_end": 1.1423,
            "count": 0
           },
           {
            "bin_start": 1.1423,
            "bin_end": 1.2423,
            "count": 0
           },
           {
            "bin_start": 1.2423,
            "bin_end": 1.3422999999999998,
            "count": 0
           },
           {
            "bin_start": 1.3422999999999998,
            "bin_end": 1.4423,
            "count": 0
           }
          ]
         }
        },
        {
         "name": "MAE",
         "dtype": "float64",
         "stats": {
          "unique_count": 1,
          "nan_count": 0,
          "min": "203834.26",
          "max": "203834.26",
          "histogram": [
           {
            "bin_start": 203833.76,
            "bin_end": 203833.86000000002,
            "count": 0
           },
           {
            "bin_start": 203833.86000000002,
            "bin_end": 203833.96000000002,
            "count": 0
           },
           {
            "bin_start": 203833.96000000002,
            "bin_end": 203834.06,
            "count": 0
           },
           {
            "bin_start": 203834.06,
            "bin_end": 203834.16,
            "count": 0
           },
           {
            "bin_start": 203834.16,
            "bin_end": 203834.26,
            "count": 0
           },
           {
            "bin_start": 203834.26,
            "bin_end": 203834.36000000002,
            "count": 1
           },
           {
            "bin_start": 203834.36000000002,
            "bin_end": 203834.46000000002,
            "count": 0
           },
           {
            "bin_start": 203834.46000000002,
            "bin_end": 203834.56,
            "count": 0
           },
           {
            "bin_start": 203834.56,
            "bin_end": 203834.66,
            "count": 0
           },
           {
            "bin_start": 203834.66,
            "bin_end": 203834.76,
            "count": 0
           }
          ]
         }
        },
        {
         "name": "MAPE",
         "dtype": "float64",
         "stats": {
          "unique_count": 1,
          "nan_count": 0,
          "min": "0.0647",
          "max": "0.0647",
          "histogram": [
           {
            "bin_start": -0.4353,
            "bin_end": -0.33530000000000004,
            "count": 0
           },
           {
            "bin_start": -0.33530000000000004,
            "bin_end": -0.2353,
            "count": 0
           },
           {
            "bin_start": -0.2353,
            "bin_end": -0.13529999999999998,
            "count": 0
           },
           {
            "bin_start": -0.13529999999999998,
            "bin_end": -0.0353,
            "count": 0
           },
           {
            "bin_start": -0.0353,
            "bin_end": 0.06469999999999998,
            "count": 0
           },
           {
            "bin_start": 0.06469999999999998,
            "bin_end": 0.16470000000000007,
            "count": 1
           },
           {
            "bin_start": 0.16470000000000007,
            "bin_end": 0.26470000000000005,
            "count": 0
           },
           {
            "bin_start": 0.26470000000000005,
            "bin_end": 0.3647,
            "count": 0
           },
           {
            "bin_start": 0.3647,
            "bin_end": 0.4647,
            "count": 0
           },
           {
            "bin_start": 0.4647,
            "bin_end": 0.5647,
            "count": 0
           }
          ]
         }
        },
        {
         "name": "_deepnote_index_column",
         "dtype": "int64"
        }
       ],
       "rows": [
        {
         "R2": 0.9423,
         "MAE": 203834.26,
         "MAPE": 0.0647,
         "_deepnote_index_column": 0
        }
       ]
      },
      "text/plain": "       R2        MAE    MAPE\n0  0.9423  203834.26  0.0647",
      "text/html": "<div>\n<style scoped>\n    .dataframe tbody tr th:only-of-type {\n        vertical-align: middle;\n    }\n\n    .dataframe tbody tr th {\n        vertical-align: top;\n    }\n\n    .dataframe thead th {\n        text-align: right;\n    }\n</style>\n<table border=\"1\" class=\"dataframe\">\n  <thead>\n    <tr style=\"text-align: right;\">\n      <th></th>\n      <th>R2</th>\n      <th>MAE</th>\n      <th>MAPE</th>\n    </tr>\n  </thead>\n  <tbody>\n    <tr>\n      <th>0</th>\n      <td>0.9423</td>\n      <td>203834.26</td>\n      <td>0.0647</td>\n    </tr>\n  </tbody>\n</table>\n</div>"
     },
     "metadata": {}
    }
   ]
  },
  {
   "cell_type": "markdown",
   "source": "### Feature Importance",
   "metadata": {
    "tags": [],
    "is_collapsed": false,
    "cell_id": "00027-2e3571c9-35ec-4c65-9dd6-96530a4bbde1",
    "owner_user_id": "fb559975-4917-403a-887b-d1eaae0ada1d",
    "deepnote_cell_type": "text-cell-h3"
   }
  },
  {
   "cell_type": "code",
   "metadata": {
    "tags": [],
    "deepnote_to_be_reexecuted": false,
    "source_hash": "b820f931",
    "execution_start": 1651518385123,
    "execution_millis": 522,
    "cell_id": "00030-236c7d84-9cdb-4eec-b117-0eceb9abb648",
    "deepnote_cell_type": "code",
    "deepnote_cell_height": 440.8125,
    "deepnote_output_heights": [
     289.8125
    ]
   },
   "source": "# use feature_importances_, which is similar to the built-in function\n\nfeature_scores = pd.Series(cat_model.feature_importances_, index=X_train.columns).sort_values(ascending=False)\nfeature_scores",
   "execution_count": null,
   "outputs": [
    {
     "output_type": "execute_result",
     "execution_count": 120,
     "data": {
      "text/plain": "gov_property_value    26.337689\nunit_sqm_resi         17.535087\nlatitude              11.069780\ngov_sqm                9.817530\nyear                   9.382829\nrooms                  5.092273\nlongitude              3.658138\nfloor                  3.234860\nbfe                    2.882719\nstreet_name            2.625007\ngov_land_value         2.491307\nmonth                  2.058752\nbuilding_year          2.042059\nstreet_number          1.771968\ndtype: float64"
     },
     "metadata": {}
    }
   ]
  },
  {
   "cell_type": "code",
   "metadata": {
    "tags": [],
    "deepnote_to_be_reexecuted": false,
    "source_hash": "19c1b998",
    "execution_start": 1651518385175,
    "execution_millis": 666,
    "cell_id": "00031-093a4c8b-bd7f-43d3-b878-85106c7945b3",
    "deepnote_cell_type": "code",
    "deepnote_cell_height": 852,
    "deepnote_output_heights": [
     611
    ]
   },
   "source": "# Creating a seaborn bar plot\n\nf, ax = plt.subplots(figsize=(40, 50))\nax = sns.barplot(x=feature_scores, y=feature_scores.index)\nax.set_title(\"Visualize feature scores of the features\", fontsize=50)\nax.set_yticklabels(feature_scores.index, fontsize=30)\nax.set_xlabel(\"Feature importance score\")\nax.set_ylabel(\"Features\")\nplt.show()",
   "execution_count": null,
   "outputs": [
    {
     "data": {
      "text/plain": "<Figure size 2880x3600 with 1 Axes>",
      "image/png": "[encoded data removed]"
     },
     "metadata": {
      "needs_background": "light",
      "image/png": {
       "width": 2564,
       "height": 2811
      }
     },
     "output_type": "display_data"
    }
   ]
  },
  {
   "cell_type": "markdown",
   "source": "### Save model",
   "metadata": {
    "tags": [],
    "is_collapsed": false,
    "cell_id": "00032-0c509c4b-9e9f-4399-a6a3-2811545648ff",
    "deepnote_cell_type": "text-cell-h3"
   }
  },
  {
   "cell_type": "code",
   "metadata": {
    "tags": [],
    "deepnote_to_be_reexecuted": false,
    "source_hash": "673e5d8f",
    "execution_start": 1651518385825,
    "execution_millis": 17,
    "cell_id": "00033-ddfb9858-2e01-437d-a85e-de0936716b58",
    "deepnote_cell_type": "code",
    "deepnote_cell_height": 208.1875,
    "deepnote_output_heights": [
     21.1875
    ]
   },
   "source": "\"\"\"\n\n#save model to folder\nwith open('cat_model_pkl', 'wb') as files:\n    pickle.dump(cat_model, files)\n    \"\"\"",
   "execution_count": null,
   "outputs": [
    {
     "output_type": "execute_result",
     "execution_count": 122,
     "data": {
      "text/plain": "\"\\n\\n#save model to folder\\nwith open('cat_model_pkl', 'wb') as files:\\n    pickle.dump(cat_model, files)\\n    \""
     },
     "metadata": {}
    }
   ]
  },
  {
   "cell_type": "code",
   "metadata": {
    "tags": [],
    "deepnote_to_be_reexecuted": false,
    "source_hash": "31853536",
    "execution_start": 1651518385827,
    "execution_millis": 15,
    "cell_id": "00034-f4c9b26d-2501-4aa8-b168-689c47181f6b",
    "deepnote_cell_type": "code",
    "deepnote_cell_height": 208.1875,
    "deepnote_output_heights": [
     21.1875
    ]
   },
   "source": "# load saved model\n\"\"\"\nwith open('cat_model_pkl' , 'rb') as f:\n    cat_model = pickle.load(f)\n\"\"\"\n#cat_model.predict()",
   "execution_count": null,
   "outputs": [
    {
     "output_type": "execute_result",
     "execution_count": 123,
     "data": {
      "text/plain": "\"\\nwith open('cat_model_pkl' , 'rb') as f:\\n    cat_model = pickle.load(f)\\n\""
     },
     "metadata": {}
    }
   ]
  },
  {
   "cell_type": "markdown",
   "source": "# ",
   "metadata": {
    "tags": [],
    "is_collapsed": false,
    "cell_id": "00035-e8a85e1a-09dc-4a8d-ac48-6902d673a994",
    "deepnote_cell_type": "text-cell-h1"
   }
  },
  {
   "cell_type": "markdown",
   "source": "<a style='text-decoration:none;line-height:16px;display:flex;color:#5B5B62;padding:10px;justify-content:end;' href='https://deepnote.com?utm_source=created-in-deepnote-cell&projectId=8a2d9d23-5445-401b-81ac-9e4d2df66dba' target=\"_blank\">\n<img alt='Created in deepnote.com' style='display:inline;max-height:16px;margin:0px;margin-right:7.5px;' src='data:image/svg+xml;base64,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' > </img>\nCreated in <span style='font-weight:600;margin-left:4px;'>Deepnote</span></a>",
   "metadata": {
    "tags": [],
    "created_in_deepnote_cell": true,
    "deepnote_cell_type": "markdown"
   }
  }
 ],
 "nbformat": 4,
 "nbformat_minor": 2,
 "metadata": {
  "orig_nbformat": 2,
  "deepnote": {
   "is_reactive": false
  },
  "deepnote_notebook_id": "3e97f44f-1995-4584-a90f-2eb8f695d93f",
  "deepnote_execution_queue": []
 }
}

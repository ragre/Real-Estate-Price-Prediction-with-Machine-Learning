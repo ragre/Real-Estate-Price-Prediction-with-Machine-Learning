{
 "cells": [
  {
   "cell_type": "markdown",
   "source": "# CatBoost Regression model WITHOUT miss label",
   "metadata": {
    "tags": [],
    "is_collapsed": false,
    "cell_id": "070f93be-ac53-48f7-80b3-aba3470e6424",
    "deepnote_cell_type": "text-cell-h1"
   }
  },
  {
   "cell_type": "code",
   "metadata": {
    "tags": [],
    "deepnote_to_be_reexecuted": false,
    "source_hash": "919d9bcf",
    "execution_start": 1651497044570,
    "execution_millis": 2623,
    "cell_id": "00001-3afa8faa-dd1a-47d8-b39d-6b735b3597b4",
    "deepnote_cell_type": "code",
    "deepnote_cell_height": 423
   },
   "source": "# import packages \n\nimport numpy as np\nimport pandas as pd\n\nimport seaborn as sns\nimport matplotlib.pyplot as plt\nfrom matplotlib.pyplot import figure\n\n# import ML packages \nimport catboost as cb\nfrom catboost import CatBoostRegressor, Pool\n\nfrom sklearn.model_selection import GridSearchCV\nfrom sklearn.model_selection import train_test_split\nfrom sklearn.metrics import mean_squared_error\n\nfrom sklearn import metrics\n\nimport pickle",
   "execution_count": null,
   "outputs": []
  },
  {
   "cell_type": "markdown",
   "source": "### Import &amp; split data",
   "metadata": {
    "tags": [],
    "is_collapsed": false,
    "cell_id": "00002-246e3b73-741c-49a4-93fe-f4a1f1a900fc",
    "deepnote_cell_type": "text-cell-h3"
   }
  },
  {
   "cell_type": "code",
   "metadata": {
    "tags": [],
    "deepnote_to_be_reexecuted": false,
    "source_hash": "a4afacfc",
    "execution_start": 1651242870360,
    "execution_millis": 14,
    "cell_id": "00003-fa684ab0-1ec8-4f3c-9f4f-6a6677fa8764",
    "deepnote_cell_type": "code",
    "deepnote_cell_height": 172.1875,
    "deepnote_output_heights": [
     21.1875
    ]
   },
   "source": "\"\"\"\nSince Catboost can handle text and not only int input, the dataset is import before its previous split.\n\n\"\"\"",
   "execution_count": null,
   "outputs": [
    {
     "output_type": "execute_result",
     "execution_count": 2,
     "data": {
      "text/plain": "'\\nSince Catboost can handle text and not only int input, the dataset is import before its previous split.\\n\\n'"
     },
     "metadata": {}
    }
   ]
  },
  {
   "cell_type": "code",
   "metadata": {
    "tags": [],
    "deepnote_to_be_reexecuted": false,
    "source_hash": "694eed89",
    "execution_start": 1651497524479,
    "execution_millis": 11,
    "cell_id": "00004-74c294bf-667d-4487-a6b1-433c623d3ffe",
    "deepnote_cell_type": "code",
    "deepnote_cell_height": 117
   },
   "source": "# import data \n\ngold_data_model = pd.read_csv(\"silver_data_model.csv\")",
   "execution_count": null,
   "outputs": []
  },
  {
   "cell_type": "code",
   "metadata": {
    "cell_id": "dc8a9c7b309640e1a46c127f3aeabb71",
    "tags": [],
    "deepnote_to_be_reexecuted": false,
    "source_hash": "c0467f68",
    "execution_start": 1651497587287,
    "execution_millis": 1,
    "deepnote_table_state": {
     "pageSize": 10,
     "pageIndex": 0,
     "filters": [
      {
       "id": "bfe",
       "value": "123884",
       "type": "contains"
      }
     ],
     "sortBy": []
    },
    "deepnote_table_loading": false,
    "deepnote_cell_type": "code",
    "deepnote_cell_height": 135
   },
   "source": "# remove miss label data\ni = gold_data_model[gold_data_model.bfe == 123884].index\n\ngold_data_model = gold_data_model.drop(i)",
   "execution_count": null,
   "outputs": []
  },
  {
   "cell_type": "code",
   "metadata": {
    "cell_id": "96daee5e2dd04724a336c402db878eb1",
    "tags": [],
    "deepnote_to_be_reexecuted": false,
    "source_hash": "dbd98ee6",
    "execution_start": 1651497602232,
    "execution_millis": 151,
    "deepnote_table_state": {
     "pageSize": 10,
     "pageIndex": 0,
     "filters": [],
     "sortBy": []
    },
    "deepnote_table_loading": false,
    "deepnote_cell_type": "code",
    "deepnote_cell_height": 410
   },
   "source": "gold_data_model.head()",
   "execution_count": null,
   "outputs": [
    {
     "output_type": "execute_result",
     "execution_count": 19,
     "data": {
      "application/vnd.deepnote.dataframe.v3+json": {
       "column_count": 16,
       "row_count": 5,
       "columns": [
        {
         "name": "bfe",
         "dtype": "int64",
         "stats": {
          "unique_count": 5,
          "nan_count": 0,
          "min": "103789",
          "max": "135089",
          "histogram": [
           {
            "bin_start": 103789,
            "bin_end": 106919,
            "count": 1
           },
           {
            "bin_start": 106919,
            "bin_end": 110049,
            "count": 0
           },
           {
            "bin_start": 110049,
            "bin_end": 113179,
            "count": 1
           },
           {
            "bin_start": 113179,
            "bin_end": 116309,
            "count": 0
           },
           {
            "bin_start": 116309,
            "bin_end": 119439,
            "count": 0
           },
           {
            "bin_start": 119439,
            "bin_end": 122569,
            "count": 0
           },
           {
            "bin_start": 122569,
            "bin_end": 125699,
            "count": 0
           },
           {
            "bin_start": 125699,
            "bin_end": 128829,
            "count": 0
           },
           {
            "bin_start": 128829,
            "bin_end": 131959,
            "count": 1
           },
           {
            "bin_start": 131959,
            "bin_end": 135089,
            "count": 2
           }
          ]
         }
        },
        {
         "name": "gov_property_value",
         "dtype": "float64",
         "stats": {
          "unique_count": 5,
          "nan_count": 0,
          "min": "960000.0",
          "max": "2250000.0",
          "histogram": [
           {
            "bin_start": 960000,
            "bin_end": 1089000,
            "count": 2
           },
           {
            "bin_start": 1089000,
            "bin_end": 1218000,
            "count": 0
           },
           {
            "bin_start": 1218000,
            "bin_end": 1347000,
            "count": 0
           },
           {
            "bin_start": 1347000,
            "bin_end": 1476000,
            "count": 1
           },
           {
            "bin_start": 1476000,
            "bin_end": 1605000,
            "count": 0
           },
           {
            "bin_start": 1605000,
            "bin_end": 1734000,
            "count": 0
           },
           {
            "bin_start": 1734000,
            "bin_end": 1863000,
            "count": 0
           },
           {
            "bin_start": 1863000,
            "bin_end": 1992000,
            "count": 0
           },
           {
            "bin_start": 1992000,
            "bin_end": 2121000,
            "count": 1
           },
           {
            "bin_start": 2121000,
            "bin_end": 2250000,
            "count": 1
           }
          ]
         }
        },
        {
         "name": "gov_land_value",
         "dtype": "float64",
         "stats": {
          "unique_count": 5,
          "nan_count": 0,
          "min": "82000.0",
          "max": "404900.0",
          "histogram": [
           {
            "bin_start": 82000,
            "bin_end": 114290,
            "count": 2
           },
           {
            "bin_start": 114290,
            "bin_end": 146580,
            "count": 0
           },
           {
            "bin_start": 146580,
            "bin_end": 178870,
            "count": 1
           },
           {
            "bin_start": 178870,
            "bin_end": 211160,
            "count": 0
           },
           {
            "bin_start": 211160,
            "bin_end": 243450,
            "count": 0
           },
           {
            "bin_start": 243450,
            "bin_end": 275740,
            "count": 0
           },
           {
            "bin_start": 275740,
            "bin_end": 308030,
            "count": 0
           },
           {
            "bin_start": 308030,
            "bin_end": 340320,
            "count": 1
           },
           {
            "bin_start": 340320,
            "bin_end": 372610,
            "count": 0
           },
           {
            "bin_start": 372610,
            "bin_end": 404900,
            "count": 1
           }
          ]
         }
        },
        {
         "name": "sold_price",
         "dtype": "int64",
         "stats": {
          "unique_count": 5,
          "nan_count": 0,
          "min": "2375000",
          "max": "6200000",
          "histogram": [
           {
            "bin_start": 2375000,
            "bin_end": 2757500,
            "count": 2
           },
           {
            "bin_start": 2757500,
            "bin_end": 3140000,
            "count": 0
           },
           {
            "bin_start": 3140000,
            "bin_end": 3522500,
            "count": 0
           },
           {
            "bin_start": 3522500,
            "bin_end": 3905000,
            "count": 1
           },
           {
            "bin_start": 3905000,
            "bin_end": 4287500,
            "count": 1
           },
           {
            "bin_start": 4287500,
            "bin_end": 4670000,
            "count": 0
           },
           {
            "bin_start": 4670000,
            "bin_end": 5052500,
            "count": 0
           },
           {
            "bin_start": 5052500,
            "bin_end": 5435000,
            "count": 0
           },
           {
            "bin_start": 5435000,
            "bin_end": 5817500,
            "count": 0
           },
           {
            "bin_start": 5817500,
            "bin_end": 6200000,
            "count": 1
           }
          ]
         }
        },
        {
         "name": "unit_sqm_resi",
         "dtype": "float64",
         "stats": {
          "unique_count": 5,
          "nan_count": 0,
          "min": "56.0",
          "max": "114.0",
          "histogram": [
           {
            "bin_start": 56,
            "bin_end": 61.8,
            "count": 1
           },
           {
            "bin_start": 61.8,
            "bin_end": 67.6,
            "count": 1
           },
           {
            "bin_start": 67.6,
            "bin_end": 73.4,
            "count": 0
           },
           {
            "bin_start": 73.4,
            "bin_end": 79.2,
            "count": 1
           },
           {
            "bin_start": 79.2,
            "bin_end": 85,
            "count": 1
           },
           {
            "bin_start": 85,
            "bin_end": 90.8,
            "count": 0
           },
           {
            "bin_start": 90.8,
            "bin_end": 96.6,
            "count": 0
           },
           {
            "bin_start": 96.6,
            "bin_end": 102.4,
            "count": 0
           },
           {
            "bin_start": 102.4,
            "bin_end": 108.19999999999999,
            "count": 0
           },
           {
            "bin_start": 108.19999999999999,
            "bin_end": 114,
            "count": 1
           }
          ]
         }
        },
        {
         "name": "rooms",
         "dtype": "int64",
         "stats": {
          "unique_count": 2,
          "nan_count": 0,
          "min": "2",
          "max": "4",
          "histogram": [
           {
            "bin_start": 2,
            "bin_end": 2.2,
            "count": 3
           },
           {
            "bin_start": 2.2,
            "bin_end": 2.4,
            "count": 0
           },
           {
            "bin_start": 2.4,
            "bin_end": 2.6,
            "count": 0
           },
           {
            "bin_start": 2.6,
            "bin_end": 2.8,
            "count": 0
           },
           {
            "bin_start": 2.8,
            "bin_end": 3,
            "count": 0
           },
           {
            "bin_start": 3,
            "bin_end": 3.2,
            "count": 0
           },
           {
            "bin_start": 3.2,
            "bin_end": 3.4000000000000004,
            "count": 0
           },
           {
            "bin_start": 3.4000000000000004,
            "bin_end": 3.6,
            "count": 0
           },
           {
            "bin_start": 3.6,
            "bin_end": 3.8,
            "count": 0
           },
           {
            "bin_start": 3.8,
            "bin_end": 4,
            "count": 2
           }
          ]
         }
        },
        {
         "name": "street_name",
         "dtype": "object",
         "stats": {
          "unique_count": 5,
          "nan_count": 0,
          "categories": [
           {
            "name": "AmagerBoulevard",
            "count": 1
           },
           {
            "name": "Weidekampsgade",
            "count": 1
           },
           {
            "name": "3 others",
            "count": 3
           }
          ]
         }
        },
        {
         "name": "street_number",
         "dtype": "int64",
         "stats": {
          "unique_count": 5,
          "nan_count": 0,
          "min": "2",
          "max": "110",
          "histogram": [
           {
            "bin_start": 2,
            "bin_end": 12.8,
            "count": 2
           },
           {
            "bin_start": 12.8,
            "bin_end": 23.6,
            "count": 1
           },
           {
            "bin_start": 23.6,
            "bin_end": 34.400000000000006,
            "count": 0
           },
           {
            "bin_start": 34.400000000000006,
            "bin_end": 45.2,
            "count": 0
           },
           {
            "bin_start": 45.2,
            "bin_end": 56,
            "count": 0
           },
           {
            "bin_start": 56,
            "bin_end": 66.80000000000001,
            "count": 1
           },
           {
            "bin_start": 66.80000000000001,
            "bin_end": 77.60000000000001,
            "count": 0
           },
           {
            "bin_start": 77.60000000000001,
            "bin_end": 88.4,
            "count": 0
           },
           {
            "bin_start": 88.4,
            "bin_end": 99.2,
            "count": 0
           },
           {
            "bin_start": 99.2,
            "bin_end": 110,
            "count": 1
           }
          ]
         }
        },
        {
         "name": "longitude",
         "dtype": "float64",
         "stats": {
          "unique_count": 5,
          "nan_count": 0,
          "min": "12.58163606",
          "max": "12.62114697",
          "histogram": [
           {
            "bin_start": 12.58163606,
            "bin_end": 12.585587150999999,
            "count": 1
           },
           {
            "bin_start": 12.585587150999999,
            "bin_end": 12.589538242,
            "count": 0
           },
           {
            "bin_start": 12.589538242,
            "bin_end": 12.593489332999999,
            "count": 0
           },
           {
            "bin_start": 12.593489332999999,
            "bin_end": 12.597440424,
            "count": 1
           },
           {
            "bin_start": 12.597440424,
            "bin_end": 12.601391515,
            "count": 0
           },
           {
            "bin_start": 12.601391515,
            "bin_end": 12.605342605999999,
            "count": 0
           },
           {
            "bin_start": 12.605342605999999,
            "bin_end": 12.609293697,
            "count": 0
           },
           {
            "bin_start": 12.609293697,
            "bin_end": 12.613244788,
            "count": 0
           },
           {
            "bin_start": 12.613244788,
            "bin_end": 12.617195879,
            "count": 1
           },
           {
            "bin_start": 12.617195879,
            "bin_end": 12.62114697,
            "count": 2
           }
          ]
         }
        },
        {
         "name": "latitude",
         "dtype": "float64",
         "stats": {
          "unique_count": 5,
          "nan_count": 0,
          "min": "55.65372785",
          "max": "55.6673983",
          "histogram": [
           {
            "bin_start": 55.65372785,
            "bin_end": 55.655094895000005,
            "count": 1
           },
           {
            "bin_start": 55.655094895000005,
            "bin_end": 55.65646194,
            "count": 0
           },
           {
            "bin_start": 55.65646194,
            "bin_end": 55.657828985,
            "count": 0
           },
           {
            "bin_start": 55.657828985,
            "bin_end": 55.659196030000004,
            "count": 1
           },
           {
            "bin_start": 55.659196030000004,
            "bin_end": 55.660563075,
            "count": 0
           },
           {
            "bin_start": 55.660563075,
            "bin_end": 55.66193012,
            "count": 1
           },
           {
            "bin_start": 55.66193012,
            "bin_end": 55.663297165,
            "count": 0
           },
           {
            "bin_start": 55.663297165,
            "bin_end": 55.664664210000005,
            "count": 0
           },
           {
            "bin_start": 55.664664210000005,
            "bin_end": 55.666031255,
            "count": 0
           },
           {
            "bin_start": 55.666031255,
            "bin_end": 55.6673983,
            "count": 2
           }
          ]
         }
        },
        {
         "name": "building_year",
         "dtype": "float64",
         "stats": {
          "unique_count": 5,
          "nan_count": 0,
          "min": "1932.0",
          "max": "2018.0",
          "histogram": [
           {
            "bin_start": 1932,
            "bin_end": 1940.6,
            "count": 3
           },
           {
            "bin_start": 1940.6,
            "bin_end": 1949.2,
            "count": 0
           },
           {
            "bin_start": 1949.2,
            "bin_end": 1957.8,
            "count": 0
           },
           {
            "bin_start": 1957.8,
            "bin_end": 1966.4,
            "count": 0
           },
           {
            "bin_start": 1966.4,
            "bin_end": 1975,
            "count": 0
           },
           {
            "bin_start": 1975,
            "bin_end": 1983.6,
            "count": 0
           },
           {
            "bin_start": 1983.6,
            "bin_end": 1992.2,
            "count": 0
           },
           {
            "bin_start": 1992.2,
            "bin_end": 2000.8,
            "count": 0
           },
           {
            "bin_start": 2000.8,
            "bin_end": 2009.4,
            "count": 1
           },
           {
            "bin_start": 2009.4,
            "bin_end": 2018,
            "count": 1
           }
          ]
         }
        },
        {
         "name": "gov_sqm",
         "dtype": "float64",
         "stats": {
          "unique_count": 5,
          "nan_count": 0,
          "min": "53.0",
          "max": "101.0",
          "histogram": [
           {
            "bin_start": 53,
            "bin_end": 57.8,
            "count": 2
           },
           {
            "bin_start": 57.8,
            "bin_end": 62.6,
            "count": 0
           },
           {
            "bin_start": 62.6,
            "bin_end": 67.4,
            "count": 0
           },
           {
            "bin_start": 67.4,
            "bin_end": 72.2,
            "count": 1
           },
           {
            "bin_start": 72.2,
            "bin_end": 77,
            "count": 1
           },
           {
            "bin_start": 77,
            "bin_end": 81.8,
            "count": 0
           },
           {
            "bin_start": 81.8,
            "bin_end": 86.6,
            "count": 0
           },
           {
            "bin_start": 86.6,
            "bin_end": 91.4,
            "count": 0
           },
           {
            "bin_start": 91.4,
            "bin_end": 96.19999999999999,
            "count": 0
           },
           {
            "bin_start": 96.19999999999999,
            "bin_end": 101,
            "count": 1
           }
          ]
         }
        },
        {
         "name": "sold_date",
         "dtype": "object",
         "stats": {
          "unique_count": 4,
          "nan_count": 0,
          "categories": [
           {
            "name": "2022-03-15",
            "count": 2
           },
           {
            "name": "2022-03-25",
            "count": 1
           },
           {
            "name": "2 others",
            "count": 2
           }
          ]
         }
        },
        {
         "name": "year",
         "dtype": "int64",
         "stats": {
          "unique_count": 1,
          "nan_count": 0,
          "min": "2022",
          "max": "2022",
          "histogram": [
           {
            "bin_start": 2021.5,
            "bin_end": 2021.6,
            "count": 0
           },
           {
            "bin_start": 2021.6,
            "bin_end": 2021.7,
            "count": 0
           },
           {
            "bin_start": 2021.7,
            "bin_end": 2021.8,
            "count": 0
           },
           {
            "bin_start": 2021.8,
            "bin_end": 2021.9,
            "count": 0
           },
           {
            "bin_start": 2021.9,
            "bin_end": 2022,
            "count": 0
           },
           {
            "bin_start": 2022,
            "bin_end": 2022.1,
            "count": 5
           },
           {
            "bin_start": 2022.1,
            "bin_end": 2022.2,
            "count": 0
           },
           {
            "bin_start": 2022.2,
            "bin_end": 2022.3,
            "count": 0
           },
           {
            "bin_start": 2022.3,
            "bin_end": 2022.4,
            "count": 0
           },
           {
            "bin_start": 2022.4,
            "bin_end": 2022.5,
            "count": 0
           }
          ]
         }
        },
        {
         "name": "month",
         "dtype": "int64",
         "stats": {
          "unique_count": 1,
          "nan_count": 0,
          "min": "3",
          "max": "3",
          "histogram": [
           {
            "bin_start": 2.5,
            "bin_end": 2.6,
            "count": 0
           },
           {
            "bin_start": 2.6,
            "bin_end": 2.7,
            "count": 0
           },
           {
            "bin_start": 2.7,
            "bin_end": 2.8,
            "count": 0
           },
           {
            "bin_start": 2.8,
            "bin_end": 2.9,
            "count": 0
           },
           {
            "bin_start": 2.9,
            "bin_end": 3,
            "count": 0
           },
           {
            "bin_start": 3,
            "bin_end": 3.1,
            "count": 5
           },
           {
            "bin_start": 3.1,
            "bin_end": 3.2,
            "count": 0
           },
           {
            "bin_start": 3.2,
            "bin_end": 3.3,
            "count": 0
           },
           {
            "bin_start": 3.3,
            "bin_end": 3.4,
            "count": 0
           },
           {
            "bin_start": 3.4,
            "bin_end": 3.5,
            "count": 0
           }
          ]
         }
        },
        {
         "name": "floor",
         "dtype": "float64",
         "stats": {
          "unique_count": 3,
          "nan_count": 0,
          "min": "1.0",
          "max": "5.0",
          "histogram": [
           {
            "bin_start": 1,
            "bin_end": 1.4,
            "count": 2
           },
           {
            "bin_start": 1.4,
            "bin_end": 1.8,
            "count": 0
           },
           {
            "bin_start": 1.8,
            "bin_end": 2.2,
            "count": 2
           },
           {
            "bin_start": 2.2,
            "bin_end": 2.6,
            "count": 0
           },
           {
            "bin_start": 2.6,
            "bin_end": 3,
            "count": 0
           },
           {
            "bin_start": 3,
            "bin_end": 3.4000000000000004,
            "count": 0
           },
           {
            "bin_start": 3.4000000000000004,
            "bin_end": 3.8000000000000003,
            "count": 0
           },
           {
            "bin_start": 3.8000000000000003,
            "bin_end": 4.2,
            "count": 0
           },
           {
            "bin_start": 4.2,
            "bin_end": 4.6,
            "count": 0
           },
           {
            "bin_start": 4.6,
            "bin_end": 5,
            "count": 1
           }
          ]
         }
        },
        {
         "name": "_deepnote_index_column",
         "dtype": "int64"
        }
       ],
       "rows": [
        {
         "bfe": 111445,
         "gov_property_value": 2250000,
         "gov_land_value": 326700,
         "sold_price": 6200000,
         "unit_sqm_resi": 114,
         "rooms": 4,
         "street_name": "AmagerBoulevard",
         "street_number": 110,
         "longitude": 12.59378819,
         "latitude": 55.66651293,
         "building_year": 2018,
         "gov_sqm": 101,
         "sold_date": "2022-03-25",
         "year": 2022,
         "month": 3,
         "floor": 1,
         "_deepnote_index_column": 0
        },
        {
         "bfe": 103789,
         "gov_property_value": 2100000,
         "gov_land_value": 404900,
         "sold_price": 4000000,
         "unit_sqm_resi": 83,
         "rooms": 2,
         "street_name": "Weidekampsgade",
         "street_number": 61,
         "longitude": 12.58163606,
         "latitude": 55.6673983,
         "building_year": 2006,
         "gov_sqm": 71,
         "sold_date": "2022-03-24",
         "year": 2022,
         "month": 3,
         "floor": 1,
         "_deepnote_index_column": 1
        },
        {
         "bfe": 135089,
         "gov_property_value": 1350000,
         "gov_land_value": 167400,
         "sold_price": 3845000,
         "unit_sqm_resi": 78,
         "rooms": 4,
         "street_name": "Marengovej",
         "street_number": 12,
         "longitude": 12.62113554,
         "latitude": 55.65820336,
         "building_year": 1935,
         "gov_sqm": 75,
         "sold_date": "2022-03-21",
         "year": 2022,
         "month": 3,
         "floor": 2,
         "_deepnote_index_column": 2
        },
        {
         "bfe": 132821,
         "gov_property_value": 1050000,
         "gov_land_value": 97500,
         "sold_price": 2375000,
         "unit_sqm_resi": 62,
         "rooms": 2,
         "street_name": "Elbagade",
         "street_number": 21,
         "longitude": 12.61341214,
         "latitude": 55.65372785,
         "building_year": 1932,
         "gov_sqm": 54,
         "sold_date": "2022-03-15",
         "year": 2022,
         "month": 3,
         "floor": 5,
         "_deepnote_index_column": 3
        },
        {
         "bfe": 131622,
         "gov_property_value": 960000,
         "gov_land_value": 82000,
         "sold_price": 2725000,
         "unit_sqm_resi": 56,
         "rooms": 2,
         "street_name": "Caprivej",
         "street_number": 2,
         "longitude": 12.62114697,
         "latitude": 55.66068112,
         "building_year": 1937,
         "gov_sqm": 53,
         "sold_date": "2022-03-15",
         "year": 2022,
         "month": 3,
         "floor": 2,
         "_deepnote_index_column": 4
        }
       ]
      },
      "text/plain": "      bfe  gov_property_value  gov_land_value  sold_price  unit_sqm_resi  \\\n0  111445           2250000.0        326700.0     6200000          114.0   \n1  103789           2100000.0        404900.0     4000000           83.0   \n2  135089           1350000.0        167400.0     3845000           78.0   \n3  132821           1050000.0         97500.0     2375000           62.0   \n4  131622            960000.0         82000.0     2725000           56.0   \n\n   rooms      street_name  street_number  longitude   latitude  building_year  \\\n0      4  AmagerBoulevard            110  12.593788  55.666513         2018.0   \n1      2   Weidekampsgade             61  12.581636  55.667398         2006.0   \n2      4       Marengovej             12  12.621136  55.658203         1935.0   \n3      2         Elbagade             21  12.613412  55.653728         1932.0   \n4      2         Caprivej              2  12.621147  55.660681         1937.0   \n\n   gov_sqm   sold_date  year  month  floor  \n0    101.0  2022-03-25  2022      3    1.0  \n1     71.0  2022-03-24  2022      3    1.0  \n2     75.0  2022-03-21  2022      3    2.0  \n3     54.0  2022-03-15  2022      3    5.0  \n4     53.0  2022-03-15  2022      3    2.0  ",
      "text/html": "<div>\n<style scoped>\n    .dataframe tbody tr th:only-of-type {\n        vertical-align: middle;\n    }\n\n    .dataframe tbody tr th {\n        vertical-align: top;\n    }\n\n    .dataframe thead th {\n        text-align: right;\n    }\n</style>\n<table border=\"1\" class=\"dataframe\">\n  <thead>\n    <tr style=\"text-align: right;\">\n      <th></th>\n      <th>bfe</th>\n      <th>gov_property_value</th>\n      <th>gov_land_value</th>\n      <th>sold_price</th>\n      <th>unit_sqm_resi</th>\n      <th>rooms</th>\n      <th>street_name</th>\n      <th>street_number</th>\n      <th>longitude</th>\n      <th>latitude</th>\n      <th>building_year</th>\n      <th>gov_sqm</th>\n      <th>sold_date</th>\n      <th>year</th>\n      <th>month</th>\n      <th>floor</th>\n    </tr>\n  </thead>\n  <tbody>\n    <tr>\n      <th>0</th>\n      <td>111445</td>\n      <td>2250000.0</td>\n      <td>326700.0</td>\n      <td>6200000</td>\n      <td>114.0</td>\n      <td>4</td>\n      <td>AmagerBoulevard</td>\n      <td>110</td>\n      <td>12.593788</td>\n      <td>55.666513</td>\n      <td>2018.0</td>\n      <td>101.0</td>\n      <td>2022-03-25</td>\n      <td>2022</td>\n      <td>3</td>\n      <td>1.0</td>\n    </tr>\n    <tr>\n      <th>1</th>\n      <td>103789</td>\n      <td>2100000.0</td>\n      <td>404900.0</td>\n      <td>4000000</td>\n      <td>83.0</td>\n      <td>2</td>\n      <td>Weidekampsgade</td>\n      <td>61</td>\n      <td>12.581636</td>\n      <td>55.667398</td>\n      <td>2006.0</td>\n      <td>71.0</td>\n      <td>2022-03-24</td>\n      <td>2022</td>\n      <td>3</td>\n      <td>1.0</td>\n    </tr>\n    <tr>\n      <th>2</th>\n      <td>135089</td>\n      <td>1350000.0</td>\n      <td>167400.0</td>\n      <td>3845000</td>\n      <td>78.0</td>\n      <td>4</td>\n      <td>Marengovej</td>\n      <td>12</td>\n      <td>12.621136</td>\n      <td>55.658203</td>\n      <td>1935.0</td>\n      <td>75.0</td>\n      <td>2022-03-21</td>\n      <td>2022</td>\n      <td>3</td>\n      <td>2.0</td>\n    </tr>\n    <tr>\n      <th>3</th>\n      <td>132821</td>\n      <td>1050000.0</td>\n      <td>97500.0</td>\n      <td>2375000</td>\n      <td>62.0</td>\n      <td>2</td>\n      <td>Elbagade</td>\n      <td>21</td>\n      <td>12.613412</td>\n      <td>55.653728</td>\n      <td>1932.0</td>\n      <td>54.0</td>\n      <td>2022-03-15</td>\n      <td>2022</td>\n      <td>3</td>\n      <td>5.0</td>\n    </tr>\n    <tr>\n      <th>4</th>\n      <td>131622</td>\n      <td>960000.0</td>\n      <td>82000.0</td>\n      <td>2725000</td>\n      <td>56.0</td>\n      <td>2</td>\n      <td>Caprivej</td>\n      <td>2</td>\n      <td>12.621147</td>\n      <td>55.660681</td>\n      <td>1937.0</td>\n      <td>53.0</td>\n      <td>2022-03-15</td>\n      <td>2022</td>\n      <td>3</td>\n      <td>2.0</td>\n    </tr>\n  </tbody>\n</table>\n</div>"
     },
     "metadata": {}
    }
   ]
  },
  {
   "cell_type": "code",
   "metadata": {
    "tags": [],
    "deepnote_to_be_reexecuted": false,
    "source_hash": "ad8e67af",
    "execution_start": 1651497609498,
    "execution_millis": 8,
    "cell_id": "00005-19e24197-fad6-4b1c-baef-97d765f78315",
    "deepnote_cell_type": "code",
    "deepnote_cell_height": 382.1875
   },
   "source": "# train data 2019-2022.01\ntrain_data_1 = gold_data_model.loc[(gold_data_model['year'] == 2022) & (gold_data_model['month'] == 1)]\ntrain_data_2 = gold_data_model.loc[gold_data_model['year'] <= 2021]\n\ntrain_data = pd.concat([train_data_1,train_data_2])\n\n# test data 2022.02-2022.03: \ntest_data_1 = gold_data_model.loc[(gold_data_model['year'] == 2022) & (gold_data_model['month'] == 2)]\n\ntest_data_2 = gold_data_model.loc[(gold_data_model['year'] == 2022) & (gold_data_model['month'] == 3)]\n\ntest_data = pd.concat([test_data_1,test_data_2])\n\n\n# view shape \nprint(train_data.shape, test_data.shape)",
   "execution_count": null,
   "outputs": [
    {
     "name": "stdout",
     "text": "(3422, 16) (177, 16)\n",
     "output_type": "stream"
    }
   ]
  },
  {
   "cell_type": "code",
   "metadata": {
    "tags": [],
    "deepnote_to_be_reexecuted": false,
    "source_hash": "8555cb0",
    "execution_start": 1651497614749,
    "execution_millis": 17,
    "cell_id": "00006-2a6666fa-f186-4186-aa46-299ebd937fca",
    "deepnote_cell_type": "code",
    "deepnote_cell_height": 425.1875,
    "deepnote_output_heights": [
     328.1875
    ]
   },
   "source": "train_data.max()",
   "execution_count": null,
   "outputs": [
    {
     "output_type": "execute_result",
     "execution_count": 21,
     "data": {
      "text/plain": "bfe                     100179329\ngov_property_value        5.4e+06\ngov_land_value         1.0214e+06\nsold_price                6600000\nunit_sqm_resi                 208\nrooms                           7\nstreet_name           Østrigsgade\nstreet_number                 305\nlongitude                 12.6351\nlatitude                  55.6687\nbuilding_year                2021\ngov_sqm                       302\nsold_date              2022-01-31\nyear                         2022\nmonth                          12\nfloor                          14\ndtype: object"
     },
     "metadata": {}
    }
   ]
  },
  {
   "cell_type": "code",
   "metadata": {
    "tags": [],
    "deepnote_to_be_reexecuted": false,
    "source_hash": "a74e07a0",
    "execution_start": 1651242870535,
    "execution_millis": 97,
    "cell_id": "00007-f57603ca-13d3-45ff-bf62-8c17209ede1f",
    "deepnote_cell_type": "code",
    "deepnote_cell_height": 194.9375,
    "deepnote_output_heights": [
     97.9375
    ]
   },
   "source": "train_data.columns",
   "execution_count": null,
   "outputs": [
    {
     "output_type": "execute_result",
     "execution_count": 6,
     "data": {
      "text/plain": "Index(['bfe', 'gov_property_value', 'gov_land_value', 'sold_price',\n       'unit_sqm_resi', 'rooms', 'street_name', 'street_number', 'longitude',\n       'latitude', 'building_year', 'gov_sqm', 'sold_date', 'year', 'month',\n       'floor'],\n      dtype='object')"
     },
     "metadata": {}
    }
   ]
  },
  {
   "cell_type": "code",
   "metadata": {
    "tags": [],
    "deepnote_to_be_reexecuted": false,
    "source_hash": "18523781",
    "execution_start": 1651497623703,
    "execution_millis": 2,
    "cell_id": "00008-cf56b826-702a-4d0a-9674-b5b0d86495a5",
    "deepnote_cell_type": "code",
    "deepnote_cell_height": 333
   },
   "source": "# drop col for train\ntrain_data = train_data.drop(columns=[\n    #'street_name',\n    #'year',\n    'sold_date',\n    #'bfe'\n    ]) \n\n# drop col for test\ntest_data = test_data.drop(columns=[\n    #'street_name',\n    #'year',\n    'sold_date',\n    #'bfe'\n    ]) ",
   "execution_count": null,
   "outputs": []
  },
  {
   "cell_type": "code",
   "metadata": {
    "tags": [],
    "deepnote_to_be_reexecuted": false,
    "source_hash": "6292f728",
    "execution_start": 1651497626647,
    "execution_millis": 3,
    "cell_id": "00009-58157593-4153-4526-910d-d5cc16109816",
    "deepnote_cell_type": "code",
    "deepnote_cell_height": 312.375
   },
   "source": "# split TRAIN and drop target aka. sold_price\n\nX_train = train_data.drop(['sold_price'], axis= 1)\ny_train = train_data['sold_price']\nprint(X_train.shape, y_train.shape)\n\n# split TEST and drop target aka. sold_price\n\nX_test = test_data.drop(['sold_price'], axis= 1)\ny_test = test_data['sold_price']\nprint(X_test.shape, y_test.shape)",
   "execution_count": null,
   "outputs": [
    {
     "name": "stdout",
     "text": "(3422, 14) (3422,)\n(177, 14) (177,)\n",
     "output_type": "stream"
    }
   ]
  },
  {
   "cell_type": "code",
   "metadata": {
    "tags": [],
    "deepnote_to_be_reexecuted": false,
    "source_hash": "2175c87",
    "execution_start": 1651242870671,
    "execution_millis": 63,
    "cell_id": "00010-d3ed508d-36e2-47aa-b454-d53fd4e071c7",
    "deepnote_cell_type": "code",
    "deepnote_cell_height": 175.75,
    "deepnote_output_heights": [
     78.75
    ]
   },
   "source": "X_train.columns",
   "execution_count": null,
   "outputs": [
    {
     "output_type": "execute_result",
     "execution_count": 9,
     "data": {
      "text/plain": "Index(['bfe', 'gov_property_value', 'gov_land_value', 'unit_sqm_resi', 'rooms',\n       'street_name', 'street_number', 'longitude', 'latitude',\n       'building_year', 'gov_sqm', 'year', 'month', 'floor'],\n      dtype='object')"
     },
     "metadata": {}
    }
   ]
  },
  {
   "cell_type": "markdown",
   "source": "## CatBoost",
   "metadata": {
    "tags": [],
    "is_collapsed": false,
    "cell_id": "00011-d87a7b53-a9a7-4dde-8ba6-f4a5eb5b2378",
    "deepnote_cell_type": "text-cell-h2"
   }
  },
  {
   "cell_type": "markdown",
   "source": "### Default settings",
   "metadata": {
    "tags": [],
    "is_collapsed": false,
    "cell_id": "00012-3177bad4-bfed-425b-adcb-bd3b5f82a6cc",
    "deepnote_cell_type": "text-cell-h3"
   }
  },
  {
   "cell_type": "code",
   "metadata": {
    "tags": [],
    "deepnote_to_be_reexecuted": false,
    "source_hash": "92784810",
    "execution_start": 1651497651276,
    "execution_millis": 1839,
    "cell_id": "00013-67f753c7-4d56-4a59-97b0-07791ceab77a",
    "deepnote_cell_type": "code",
    "deepnote_cell_height": 719
   },
   "source": "default_catb = CatBoostRegressor().fit(cb.Pool(X_train, y_train, cat_features= ['street_name']))\n",
   "execution_count": null,
   "outputs": [
    {
     "name": "stdout",
     "text": "1:\tlearn: 1127656.6044959\ttotal: 50.1ms\tremaining: 25s\n2:\tlearn: 1085084.6508553\ttotal: 51.8ms\tremaining: 17.2s\n3:\tlearn: 1048383.7363312\ttotal: 53.6ms\tremaining: 13.3s\n4:\tlearn: 1010131.9683547\ttotal: 55.3ms\tremaining: 11s\n5:\tlearn: 975019.5213633\ttotal: 56.9ms\tremaining: 9.42s\n6:\tlearn: 940265.4024695\ttotal: 58.8ms\tremaining: 8.34s\n7:\tlearn: 907425.1741236\ttotal: 60.5ms\tremaining: 7.5s\n8:\tlearn: 877205.3011326\ttotal: 62.1ms\tremaining: 6.84s\n9:\tlearn: 848741.7066477\ttotal: 63.9ms\tremaining: 6.32s\n10:\tlearn: 821918.6673714\ttotal: 65.6ms\tremaining: 5.89s\n11:\tlearn: 795546.4677451\ttotal: 67.3ms\tremaining: 5.54s\n12:\tlearn: 770704.7262446\ttotal: 68.9ms\tremaining: 5.23s\n13:\tlearn: 745685.4050250\ttotal: 70.6ms\tremaining: 4.97s\n14:\tlearn: 722017.7949836\ttotal: 72.3ms\tremaining: 4.75s\n15:\tlearn: 700959.7685688\ttotal: 74ms\tremaining: 4.55s\n16:\tlearn: 679915.5706628\ttotal: 75.7ms\tremaining: 4.38s\n17:\tlearn: 660350.4122977\ttotal: 77.5ms\tremaining: 4.23s\n18:\tlearn: 642389.0989657\ttotal: 79.3ms\tremaining: 4.09s\n19:\tlearn: 625916.8795512\ttotal: 80.9ms\tremaining: 3.97s\n20:\tlearn: 609858.0787663\ttotal: 82.5ms\tremaining: 3.85s\n21:\tlearn: 595311.0618170\ttotal: 84.2ms\tremaining: 3.74s\n22:\tlearn: 580374.8466561\ttotal: 86ms\tremaining: 3.65s\n23:\tlearn: 566480.8742177\ttotal: 87.8ms\tremaining: 3.57s\n24:\tlearn: 554373.7802555\ttotal: 89.5ms\tremaining: 3.49s\n25:\tlearn: 541667.5492710\ttotal: 91.2ms\tremaining: 3.42s\n26:\tlearn: 531240.4174592\ttotal: 93ms\tremaining: 3.35s\n27:\tlearn: 519982.8647915\ttotal: 94.7ms\tremaining: 3.29s\n28:\tlearn: 510554.4909152\ttotal: 96.6ms\tremaining: 3.23s\n29:\tlearn: 501432.6271451\ttotal: 98.3ms\tremaining: 3.18s\n30:\tlearn: 492695.2627597\ttotal: 99.8ms\tremaining: 3.12s\n31:\tlearn: 483809.7327142\ttotal: 101ms\tremaining: 3.07s\n32:\tlearn: 476034.9389906\ttotal: 103ms\tremaining: 3.02s\n33:\tlearn: 468179.7988671\ttotal: 105ms\tremaining: 2.98s\n34:\tlearn: 460714.3968695\ttotal: 107ms\tremaining: 2.94s\n35:\tlearn: 454634.2036862\ttotal: 108ms\tremaining: 2.9s\n36:\tlearn: 447727.0329966\ttotal: 110ms\tremaining: 2.86s\n37:\tlearn: 441983.6628182\ttotal: 112ms\tremaining: 2.83s\n38:\tlearn: 436234.8060822\ttotal: 113ms\tremaining: 2.79s\n39:\tlearn: 430725.1983612\ttotal: 115ms\tremaining: 2.75s\n40:\tlearn: 425938.2179846\ttotal: 116ms\tremaining: 2.72s\n41:\tlearn: 421119.7654160\ttotal: 118ms\tremaining: 2.69s\n42:\tlearn: 417414.0495950\ttotal: 120ms\tremaining: 2.67s\n43:\tlearn: 413526.4250416\ttotal: 121ms\tremaining: 2.64s\n44:\tlearn: 409197.9600875\ttotal: 123ms\tremaining: 2.61s\n45:\tlearn: 405353.2140469\ttotal: 125ms\tremaining: 2.59s\n46:\tlearn: 401577.0206705\ttotal: 127ms\tremaining: 2.56s\n47:\tlearn: 397928.5709548\ttotal: 128ms\tremaining: 2.54s\n48:\tlearn: 394937.9758909\ttotal: 130ms\tremaining: 2.52s\n49:\tlearn: 391593.8390532\ttotal: 131ms\tremaining: 2.49s\n50:\tlearn: 388515.1332299\ttotal: 133ms\tremaining: 2.47s\n51:\tlearn: 385602.2932725\ttotal: 135ms\tremaining: 2.45s\n52:\tlearn: 382823.7668796\ttotal: 136ms\tremaining: 2.43s\n53:\tlearn: 380252.0764539\ttotal: 138ms\tremaining: 2.41s\n54:\tlearn: 377892.9172216\ttotal: 139ms\tremaining: 2.39s\n55:\tlearn: 375707.1102052\ttotal: 141ms\tremaining: 2.38s\n56:\tlearn: 373525.1252319\ttotal: 143ms\tremaining: 2.36s\n57:\tlearn: 371362.4379009\ttotal: 144ms\tremaining: 2.34s\n58:\tlearn: 369313.3405876\ttotal: 146ms\tremaining: 2.33s\n59:\tlearn: 367291.1336947\ttotal: 147ms\tremaining: 2.31s\n60:\tlearn: 365407.7031484\ttotal: 149ms\tremaining: 2.29s\n61:\tlearn: 363664.3703437\ttotal: 151ms\tremaining: 2.28s\n62:\tlearn: 362210.7274247\ttotal: 152ms\tremaining: 2.27s\n63:\tlearn: 360463.5519420\ttotal: 154ms\tremaining: 2.25s\n64:\tlearn: 358745.2101727\ttotal: 155ms\tremaining: 2.24s\n65:\tlearn: 356410.3880158\ttotal: 157ms\tremaining: 2.22s\n66:\tlearn: 354641.9593460\ttotal: 158ms\tremaining: 2.2s\n67:\tlearn: 352784.4385808\ttotal: 160ms\tremaining: 2.19s\n68:\tlearn: 351178.3012740\ttotal: 161ms\tremaining: 2.17s\n69:\tlearn: 349800.2545970\ttotal: 163ms\tremaining: 2.16s\n70:\tlearn: 347987.3842175\ttotal: 164ms\tremaining: 2.15s\n71:\tlearn: 346583.8076613\ttotal: 165ms\tremaining: 2.13s\n72:\tlearn: 345424.5970673\ttotal: 167ms\tremaining: 2.12s\n73:\tlearn: 344023.5740748\ttotal: 168ms\tremaining: 2.11s\n74:\tlearn: 342568.5799080\ttotal: 170ms\tremaining: 2.09s\n75:\tlearn: 341316.0202474\ttotal: 171ms\tremaining: 2.08s\n76:\tlearn: 340277.8123672\ttotal: 173ms\tremaining: 2.07s\n77:\tlearn: 339038.5637332\ttotal: 174ms\tremaining: 2.06s\n78:\tlearn: 337875.3249811\ttotal: 176ms\tremaining: 2.05s\n79:\tlearn: 336851.6021490\ttotal: 177ms\tremaining: 2.04s\n80:\tlearn: 335377.0474628\ttotal: 179ms\tremaining: 2.03s\n81:\tlearn: 334260.0112653\ttotal: 181ms\tremaining: 2.03s\n82:\tlearn: 333240.3563606\ttotal: 183ms\tremaining: 2.02s\n83:\tlearn: 332204.8870134\ttotal: 185ms\tremaining: 2.01s\n84:\tlearn: 331407.7365585\ttotal: 187ms\tremaining: 2.01s\n85:\tlearn: 330442.4883931\ttotal: 188ms\tremaining: 2s\n86:\tlearn: 329539.9824448\ttotal: 190ms\tremaining: 1.99s\n87:\tlearn: 328763.8364781\ttotal: 191ms\tremaining: 1.98s\n88:\tlearn: 328130.3002862\ttotal: 193ms\tremaining: 1.97s\n89:\tlearn: 327238.4830768\ttotal: 194ms\tremaining: 1.97s\n90:\tlearn: 326592.4160124\ttotal: 196ms\tremaining: 1.96s\n91:\tlearn: 326002.2678481\ttotal: 198ms\tremaining: 1.95s\n92:\tlearn: 325087.1285921\ttotal: 199ms\tremaining: 1.94s\n93:\tlearn: 324330.0407219\ttotal: 201ms\tremaining: 1.93s\n94:\tlearn: 323691.4222006\ttotal: 202ms\tremaining: 1.93s\n95:\tlearn: 322814.6048409\ttotal: 204ms\tremaining: 1.92s\n96:\tlearn: 321994.5612114\ttotal: 205ms\tremaining: 1.91s\n97:\tlearn: 321103.3567858\ttotal: 207ms\tremaining: 1.91s\n98:\tlearn: 320123.6344766\ttotal: 209ms\tremaining: 1.9s\n99:\tlearn: 319532.5486516\ttotal: 210ms\tremaining: 1.89s\n100:\tlearn: 318993.3336595\ttotal: 212ms\tremaining: 1.89s\n101:\tlearn: 318339.1414221\ttotal: 213ms\tremaining: 1.88s\n102:\tlearn: 317860.9611789\ttotal: 215ms\tremaining: 1.87s\n103:\tlearn: 317119.4841962\ttotal: 216ms\tremaining: 1.86s\n104:\tlearn: 316640.5187254\ttotal: 218ms\tremaining: 1.86s\n105:\tlearn: 316051.7432613\ttotal: 220ms\tremaining: 1.85s\n106:\tlearn: 315477.7123049\ttotal: 221ms\tremaining: 1.84s\n107:\tlearn: 314966.7115344\ttotal: 223ms\tremaining: 1.84s\n108:\tlearn: 314429.7545668\ttotal: 225ms\tremaining: 1.83s\n109:\tlearn: 313835.8183015\ttotal: 226ms\tremaining: 1.83s\n110:\tlearn: 313147.1911440\ttotal: 228ms\tremaining: 1.83s\n111:\tlearn: 312686.4308737\ttotal: 230ms\tremaining: 1.82s\n112:\tlearn: 312228.4808147\ttotal: 232ms\tremaining: 1.82s\n113:\tlearn: 311626.5158614\ttotal: 233ms\tremaining: 1.81s\n114:\tlearn: 311141.1712481\ttotal: 235ms\tremaining: 1.81s\n115:\tlearn: 310585.6671562\ttotal: 237ms\tremaining: 1.8s\n116:\tlearn: 309964.1508117\ttotal: 239ms\tremaining: 1.8s\n117:\tlearn: 309486.5455625\ttotal: 240ms\tremaining: 1.79s\n118:\tlearn: 308951.8362372\ttotal: 242ms\tremaining: 1.79s\n119:\tlearn: 308650.3962363\ttotal: 243ms\tremaining: 1.78s\n120:\tlearn: 308082.9127295\ttotal: 245ms\tremaining: 1.78s\n121:\tlearn: 307492.2014006\ttotal: 246ms\tremaining: 1.77s\n122:\tlearn: 306923.9298517\ttotal: 248ms\tremaining: 1.77s\n123:\tlearn: 306455.1007975\ttotal: 250ms\tremaining: 1.76s\n124:\tlearn: 306087.2387090\ttotal: 251ms\tremaining: 1.76s\n125:\tlearn: 305615.2407641\ttotal: 253ms\tremaining: 1.75s\n126:\tlearn: 305036.8667220\ttotal: 255ms\tremaining: 1.75s\n127:\tlearn: 304402.0299631\ttotal: 256ms\tremaining: 1.75s\n128:\tlearn: 303981.5429310\ttotal: 258ms\tremaining: 1.74s\n129:\tlearn: 303459.0497187\ttotal: 259ms\tremaining: 1.74s\n130:\tlearn: 303116.8091462\ttotal: 261ms\tremaining: 1.73s\n131:\tlearn: 302726.4739465\ttotal: 263ms\tremaining: 1.73s\n132:\tlearn: 302138.7623839\ttotal: 264ms\tremaining: 1.72s\n133:\tlearn: 301734.2497369\ttotal: 266ms\tremaining: 1.72s\n134:\tlearn: 301481.1581077\ttotal: 267ms\tremaining: 1.71s\n135:\tlearn: 301243.7476753\ttotal: 269ms\tremaining: 1.71s\n136:\tlearn: 300688.3844612\ttotal: 271ms\tremaining: 1.71s\n137:\tlearn: 300335.0446820\ttotal: 272ms\tremaining: 1.7s\n138:\tlearn: 299808.3755711\ttotal: 274ms\tremaining: 1.7s\n139:\tlearn: 299194.4668349\ttotal: 276ms\tremaining: 1.69s\n140:\tlearn: 298686.1999675\ttotal: 277ms\tremaining: 1.69s\n141:\tlearn: 298433.7179314\ttotal: 279ms\tremaining: 1.68s\n142:\tlearn: 298121.0250478\ttotal: 280ms\tremaining: 1.68s\n143:\tlearn: 297572.8606633\ttotal: 282ms\tremaining: 1.68s\n144:\tlearn: 296860.3127946\ttotal: 284ms\tremaining: 1.67s\n145:\tlearn: 296464.0703917\ttotal: 285ms\tremaining: 1.67s\n146:\tlearn: 295936.3276573\ttotal: 287ms\tremaining: 1.66s\n147:\tlearn: 295548.9378909\ttotal: 289ms\tremaining: 1.66s\n148:\tlearn: 295125.7351268\ttotal: 290ms\tremaining: 1.66s\n149:\tlearn: 294784.4454494\ttotal: 292ms\tremaining: 1.65s\n150:\tlearn: 294424.7295008\ttotal: 293ms\tremaining: 1.65s\n151:\tlearn: 294037.5883601\ttotal: 295ms\tremaining: 1.65s\n152:\tlearn: 293615.1289416\ttotal: 296ms\tremaining: 1.64s\n153:\tlearn: 293277.0733675\ttotal: 298ms\tremaining: 1.64s\n154:\tlearn: 292815.6320292\ttotal: 300ms\tremaining: 1.63s\n155:\tlearn: 292429.3471909\ttotal: 301ms\tremaining: 1.63s\n156:\tlearn: 292048.6357496\ttotal: 303ms\tremaining: 1.63s\n157:\tlearn: 291512.4892777\ttotal: 305ms\tremaining: 1.62s\n158:\tlearn: 291090.4926153\ttotal: 306ms\tremaining: 1.62s\n159:\tlearn: 290596.9055014\ttotal: 308ms\tremaining: 1.62s\n160:\tlearn: 290165.3993410\ttotal: 309ms\tremaining: 1.61s\n161:\tlearn: 289618.4524837\ttotal: 311ms\tremaining: 1.61s\n162:\tlearn: 289304.8423084\ttotal: 313ms\tremaining: 1.6s\n163:\tlearn: 288974.2301140\ttotal: 314ms\tremaining: 1.6s\n164:\tlearn: 288728.8443896\ttotal: 316ms\tremaining: 1.6s\n165:\tlearn: 288303.9032274\ttotal: 317ms\tremaining: 1.59s\n166:\tlearn: 288047.7623847\ttotal: 319ms\tremaining: 1.59s\n167:\tlearn: 287669.0862082\ttotal: 321ms\tremaining: 1.59s\n168:\tlearn: 287267.5867278\ttotal: 322ms\tremaining: 1.58s\n169:\tlearn: 286903.3422893\ttotal: 324ms\tremaining: 1.58s\n170:\tlearn: 286554.7265126\ttotal: 325ms\tremaining: 1.58s\n171:\tlearn: 286183.8784888\ttotal: 327ms\tremaining: 1.57s\n172:\tlearn: 285850.3072120\ttotal: 328ms\tremaining: 1.57s\n173:\tlearn: 285373.3422910\ttotal: 330ms\tremaining: 1.57s\n174:\tlearn: 285046.7466413\ttotal: 331ms\tremaining: 1.56s\n175:\tlearn: 284741.9978199\ttotal: 333ms\tremaining: 1.56s\n176:\tlearn: 284345.0399668\ttotal: 335ms\tremaining: 1.55s\n177:\tlearn: 283875.8637314\ttotal: 336ms\tremaining: 1.55s\n178:\tlearn: 283404.7253748\ttotal: 338ms\tremaining: 1.55s\n179:\tlearn: 283028.1503750\ttotal: 340ms\tremaining: 1.55s\n180:\tlearn: 282674.9916327\ttotal: 341ms\tremaining: 1.54s\n181:\tlearn: 282350.7518570\ttotal: 343ms\tremaining: 1.54s\n182:\tlearn: 282159.1216765\ttotal: 344ms\tremaining: 1.54s\n183:\tlearn: 281827.4808071\ttotal: 346ms\tremaining: 1.53s\n184:\tlearn: 281501.2510999\ttotal: 347ms\tremaining: 1.53s\n185:\tlearn: 281191.8414655\ttotal: 349ms\tremaining: 1.53s\n186:\tlearn: 280724.6812853\ttotal: 351ms\tremaining: 1.52s\n187:\tlearn: 280395.9234109\ttotal: 352ms\tremaining: 1.52s\n188:\tlearn: 279967.2138125\ttotal: 354ms\tremaining: 1.52s\n189:\tlearn: 279695.5733951\ttotal: 355ms\tremaining: 1.51s\n190:\tlearn: 279367.1303286\ttotal: 357ms\tremaining: 1.51s\n191:\tlearn: 278963.2422148\ttotal: 359ms\tremaining: 1.51s\n192:\tlearn: 278531.6500660\ttotal: 360ms\tremaining: 1.5s\n193:\tlearn: 278159.9318952\ttotal: 362ms\tremaining: 1.5s\n194:\tlearn: 277811.2867978\ttotal: 363ms\tremaining: 1.5s\n195:\tlearn: 277553.9489666\ttotal: 365ms\tremaining: 1.5s\n196:\tlearn: 277237.0589219\ttotal: 366ms\tremaining: 1.49s\n197:\tlearn: 276876.7860343\ttotal: 368ms\tremaining: 1.49s\n198:\tlearn: 276532.2312398\ttotal: 369ms\tremaining: 1.49s\n199:\tlearn: 276177.9991815\ttotal: 371ms\tremaining: 1.48s\n200:\tlearn: 275873.2883162\ttotal: 373ms\tremaining: 1.48s\n201:\tlearn: 275583.7110739\ttotal: 374ms\tremaining: 1.48s\n202:\tlearn: 275081.4376190\ttotal: 376ms\tremaining: 1.48s\n203:\tlearn: 274808.3604642\ttotal: 378ms\tremaining: 1.47s\n204:\tlearn: 274331.3410587\ttotal: 379ms\tremaining: 1.47s\n205:\tlearn: 274029.1047886\ttotal: 381ms\tremaining: 1.47s\n206:\tlearn: 273671.7642122\ttotal: 382ms\tremaining: 1.46s\n207:\tlearn: 273219.2286876\ttotal: 384ms\tremaining: 1.46s\n208:\tlearn: 272812.3378000\ttotal: 386ms\tremaining: 1.46s\n209:\tlearn: 272421.4272882\ttotal: 387ms\tremaining: 1.46s\n210:\tlearn: 272143.6525010\ttotal: 389ms\tremaining: 1.45s\n211:\tlearn: 271779.0854625\ttotal: 391ms\tremaining: 1.45s\n212:\tlearn: 271525.6179507\ttotal: 392ms\tremaining: 1.45s\n213:\tlearn: 271170.9468619\ttotal: 394ms\tremaining: 1.45s\n214:\tlearn: 270787.7878158\ttotal: 395ms\tremaining: 1.44s\n215:\tlearn: 270207.8673218\ttotal: 397ms\tremaining: 1.44s\n216:\tlearn: 269953.3090132\ttotal: 399ms\tremaining: 1.44s\n217:\tlearn: 269780.1334424\ttotal: 400ms\tremaining: 1.44s\n218:\tlearn: 269426.7126847\ttotal: 402ms\tremaining: 1.43s\n219:\tlearn: 269178.9402362\ttotal: 404ms\tremaining: 1.43s\n220:\tlearn: 268936.6890814\ttotal: 405ms\tremaining: 1.43s\n221:\tlearn: 268611.1853712\ttotal: 407ms\tremaining: 1.43s\n222:\tlearn: 268199.7251199\ttotal: 408ms\tremaining: 1.42s\n223:\tlearn: 267830.6193677\ttotal: 410ms\tremaining: 1.42s\n224:\tlearn: 267417.2929999\ttotal: 411ms\tremaining: 1.42s\n225:\tlearn: 267074.9991908\ttotal: 413ms\tremaining: 1.41s\n226:\tlearn: 266736.9522996\ttotal: 415ms\tremaining: 1.41s\n227:\tlearn: 266470.7282354\ttotal: 416ms\tremaining: 1.41s\n228:\tlearn: 266169.5166886\ttotal: 418ms\tremaining: 1.41s\n229:\tlearn: 265868.5398757\ttotal: 419ms\tremaining: 1.4s\n230:\tlearn: 265571.1484089\ttotal: 420ms\tremaining: 1.4s\n231:\tlearn: 265247.2223319\ttotal: 422ms\tremaining: 1.4s\n232:\tlearn: 265020.0881046\ttotal: 423ms\tremaining: 1.39s\n233:\tlearn: 264704.4842547\ttotal: 425ms\tremaining: 1.39s\n234:\tlearn: 264497.3078061\ttotal: 427ms\tremaining: 1.39s\n235:\tlearn: 264255.6929725\ttotal: 428ms\tremaining: 1.39s\n236:\tlearn: 264118.5150523\ttotal: 429ms\tremaining: 1.38s\n237:\tlearn: 263780.8670471\ttotal: 431ms\tremaining: 1.38s\n238:\tlearn: 263615.2465413\ttotal: 432ms\tremaining: 1.38s\n239:\tlearn: 263407.7450937\ttotal: 434ms\tremaining: 1.37s\n240:\tlearn: 263178.3431006\ttotal: 435ms\tremaining: 1.37s\n241:\tlearn: 262808.7805891\ttotal: 437ms\tremaining: 1.37s\n242:\tlearn: 262594.1859596\ttotal: 439ms\tremaining: 1.37s\n243:\tlearn: 262193.7456394\ttotal: 440ms\tremaining: 1.36s\n244:\tlearn: 261962.7121044\ttotal: 442ms\tremaining: 1.36s\n245:\tlearn: 261702.5192023\ttotal: 443ms\tremaining: 1.36s\n246:\tlearn: 261378.5597245\ttotal: 444ms\tremaining: 1.35s\n247:\tlearn: 261193.0217855\ttotal: 446ms\tremaining: 1.35s\n248:\tlearn: 260872.8130823\ttotal: 448ms\tremaining: 1.35s\n249:\tlearn: 260515.1973752\ttotal: 449ms\tremaining: 1.35s\n250:\tlearn: 260045.2819888\ttotal: 451ms\tremaining: 1.34s\n251:\tlearn: 259793.1662872\ttotal: 452ms\tremaining: 1.34s\n252:\tlearn: 259594.6572508\ttotal: 454ms\tremaining: 1.34s\n253:\tlearn: 259401.8376953\ttotal: 456ms\tremaining: 1.34s\n254:\tlearn: 259191.0739033\ttotal: 457ms\tremaining: 1.34s\n255:\tlearn: 258838.4228165\ttotal: 459ms\tremaining: 1.33s\n256:\tlearn: 258729.7546443\ttotal: 460ms\tremaining: 1.33s\n257:\tlearn: 258328.4804058\ttotal: 462ms\tremaining: 1.33s\n258:\tlearn: 257825.2013420\ttotal: 463ms\tremaining: 1.32s\n259:\tlearn: 257402.3902614\ttotal: 465ms\tremaining: 1.32s\n260:\tlearn: 257141.7435997\ttotal: 467ms\tremaining: 1.32s\n261:\tlearn: 256860.4153226\ttotal: 468ms\tremaining: 1.32s\n262:\tlearn: 256598.3192338\ttotal: 470ms\tremaining: 1.32s\n263:\tlearn: 256341.4617574\ttotal: 472ms\tremaining: 1.31s\n264:\tlearn: 256179.3296896\ttotal: 473ms\tremaining: 1.31s\n265:\tlearn: 255840.0972985\ttotal: 475ms\tremaining: 1.31s\n266:\tlearn: 255701.8768934\ttotal: 476ms\tremaining: 1.31s\n267:\tlearn: 255454.2840707\ttotal: 477ms\tremaining: 1.3s\n268:\tlearn: 255188.6137681\ttotal: 479ms\tremaining: 1.3s\n269:\tlearn: 254888.9328545\ttotal: 480ms\tremaining: 1.3s\n270:\tlearn: 254471.4961285\ttotal: 482ms\tremaining: 1.3s\n271:\tlearn: 254273.6666864\ttotal: 484ms\tremaining: 1.29s\n272:\tlearn: 253952.3525812\ttotal: 485ms\tremaining: 1.29s\n273:\tlearn: 253685.5929203\ttotal: 487ms\tremaining: 1.29s\n274:\tlearn: 253517.1632401\ttotal: 488ms\tremaining: 1.29s\n275:\tlearn: 253288.9802690\ttotal: 490ms\tremaining: 1.28s\n276:\tlearn: 253024.7399567\ttotal: 491ms\tremaining: 1.28s\n277:\tlearn: 252705.5806287\ttotal: 493ms\tremaining: 1.28s\n278:\tlearn: 252568.7044703\ttotal: 494ms\tremaining: 1.28s\n279:\tlearn: 252353.2454568\ttotal: 496ms\tremaining: 1.27s\n280:\tlearn: 252241.5984355\ttotal: 497ms\tremaining: 1.27s\n281:\tlearn: 251876.0949664\ttotal: 499ms\tremaining: 1.27s\n282:\tlearn: 251652.4244993\ttotal: 500ms\tremaining: 1.27s\n283:\tlearn: 251567.8994776\ttotal: 501ms\tremaining: 1.26s\n284:\tlearn: 251386.1977837\ttotal: 503ms\tremaining: 1.26s\n285:\tlearn: 251142.6647227\ttotal: 504ms\tremaining: 1.26s\n286:\tlearn: 250930.6653500\ttotal: 506ms\tremaining: 1.26s\n287:\tlearn: 250713.9949334\ttotal: 507ms\tremaining: 1.25s\n288:\tlearn: 250572.7957806\ttotal: 509ms\tremaining: 1.25s\n289:\tlearn: 250214.1425654\ttotal: 510ms\tremaining: 1.25s\n290:\tlearn: 250000.1178387\ttotal: 512ms\tremaining: 1.25s\n291:\tlearn: 249691.9268292\ttotal: 513ms\tremaining: 1.24s\n292:\tlearn: 249360.5164692\ttotal: 515ms\tremaining: 1.24s\n293:\tlearn: 249036.5861364\ttotal: 516ms\tremaining: 1.24s\n294:\tlearn: 248775.8222205\ttotal: 518ms\tremaining: 1.24s\n295:\tlearn: 248733.2291253\ttotal: 519ms\tremaining: 1.24s\n296:\tlearn: 248471.6652412\ttotal: 521ms\tremaining: 1.23s\n297:\tlearn: 248348.8043217\ttotal: 522ms\tremaining: 1.23s\n298:\tlearn: 248265.9256069\ttotal: 524ms\tremaining: 1.23s\n299:\tlearn: 248214.3533341\ttotal: 525ms\tremaining: 1.23s\n300:\tlearn: 248026.5665355\ttotal: 527ms\tremaining: 1.22s\n301:\tlearn: 247762.6317818\ttotal: 528ms\tremaining: 1.22s\n302:\tlearn: 247534.8826448\ttotal: 530ms\tremaining: 1.22s\n303:\tlearn: 247266.7053468\ttotal: 531ms\tremaining: 1.22s\n304:\tlearn: 247053.0494747\ttotal: 533ms\tremaining: 1.21s\n305:\tlearn: 246777.7256484\ttotal: 535ms\tremaining: 1.21s\n306:\tlearn: 246610.0050187\ttotal: 536ms\tremaining: 1.21s\n307:\tlearn: 246307.5714485\ttotal: 538ms\tremaining: 1.21s\n308:\tlearn: 246132.0150565\ttotal: 539ms\tremaining: 1.21s\n309:\tlearn: 245918.2984646\ttotal: 541ms\tremaining: 1.2s\n310:\tlearn: 245736.7449795\ttotal: 542ms\tremaining: 1.2s\n311:\tlearn: 245599.2025280\ttotal: 544ms\tremaining: 1.2s\n312:\tlearn: 245270.3172242\ttotal: 545ms\tremaining: 1.2s\n313:\tlearn: 245092.1239362\ttotal: 547ms\tremaining: 1.19s\n314:\tlearn: 244949.3208978\ttotal: 548ms\tremaining: 1.19s\n315:\tlearn: 244909.3565218\ttotal: 550ms\tremaining: 1.19s\n316:\tlearn: 244783.3711203\ttotal: 551ms\tremaining: 1.19s\n317:\tlearn: 244549.6834117\ttotal: 553ms\tremaining: 1.19s\n318:\tlearn: 244261.1747176\ttotal: 555ms\tremaining: 1.18s\n319:\tlearn: 244021.2896609\ttotal: 556ms\tremaining: 1.18s\n320:\tlearn: 243800.9569444\ttotal: 557ms\tremaining: 1.18s\n321:\tlearn: 243634.1297153\ttotal: 559ms\tremaining: 1.18s\n322:\tlearn: 243337.4089104\ttotal: 561ms\tremaining: 1.18s\n323:\tlearn: 243155.4122851\ttotal: 562ms\tremaining: 1.17s\n324:\tlearn: 242944.0875244\ttotal: 564ms\tremaining: 1.17s\n325:\tlearn: 242643.5196177\ttotal: 565ms\tremaining: 1.17s\n326:\tlearn: 242492.3576015\ttotal: 567ms\tremaining: 1.17s\n327:\tlearn: 242300.6922736\ttotal: 569ms\tremaining: 1.16s\n328:\tlearn: 242039.5590281\ttotal: 571ms\tremaining: 1.16s\n329:\tlearn: 241847.1955781\ttotal: 572ms\tremaining: 1.16s\n330:\tlearn: 241569.4562520\ttotal: 574ms\tremaining: 1.16s\n331:\tlearn: 241256.4318219\ttotal: 576ms\tremaining: 1.16s\n332:\tlearn: 241000.6146291\ttotal: 577ms\tremaining: 1.16s\n333:\tlearn: 240625.9497035\ttotal: 579ms\tremaining: 1.15s\n334:\tlearn: 240384.0854797\ttotal: 581ms\tremaining: 1.15s\n335:\tlearn: 240176.1482720\ttotal: 582ms\tremaining: 1.15s\n336:\tlearn: 239960.5597906\ttotal: 584ms\tremaining: 1.15s\n337:\tlearn: 239841.1393611\ttotal: 585ms\tremaining: 1.15s\n338:\tlearn: 239694.4638148\ttotal: 587ms\tremaining: 1.14s\n339:\tlearn: 239523.4491534\ttotal: 588ms\tremaining: 1.14s\n340:\tlearn: 239323.1981382\ttotal: 590ms\tremaining: 1.14s\n341:\tlearn: 239170.9497013\ttotal: 591ms\tremaining: 1.14s\n342:\tlearn: 239006.2345157\ttotal: 593ms\tremaining: 1.14s\n343:\tlearn: 238911.1219286\ttotal: 595ms\tremaining: 1.13s\n344:\tlearn: 238764.0800191\ttotal: 596ms\tremaining: 1.13s\n345:\tlearn: 238604.9924999\ttotal: 598ms\tremaining: 1.13s\n346:\tlearn: 238479.6223981\ttotal: 599ms\tremaining: 1.13s\n347:\tlearn: 238285.8885543\ttotal: 601ms\tremaining: 1.13s\n348:\tlearn: 238146.1835793\ttotal: 603ms\tremaining: 1.12s\n349:\tlearn: 237959.5265729\ttotal: 604ms\tremaining: 1.12s\n350:\tlearn: 237833.6943330\ttotal: 606ms\tremaining: 1.12s\n351:\tlearn: 237694.5263686\ttotal: 607ms\tremaining: 1.12s\n352:\tlearn: 237510.4628925\ttotal: 609ms\tremaining: 1.12s\n353:\tlearn: 237178.7368569\ttotal: 610ms\tremaining: 1.11s\n354:\tlearn: 237141.8137538\ttotal: 612ms\tremaining: 1.11s\n355:\tlearn: 236770.0982305\ttotal: 613ms\tremaining: 1.11s\n356:\tlearn: 236653.2570382\ttotal: 615ms\tremaining: 1.11s\n357:\tlearn: 236429.2904413\ttotal: 616ms\tremaining: 1.1s\n358:\tlearn: 236287.9007224\ttotal: 618ms\tremaining: 1.1s\n359:\tlearn: 236146.6474254\ttotal: 619ms\tremaining: 1.1s\n360:\tlearn: 235975.1622795\ttotal: 621ms\tremaining: 1.1s\n361:\tlearn: 235721.4126198\ttotal: 623ms\tremaining: 1.1s\n362:\tlearn: 235557.1090235\ttotal: 624ms\tremaining: 1.09s\n363:\tlearn: 235447.4148547\ttotal: 626ms\tremaining: 1.09s\n364:\tlearn: 235127.4324248\ttotal: 627ms\tremaining: 1.09s\n365:\tlearn: 234907.0467844\ttotal: 629ms\tremaining: 1.09s\n366:\tlearn: 234736.8225608\ttotal: 630ms\tremaining: 1.09s\n367:\tlearn: 234486.5155849\ttotal: 632ms\tremaining: 1.08s\n368:\tlearn: 234191.1211970\ttotal: 634ms\tremaining: 1.08s\n369:\tlearn: 234052.4096727\ttotal: 635ms\tremaining: 1.08s\n370:\tlearn: 233950.7567382\ttotal: 637ms\tremaining: 1.08s\n371:\tlearn: 233793.4383423\ttotal: 638ms\tremaining: 1.08s\n372:\tlearn: 233590.7164893\ttotal: 640ms\tremaining: 1.07s\n373:\tlearn: 233562.3567520\ttotal: 641ms\tremaining: 1.07s\n374:\tlearn: 233347.8148327\ttotal: 643ms\tremaining: 1.07s\n375:\tlearn: 233172.5802646\ttotal: 644ms\tremaining: 1.07s\n376:\tlearn: 232982.6399046\ttotal: 646ms\tremaining: 1.07s\n377:\tlearn: 232775.5920976\ttotal: 648ms\tremaining: 1.06s\n378:\tlearn: 232534.7933105\ttotal: 649ms\tremaining: 1.06s\n379:\tlearn: 232394.4429252\ttotal: 651ms\tremaining: 1.06s\n380:\tlearn: 232239.8928533\ttotal: 652ms\tremaining: 1.06s\n381:\tlearn: 232101.5085756\ttotal: 654ms\tremaining: 1.06s\n382:\tlearn: 231975.7370819\ttotal: 655ms\tremaining: 1.05s\n383:\tlearn: 231775.6399631\ttotal: 657ms\tremaining: 1.05s\n384:\tlearn: 231653.4371650\ttotal: 658ms\tremaining: 1.05s\n385:\tlearn: 231503.3836536\ttotal: 660ms\tremaining: 1.05s\n386:\tlearn: 231370.3490881\ttotal: 661ms\tremaining: 1.05s\n387:\tlearn: 231246.0386216\ttotal: 663ms\tremaining: 1.04s\n388:\tlearn: 231070.0520550\ttotal: 664ms\tremaining: 1.04s\n389:\tlearn: 230990.5154919\ttotal: 666ms\tremaining: 1.04s\n390:\tlearn: 230958.5198967\ttotal: 667ms\tremaining: 1.04s\n391:\tlearn: 230933.0729222\ttotal: 669ms\tremaining: 1.04s\n392:\tlearn: 230809.4359972\ttotal: 670ms\tremaining: 1.03s\n393:\tlearn: 230554.2546798\ttotal: 672ms\tremaining: 1.03s\n394:\tlearn: 230463.6235446\ttotal: 673ms\tremaining: 1.03s\n395:\tlearn: 230361.6026995\ttotal: 675ms\tremaining: 1.03s\n396:\tlearn: 230179.3931607\ttotal: 676ms\tremaining: 1.03s\n397:\tlearn: 229943.4656465\ttotal: 678ms\tremaining: 1.02s\n398:\tlearn: 229823.7426144\ttotal: 679ms\tremaining: 1.02s\n399:\tlearn: 229638.6908643\ttotal: 681ms\tremaining: 1.02s\n400:\tlearn: 229458.0681545\ttotal: 682ms\tremaining: 1.02s\n401:\tlearn: 229267.8758578\ttotal: 684ms\tremaining: 1.02s\n402:\tlearn: 229094.9364783\ttotal: 685ms\tremaining: 1.01s\n403:\tlearn: 228903.5090852\ttotal: 687ms\tremaining: 1.01s\n404:\tlearn: 228765.5724338\ttotal: 688ms\tremaining: 1.01s\n405:\tlearn: 228599.4059255\ttotal: 690ms\tremaining: 1.01s\n406:\tlearn: 228549.6706042\ttotal: 691ms\tremaining: 1.01s\n407:\tlearn: 228471.8470633\ttotal: 693ms\tremaining: 1s\n408:\tlearn: 228332.5504394\ttotal: 694ms\tremaining: 1s\n409:\tlearn: 228126.2773913\ttotal: 696ms\tremaining: 1s\n410:\tlearn: 227795.2068402\ttotal: 698ms\tremaining: 1000ms\n411:\tlearn: 227670.1870916\ttotal: 699ms\tremaining: 998ms\n412:\tlearn: 227576.1353208\ttotal: 701ms\tremaining: 996ms\n413:\tlearn: 227401.0318279\ttotal: 702ms\tremaining: 994ms\n414:\tlearn: 227174.2635451\ttotal: 704ms\tremaining: 992ms\n415:\tlearn: 227040.5909029\ttotal: 705ms\tremaining: 990ms\n416:\tlearn: 226988.4873295\ttotal: 707ms\tremaining: 988ms\n417:\tlearn: 226891.8286342\ttotal: 708ms\tremaining: 986ms\n418:\tlearn: 226705.8833197\ttotal: 710ms\tremaining: 985ms\n419:\tlearn: 226567.8090467\ttotal: 712ms\tremaining: 983ms\n420:\tlearn: 226470.9763826\ttotal: 713ms\tremaining: 981ms\n421:\tlearn: 226333.6690633\ttotal: 715ms\tremaining: 979ms\n422:\tlearn: 226203.7814337\ttotal: 716ms\tremaining: 977ms\n423:\tlearn: 226034.1877714\ttotal: 718ms\tremaining: 975ms\n424:\tlearn: 225858.0184919\ttotal: 720ms\tremaining: 973ms\n425:\tlearn: 225625.4918753\ttotal: 721ms\tremaining: 972ms\n426:\tlearn: 225503.0398849\ttotal: 723ms\tremaining: 970ms\n427:\tlearn: 225345.2798512\ttotal: 725ms\tremaining: 968ms\n428:\tlearn: 225206.2990532\ttotal: 726ms\tremaining: 966ms\n429:\tlearn: 225025.9846334\ttotal: 728ms\tremaining: 965ms\n430:\tlearn: 224963.0078828\ttotal: 729ms\tremaining: 963ms\n431:\tlearn: 224813.6818801\ttotal: 731ms\tremaining: 961ms\n432:\tlearn: 224712.5826832\ttotal: 732ms\tremaining: 959ms\n433:\tlearn: 224656.7988282\ttotal: 734ms\tremaining: 957ms\n434:\tlearn: 224542.6261669\ttotal: 735ms\tremaining: 955ms\n435:\tlearn: 224503.8759003\ttotal: 737ms\tremaining: 953ms\n436:\tlearn: 224337.1020701\ttotal: 738ms\tremaining: 951ms\n437:\tlearn: 224259.3358732\ttotal: 740ms\tremaining: 949ms\n438:\tlearn: 224110.9900990\ttotal: 741ms\tremaining: 947ms\n439:\tlearn: 223959.3734899\ttotal: 743ms\tremaining: 946ms\n440:\tlearn: 223772.2740881\ttotal: 745ms\tremaining: 944ms\n441:\tlearn: 223608.9875274\ttotal: 746ms\tremaining: 942ms\n442:\tlearn: 223583.0931217\ttotal: 748ms\tremaining: 940ms\n443:\tlearn: 223456.6984107\ttotal: 749ms\tremaining: 938ms\n444:\tlearn: 223246.8005926\ttotal: 751ms\tremaining: 937ms\n445:\tlearn: 223077.2793189\ttotal: 753ms\tremaining: 935ms\n446:\tlearn: 222923.6553355\ttotal: 754ms\tremaining: 933ms\n447:\tlearn: 222752.1403581\ttotal: 756ms\tremaining: 931ms\n448:\tlearn: 222608.0801674\ttotal: 757ms\tremaining: 929ms\n449:\tlearn: 222516.5350420\ttotal: 759ms\tremaining: 927ms\n450:\tlearn: 222349.4669415\ttotal: 760ms\tremaining: 926ms\n451:\tlearn: 222206.5374067\ttotal: 762ms\tremaining: 924ms\n452:\tlearn: 222098.6157746\ttotal: 764ms\tremaining: 922ms\n453:\tlearn: 221914.7694434\ttotal: 765ms\tremaining: 921ms\n454:\tlearn: 221792.6061821\ttotal: 767ms\tremaining: 919ms\n455:\tlearn: 221670.1837909\ttotal: 769ms\tremaining: 917ms\n456:\tlearn: 221580.6424924\ttotal: 770ms\tremaining: 915ms\n457:\tlearn: 221519.0902534\ttotal: 772ms\tremaining: 913ms\n458:\tlearn: 221423.2015314\ttotal: 773ms\tremaining: 912ms\n459:\tlearn: 221204.3688126\ttotal: 775ms\tremaining: 910ms\n460:\tlearn: 221094.0954964\ttotal: 776ms\tremaining: 908ms\n461:\tlearn: 220921.4529024\ttotal: 778ms\tremaining: 906ms\n462:\tlearn: 220835.0279186\ttotal: 780ms\tremaining: 904ms\n463:\tlearn: 220655.7794030\ttotal: 781ms\tremaining: 903ms\n464:\tlearn: 220614.4847627\ttotal: 783ms\tremaining: 901ms\n465:\tlearn: 220400.8967362\ttotal: 784ms\tremaining: 899ms\n466:\tlearn: 220266.8943823\ttotal: 786ms\tremaining: 897ms\n467:\tlearn: 220131.8901991\ttotal: 788ms\tremaining: 895ms\n468:\tlearn: 220003.3078889\ttotal: 789ms\tremaining: 894ms\n469:\tlearn: 219919.6211699\ttotal: 791ms\tremaining: 892ms\n470:\tlearn: 219871.1225298\ttotal: 792ms\tremaining: 890ms\n471:\tlearn: 219652.1834987\ttotal: 794ms\tremaining: 888ms\n472:\tlearn: 219538.7811787\ttotal: 795ms\tremaining: 886ms\n473:\tlearn: 219314.5812143\ttotal: 797ms\tremaining: 885ms\n474:\tlearn: 219167.7904789\ttotal: 799ms\tremaining: 883ms\n475:\tlearn: 219140.0286637\ttotal: 800ms\tremaining: 881ms\n476:\tlearn: 218878.0064175\ttotal: 802ms\tremaining: 879ms\n477:\tlearn: 218737.1875662\ttotal: 804ms\tremaining: 878ms\n478:\tlearn: 218666.0464518\ttotal: 805ms\tremaining: 876ms\n479:\tlearn: 218544.0166670\ttotal: 807ms\tremaining: 874ms\n480:\tlearn: 218414.9069149\ttotal: 808ms\tremaining: 872ms\n481:\tlearn: 218307.3595055\ttotal: 810ms\tremaining: 870ms\n482:\tlearn: 218221.6785585\ttotal: 811ms\tremaining: 868ms\n483:\tlearn: 218151.5577192\ttotal: 813ms\tremaining: 866ms\n484:\tlearn: 217903.2565211\ttotal: 814ms\tremaining: 865ms\n485:\tlearn: 217757.7975690\ttotal: 816ms\tremaining: 863ms\n486:\tlearn: 217693.5293941\ttotal: 817ms\tremaining: 861ms\n487:\tlearn: 217589.3580050\ttotal: 819ms\tremaining: 859ms\n488:\tlearn: 217502.1918051\ttotal: 821ms\tremaining: 858ms\n489:\tlearn: 217301.0579349\ttotal: 822ms\tremaining: 856ms\n490:\tlearn: 217112.4825124\ttotal: 823ms\tremaining: 854ms\n491:\tlearn: 217047.6823636\ttotal: 825ms\tremaining: 852ms\n492:\tlearn: 216976.2502771\ttotal: 826ms\tremaining: 850ms\n493:\tlearn: 216842.3242269\ttotal: 828ms\tremaining: 848ms\n494:\tlearn: 216793.3397316\ttotal: 830ms\tremaining: 846ms\n495:\tlearn: 216627.4612403\ttotal: 831ms\tremaining: 844ms\n496:\tlearn: 216484.8385939\ttotal: 833ms\tremaining: 843ms\n497:\tlearn: 216314.4776156\ttotal: 834ms\tremaining: 841ms\n498:\tlearn: 216183.3394739\ttotal: 836ms\tremaining: 839ms\n499:\tlearn: 216126.8574332\ttotal: 837ms\tremaining: 837ms\n500:\tlearn: 216009.3880239\ttotal: 839ms\tremaining: 835ms\n501:\tlearn: 215888.0710442\ttotal: 840ms\tremaining: 834ms\n502:\tlearn: 215867.1106250\ttotal: 842ms\tremaining: 832ms\n503:\tlearn: 215732.2944195\ttotal: 844ms\tremaining: 830ms\n504:\tlearn: 215670.1298584\ttotal: 845ms\tremaining: 828ms\n505:\tlearn: 215512.5979113\ttotal: 847ms\tremaining: 827ms\n506:\tlearn: 215438.6536709\ttotal: 848ms\tremaining: 825ms\n507:\tlearn: 215250.9597957\ttotal: 850ms\tremaining: 823ms\n508:\tlearn: 215074.2526224\ttotal: 851ms\tremaining: 821ms\n509:\tlearn: 214931.6223808\ttotal: 853ms\tremaining: 820ms\n510:\tlearn: 214863.5011128\ttotal: 854ms\tremaining: 818ms\n511:\tlearn: 214699.4719581\ttotal: 856ms\tremaining: 816ms\n512:\tlearn: 214577.9281228\ttotal: 858ms\tremaining: 814ms\n513:\tlearn: 214336.9657553\ttotal: 859ms\tremaining: 812ms\n514:\tlearn: 214209.4157076\ttotal: 861ms\tremaining: 811ms\n515:\tlearn: 214147.5147196\ttotal: 862ms\tremaining: 809ms\n516:\tlearn: 214090.3689444\ttotal: 864ms\tremaining: 807ms\n517:\tlearn: 213966.8024448\ttotal: 865ms\tremaining: 805ms\n518:\tlearn: 213827.5936224\ttotal: 867ms\tremaining: 803ms\n519:\tlearn: 213740.7982053\ttotal: 868ms\tremaining: 802ms\n520:\tlearn: 213593.7318257\ttotal: 870ms\tremaining: 800ms\n521:\tlearn: 213400.9304414\ttotal: 872ms\tremaining: 798ms\n522:\tlearn: 213184.8740801\ttotal: 873ms\tremaining: 797ms\n523:\tlearn: 213112.9451870\ttotal: 875ms\tremaining: 795ms\n524:\tlearn: 213003.9267213\ttotal: 876ms\tremaining: 793ms\n525:\tlearn: 212872.6513281\ttotal: 878ms\tremaining: 791ms\n526:\tlearn: 212751.2384561\ttotal: 880ms\tremaining: 789ms\n527:\tlearn: 212626.9620139\ttotal: 881ms\tremaining: 788ms\n528:\tlearn: 212577.5517595\ttotal: 882ms\tremaining: 786ms\n529:\tlearn: 212451.0485900\ttotal: 884ms\tremaining: 784ms\n530:\tlearn: 212378.6883267\ttotal: 885ms\tremaining: 782ms\n531:\tlearn: 212212.3468392\ttotal: 887ms\tremaining: 780ms\n532:\tlearn: 212130.9887373\ttotal: 889ms\tremaining: 779ms\n533:\tlearn: 212094.3176877\ttotal: 890ms\tremaining: 777ms\n534:\tlearn: 211959.5582314\ttotal: 892ms\tremaining: 775ms\n535:\tlearn: 211893.7580384\ttotal: 893ms\tremaining: 773ms\n536:\tlearn: 211751.2544125\ttotal: 895ms\tremaining: 771ms\n537:\tlearn: 211637.2181998\ttotal: 896ms\tremaining: 770ms\n538:\tlearn: 211529.9099830\ttotal: 898ms\tremaining: 768ms\n539:\tlearn: 211426.2171467\ttotal: 899ms\tremaining: 766ms\n540:\tlearn: 211411.1678189\ttotal: 901ms\tremaining: 764ms\n541:\tlearn: 211274.9758389\ttotal: 902ms\tremaining: 763ms\n542:\tlearn: 211073.8953200\ttotal: 904ms\tremaining: 761ms\n543:\tlearn: 210972.1369827\ttotal: 905ms\tremaining: 759ms\n544:\tlearn: 210918.6755218\ttotal: 907ms\tremaining: 757ms\n545:\tlearn: 210865.2277096\ttotal: 908ms\tremaining: 755ms\n546:\tlearn: 210718.3414333\ttotal: 910ms\tremaining: 754ms\n547:\tlearn: 210625.7460118\ttotal: 912ms\tremaining: 752ms\n548:\tlearn: 210439.8240525\ttotal: 913ms\tremaining: 750ms\n549:\tlearn: 210395.0662633\ttotal: 915ms\tremaining: 749ms\n550:\tlearn: 210228.6809213\ttotal: 917ms\tremaining: 747ms\n551:\tlearn: 210184.0580715\ttotal: 918ms\tremaining: 745ms\n552:\tlearn: 210169.9290946\ttotal: 920ms\tremaining: 743ms\n553:\tlearn: 210081.2371563\ttotal: 921ms\tremaining: 741ms\n554:\tlearn: 209997.4033218\ttotal: 923ms\tremaining: 740ms\n555:\tlearn: 209956.1047041\ttotal: 924ms\tremaining: 738ms\n556:\tlearn: 209797.2388249\ttotal: 926ms\tremaining: 736ms\n557:\tlearn: 209622.1568794\ttotal: 927ms\tremaining: 734ms\n558:\tlearn: 209529.2199420\ttotal: 929ms\tremaining: 733ms\n559:\tlearn: 209361.4519801\ttotal: 930ms\tremaining: 731ms\n560:\tlearn: 209344.8418127\ttotal: 932ms\tremaining: 729ms\n561:\tlearn: 209324.9363460\ttotal: 933ms\tremaining: 727ms\n562:\tlearn: 209231.0623068\ttotal: 935ms\tremaining: 726ms\n563:\tlearn: 209133.3396514\ttotal: 936ms\tremaining: 724ms\n564:\tlearn: 209080.4697163\ttotal: 938ms\tremaining: 722ms\n565:\tlearn: 208936.1371214\ttotal: 940ms\tremaining: 720ms\n566:\tlearn: 208835.0665321\ttotal: 941ms\tremaining: 719ms\n567:\tlearn: 208724.4744908\ttotal: 943ms\tremaining: 717ms\n568:\tlearn: 208629.8032274\ttotal: 945ms\tremaining: 716ms\n569:\tlearn: 208535.3532419\ttotal: 947ms\tremaining: 714ms\n570:\tlearn: 208417.6625387\ttotal: 949ms\tremaining: 713ms\n571:\tlearn: 208308.0310855\ttotal: 950ms\tremaining: 711ms\n572:\tlearn: 208198.6669316\ttotal: 952ms\tremaining: 709ms\n573:\tlearn: 207995.7619238\ttotal: 953ms\tremaining: 707ms\n574:\tlearn: 207912.6449341\ttotal: 955ms\tremaining: 706ms\n575:\tlearn: 207864.8025862\ttotal: 956ms\tremaining: 704ms\n576:\tlearn: 207704.9192495\ttotal: 958ms\tremaining: 702ms\n577:\tlearn: 207668.7382581\ttotal: 960ms\tremaining: 701ms\n578:\tlearn: 207541.4346057\ttotal: 961ms\tremaining: 699ms\n579:\tlearn: 207221.1905696\ttotal: 963ms\tremaining: 697ms\n580:\tlearn: 207070.9916757\ttotal: 964ms\tremaining: 695ms\n581:\tlearn: 206996.3406123\ttotal: 966ms\tremaining: 694ms\n582:\tlearn: 206751.6358604\ttotal: 967ms\tremaining: 692ms\n583:\tlearn: 206663.4949523\ttotal: 969ms\tremaining: 690ms\n584:\tlearn: 206557.4609152\ttotal: 970ms\tremaining: 688ms\n585:\tlearn: 206405.4275676\ttotal: 972ms\tremaining: 687ms\n586:\tlearn: 206225.7047711\ttotal: 973ms\tremaining: 685ms\n587:\tlearn: 206133.7622447\ttotal: 975ms\tremaining: 683ms\n588:\tlearn: 206037.6439282\ttotal: 977ms\tremaining: 682ms\n589:\tlearn: 205829.5502145\ttotal: 978ms\tremaining: 680ms\n590:\tlearn: 205764.4194990\ttotal: 980ms\tremaining: 678ms\n591:\tlearn: 205638.7320129\ttotal: 981ms\tremaining: 676ms\n592:\tlearn: 205519.4360297\ttotal: 983ms\tremaining: 674ms\n593:\tlearn: 205412.5554282\ttotal: 984ms\tremaining: 673ms\n594:\tlearn: 205240.6138300\ttotal: 986ms\tremaining: 671ms\n595:\tlearn: 205143.7461923\ttotal: 987ms\tremaining: 669ms\n596:\tlearn: 205096.4217468\ttotal: 989ms\tremaining: 667ms\n597:\tlearn: 204948.2735242\ttotal: 990ms\tremaining: 666ms\n598:\tlearn: 204907.6970328\ttotal: 992ms\tremaining: 664ms\n599:\tlearn: 204853.3808162\ttotal: 993ms\tremaining: 662ms\n600:\tlearn: 204808.5162342\ttotal: 995ms\tremaining: 660ms\n601:\tlearn: 204668.6932849\ttotal: 996ms\tremaining: 659ms\n602:\tlearn: 204589.5703344\ttotal: 998ms\tremaining: 657ms\n603:\tlearn: 204518.0433448\ttotal: 999ms\tremaining: 655ms\n604:\tlearn: 204439.6970069\ttotal: 1s\tremaining: 653ms\n605:\tlearn: 204386.0336445\ttotal: 1s\tremaining: 651ms\n606:\tlearn: 204270.3246041\ttotal: 1s\tremaining: 650ms\n607:\tlearn: 204157.2265791\ttotal: 1s\tremaining: 648ms\n608:\tlearn: 203974.4001605\ttotal: 1.01s\tremaining: 646ms\n609:\tlearn: 203825.5217966\ttotal: 1.01s\tremaining: 645ms\n610:\tlearn: 203714.0653244\ttotal: 1.01s\tremaining: 643ms\n611:\tlearn: 203658.4505238\ttotal: 1.01s\tremaining: 641ms\n612:\tlearn: 203565.7333156\ttotal: 1.01s\tremaining: 639ms\n613:\tlearn: 203488.9086553\ttotal: 1.01s\tremaining: 638ms\n614:\tlearn: 203364.1896320\ttotal: 1.01s\tremaining: 636ms\n615:\tlearn: 203307.9949245\ttotal: 1.02s\tremaining: 634ms\n616:\tlearn: 203172.0526895\ttotal: 1.02s\tremaining: 633ms\n617:\tlearn: 203069.0715463\ttotal: 1.02s\tremaining: 631ms\n618:\tlearn: 203009.0806124\ttotal: 1.02s\tremaining: 629ms\n619:\tlearn: 202885.1980263\ttotal: 1.02s\tremaining: 627ms\n620:\tlearn: 202706.9715651\ttotal: 1.02s\tremaining: 626ms\n621:\tlearn: 202558.4863799\ttotal: 1.03s\tremaining: 624ms\n622:\tlearn: 202508.9461391\ttotal: 1.03s\tremaining: 622ms\n623:\tlearn: 202384.8762341\ttotal: 1.03s\tremaining: 621ms\n624:\tlearn: 202296.7149095\ttotal: 1.03s\tremaining: 619ms\n625:\tlearn: 202246.2283139\ttotal: 1.03s\tremaining: 617ms\n626:\tlearn: 202111.8079875\ttotal: 1.03s\tremaining: 616ms\n627:\tlearn: 202004.6360898\ttotal: 1.04s\tremaining: 614ms\n628:\tlearn: 201826.7676585\ttotal: 1.04s\tremaining: 612ms\n629:\tlearn: 201704.8400112\ttotal: 1.04s\tremaining: 611ms\n630:\tlearn: 201605.5293544\ttotal: 1.04s\tremaining: 609ms\n631:\tlearn: 201538.7742481\ttotal: 1.04s\tremaining: 607ms\n632:\tlearn: 201420.7275491\ttotal: 1.04s\tremaining: 606ms\n633:\tlearn: 201303.0822369\ttotal: 1.04s\tremaining: 604ms\n634:\tlearn: 201226.5561683\ttotal: 1.05s\tremaining: 602ms\n635:\tlearn: 201146.3548695\ttotal: 1.05s\tremaining: 600ms\n636:\tlearn: 201095.7257312\ttotal: 1.05s\tremaining: 599ms\n637:\tlearn: 200908.0304103\ttotal: 1.05s\tremaining: 597ms\n638:\tlearn: 200842.9996806\ttotal: 1.05s\tremaining: 595ms\n639:\tlearn: 200711.2233618\ttotal: 1.05s\tremaining: 593ms\n640:\tlearn: 200562.7939420\ttotal: 1.06s\tremaining: 592ms\n641:\tlearn: 200479.8193577\ttotal: 1.06s\tremaining: 590ms\n642:\tlearn: 200320.1960141\ttotal: 1.06s\tremaining: 588ms\n643:\tlearn: 200256.0292838\ttotal: 1.06s\tremaining: 586ms\n644:\tlearn: 200218.5717295\ttotal: 1.06s\tremaining: 585ms\n645:\tlearn: 200152.9176782\ttotal: 1.06s\tremaining: 583ms\n646:\tlearn: 200074.2743818\ttotal: 1.06s\tremaining: 581ms\n647:\tlearn: 199943.2160529\ttotal: 1.07s\tremaining: 579ms\n648:\tlearn: 199848.5772817\ttotal: 1.07s\tremaining: 578ms\n649:\tlearn: 199813.9184833\ttotal: 1.07s\tremaining: 576ms\n650:\tlearn: 199721.7243888\ttotal: 1.07s\tremaining: 574ms\n651:\tlearn: 199621.0121903\ttotal: 1.07s\tremaining: 572ms\n652:\tlearn: 199382.1296909\ttotal: 1.07s\tremaining: 571ms\n653:\tlearn: 199266.0072762\ttotal: 1.07s\tremaining: 569ms\n654:\tlearn: 199111.3467643\ttotal: 1.08s\tremaining: 567ms\n655:\tlearn: 198948.4344638\ttotal: 1.08s\tremaining: 566ms\n656:\tlearn: 198852.8891766\ttotal: 1.08s\tremaining: 564ms\n657:\tlearn: 198804.2480335\ttotal: 1.08s\tremaining: 562ms\n658:\tlearn: 198677.3051372\ttotal: 1.08s\tremaining: 560ms\n659:\tlearn: 198580.3978776\ttotal: 1.08s\tremaining: 559ms\n660:\tlearn: 198541.0150931\ttotal: 1.08s\tremaining: 557ms\n661:\tlearn: 198376.5103102\ttotal: 1.09s\tremaining: 555ms\n662:\tlearn: 198270.7814661\ttotal: 1.09s\tremaining: 554ms\n663:\tlearn: 198174.2155738\ttotal: 1.09s\tremaining: 552ms\n664:\tlearn: 198024.5366507\ttotal: 1.09s\tremaining: 550ms\n665:\tlearn: 197873.5602830\ttotal: 1.09s\tremaining: 548ms\n666:\tlearn: 197795.6089937\ttotal: 1.09s\tremaining: 547ms\n667:\tlearn: 197756.1400661\ttotal: 1.1s\tremaining: 545ms\n668:\tlearn: 197671.9178226\ttotal: 1.1s\tremaining: 543ms\n669:\tlearn: 197539.4388090\ttotal: 1.1s\tremaining: 541ms\n670:\tlearn: 197482.8129907\ttotal: 1.1s\tremaining: 540ms\n671:\tlearn: 197392.2897386\ttotal: 1.1s\tremaining: 538ms\n672:\tlearn: 197265.6537302\ttotal: 1.1s\tremaining: 536ms\n673:\tlearn: 197198.6263628\ttotal: 1.1s\tremaining: 534ms\n674:\tlearn: 197131.8015205\ttotal: 1.1s\tremaining: 532ms\n675:\tlearn: 197087.0112562\ttotal: 1.11s\tremaining: 531ms\n676:\tlearn: 197042.3025487\ttotal: 1.11s\tremaining: 529ms\n677:\tlearn: 196887.1122347\ttotal: 1.11s\tremaining: 527ms\n678:\tlearn: 196834.4011318\ttotal: 1.11s\tremaining: 526ms\n679:\tlearn: 196720.6439907\ttotal: 1.11s\tremaining: 524ms\n680:\tlearn: 196567.4624901\ttotal: 1.11s\tremaining: 522ms\n681:\tlearn: 196468.0286870\ttotal: 1.12s\tremaining: 521ms\n682:\tlearn: 196330.2191570\ttotal: 1.12s\tremaining: 519ms\n683:\tlearn: 196259.7312299\ttotal: 1.12s\tremaining: 517ms\n684:\tlearn: 196227.9536519\ttotal: 1.12s\tremaining: 515ms\n685:\tlearn: 196111.1021128\ttotal: 1.12s\tremaining: 514ms\n686:\tlearn: 195915.4740128\ttotal: 1.12s\tremaining: 512ms\n687:\tlearn: 195874.8079478\ttotal: 1.13s\tremaining: 510ms\n688:\tlearn: 195792.5045689\ttotal: 1.13s\tremaining: 509ms\n689:\tlearn: 195660.3989097\ttotal: 1.13s\tremaining: 507ms\n690:\tlearn: 195603.4713023\ttotal: 1.13s\tremaining: 505ms\n691:\tlearn: 195502.6617231\ttotal: 1.13s\tremaining: 503ms\n692:\tlearn: 195447.3249043\ttotal: 1.13s\tremaining: 502ms\n693:\tlearn: 195310.0239011\ttotal: 1.13s\tremaining: 500ms\n694:\tlearn: 195277.3277719\ttotal: 1.14s\tremaining: 498ms\n695:\tlearn: 195150.6669675\ttotal: 1.14s\tremaining: 497ms\n696:\tlearn: 195017.1098505\ttotal: 1.14s\tremaining: 495ms\n697:\tlearn: 194837.1383765\ttotal: 1.14s\tremaining: 493ms\n698:\tlearn: 194686.2311993\ttotal: 1.14s\tremaining: 492ms\n699:\tlearn: 194554.3884511\ttotal: 1.14s\tremaining: 490ms\n700:\tlearn: 194533.8032547\ttotal: 1.14s\tremaining: 488ms\n701:\tlearn: 194425.0370549\ttotal: 1.15s\tremaining: 487ms\n702:\tlearn: 194279.0278704\ttotal: 1.15s\tremaining: 485ms\n703:\tlearn: 194206.4990911\ttotal: 1.15s\tremaining: 483ms\n704:\tlearn: 194139.3486139\ttotal: 1.15s\tremaining: 482ms\n705:\tlearn: 194076.7535403\ttotal: 1.15s\tremaining: 480ms\n706:\tlearn: 194009.6071008\ttotal: 1.15s\tremaining: 478ms\n707:\tlearn: 193969.9338842\ttotal: 1.16s\tremaining: 477ms\n708:\tlearn: 193864.0369723\ttotal: 1.16s\tremaining: 475ms\n709:\tlearn: 193774.0400897\ttotal: 1.16s\tremaining: 473ms\n710:\tlearn: 193748.8580984\ttotal: 1.16s\tremaining: 472ms\n711:\tlearn: 193697.2975435\ttotal: 1.16s\tremaining: 470ms\n712:\tlearn: 193665.5117662\ttotal: 1.16s\tremaining: 468ms\n713:\tlearn: 193427.8893364\ttotal: 1.16s\tremaining: 467ms\n714:\tlearn: 193385.1783291\ttotal: 1.17s\tremaining: 465ms\n715:\tlearn: 193233.0360199\ttotal: 1.17s\tremaining: 463ms\n716:\tlearn: 193186.6759949\ttotal: 1.17s\tremaining: 462ms\n717:\tlearn: 193053.9936869\ttotal: 1.17s\tremaining: 460ms\n718:\tlearn: 192929.4044448\ttotal: 1.17s\tremaining: 458ms\n719:\tlearn: 192841.6436708\ttotal: 1.17s\tremaining: 457ms\n720:\tlearn: 192686.2600340\ttotal: 1.18s\tremaining: 455ms\n721:\tlearn: 192568.9237869\ttotal: 1.18s\tremaining: 453ms\n722:\tlearn: 192555.2417439\ttotal: 1.18s\tremaining: 452ms\n723:\tlearn: 192444.4149952\ttotal: 1.18s\tremaining: 450ms\n724:\tlearn: 192339.1482209\ttotal: 1.18s\tremaining: 448ms\n725:\tlearn: 192214.0553485\ttotal: 1.18s\tremaining: 447ms\n726:\tlearn: 192156.3221303\ttotal: 1.18s\tremaining: 445ms\n727:\tlearn: 192116.0376891\ttotal: 1.19s\tremaining: 443ms\n728:\tlearn: 192041.8413665\ttotal: 1.19s\tremaining: 441ms\n729:\tlearn: 191885.0215330\ttotal: 1.19s\tremaining: 440ms\n730:\tlearn: 191793.1005874\ttotal: 1.19s\tremaining: 438ms\n731:\tlearn: 191674.1156213\ttotal: 1.19s\tremaining: 437ms\n732:\tlearn: 191623.2872140\ttotal: 1.19s\tremaining: 435ms\n733:\tlearn: 191507.2333130\ttotal: 1.2s\tremaining: 434ms\n734:\tlearn: 191403.4989274\ttotal: 1.2s\tremaining: 432ms\n735:\tlearn: 191379.6339342\ttotal: 1.2s\tremaining: 430ms\n736:\tlearn: 191317.4719764\ttotal: 1.2s\tremaining: 429ms\n737:\tlearn: 191286.9486679\ttotal: 1.2s\tremaining: 427ms\n738:\tlearn: 191207.0602070\ttotal: 1.2s\tremaining: 425ms\n739:\tlearn: 191152.1616501\ttotal: 1.21s\tremaining: 424ms\n740:\tlearn: 191017.0209150\ttotal: 1.21s\tremaining: 422ms\n741:\tlearn: 190984.5994208\ttotal: 1.21s\tremaining: 420ms\n742:\tlearn: 190902.2615429\ttotal: 1.21s\tremaining: 419ms\n743:\tlearn: 190845.0050558\ttotal: 1.21s\tremaining: 417ms\n744:\tlearn: 190788.9360901\ttotal: 1.21s\tremaining: 415ms\n745:\tlearn: 190763.0406319\ttotal: 1.21s\tremaining: 414ms\n746:\tlearn: 190710.7919194\ttotal: 1.22s\tremaining: 412ms\n747:\tlearn: 190636.3351595\ttotal: 1.22s\tremaining: 410ms\n748:\tlearn: 190593.4974506\ttotal: 1.22s\tremaining: 409ms\n749:\tlearn: 190451.1598172\ttotal: 1.22s\tremaining: 407ms\n750:\tlearn: 190367.7931450\ttotal: 1.22s\tremaining: 405ms\n751:\tlearn: 190331.0945766\ttotal: 1.22s\tremaining: 404ms\n752:\tlearn: 190281.0367069\ttotal: 1.23s\tremaining: 402ms\n753:\tlearn: 190270.9664216\ttotal: 1.23s\tremaining: 400ms\n754:\tlearn: 190188.6298559\ttotal: 1.23s\tremaining: 398ms\n755:\tlearn: 190027.9337235\ttotal: 1.23s\tremaining: 397ms\n756:\tlearn: 189928.1728863\ttotal: 1.23s\tremaining: 395ms\n757:\tlearn: 189815.3589468\ttotal: 1.23s\tremaining: 393ms\n758:\tlearn: 189740.8611916\ttotal: 1.23s\tremaining: 392ms\n759:\tlearn: 189563.2724903\ttotal: 1.24s\tremaining: 390ms\n760:\tlearn: 189470.7390409\ttotal: 1.24s\tremaining: 389ms\n761:\tlearn: 189284.2141950\ttotal: 1.24s\tremaining: 387ms\n762:\tlearn: 189177.7063897\ttotal: 1.24s\tremaining: 385ms\n763:\tlearn: 189088.2396916\ttotal: 1.24s\tremaining: 384ms\n764:\tlearn: 189016.9893148\ttotal: 1.24s\tremaining: 382ms\n765:\tlearn: 188912.9138653\ttotal: 1.24s\tremaining: 380ms\n766:\tlearn: 188806.4776328\ttotal: 1.25s\tremaining: 379ms\n767:\tlearn: 188747.8009187\ttotal: 1.25s\tremaining: 377ms\n768:\tlearn: 188605.9133931\ttotal: 1.25s\tremaining: 375ms\n769:\tlearn: 188502.6282716\ttotal: 1.25s\tremaining: 374ms\n770:\tlearn: 188480.3343551\ttotal: 1.25s\tremaining: 372ms\n771:\tlearn: 188420.3733538\ttotal: 1.25s\tremaining: 370ms\n772:\tlearn: 188314.8515107\ttotal: 1.25s\tremaining: 369ms\n773:\tlearn: 188132.2145141\ttotal: 1.26s\tremaining: 367ms\n774:\tlearn: 188062.5586162\ttotal: 1.26s\tremaining: 365ms\n775:\tlearn: 187903.7378710\ttotal: 1.26s\tremaining: 364ms\n776:\tlearn: 187793.0365256\ttotal: 1.26s\tremaining: 362ms\n777:\tlearn: 187664.1034469\ttotal: 1.26s\tremaining: 361ms\n778:\tlearn: 187577.1841247\ttotal: 1.26s\tremaining: 359ms\n779:\tlearn: 187442.3814940\ttotal: 1.27s\tremaining: 357ms\n780:\tlearn: 187315.2248841\ttotal: 1.27s\tremaining: 356ms\n781:\tlearn: 187277.7060138\ttotal: 1.27s\tremaining: 354ms\n782:\tlearn: 187195.6697439\ttotal: 1.27s\tremaining: 352ms\n783:\tlearn: 187138.2608923\ttotal: 1.27s\tremaining: 351ms\n784:\tlearn: 186989.9287891\ttotal: 1.27s\tremaining: 349ms\n785:\tlearn: 186946.6161120\ttotal: 1.28s\tremaining: 347ms\n786:\tlearn: 186847.9632583\ttotal: 1.28s\tremaining: 346ms\n787:\tlearn: 186725.3719536\ttotal: 1.28s\tremaining: 344ms\n788:\tlearn: 186706.7418135\ttotal: 1.28s\tremaining: 342ms\n789:\tlearn: 186597.2692469\ttotal: 1.28s\tremaining: 341ms\n790:\tlearn: 186508.4371603\ttotal: 1.28s\tremaining: 339ms\n791:\tlearn: 186428.2827072\ttotal: 1.28s\tremaining: 338ms\n792:\tlearn: 186382.1513558\ttotal: 1.29s\tremaining: 336ms\n793:\tlearn: 186286.5950860\ttotal: 1.29s\tremaining: 334ms\n794:\tlearn: 186238.5413358\ttotal: 1.29s\tremaining: 333ms\n795:\tlearn: 186206.5735873\ttotal: 1.29s\tremaining: 331ms\n796:\tlearn: 186123.5250972\ttotal: 1.29s\tremaining: 329ms\n797:\tlearn: 186099.1925738\ttotal: 1.29s\tremaining: 328ms\n798:\tlearn: 186027.5309583\ttotal: 1.3s\tremaining: 326ms\n799:\tlearn: 185946.8358741\ttotal: 1.3s\tremaining: 324ms\n800:\tlearn: 185836.5625256\ttotal: 1.3s\tremaining: 323ms\n801:\tlearn: 185735.8112017\ttotal: 1.3s\tremaining: 321ms\n802:\tlearn: 185606.8837741\ttotal: 1.3s\tremaining: 320ms\n803:\tlearn: 185423.5082127\ttotal: 1.3s\tremaining: 318ms\n804:\tlearn: 185359.0110439\ttotal: 1.3s\tremaining: 316ms\n805:\tlearn: 185232.5516868\ttotal: 1.31s\tremaining: 315ms\n806:\tlearn: 185180.9801637\ttotal: 1.31s\tremaining: 313ms\n807:\tlearn: 185110.2532611\ttotal: 1.31s\tremaining: 311ms\n808:\tlearn: 185027.4685797\ttotal: 1.31s\tremaining: 310ms\n809:\tlearn: 184944.1437031\ttotal: 1.31s\tremaining: 308ms\n810:\tlearn: 184889.9755718\ttotal: 1.31s\tremaining: 306ms\n811:\tlearn: 184750.3464925\ttotal: 1.31s\tremaining: 305ms\n812:\tlearn: 184695.4204139\ttotal: 1.32s\tremaining: 303ms\n813:\tlearn: 184625.1153016\ttotal: 1.32s\tremaining: 301ms\n814:\tlearn: 184550.2548912\ttotal: 1.32s\tremaining: 300ms\n815:\tlearn: 184439.5039481\ttotal: 1.32s\tremaining: 298ms\n816:\tlearn: 184336.4178949\ttotal: 1.32s\tremaining: 297ms\n817:\tlearn: 184264.8157063\ttotal: 1.32s\tremaining: 295ms\n818:\tlearn: 184184.1145476\ttotal: 1.33s\tremaining: 293ms\n819:\tlearn: 184146.3204114\ttotal: 1.33s\tremaining: 292ms\n820:\tlearn: 184087.6462958\ttotal: 1.33s\tremaining: 290ms\n821:\tlearn: 184045.6338330\ttotal: 1.33s\tremaining: 288ms\n822:\tlearn: 183995.8839060\ttotal: 1.33s\tremaining: 287ms\n823:\tlearn: 183866.8231130\ttotal: 1.33s\tremaining: 285ms\n824:\tlearn: 183807.9956865\ttotal: 1.33s\tremaining: 283ms\n825:\tlearn: 183707.0773368\ttotal: 1.34s\tremaining: 282ms\n826:\tlearn: 183530.5659411\ttotal: 1.34s\tremaining: 280ms\n827:\tlearn: 183471.9800395\ttotal: 1.34s\tremaining: 278ms\n828:\tlearn: 183377.2586541\ttotal: 1.34s\tremaining: 277ms\n829:\tlearn: 183294.5094877\ttotal: 1.34s\tremaining: 275ms\n830:\tlearn: 183268.0548660\ttotal: 1.34s\tremaining: 274ms\n831:\tlearn: 183213.9469166\ttotal: 1.35s\tremaining: 272ms\n832:\tlearn: 183145.1660995\ttotal: 1.35s\tremaining: 270ms\n833:\tlearn: 183028.6933730\ttotal: 1.35s\tremaining: 269ms\n834:\tlearn: 182977.0315940\ttotal: 1.35s\tremaining: 267ms\n835:\tlearn: 182913.0841719\ttotal: 1.35s\tremaining: 265ms\n836:\tlearn: 182749.4691480\ttotal: 1.35s\tremaining: 264ms\n837:\tlearn: 182653.8941508\ttotal: 1.36s\tremaining: 262ms\n838:\tlearn: 182617.5366151\ttotal: 1.36s\tremaining: 261ms\n839:\tlearn: 182505.4321927\ttotal: 1.36s\tremaining: 259ms\n840:\tlearn: 182471.1946426\ttotal: 1.36s\tremaining: 257ms\n841:\tlearn: 182370.6576459\ttotal: 1.36s\tremaining: 256ms\n842:\tlearn: 182280.9156583\ttotal: 1.36s\tremaining: 254ms\n843:\tlearn: 182225.3042253\ttotal: 1.36s\tremaining: 252ms\n844:\tlearn: 182127.4284711\ttotal: 1.37s\tremaining: 251ms\n845:\tlearn: 182063.9329832\ttotal: 1.37s\tremaining: 249ms\n846:\tlearn: 182015.8021635\ttotal: 1.37s\tremaining: 247ms\n847:\tlearn: 181948.7631818\ttotal: 1.37s\tremaining: 246ms\n848:\tlearn: 181905.8813869\ttotal: 1.37s\tremaining: 244ms\n849:\tlearn: 181847.2189579\ttotal: 1.37s\tremaining: 243ms\n850:\tlearn: 181790.8437166\ttotal: 1.38s\tremaining: 241ms\n851:\tlearn: 181701.3674951\ttotal: 1.38s\tremaining: 239ms\n852:\tlearn: 181629.5538161\ttotal: 1.38s\tremaining: 238ms\n853:\tlearn: 181587.3699329\ttotal: 1.38s\tremaining: 236ms\n854:\tlearn: 181553.8837138\ttotal: 1.38s\tremaining: 234ms\n855:\tlearn: 181440.2420834\ttotal: 1.38s\tremaining: 233ms\n856:\tlearn: 181414.3543633\ttotal: 1.39s\tremaining: 231ms\n857:\tlearn: 181315.0637820\ttotal: 1.39s\tremaining: 229ms\n858:\tlearn: 181233.7850942\ttotal: 1.39s\tremaining: 228ms\n859:\tlearn: 181142.1956471\ttotal: 1.39s\tremaining: 226ms\n860:\tlearn: 181065.7267995\ttotal: 1.39s\tremaining: 225ms\n861:\tlearn: 181028.1093778\ttotal: 1.39s\tremaining: 223ms\n862:\tlearn: 180934.8617025\ttotal: 1.39s\tremaining: 221ms\n863:\tlearn: 180883.9711065\ttotal: 1.4s\tremaining: 220ms\n864:\tlearn: 180860.7907954\ttotal: 1.4s\tremaining: 218ms\n865:\tlearn: 180818.2696458\ttotal: 1.4s\tremaining: 216ms\n866:\tlearn: 180707.8344646\ttotal: 1.4s\tremaining: 215ms\n867:\tlearn: 180634.2260706\ttotal: 1.4s\tremaining: 213ms\n868:\tlearn: 180574.9752811\ttotal: 1.4s\tremaining: 212ms\n869:\tlearn: 180490.1880916\ttotal: 1.41s\tremaining: 210ms\n870:\tlearn: 180362.0993618\ttotal: 1.41s\tremaining: 208ms\n871:\tlearn: 180320.7593472\ttotal: 1.41s\tremaining: 207ms\n872:\tlearn: 180237.6813945\ttotal: 1.41s\tremaining: 205ms\n873:\tlearn: 180148.2643818\ttotal: 1.41s\tremaining: 204ms\n874:\tlearn: 180049.4324805\ttotal: 1.41s\tremaining: 202ms\n875:\tlearn: 179879.7999228\ttotal: 1.42s\tremaining: 200ms\n876:\tlearn: 179758.4284896\ttotal: 1.42s\tremaining: 199ms\n877:\tlearn: 179693.7340144\ttotal: 1.42s\tremaining: 197ms\n878:\tlearn: 179685.7490338\ttotal: 1.42s\tremaining: 195ms\n879:\tlearn: 179642.0245519\ttotal: 1.42s\tremaining: 194ms\n880:\tlearn: 179526.4959621\ttotal: 1.42s\tremaining: 192ms\n881:\tlearn: 179478.1620022\ttotal: 1.42s\tremaining: 191ms\n882:\tlearn: 179302.4609405\ttotal: 1.43s\tremaining: 189ms\n883:\tlearn: 179133.1423332\ttotal: 1.43s\tremaining: 187ms\n884:\tlearn: 179097.3210132\ttotal: 1.43s\tremaining: 186ms\n885:\tlearn: 179003.0998370\ttotal: 1.43s\tremaining: 184ms\n886:\tlearn: 178884.6837636\ttotal: 1.43s\tremaining: 182ms\n887:\tlearn: 178824.1638134\ttotal: 1.43s\tremaining: 181ms\n888:\tlearn: 178770.0624060\ttotal: 1.44s\tremaining: 179ms\n889:\tlearn: 178720.8653950\ttotal: 1.44s\tremaining: 178ms\n890:\tlearn: 178696.7319211\ttotal: 1.44s\tremaining: 176ms\n891:\tlearn: 178611.8281998\ttotal: 1.44s\tremaining: 174ms\n892:\tlearn: 178585.7958538\ttotal: 1.44s\tremaining: 173ms\n893:\tlearn: 178404.9462982\ttotal: 1.44s\tremaining: 171ms\n894:\tlearn: 178312.5214111\ttotal: 1.44s\tremaining: 169ms\n895:\tlearn: 178262.1325863\ttotal: 1.45s\tremaining: 168ms\n896:\tlearn: 178171.0180099\ttotal: 1.45s\tremaining: 166ms\n897:\tlearn: 178120.5022424\ttotal: 1.45s\tremaining: 165ms\n898:\tlearn: 178093.1357493\ttotal: 1.45s\tremaining: 163ms\n899:\tlearn: 178004.0931169\ttotal: 1.45s\tremaining: 161ms\n900:\tlearn: 177931.2569854\ttotal: 1.45s\tremaining: 160ms\n901:\tlearn: 177877.8732261\ttotal: 1.46s\tremaining: 158ms\n902:\tlearn: 177763.9054933\ttotal: 1.46s\tremaining: 157ms\n903:\tlearn: 177710.2784412\ttotal: 1.46s\tremaining: 155ms\n904:\tlearn: 177626.3282528\ttotal: 1.46s\tremaining: 153ms\n905:\tlearn: 177554.8247360\ttotal: 1.46s\tremaining: 152ms\n906:\tlearn: 177458.8749425\ttotal: 1.46s\tremaining: 150ms\n907:\tlearn: 177454.1832956\ttotal: 1.46s\tremaining: 148ms\n908:\tlearn: 177350.3867817\ttotal: 1.47s\tremaining: 147ms\n909:\tlearn: 177329.6110882\ttotal: 1.47s\tremaining: 145ms\n910:\tlearn: 177191.0996059\ttotal: 1.47s\tremaining: 144ms\n911:\tlearn: 177170.9305024\ttotal: 1.47s\tremaining: 142ms\n912:\tlearn: 177101.5521455\ttotal: 1.47s\tremaining: 140ms\n913:\tlearn: 176951.5916323\ttotal: 1.47s\tremaining: 139ms\n914:\tlearn: 176810.6335366\ttotal: 1.48s\tremaining: 137ms\n915:\tlearn: 176681.9946846\ttotal: 1.48s\tremaining: 135ms\n916:\tlearn: 176596.1613068\ttotal: 1.48s\tremaining: 134ms\n917:\tlearn: 176506.3474824\ttotal: 1.48s\tremaining: 132ms\n918:\tlearn: 176449.4789851\ttotal: 1.48s\tremaining: 131ms\n919:\tlearn: 176374.9716348\ttotal: 1.48s\tremaining: 129ms\n920:\tlearn: 176267.1594442\ttotal: 1.48s\tremaining: 127ms\n921:\tlearn: 176230.6561999\ttotal: 1.49s\tremaining: 126ms\n922:\tlearn: 176031.8209742\ttotal: 1.49s\tremaining: 124ms\n923:\tlearn: 175966.7268686\ttotal: 1.49s\tremaining: 122ms\n924:\tlearn: 175851.5795183\ttotal: 1.49s\tremaining: 121ms\n925:\tlearn: 175811.6754757\ttotal: 1.49s\tremaining: 119ms\n926:\tlearn: 175716.0383315\ttotal: 1.49s\tremaining: 118ms\n927:\tlearn: 175629.6752494\ttotal: 1.5s\tremaining: 116ms\n928:\tlearn: 175557.8785334\ttotal: 1.5s\tremaining: 114ms\n929:\tlearn: 175512.6579410\ttotal: 1.5s\tremaining: 113ms\n930:\tlearn: 175439.0408583\ttotal: 1.5s\tremaining: 111ms\n931:\tlearn: 175401.4362730\ttotal: 1.5s\tremaining: 110ms\n932:\tlearn: 175370.4587498\ttotal: 1.5s\tremaining: 108ms\n933:\tlearn: 175266.3220405\ttotal: 1.5s\tremaining: 106ms\n934:\tlearn: 175182.0609084\ttotal: 1.51s\tremaining: 105ms\n935:\tlearn: 175146.5878051\ttotal: 1.51s\tremaining: 103ms\n936:\tlearn: 175009.9327122\ttotal: 1.51s\tremaining: 101ms\n937:\tlearn: 174864.7884632\ttotal: 1.51s\tremaining: 99.9ms\n938:\tlearn: 174785.1264181\ttotal: 1.51s\tremaining: 98.2ms\n939:\tlearn: 174699.8719661\ttotal: 1.51s\tremaining: 96.6ms\n940:\tlearn: 174667.7940923\ttotal: 1.51s\tremaining: 95ms\n941:\tlearn: 174602.1108424\ttotal: 1.52s\tremaining: 93.4ms\n942:\tlearn: 174571.5373678\ttotal: 1.52s\tremaining: 91.8ms\n943:\tlearn: 174480.6241392\ttotal: 1.52s\tremaining: 90.2ms\n944:\tlearn: 174441.6182258\ttotal: 1.52s\tremaining: 88.5ms\n945:\tlearn: 174360.5410986\ttotal: 1.52s\tremaining: 86.9ms\n946:\tlearn: 174266.6948248\ttotal: 1.52s\tremaining: 85.3ms\n947:\tlearn: 174227.5534644\ttotal: 1.52s\tremaining: 83.7ms\n948:\tlearn: 174156.3385564\ttotal: 1.53s\tremaining: 82.1ms\n949:\tlearn: 174078.1334816\ttotal: 1.53s\tremaining: 80.5ms\n950:\tlearn: 174024.9848980\ttotal: 1.53s\tremaining: 78.9ms\n951:\tlearn: 173937.5657302\ttotal: 1.53s\tremaining: 77.3ms\n952:\tlearn: 173857.8352398\ttotal: 1.53s\tremaining: 75.7ms\n953:\tlearn: 173820.5291557\ttotal: 1.53s\tremaining: 74.1ms\n954:\tlearn: 173711.4603002\ttotal: 1.54s\tremaining: 72.4ms\n955:\tlearn: 173659.6897981\ttotal: 1.54s\tremaining: 70.8ms\n956:\tlearn: 173595.8861208\ttotal: 1.54s\tremaining: 69.2ms\n957:\tlearn: 173527.8513495\ttotal: 1.54s\tremaining: 67.6ms\n958:\tlearn: 173477.6401018\ttotal: 1.54s\tremaining: 66ms\n959:\tlearn: 173456.7968637\ttotal: 1.54s\tremaining: 64.4ms\n960:\tlearn: 173326.3889975\ttotal: 1.55s\tremaining: 62.8ms\n961:\tlearn: 173255.3836088\ttotal: 1.55s\tremaining: 61.1ms\n962:\tlearn: 173216.5843274\ttotal: 1.55s\tremaining: 59.5ms\n963:\tlearn: 173121.1333878\ttotal: 1.55s\tremaining: 57.9ms\n964:\tlearn: 173088.0840183\ttotal: 1.55s\tremaining: 56.3ms\n965:\tlearn: 173016.4469740\ttotal: 1.55s\tremaining: 54.7ms\n966:\tlearn: 172954.8421167\ttotal: 1.55s\tremaining: 53.1ms\n967:\tlearn: 172837.3854862\ttotal: 1.56s\tremaining: 51.5ms\n968:\tlearn: 172812.9189925\ttotal: 1.56s\tremaining: 49.9ms\n969:\tlearn: 172692.1869707\ttotal: 1.56s\tremaining: 48.2ms\n970:\tlearn: 172586.4461522\ttotal: 1.56s\tremaining: 46.6ms\n971:\tlearn: 172486.9396847\ttotal: 1.56s\tremaining: 45ms\n972:\tlearn: 172384.1957619\ttotal: 1.56s\tremaining: 43.4ms\n973:\tlearn: 172292.6708156\ttotal: 1.57s\tremaining: 41.8ms\n974:\tlearn: 172253.6233089\ttotal: 1.57s\tremaining: 40.2ms\n975:\tlearn: 172161.3877126\ttotal: 1.57s\tremaining: 38.6ms\n976:\tlearn: 172082.6395703\ttotal: 1.57s\tremaining: 37ms\n977:\tlearn: 171989.2962017\ttotal: 1.57s\tremaining: 35.4ms\n978:\tlearn: 171910.3089661\ttotal: 1.57s\tremaining: 33.8ms\n979:\tlearn: 171848.3141975\ttotal: 1.57s\tremaining: 32.2ms\n980:\tlearn: 171828.4879689\ttotal: 1.58s\tremaining: 30.5ms\n981:\tlearn: 171787.6203777\ttotal: 1.58s\tremaining: 28.9ms\n982:\tlearn: 171719.6745285\ttotal: 1.58s\tremaining: 27.3ms\n983:\tlearn: 171644.9871261\ttotal: 1.58s\tremaining: 25.7ms\n984:\tlearn: 171572.1099525\ttotal: 1.58s\tremaining: 24.1ms\n985:\tlearn: 171507.7630221\ttotal: 1.58s\tremaining: 22.5ms\n986:\tlearn: 171415.0279909\ttotal: 1.59s\tremaining: 20.9ms\n987:\tlearn: 171393.0471361\ttotal: 1.59s\tremaining: 19.3ms\n988:\tlearn: 171354.3047476\ttotal: 1.59s\tremaining: 17.7ms\n989:\tlearn: 171293.3044676\ttotal: 1.59s\tremaining: 16.1ms\n990:\tlearn: 171255.7521910\ttotal: 1.59s\tremaining: 14.5ms\n991:\tlearn: 171167.6571020\ttotal: 1.59s\tremaining: 12.9ms\n992:\tlearn: 171082.8223300\ttotal: 1.59s\tremaining: 11.2ms\n993:\tlearn: 171024.5742016\ttotal: 1.6s\tremaining: 9.64ms\n994:\tlearn: 170941.9178864\ttotal: 1.6s\tremaining: 8.03ms\n995:\tlearn: 170865.0980071\ttotal: 1.6s\tremaining: 6.42ms\n996:\tlearn: 170818.3885450\ttotal: 1.6s\tremaining: 4.82ms\n997:\tlearn: 170765.1906792\ttotal: 1.6s\tremaining: 3.21ms\n998:\tlearn: 170650.9822413\ttotal: 1.6s\tremaining: 1.61ms\n999:\tlearn: 170554.6270804\ttotal: 1.61s\tremaining: 0us\n",
     "output_type": "stream"
    }
   ]
  },
  {
   "cell_type": "code",
   "metadata": {
    "tags": [],
    "deepnote_to_be_reexecuted": false,
    "source_hash": "831b866",
    "execution_start": 1651497656060,
    "execution_millis": 28,
    "cell_id": "00014-97c4bbb3-fe8b-46ec-a302-065f12817cb3",
    "deepnote_cell_type": "code",
    "deepnote_cell_height": 447
   },
   "source": "# evaluate \n\ny_true = y_test # real values \ny_pred_default_catb = default_catb.predict(X_test) # predicted values \n\nr2_default_catb = round(metrics.r2_score(y_true, y_pred_default_catb), 4)\nmae_default_catb = round(metrics.mean_absolute_error(y_true, y_pred_default_catb),2)\nmape_default_catb = round(metrics.mean_absolute_percentage_error(y_true, y_pred_default_catb),4)\n\neval_dict_default_catb = {'R2': r2_default_catb, 'MAE': mae_default_catb, 'MAPE': mape_default_catb}\neval_default_catb = pd.DataFrame.from_dict(eval_dict_default_catb, orient='index').transpose()\n\neval_default_catb",
   "execution_count": null,
   "outputs": [
    {
     "output_type": "execute_result",
     "execution_count": 25,
     "data": {
      "application/vnd.deepnote.dataframe.v3+json": {
       "column_count": 3,
       "row_count": 1,
       "columns": [
        {
         "name": "R2",
         "dtype": "float64",
         "stats": {
          "unique_count": 1,
          "nan_count": 0,
          "min": "0.9461",
          "max": "0.9461",
          "histogram": [
           {
            "bin_start": 0.44610000000000005,
            "bin_end": 0.5461,
            "count": 0
           },
           {
            "bin_start": 0.5461,
            "bin_end": 0.6461,
            "count": 0
           },
           {
            "bin_start": 0.6461,
            "bin_end": 0.7461,
            "count": 0
           },
           {
            "bin_start": 0.7461,
            "bin_end": 0.8461000000000001,
            "count": 0
           },
           {
            "bin_start": 0.8461000000000001,
            "bin_end": 0.9460999999999999,
            "count": 0
           },
           {
            "bin_start": 0.9460999999999999,
            "bin_end": 1.0461,
            "count": 1
           },
           {
            "bin_start": 1.0461,
            "bin_end": 1.1461000000000001,
            "count": 0
           },
           {
            "bin_start": 1.1461000000000001,
            "bin_end": 1.2461,
            "count": 0
           },
           {
            "bin_start": 1.2461,
            "bin_end": 1.3460999999999999,
            "count": 0
           },
           {
            "bin_start": 1.3460999999999999,
            "bin_end": 1.4461,
            "count": 0
           }
          ]
         }
        },
        {
         "name": "MAE",
         "dtype": "float64",
         "stats": {
          "unique_count": 1,
          "nan_count": 0,
          "min": "202659.22",
          "max": "202659.22",
          "histogram": [
           {
            "bin_start": 202658.72,
            "bin_end": 202658.82,
            "count": 0
           },
           {
            "bin_start": 202658.82,
            "bin_end": 202658.92,
            "count": 0
           },
           {
            "bin_start": 202658.92,
            "bin_end": 202659.02,
            "count": 0
           },
           {
            "bin_start": 202659.02,
            "bin_end": 202659.12,
            "count": 0
           },
           {
            "bin_start": 202659.12,
            "bin_end": 202659.22,
            "count": 0
           },
           {
            "bin_start": 202659.22,
            "bin_end": 202659.32,
            "count": 1
           },
           {
            "bin_start": 202659.32,
            "bin_end": 202659.42,
            "count": 0
           },
           {
            "bin_start": 202659.42,
            "bin_end": 202659.52,
            "count": 0
           },
           {
            "bin_start": 202659.52,
            "bin_end": 202659.62,
            "count": 0
           },
           {
            "bin_start": 202659.62,
            "bin_end": 202659.72,
            "count": 0
           }
          ]
         }
        },
        {
         "name": "MAPE",
         "dtype": "float64",
         "stats": {
          "unique_count": 1,
          "nan_count": 0,
          "min": "0.0571",
          "max": "0.0571",
          "histogram": [
           {
            "bin_start": -0.4429,
            "bin_end": -0.3429,
            "count": 0
           },
           {
            "bin_start": -0.3429,
            "bin_end": -0.2429,
            "count": 0
           },
           {
            "bin_start": -0.2429,
            "bin_end": -0.14289999999999997,
            "count": 0
           },
           {
            "bin_start": -0.14289999999999997,
            "bin_end": -0.042899999999999994,
            "count": 0
           },
           {
            "bin_start": -0.042899999999999994,
            "bin_end": 0.057099999999999984,
            "count": 0
           },
           {
            "bin_start": 0.057099999999999984,
            "bin_end": 0.15710000000000007,
            "count": 1
           },
           {
            "bin_start": 0.15710000000000007,
            "bin_end": 0.25710000000000005,
            "count": 0
           },
           {
            "bin_start": 0.25710000000000005,
            "bin_end": 0.35710000000000003,
            "count": 0
           },
           {
            "bin_start": 0.35710000000000003,
            "bin_end": 0.4571,
            "count": 0
           },
           {
            "bin_start": 0.4571,
            "bin_end": 0.5571,
            "count": 0
           }
          ]
         }
        },
        {
         "name": "_deepnote_index_column",
         "dtype": "int64"
        }
       ],
       "rows": [
        {
         "R2": 0.9461,
         "MAE": 202659.22,
         "MAPE": 0.0571,
         "_deepnote_index_column": 0
        }
       ]
      },
      "text/plain": "       R2        MAE    MAPE\n0  0.9461  202659.22  0.0571",
      "text/html": "<div>\n<style scoped>\n    .dataframe tbody tr th:only-of-type {\n        vertical-align: middle;\n    }\n\n    .dataframe tbody tr th {\n        vertical-align: top;\n    }\n\n    .dataframe thead th {\n        text-align: right;\n    }\n</style>\n<table border=\"1\" class=\"dataframe\">\n  <thead>\n    <tr style=\"text-align: right;\">\n      <th></th>\n      <th>R2</th>\n      <th>MAE</th>\n      <th>MAPE</th>\n    </tr>\n  </thead>\n  <tbody>\n    <tr>\n      <th>0</th>\n      <td>0.9461</td>\n      <td>202659.22</td>\n      <td>0.0571</td>\n    </tr>\n  </tbody>\n</table>\n</div>"
     },
     "metadata": {}
    }
   ]
  },
  {
   "cell_type": "code",
   "metadata": {
    "tags": [],
    "deepnote_to_be_reexecuted": false,
    "source_hash": "13957bfc",
    "execution_start": 1651242874491,
    "execution_millis": 12,
    "cell_id": "00015-b3d5d98c-370f-4565-8bdf-e52efdcf5b7f",
    "deepnote_cell_type": "code",
    "deepnote_cell_height": 704,
    "deepnote_output_heights": [
     607
    ]
   },
   "source": "default_catb.get_all_params()",
   "execution_count": null,
   "outputs": [
    {
     "output_type": "execute_result",
     "execution_count": 12,
     "data": {
      "text/plain": "{'nan_mode': 'Min',\n 'eval_metric': 'RMSE',\n 'combinations_ctr': ['Borders:CtrBorderCount=15:CtrBorderType=Uniform:TargetBorderCount=1:TargetBorderType=MinEntropy:Prior=0/1:Prior=0.5/1:Prior=1/1',\n  'Counter:CtrBorderCount=15:CtrBorderType=Uniform:Prior=0/1'],\n 'iterations': 1000,\n 'sampling_frequency': 'PerTree',\n 'fold_permutation_block': 0,\n 'leaf_estimation_method': 'Newton',\n 'counter_calc_method': 'SkipTest',\n 'grow_policy': 'SymmetricTree',\n 'penalties_coefficient': 1,\n 'boosting_type': 'Plain',\n 'model_shrink_mode': 'Constant',\n 'feature_border_type': 'GreedyLogSum',\n 'ctr_leaf_count_limit': 18446744073709551615,\n 'bayesian_matrix_reg': 0.10000000149011612,\n 'one_hot_max_size': 2,\n 'force_unit_auto_pair_weights': False,\n 'l2_leaf_reg': 3,\n 'random_strength': 1,\n 'rsm': 1,\n 'boost_from_average': True,\n 'max_ctr_complexity': 4,\n 'model_size_reg': 0.5,\n 'simple_ctr': ['Borders:CtrBorderCount=15:CtrBorderType=Uniform:TargetBorderCount=1:TargetBorderType=MinEntropy:Prior=0/1:Prior=0.5/1:Prior=1/1',\n  'Counter:CtrBorderCount=15:CtrBorderType=Uniform:Prior=0/1'],\n 'pool_metainfo_options': {'tags': {}},\n 'subsample': 0.800000011920929,\n 'use_best_model': False,\n 'random_seed': 0,\n 'depth': 6,\n 'ctr_target_border_count': 1,\n 'posterior_sampling': False,\n 'has_time': False,\n 'store_all_simple_ctr': False,\n 'border_count': 254,\n 'classes_count': 0,\n 'auto_class_weights': 'None',\n 'sparse_features_conflict_fraction': 0,\n 'leaf_estimation_backtracking': 'AnyImprovement',\n 'best_model_min_trees': 1,\n 'model_shrink_rate': 0,\n 'min_data_in_leaf': 1,\n 'loss_function': 'RMSE',\n 'learning_rate': 0.049727000296115875,\n 'score_function': 'Cosine',\n 'task_type': 'CPU',\n 'leaf_estimation_iterations': 1,\n 'bootstrap_type': 'MVS',\n 'max_leaves': 64,\n 'permutation_count': 4}"
     },
     "metadata": {}
    }
   ]
  },
  {
   "cell_type": "markdown",
   "source": "### Stooooop - Gridsearch",
   "metadata": {
    "tags": [],
    "is_collapsed": false,
    "cell_id": "00016-dab28044-9b93-4acd-ba62-b8da3bfe4c02",
    "deepnote_cell_type": "text-cell-h3"
   }
  },
  {
   "cell_type": "code",
   "metadata": {
    "tags": [],
    "deepnote_to_be_reexecuted": false,
    "source_hash": "aed77c9a",
    "execution_start": 1651243967127,
    "execution_millis": 301691,
    "cell_id": "00017-9218e8f6-750f-4d35-ad8a-9a7e3976a787",
    "deepnote_cell_type": "code",
    "deepnote_cell_height": 1062.75,
    "deepnote_output_heights": [
     null,
     78.75
    ]
   },
   "source": "\ncatb_model = CatBoostRegressor()\n\nparameters = {\n    'depth'         : [6],\n    'iterations'    : [18000, 19000, 20001]\n    }\n\ngrid_model = GridSearchCV(\n    estimator=catb_model, \n    param_grid = parameters, \n    cv = 3, \n    verbose = 100)\n    \ngrid_model.fit(X_train, y_train, cat_features=['street_name'] )",
   "execution_count": null,
   "outputs": [
    {
     "name": "stdout",
     "text": "18001:\tlearn: 137962.5138238\ttotal: 28.9s\tremaining: 1.6s\n18002:\tlearn: 137957.2370636\ttotal: 28.9s\tremaining: 1.6s\n18003:\tlearn: 137955.4720192\ttotal: 28.9s\tremaining: 1.6s\n18004:\tlearn: 137944.6475616\ttotal: 28.9s\tremaining: 1.6s\n18005:\tlearn: 137940.9828548\ttotal: 28.9s\tremaining: 1.59s\n18006:\tlearn: 137938.8595973\ttotal: 28.9s\tremaining: 1.59s\n18007:\tlearn: 137932.8100798\ttotal: 28.9s\tremaining: 1.59s\n18008:\tlearn: 137931.1844436\ttotal: 28.9s\tremaining: 1.59s\n18009:\tlearn: 137928.8848359\ttotal: 28.9s\tremaining: 1.59s\n18010:\tlearn: 137926.1537195\ttotal: 28.9s\tremaining: 1.59s\n18011:\tlearn: 137922.1182577\ttotal: 28.9s\tremaining: 1.58s\n18012:\tlearn: 137914.5092872\ttotal: 28.9s\tremaining: 1.58s\n18013:\tlearn: 137908.7034030\ttotal: 28.9s\tremaining: 1.58s\n18014:\tlearn: 137905.4773910\ttotal: 28.9s\tremaining: 1.58s\n18015:\tlearn: 137903.6915973\ttotal: 28.9s\tremaining: 1.58s\n18016:\tlearn: 137898.9074024\ttotal: 28.9s\tremaining: 1.58s\n18017:\tlearn: 137897.1668426\ttotal: 28.9s\tremaining: 1.57s\n18018:\tlearn: 137893.6508952\ttotal: 28.9s\tremaining: 1.57s\n18019:\tlearn: 137889.4072392\ttotal: 28.9s\tremaining: 1.57s\n18020:\tlearn: 137886.8025596\ttotal: 28.9s\tremaining: 1.57s\n18021:\tlearn: 137883.4978083\ttotal: 28.9s\tremaining: 1.57s\n18022:\tlearn: 137881.7225873\ttotal: 28.9s\tremaining: 1.57s\n18023:\tlearn: 137879.2727953\ttotal: 28.9s\tremaining: 1.57s\n18024:\tlearn: 137876.4799545\ttotal: 28.9s\tremaining: 1.56s\n18025:\tlearn: 137873.2635732\ttotal: 28.9s\tremaining: 1.56s\n18026:\tlearn: 137867.1652873\ttotal: 28.9s\tremaining: 1.56s\n18027:\tlearn: 137866.8425050\ttotal: 28.9s\tremaining: 1.56s\n18028:\tlearn: 137862.6089712\ttotal: 28.9s\tremaining: 1.56s\n18029:\tlearn: 137857.2315896\ttotal: 28.9s\tremaining: 1.56s\n18030:\tlearn: 137854.5675532\ttotal: 28.9s\tremaining: 1.55s\n18031:\tlearn: 137849.2014865\ttotal: 28.9s\tremaining: 1.55s\n18032:\tlearn: 137844.9880970\ttotal: 28.9s\tremaining: 1.55s\n18033:\tlearn: 137842.5934155\ttotal: 28.9s\tremaining: 1.55s\n18034:\tlearn: 137840.4433313\ttotal: 28.9s\tremaining: 1.55s\n18035:\tlearn: 137836.4638799\ttotal: 28.9s\tremaining: 1.55s\n18036:\tlearn: 137834.0875466\ttotal: 28.9s\tremaining: 1.54s\n18037:\tlearn: 137833.9920124\ttotal: 28.9s\tremaining: 1.54s\n18038:\tlearn: 137831.6167262\ttotal: 28.9s\tremaining: 1.54s\n18039:\tlearn: 137828.4979205\ttotal: 28.9s\tremaining: 1.54s\n18040:\tlearn: 137823.5074119\ttotal: 28.9s\tremaining: 1.54s\n18041:\tlearn: 137819.2882931\ttotal: 29s\tremaining: 1.54s\n18042:\tlearn: 137818.5923000\ttotal: 29s\tremaining: 1.53s\n18043:\tlearn: 137812.9688262\ttotal: 29s\tremaining: 1.53s\n18044:\tlearn: 137808.6716321\ttotal: 29s\tremaining: 1.53s\n18045:\tlearn: 137804.4108099\ttotal: 29s\tremaining: 1.53s\n18046:\tlearn: 137802.7768051\ttotal: 29s\tremaining: 1.53s\n18047:\tlearn: 137799.3734397\ttotal: 29s\tremaining: 1.53s\n18048:\tlearn: 137794.0937230\ttotal: 29s\tremaining: 1.53s\n18049:\tlearn: 137791.5839728\ttotal: 29s\tremaining: 1.52s\n18050:\tlearn: 137789.7831998\ttotal: 29s\tremaining: 1.52s\n18051:\tlearn: 137783.5250225\ttotal: 29s\tremaining: 1.52s\n18052:\tlearn: 137781.2107497\ttotal: 29s\tremaining: 1.52s\n18053:\tlearn: 137777.2613577\ttotal: 29s\tremaining: 1.52s\n18054:\tlearn: 137776.0776472\ttotal: 29s\tremaining: 1.52s\n18055:\tlearn: 137773.6429901\ttotal: 29s\tremaining: 1.51s\n18056:\tlearn: 137763.4382263\ttotal: 29s\tremaining: 1.51s\n18057:\tlearn: 137758.7062827\ttotal: 29s\tremaining: 1.51s\n18058:\tlearn: 137756.2418579\ttotal: 29s\tremaining: 1.51s\n18059:\tlearn: 137754.5464362\ttotal: 29s\tremaining: 1.51s\n18060:\tlearn: 137752.3490292\ttotal: 29s\tremaining: 1.51s\n18061:\tlearn: 137751.3455768\ttotal: 29s\tremaining: 1.5s\n18062:\tlearn: 137749.2615044\ttotal: 29s\tremaining: 1.5s\n18063:\tlearn: 137746.7149288\ttotal: 29s\tremaining: 1.5s\n18064:\tlearn: 137743.5349947\ttotal: 29s\tremaining: 1.5s\n18065:\tlearn: 137739.4804971\ttotal: 29s\tremaining: 1.5s\n18066:\tlearn: 137738.1724492\ttotal: 29s\tremaining: 1.5s\n18067:\tlearn: 137732.0507166\ttotal: 29s\tremaining: 1.5s\n18068:\tlearn: 137729.5884833\ttotal: 29s\tremaining: 1.49s\n18069:\tlearn: 137723.9789280\ttotal: 29s\tremaining: 1.49s\n18070:\tlearn: 137722.2248505\ttotal: 29s\tremaining: 1.49s\n18071:\tlearn: 137718.1955064\ttotal: 29s\tremaining: 1.49s\n18072:\tlearn: 137713.9410871\ttotal: 29s\tremaining: 1.49s\n18073:\tlearn: 137710.9337845\ttotal: 29s\tremaining: 1.49s\n18074:\tlearn: 137705.2535088\ttotal: 29s\tremaining: 1.48s\n18075:\tlearn: 137698.1432644\ttotal: 29s\tremaining: 1.48s\n18076:\tlearn: 137696.9489780\ttotal: 29s\tremaining: 1.48s\n18077:\tlearn: 137695.5902300\ttotal: 29s\tremaining: 1.48s\n18078:\tlearn: 137693.0600690\ttotal: 29s\tremaining: 1.48s\n18079:\tlearn: 137692.7266977\ttotal: 29s\tremaining: 1.48s\n18080:\tlearn: 137688.0485418\ttotal: 29s\tremaining: 1.47s\n18081:\tlearn: 137686.2372065\ttotal: 29s\tremaining: 1.47s\n18082:\tlearn: 137679.5296113\ttotal: 29s\tremaining: 1.47s\n18083:\tlearn: 137673.5082844\ttotal: 29s\tremaining: 1.47s\n18084:\tlearn: 137671.3056758\ttotal: 29s\tremaining: 1.47s\n18085:\tlearn: 137668.5171393\ttotal: 29s\tremaining: 1.47s\n18086:\tlearn: 137662.9715040\ttotal: 29s\tremaining: 1.46s\n18087:\tlearn: 137659.6233331\ttotal: 29s\tremaining: 1.46s\n18088:\tlearn: 137655.4806948\ttotal: 29s\tremaining: 1.46s\n18089:\tlearn: 137649.9276677\ttotal: 29s\tremaining: 1.46s\n18090:\tlearn: 137648.9955412\ttotal: 29s\tremaining: 1.46s\n18091:\tlearn: 137647.8642110\ttotal: 29s\tremaining: 1.46s\n18092:\tlearn: 137640.4232946\ttotal: 29s\tremaining: 1.46s\n18093:\tlearn: 137638.2750932\ttotal: 29s\tremaining: 1.45s\n18094:\tlearn: 137634.6758674\ttotal: 29s\tremaining: 1.45s\n18095:\tlearn: 137631.5983765\ttotal: 29s\tremaining: 1.45s\n18096:\tlearn: 137628.3594382\ttotal: 29s\tremaining: 1.45s\n18097:\tlearn: 137627.1346515\ttotal: 29s\tremaining: 1.45s\n18098:\tlearn: 137625.5719267\ttotal: 29s\tremaining: 1.45s\n18099:\tlearn: 137622.5884067\ttotal: 29s\tremaining: 1.44s\n18100:\tlearn: 137619.7888045\ttotal: 29s\tremaining: 1.44s\n18101:\tlearn: 137615.5606759\ttotal: 29s\tremaining: 1.44s\n18102:\tlearn: 137611.4033867\ttotal: 29s\tremaining: 1.44s\n18103:\tlearn: 137609.5551938\ttotal: 29s\tremaining: 1.44s\n18104:\tlearn: 137606.2394231\ttotal: 29.1s\tremaining: 1.44s\n18105:\tlearn: 137603.8406189\ttotal: 29.1s\tremaining: 1.43s\n18106:\tlearn: 137600.4510951\ttotal: 29.1s\tremaining: 1.43s\n18107:\tlearn: 137600.2379707\ttotal: 29.1s\tremaining: 1.43s\n18108:\tlearn: 137597.2903333\ttotal: 29.1s\tremaining: 1.43s\n18109:\tlearn: 137594.4360973\ttotal: 29.1s\tremaining: 1.43s\n18110:\tlearn: 137591.6370694\ttotal: 29.1s\tremaining: 1.43s\n18111:\tlearn: 137586.4831052\ttotal: 29.1s\tremaining: 1.42s\n18112:\tlearn: 137580.9233892\ttotal: 29.1s\tremaining: 1.42s\n18113:\tlearn: 137579.1590319\ttotal: 29.1s\tremaining: 1.42s\n18114:\tlearn: 137575.2608032\ttotal: 29.1s\tremaining: 1.42s\n18115:\tlearn: 137571.4920030\ttotal: 29.1s\tremaining: 1.42s\n18116:\tlearn: 137568.1364257\ttotal: 29.1s\tremaining: 1.42s\n18117:\tlearn: 137563.0879871\ttotal: 29.1s\tremaining: 1.42s\n18118:\tlearn: 137561.5932792\ttotal: 29.1s\tremaining: 1.41s\n18119:\tlearn: 137553.5181605\ttotal: 29.1s\tremaining: 1.41s\n18120:\tlearn: 137551.0685298\ttotal: 29.1s\tremaining: 1.41s\n18121:\tlearn: 137545.9254826\ttotal: 29.1s\tremaining: 1.41s\n18122:\tlearn: 137542.6130242\ttotal: 29.1s\tremaining: 1.41s\n18123:\tlearn: 137541.4056125\ttotal: 29.1s\tremaining: 1.41s\n18124:\tlearn: 137531.9679043\ttotal: 29.1s\tremaining: 1.4s\n18125:\tlearn: 137529.4959182\ttotal: 29.1s\tremaining: 1.4s\n18126:\tlearn: 137529.3704113\ttotal: 29.1s\tremaining: 1.4s\n18127:\tlearn: 137526.4276028\ttotal: 29.1s\tremaining: 1.4s\n18128:\tlearn: 137521.4562973\ttotal: 29.1s\tremaining: 1.4s\n18129:\tlearn: 137519.4081003\ttotal: 29.1s\tremaining: 1.4s\n18130:\tlearn: 137514.0500664\ttotal: 29.1s\tremaining: 1.39s\n18131:\tlearn: 137512.5732991\ttotal: 29.1s\tremaining: 1.39s\n18132:\tlearn: 137509.4757471\ttotal: 29.1s\tremaining: 1.39s\n18133:\tlearn: 137507.4621076\ttotal: 29.1s\tremaining: 1.39s\n18134:\tlearn: 137502.1264255\ttotal: 29.1s\tremaining: 1.39s\n18135:\tlearn: 137498.3241367\ttotal: 29.1s\tremaining: 1.39s\n18136:\tlearn: 137494.8228689\ttotal: 29.1s\tremaining: 1.38s\n18137:\tlearn: 137491.2161476\ttotal: 29.1s\tremaining: 1.38s\n18138:\tlearn: 137487.2248352\ttotal: 29.1s\tremaining: 1.38s\n18139:\tlearn: 137484.0029421\ttotal: 29.1s\tremaining: 1.38s\n18140:\tlearn: 137474.7179993\ttotal: 29.1s\tremaining: 1.38s\n18141:\tlearn: 137474.1338642\ttotal: 29.1s\tremaining: 1.38s\n18142:\tlearn: 137470.1638454\ttotal: 29.1s\tremaining: 1.38s\n18143:\tlearn: 137461.8245836\ttotal: 29.1s\tremaining: 1.37s\n18144:\tlearn: 137456.1986738\ttotal: 29.1s\tremaining: 1.37s\n18145:\tlearn: 137453.8743500\ttotal: 29.1s\tremaining: 1.37s\n18146:\tlearn: 137450.5003212\ttotal: 29.1s\tremaining: 1.37s\n18147:\tlearn: 137449.8821612\ttotal: 29.1s\tremaining: 1.37s\n18148:\tlearn: 137443.5533641\ttotal: 29.1s\tremaining: 1.36s\n18149:\tlearn: 137440.3833966\ttotal: 29.1s\tremaining: 1.36s\n18150:\tlearn: 137435.8735767\ttotal: 29.1s\tremaining: 1.36s\n18151:\tlearn: 137429.0569844\ttotal: 29.1s\tremaining: 1.36s\n18152:\tlearn: 137420.9930488\ttotal: 29.1s\tremaining: 1.36s\n18153:\tlearn: 137414.2697740\ttotal: 29.1s\tremaining: 1.36s\n18154:\tlearn: 137408.5665122\ttotal: 29.1s\tremaining: 1.35s\n18155:\tlearn: 137407.4919761\ttotal: 29.1s\tremaining: 1.35s\n18156:\tlearn: 137402.6976452\ttotal: 29.1s\tremaining: 1.35s\n18157:\tlearn: 137398.3295238\ttotal: 29.1s\tremaining: 1.35s\n18158:\tlearn: 137397.2678333\ttotal: 29.1s\tremaining: 1.35s\n18159:\tlearn: 137395.1036089\ttotal: 29.1s\tremaining: 1.35s\n18160:\tlearn: 137393.1113173\ttotal: 29.1s\tremaining: 1.35s\n18161:\tlearn: 137387.2127146\ttotal: 29.1s\tremaining: 1.34s\n18162:\tlearn: 137386.7454527\ttotal: 29.1s\tremaining: 1.34s\n18163:\tlearn: 137385.7973609\ttotal: 29.1s\tremaining: 1.34s\n18164:\tlearn: 137382.5820005\ttotal: 29.1s\tremaining: 1.34s\n18165:\tlearn: 137376.0274202\ttotal: 29.1s\tremaining: 1.34s\n18166:\tlearn: 137370.8888551\ttotal: 29.1s\tremaining: 1.34s\n18167:\tlearn: 137369.4751024\ttotal: 29.1s\tremaining: 1.33s\n18168:\tlearn: 137367.8763284\ttotal: 29.2s\tremaining: 1.33s\n18169:\tlearn: 137363.9373439\ttotal: 29.2s\tremaining: 1.33s\n18170:\tlearn: 137357.5196751\ttotal: 29.2s\tremaining: 1.33s\n18171:\tlearn: 137355.2431424\ttotal: 29.2s\tremaining: 1.33s\n18172:\tlearn: 137352.3865740\ttotal: 29.2s\tremaining: 1.33s\n18173:\tlearn: 137349.2128311\ttotal: 29.2s\tremaining: 1.32s\n18174:\tlearn: 137347.2470158\ttotal: 29.2s\tremaining: 1.32s\n18175:\tlearn: 137345.8597728\ttotal: 29.2s\tremaining: 1.32s\n18176:\tlearn: 137342.2135857\ttotal: 29.2s\tremaining: 1.32s\n18177:\tlearn: 137340.0020745\ttotal: 29.2s\tremaining: 1.32s\n18178:\tlearn: 137338.3187853\ttotal: 29.2s\tremaining: 1.32s\n18179:\tlearn: 137333.5752835\ttotal: 29.2s\tremaining: 1.31s\n18180:\tlearn: 137329.6258162\ttotal: 29.2s\tremaining: 1.31s\n18181:\tlearn: 137324.6084354\ttotal: 29.2s\tremaining: 1.31s\n18182:\tlearn: 137323.0421536\ttotal: 29.2s\tremaining: 1.31s\n18183:\tlearn: 137321.1847666\ttotal: 29.2s\tremaining: 1.31s\n18184:\tlearn: 137319.0725755\ttotal: 29.2s\tremaining: 1.31s\n18185:\tlearn: 137313.4407664\ttotal: 29.2s\tremaining: 1.3s\n18186:\tlearn: 137305.1960099\ttotal: 29.2s\tremaining: 1.3s\n18187:\tlearn: 137302.0654335\ttotal: 29.2s\tremaining: 1.3s\n18188:\tlearn: 137297.8212458\ttotal: 29.2s\tremaining: 1.3s\n18189:\tlearn: 137294.3578121\ttotal: 29.2s\tremaining: 1.3s\n18190:\tlearn: 137290.8863023\ttotal: 29.2s\tremaining: 1.3s\n18191:\tlearn: 137287.5683461\ttotal: 29.2s\tremaining: 1.3s\n18192:\tlearn: 137283.5721407\ttotal: 29.2s\tremaining: 1.29s\n18193:\tlearn: 137280.4178847\ttotal: 29.2s\tremaining: 1.29s\n18194:\tlearn: 137275.5418511\ttotal: 29.2s\tremaining: 1.29s\n18195:\tlearn: 137274.3016948\ttotal: 29.2s\tremaining: 1.29s\n18196:\tlearn: 137270.9235847\ttotal: 29.2s\tremaining: 1.29s\n18197:\tlearn: 137269.1376533\ttotal: 29.2s\tremaining: 1.29s\n18198:\tlearn: 137266.0121033\ttotal: 29.2s\tremaining: 1.28s\n18199:\tlearn: 137263.2079112\ttotal: 29.2s\tremaining: 1.28s\n18200:\tlearn: 137259.7214553\ttotal: 29.2s\tremaining: 1.28s\n18201:\tlearn: 137257.8639538\ttotal: 29.2s\tremaining: 1.28s\n18202:\tlearn: 137257.2322416\ttotal: 29.2s\tremaining: 1.28s\n18203:\tlearn: 137253.2505770\ttotal: 29.2s\tremaining: 1.28s\n18204:\tlearn: 137245.4302043\ttotal: 29.2s\tremaining: 1.27s\n18205:\tlearn: 137243.6734246\ttotal: 29.2s\tremaining: 1.27s\n18206:\tlearn: 137238.6514021\ttotal: 29.2s\tremaining: 1.27s\n18207:\tlearn: 137231.6442674\ttotal: 29.2s\tremaining: 1.27s\n18208:\tlearn: 137227.7076064\ttotal: 29.2s\tremaining: 1.27s\n18209:\tlearn: 137225.7520711\ttotal: 29.2s\tremaining: 1.27s\n18210:\tlearn: 137224.5303762\ttotal: 29.2s\tremaining: 1.26s\n18211:\tlearn: 137221.7916587\ttotal: 29.2s\tremaining: 1.26s\n18212:\tlearn: 137217.1489274\ttotal: 29.2s\tremaining: 1.26s\n18213:\tlearn: 137211.0782494\ttotal: 29.2s\tremaining: 1.26s\n18214:\tlearn: 137206.3018828\ttotal: 29.2s\tremaining: 1.26s\n18215:\tlearn: 137198.4347858\ttotal: 29.2s\tremaining: 1.26s\n18216:\tlearn: 137196.5810440\ttotal: 29.2s\tremaining: 1.26s\n18217:\tlearn: 137190.1668482\ttotal: 29.2s\tremaining: 1.25s\n18218:\tlearn: 137188.1376616\ttotal: 29.2s\tremaining: 1.25s\n18219:\tlearn: 137187.7640653\ttotal: 29.2s\tremaining: 1.25s\n18220:\tlearn: 137183.9766319\ttotal: 29.2s\tremaining: 1.25s\n18221:\tlearn: 137182.1997130\ttotal: 29.2s\tremaining: 1.25s\n18222:\tlearn: 137175.9638836\ttotal: 29.2s\tremaining: 1.25s\n18223:\tlearn: 137169.2919815\ttotal: 29.2s\tremaining: 1.24s\n18224:\tlearn: 137167.1434522\ttotal: 29.2s\tremaining: 1.24s\n18225:\tlearn: 137163.8071824\ttotal: 29.2s\tremaining: 1.24s\n18226:\tlearn: 137161.9106727\ttotal: 29.2s\tremaining: 1.24s\n18227:\tlearn: 137159.5321700\ttotal: 29.2s\tremaining: 1.24s\n18228:\tlearn: 137150.9618398\ttotal: 29.2s\tremaining: 1.24s\n18229:\tlearn: 137149.1405648\ttotal: 29.2s\tremaining: 1.24s\n18230:\tlearn: 137143.4577758\ttotal: 29.2s\tremaining: 1.23s\n18231:\tlearn: 137138.5572747\ttotal: 29.3s\tremaining: 1.23s\n18232:\tlearn: 137135.8122813\ttotal: 29.3s\tremaining: 1.23s\n18233:\tlearn: 137129.1257954\ttotal: 29.3s\tremaining: 1.23s\n18234:\tlearn: 137127.8245062\ttotal: 29.3s\tremaining: 1.23s\n18235:\tlearn: 137122.8851870\ttotal: 29.3s\tremaining: 1.23s\n18236:\tlearn: 137121.6182805\ttotal: 29.3s\tremaining: 1.22s\n18237:\tlearn: 137119.4250768\ttotal: 29.3s\tremaining: 1.22s\n18238:\tlearn: 137116.0398327\ttotal: 29.3s\tremaining: 1.22s\n18239:\tlearn: 137111.9889110\ttotal: 29.3s\tremaining: 1.22s\n18240:\tlearn: 137111.2552300\ttotal: 29.3s\tremaining: 1.22s\n18241:\tlearn: 137107.7912011\ttotal: 29.3s\tremaining: 1.22s\n18242:\tlearn: 137103.9394068\ttotal: 29.3s\tremaining: 1.21s\n18243:\tlearn: 137102.0030534\ttotal: 29.3s\tremaining: 1.21s\n18244:\tlearn: 137098.6978185\ttotal: 29.3s\tremaining: 1.21s\n18245:\tlearn: 137096.4932138\ttotal: 29.3s\tremaining: 1.21s\n18246:\tlearn: 137087.3592910\ttotal: 29.3s\tremaining: 1.21s\n18247:\tlearn: 137081.3547971\ttotal: 29.3s\tremaining: 1.21s\n18248:\tlearn: 137080.1408666\ttotal: 29.3s\tremaining: 1.2s\n18249:\tlearn: 137075.4274767\ttotal: 29.3s\tremaining: 1.2s\n18250:\tlearn: 137069.4466885\ttotal: 29.3s\tremaining: 1.2s\n18251:\tlearn: 137068.5573151\ttotal: 29.3s\tremaining: 1.2s\n18252:\tlearn: 137061.9183756\ttotal: 29.3s\tremaining: 1.2s\n18253:\tlearn: 137061.0795814\ttotal: 29.3s\tremaining: 1.2s\n18254:\tlearn: 137058.9891955\ttotal: 29.3s\tremaining: 1.2s\n18255:\tlearn: 137056.4923815\ttotal: 29.3s\tremaining: 1.19s\n18256:\tlearn: 137053.9960941\ttotal: 29.3s\tremaining: 1.19s\n18257:\tlearn: 137043.7422205\ttotal: 29.3s\tremaining: 1.19s\n18258:\tlearn: 137042.1988115\ttotal: 29.3s\tremaining: 1.19s\n18259:\tlearn: 137038.4467826\ttotal: 29.3s\tremaining: 1.19s\n18260:\tlearn: 137035.9329312\ttotal: 29.3s\tremaining: 1.19s\n18261:\tlearn: 137032.7944499\ttotal: 29.3s\tremaining: 1.18s\n18262:\tlearn: 137031.5317730\ttotal: 29.3s\tremaining: 1.18s\n18263:\tlearn: 137026.5180108\ttotal: 29.3s\tremaining: 1.18s\n18264:\tlearn: 137025.8431174\ttotal: 29.3s\tremaining: 1.18s\n18265:\tlearn: 137022.3738529\ttotal: 29.3s\tremaining: 1.18s\n18266:\tlearn: 137020.9413638\ttotal: 29.3s\tremaining: 1.18s\n18267:\tlearn: 137015.7486539\ttotal: 29.3s\tremaining: 1.17s\n18268:\tlearn: 137012.8419681\ttotal: 29.3s\tremaining: 1.17s\n18269:\tlearn: 137005.5511168\ttotal: 29.3s\tremaining: 1.17s\n18270:\tlearn: 137004.9698087\ttotal: 29.3s\tremaining: 1.17s\n18271:\tlearn: 137000.7751560\ttotal: 29.3s\tremaining: 1.17s\n18272:\tlearn: 137000.7020741\ttotal: 29.3s\tremaining: 1.17s\n18273:\tlearn: 137000.3920060\ttotal: 29.3s\tremaining: 1.16s\n18274:\tlearn: 136998.9872550\ttotal: 29.3s\tremaining: 1.16s\n18275:\tlearn: 136998.3548854\ttotal: 29.3s\tremaining: 1.16s\n18276:\tlearn: 136986.4710239\ttotal: 29.3s\tremaining: 1.16s\n18277:\tlearn: 136982.8570714\ttotal: 29.3s\tremaining: 1.16s\n18278:\tlearn: 136977.5548296\ttotal: 29.3s\tremaining: 1.16s\n18279:\tlearn: 136972.6270634\ttotal: 29.3s\tremaining: 1.16s\n18280:\tlearn: 136970.2858850\ttotal: 29.3s\tremaining: 1.15s\n18281:\tlearn: 136970.0843730\ttotal: 29.3s\tremaining: 1.15s\n18282:\tlearn: 136961.9656294\ttotal: 29.3s\tremaining: 1.15s\n18283:\tlearn: 136957.2762833\ttotal: 29.3s\tremaining: 1.15s\n18284:\tlearn: 136954.3122616\ttotal: 29.3s\tremaining: 1.15s\n18285:\tlearn: 136953.0341261\ttotal: 29.3s\tremaining: 1.15s\n18286:\tlearn: 136949.3521840\ttotal: 29.3s\tremaining: 1.14s\n18287:\tlearn: 136947.7802301\ttotal: 29.3s\tremaining: 1.14s\n18288:\tlearn: 136943.6376236\ttotal: 29.3s\tremaining: 1.14s\n18289:\tlearn: 136938.6559568\ttotal: 29.3s\tremaining: 1.14s\n18290:\tlearn: 136934.7271104\ttotal: 29.3s\tremaining: 1.14s\n18291:\tlearn: 136931.7154885\ttotal: 29.3s\tremaining: 1.14s\n18292:\tlearn: 136928.4018623\ttotal: 29.3s\tremaining: 1.13s\n18293:\tlearn: 136920.6142805\ttotal: 29.3s\tremaining: 1.13s\n18294:\tlearn: 136918.1084544\ttotal: 29.4s\tremaining: 1.13s\n18295:\tlearn: 136914.6795576\ttotal: 29.4s\tremaining: 1.13s\n18296:\tlearn: 136913.6128690\ttotal: 29.4s\tremaining: 1.13s\n18297:\tlearn: 136907.3697597\ttotal: 29.4s\tremaining: 1.13s\n18298:\tlearn: 136902.4670537\ttotal: 29.4s\tremaining: 1.12s\n18299:\tlearn: 136895.4667304\ttotal: 29.4s\tremaining: 1.12s\n18300:\tlearn: 136888.8913792\ttotal: 29.4s\tremaining: 1.12s\n18301:\tlearn: 136886.4064975\ttotal: 29.4s\tremaining: 1.12s\n18302:\tlearn: 136881.4036711\ttotal: 29.4s\tremaining: 1.12s\n18303:\tlearn: 136878.4146045\ttotal: 29.4s\tremaining: 1.12s\n18304:\tlearn: 136873.2866613\ttotal: 29.4s\tremaining: 1.11s\n18305:\tlearn: 136869.4011011\ttotal: 29.4s\tremaining: 1.11s\n18306:\tlearn: 136867.0031794\ttotal: 29.4s\tremaining: 1.11s\n18307:\tlearn: 136863.6119338\ttotal: 29.4s\tremaining: 1.11s\n18308:\tlearn: 136860.4810408\ttotal: 29.4s\tremaining: 1.11s\n18309:\tlearn: 136855.8030932\ttotal: 29.4s\tremaining: 1.11s\n18310:\tlearn: 136851.5576329\ttotal: 29.4s\tremaining: 1.1s\n18311:\tlearn: 136847.3264356\ttotal: 29.4s\tremaining: 1.1s\n18312:\tlearn: 136843.2467054\ttotal: 29.4s\tremaining: 1.1s\n18313:\tlearn: 136842.0454581\ttotal: 29.4s\tremaining: 1.1s\n18314:\tlearn: 136837.2825002\ttotal: 29.4s\tremaining: 1.1s\n18315:\tlearn: 136831.2396067\ttotal: 29.4s\tremaining: 1.1s\n18316:\tlearn: 136829.8392731\ttotal: 29.4s\tremaining: 1.09s\n18317:\tlearn: 136826.6124688\ttotal: 29.4s\tremaining: 1.09s\n18318:\tlearn: 136825.2465556\ttotal: 29.4s\tremaining: 1.09s\n18319:\tlearn: 136820.0600734\ttotal: 29.4s\tremaining: 1.09s\n18320:\tlearn: 136814.0280158\ttotal: 29.4s\tremaining: 1.09s\n18321:\tlearn: 136812.6537854\ttotal: 29.4s\tremaining: 1.09s\n18322:\tlearn: 136809.3856387\ttotal: 29.4s\tremaining: 1.09s\n18323:\tlearn: 136808.7962984\ttotal: 29.4s\tremaining: 1.08s\n18324:\tlearn: 136805.9966302\ttotal: 29.4s\tremaining: 1.08s\n18325:\tlearn: 136801.7402669\ttotal: 29.4s\tremaining: 1.08s\n18326:\tlearn: 136801.5225601\ttotal: 29.4s\tremaining: 1.08s\n18327:\tlearn: 136795.1256675\ttotal: 29.4s\tremaining: 1.08s\n18328:\tlearn: 136793.4111269\ttotal: 29.4s\tremaining: 1.08s\n18329:\tlearn: 136790.9599612\ttotal: 29.4s\tremaining: 1.07s\n18330:\tlearn: 136790.7495418\ttotal: 29.4s\tremaining: 1.07s\n18331:\tlearn: 136786.8210369\ttotal: 29.4s\tremaining: 1.07s\n18332:\tlearn: 136783.8545140\ttotal: 29.4s\tremaining: 1.07s\n18333:\tlearn: 136778.9375635\ttotal: 29.4s\tremaining: 1.07s\n18334:\tlearn: 136774.1928232\ttotal: 29.4s\tremaining: 1.07s\n18335:\tlearn: 136766.1748466\ttotal: 29.4s\tremaining: 1.06s\n18336:\tlearn: 136763.2272259\ttotal: 29.4s\tremaining: 1.06s\n18337:\tlearn: 136760.4336746\ttotal: 29.4s\tremaining: 1.06s\n18338:\tlearn: 136755.8809350\ttotal: 29.4s\tremaining: 1.06s\n18339:\tlearn: 136753.0481723\ttotal: 29.4s\tremaining: 1.06s\n18340:\tlearn: 136751.2198969\ttotal: 29.4s\tremaining: 1.06s\n18341:\tlearn: 136749.0450426\ttotal: 29.4s\tremaining: 1.05s\n18342:\tlearn: 136746.2412093\ttotal: 29.4s\tremaining: 1.05s\n18343:\tlearn: 136743.4755612\ttotal: 29.4s\tremaining: 1.05s\n18344:\tlearn: 136739.7141111\ttotal: 29.4s\tremaining: 1.05s\n18345:\tlearn: 136737.3570204\ttotal: 29.4s\tremaining: 1.05s\n18346:\tlearn: 136734.4123851\ttotal: 29.4s\tremaining: 1.05s\n18347:\tlearn: 136726.5792457\ttotal: 29.4s\tremaining: 1.05s\n18348:\tlearn: 136720.8886314\ttotal: 29.4s\tremaining: 1.04s\n18349:\tlearn: 136713.9394474\ttotal: 29.4s\tremaining: 1.04s\n18350:\tlearn: 136712.4635664\ttotal: 29.4s\tremaining: 1.04s\n18351:\tlearn: 136711.2167320\ttotal: 29.4s\tremaining: 1.04s\n18352:\tlearn: 136708.2637252\ttotal: 29.4s\tremaining: 1.04s\n18353:\tlearn: 136706.8900663\ttotal: 29.4s\tremaining: 1.04s\n18354:\tlearn: 136704.1197716\ttotal: 29.4s\tremaining: 1.03s\n18355:\tlearn: 136698.7498080\ttotal: 29.4s\tremaining: 1.03s\n18356:\tlearn: 136696.2386542\ttotal: 29.4s\tremaining: 1.03s\n18357:\tlearn: 136693.7206981\ttotal: 29.5s\tremaining: 1.03s\n18358:\tlearn: 136688.9435927\ttotal: 29.5s\tremaining: 1.03s\n18359:\tlearn: 136685.0729095\ttotal: 29.5s\tremaining: 1.03s\n18360:\tlearn: 136679.6242404\ttotal: 29.5s\tremaining: 1.02s\n18361:\tlearn: 136674.8520757\ttotal: 29.5s\tremaining: 1.02s\n18362:\tlearn: 136672.4371575\ttotal: 29.5s\tremaining: 1.02s\n18363:\tlearn: 136667.8208431\ttotal: 29.5s\tremaining: 1.02s\n18364:\tlearn: 136665.0857448\ttotal: 29.5s\tremaining: 1.02s\n18365:\tlearn: 136661.7176776\ttotal: 29.5s\tremaining: 1.02s\n18366:\tlearn: 136654.7778398\ttotal: 29.5s\tremaining: 1.01s\n18367:\tlearn: 136651.9096079\ttotal: 29.5s\tremaining: 1.01s\n18368:\tlearn: 136648.9220914\ttotal: 29.5s\tremaining: 1.01s\n18369:\tlearn: 136645.9041803\ttotal: 29.5s\tremaining: 1.01s\n18370:\tlearn: 136641.7490829\ttotal: 29.5s\tremaining: 1.01s\n18371:\tlearn: 136640.0341666\ttotal: 29.5s\tremaining: 1.01s\n18372:\tlearn: 136637.3675885\ttotal: 29.5s\tremaining: 1s\n18373:\tlearn: 136634.8873094\ttotal: 29.5s\tremaining: 1s\n18374:\tlearn: 136628.3690468\ttotal: 29.5s\tremaining: 1s\n18375:\tlearn: 136624.7212877\ttotal: 29.5s\tremaining: 1s\n18376:\tlearn: 136623.0724746\ttotal: 29.5s\tremaining: 999ms\n18377:\tlearn: 136620.8231330\ttotal: 29.5s\tremaining: 998ms\n18378:\tlearn: 136618.2486410\ttotal: 29.5s\tremaining: 996ms\n18379:\tlearn: 136612.3397741\ttotal: 29.5s\tremaining: 995ms\n18380:\tlearn: 136610.5558780\ttotal: 29.5s\tremaining: 993ms\n18381:\tlearn: 136608.2378824\ttotal: 29.5s\tremaining: 991ms\n18382:\tlearn: 136603.1485477\ttotal: 29.5s\tremaining: 990ms\n18383:\tlearn: 136600.9928418\ttotal: 29.5s\tremaining: 988ms\n18384:\tlearn: 136596.8297239\ttotal: 29.5s\tremaining: 987ms\n18385:\tlearn: 136590.9150032\ttotal: 29.5s\tremaining: 985ms\n18386:\tlearn: 136588.3212750\ttotal: 29.5s\tremaining: 983ms\n18387:\tlearn: 136579.7887768\ttotal: 29.5s\tremaining: 982ms\n18388:\tlearn: 136577.2016103\ttotal: 29.5s\tremaining: 980ms\n18389:\tlearn: 136576.3655391\ttotal: 29.5s\tremaining: 979ms\n18390:\tlearn: 136572.7319678\ttotal: 29.5s\tremaining: 977ms\n18391:\tlearn: 136565.9237342\ttotal: 29.5s\tremaining: 975ms\n18392:\tlearn: 136562.3702689\ttotal: 29.5s\tremaining: 974ms\n18393:\tlearn: 136560.0852488\ttotal: 29.5s\tremaining: 972ms\n18394:\tlearn: 136557.8822523\ttotal: 29.5s\tremaining: 971ms\n18395:\tlearn: 136551.1458854\ttotal: 29.5s\tremaining: 969ms\n18396:\tlearn: 136547.1098201\ttotal: 29.5s\tremaining: 967ms\n18397:\tlearn: 136544.1363572\ttotal: 29.5s\tremaining: 966ms\n18398:\tlearn: 136538.7477360\ttotal: 29.5s\tremaining: 964ms\n18399:\tlearn: 136534.9318904\ttotal: 29.5s\tremaining: 963ms\n18400:\tlearn: 136532.0706332\ttotal: 29.5s\tremaining: 961ms\n18401:\tlearn: 136524.5583123\ttotal: 29.5s\tremaining: 959ms\n18402:\tlearn: 136521.1004569\ttotal: 29.5s\tremaining: 958ms\n18403:\tlearn: 136516.5369524\ttotal: 29.5s\tremaining: 956ms\n18404:\tlearn: 136512.5995248\ttotal: 29.5s\tremaining: 955ms\n18405:\tlearn: 136508.0883302\ttotal: 29.5s\tremaining: 953ms\n18406:\tlearn: 136505.5215167\ttotal: 29.5s\tremaining: 951ms\n18407:\tlearn: 136504.8376354\ttotal: 29.5s\tremaining: 950ms\n18408:\tlearn: 136500.7935267\ttotal: 29.5s\tremaining: 948ms\n18409:\tlearn: 136498.6664240\ttotal: 29.5s\tremaining: 947ms\n18410:\tlearn: 136495.3492454\ttotal: 29.5s\tremaining: 945ms\n18411:\tlearn: 136490.4931924\ttotal: 29.5s\tremaining: 943ms\n18412:\tlearn: 136488.4916232\ttotal: 29.5s\tremaining: 942ms\n18413:\tlearn: 136482.9904721\ttotal: 29.5s\tremaining: 940ms\n18414:\tlearn: 136482.3491824\ttotal: 29.5s\tremaining: 939ms\n18415:\tlearn: 136479.8613006\ttotal: 29.5s\tremaining: 937ms\n18416:\tlearn: 136474.9771949\ttotal: 29.5s\tremaining: 935ms\n18417:\tlearn: 136472.2788731\ttotal: 29.5s\tremaining: 934ms\n18418:\tlearn: 136470.8842938\ttotal: 29.5s\tremaining: 932ms\n18419:\tlearn: 136467.4060950\ttotal: 29.6s\tremaining: 931ms\n18420:\tlearn: 136465.5387078\ttotal: 29.6s\tremaining: 929ms\n18421:\tlearn: 136464.4453604\ttotal: 29.6s\tremaining: 927ms\n18422:\tlearn: 136462.6576757\ttotal: 29.6s\tremaining: 926ms\n18423:\tlearn: 136457.4673670\ttotal: 29.6s\tremaining: 924ms\n18424:\tlearn: 136453.2339630\ttotal: 29.6s\tremaining: 922ms\n18425:\tlearn: 136451.2278922\ttotal: 29.6s\tremaining: 921ms\n18426:\tlearn: 136449.6953878\ttotal: 29.6s\tremaining: 919ms\n18427:\tlearn: 136447.3746802\ttotal: 29.6s\tremaining: 918ms\n18428:\tlearn: 136446.9735585\ttotal: 29.6s\tremaining: 916ms\n18429:\tlearn: 136444.4236120\ttotal: 29.6s\tremaining: 914ms\n18430:\tlearn: 136441.3519824\ttotal: 29.6s\tremaining: 913ms\n18431:\tlearn: 136437.1074544\ttotal: 29.6s\tremaining: 911ms\n18432:\tlearn: 136432.8883842\ttotal: 29.6s\tremaining: 910ms\n18433:\tlearn: 136430.3674662\ttotal: 29.6s\tremaining: 908ms\n18434:\tlearn: 136427.0251359\ttotal: 29.6s\tremaining: 906ms\n18435:\tlearn: 136422.6364606\ttotal: 29.6s\tremaining: 905ms\n18436:\tlearn: 136415.9167522\ttotal: 29.6s\tremaining: 903ms\n18437:\tlearn: 136412.6733909\ttotal: 29.6s\tremaining: 902ms\n18438:\tlearn: 136410.4793168\ttotal: 29.6s\tremaining: 900ms\n18439:\tlearn: 136405.2843650\ttotal: 29.6s\tremaining: 898ms\n18440:\tlearn: 136401.9280759\ttotal: 29.6s\tremaining: 897ms\n18441:\tlearn: 136396.3692751\ttotal: 29.6s\tremaining: 895ms\n18442:\tlearn: 136393.7761435\ttotal: 29.6s\tremaining: 894ms\n18443:\tlearn: 136391.6027835\ttotal: 29.6s\tremaining: 892ms\n18444:\tlearn: 136387.7495188\ttotal: 29.6s\tremaining: 890ms\n18445:\tlearn: 136385.8283428\ttotal: 29.6s\tremaining: 889ms\n18446:\tlearn: 136384.3463667\ttotal: 29.6s\tremaining: 887ms\n18447:\tlearn: 136382.6206303\ttotal: 29.6s\tremaining: 886ms\n18448:\tlearn: 136377.3006957\ttotal: 29.6s\tremaining: 884ms\n18449:\tlearn: 136375.5684561\ttotal: 29.6s\tremaining: 882ms\n18450:\tlearn: 136369.9897706\ttotal: 29.6s\tremaining: 881ms\n18451:\tlearn: 136369.4429530\ttotal: 29.6s\tremaining: 879ms\n18452:\tlearn: 136364.8351241\ttotal: 29.6s\tremaining: 878ms\n18453:\tlearn: 136359.7883849\ttotal: 29.6s\tremaining: 876ms\n18454:\tlearn: 136356.4530496\ttotal: 29.6s\tremaining: 874ms\n18455:\tlearn: 136352.5393535\ttotal: 29.6s\tremaining: 873ms\n18456:\tlearn: 136352.3230966\ttotal: 29.6s\tremaining: 871ms\n18457:\tlearn: 136352.1754056\ttotal: 29.6s\tremaining: 869ms\n18458:\tlearn: 136347.6209393\ttotal: 29.6s\tremaining: 868ms\n18459:\tlearn: 136345.0314529\ttotal: 29.6s\tremaining: 866ms\n18460:\tlearn: 136340.1813081\ttotal: 29.6s\tremaining: 865ms\n18461:\tlearn: 136337.6666091\ttotal: 29.6s\tremaining: 863ms\n18462:\tlearn: 136334.5285379\ttotal: 29.6s\tremaining: 861ms\n18463:\tlearn: 136329.1584963\ttotal: 29.6s\tremaining: 860ms\n18464:\tlearn: 136323.1478751\ttotal: 29.6s\tremaining: 858ms\n18465:\tlearn: 136321.4234548\ttotal: 29.6s\tremaining: 857ms\n18466:\tlearn: 136321.2683438\ttotal: 29.6s\tremaining: 855ms\n18467:\tlearn: 136318.7371979\ttotal: 29.6s\tremaining: 853ms\n18468:\tlearn: 136313.7271516\ttotal: 29.6s\tremaining: 852ms\n18469:\tlearn: 136311.9927030\ttotal: 29.6s\tremaining: 850ms\n18470:\tlearn: 136308.2098600\ttotal: 29.6s\tremaining: 849ms\n18471:\tlearn: 136301.6260766\ttotal: 29.6s\tremaining: 847ms\n18472:\tlearn: 136299.2377846\ttotal: 29.6s\tremaining: 845ms\n18473:\tlearn: 136297.0854705\ttotal: 29.6s\tremaining: 844ms\n18474:\tlearn: 136293.7101440\ttotal: 29.6s\tremaining: 842ms\n18475:\tlearn: 136287.2780557\ttotal: 29.6s\tremaining: 841ms\n18476:\tlearn: 136281.1037888\ttotal: 29.6s\tremaining: 839ms\n18477:\tlearn: 136279.0557399\ttotal: 29.6s\tremaining: 837ms\n18478:\tlearn: 136274.9199900\ttotal: 29.6s\tremaining: 836ms\n18479:\tlearn: 136272.8668204\ttotal: 29.6s\tremaining: 834ms\n18480:\tlearn: 136271.7121134\ttotal: 29.6s\tremaining: 833ms\n18481:\tlearn: 136269.3101390\ttotal: 29.6s\tremaining: 831ms\n18482:\tlearn: 136265.6126767\ttotal: 29.6s\tremaining: 829ms\n18483:\tlearn: 136261.7231824\ttotal: 29.6s\tremaining: 828ms\n18484:\tlearn: 136258.5709782\ttotal: 29.7s\tremaining: 826ms\n18485:\tlearn: 136256.6330194\ttotal: 29.7s\tremaining: 825ms\n18486:\tlearn: 136250.2078738\ttotal: 29.7s\tremaining: 823ms\n18487:\tlearn: 136244.9920295\ttotal: 29.7s\tremaining: 821ms\n18488:\tlearn: 136241.4776004\ttotal: 29.7s\tremaining: 820ms\n18489:\tlearn: 136240.9490478\ttotal: 29.7s\tremaining: 818ms\n18490:\tlearn: 136239.5344174\ttotal: 29.7s\tremaining: 817ms\n18491:\tlearn: 136236.1524191\ttotal: 29.7s\tremaining: 815ms\n18492:\tlearn: 136227.6336476\ttotal: 29.7s\tremaining: 813ms\n18493:\tlearn: 136223.7388771\ttotal: 29.7s\tremaining: 812ms\n18494:\tlearn: 136222.2379225\ttotal: 29.7s\tremaining: 810ms\n18495:\tlearn: 136218.4538795\ttotal: 29.7s\tremaining: 808ms\n18496:\tlearn: 136214.0231935\ttotal: 29.7s\tremaining: 807ms\n18497:\tlearn: 136205.6922142\ttotal: 29.7s\tremaining: 805ms\n18498:\tlearn: 136204.2220146\ttotal: 29.7s\tremaining: 804ms\n18499:\tlearn: 136202.9231901\ttotal: 29.7s\tremaining: 802ms\n18500:\tlearn: 136196.4391952\ttotal: 29.7s\tremaining: 800ms\n18501:\tlearn: 136188.5308731\ttotal: 29.7s\tremaining: 799ms\n18502:\tlearn: 136184.9607472\ttotal: 29.7s\tremaining: 797ms\n18503:\tlearn: 136181.7451594\ttotal: 29.7s\tremaining: 796ms\n18504:\tlearn: 136174.5103313\ttotal: 29.7s\tremaining: 794ms\n18505:\tlearn: 136170.0886763\ttotal: 29.7s\tremaining: 792ms\n18506:\tlearn: 136169.0881269\ttotal: 29.7s\tremaining: 791ms\n18507:\tlearn: 136166.1263017\ttotal: 29.7s\tremaining: 789ms\n18508:\tlearn: 136160.5576288\ttotal: 29.7s\tremaining: 788ms\n18509:\tlearn: 136152.1686225\ttotal: 29.7s\tremaining: 786ms\n18510:\tlearn: 136150.3644775\ttotal: 29.7s\tremaining: 784ms\n18511:\tlearn: 136144.1427625\ttotal: 29.7s\tremaining: 783ms\n18512:\tlearn: 136142.0310192\ttotal: 29.7s\tremaining: 781ms\n18513:\tlearn: 136138.7108949\ttotal: 29.7s\tremaining: 780ms\n18514:\tlearn: 136132.8804767\ttotal: 29.7s\tremaining: 778ms\n18515:\tlearn: 136128.5721298\ttotal: 29.7s\tremaining: 776ms\n18516:\tlearn: 136126.1130405\ttotal: 29.7s\tremaining: 775ms\n18517:\tlearn: 136120.5406605\ttotal: 29.7s\tremaining: 773ms\n18518:\tlearn: 136118.1101798\ttotal: 29.7s\tremaining: 772ms\n18519:\tlearn: 136109.9619807\ttotal: 29.7s\tremaining: 770ms\n18520:\tlearn: 136106.2979229\ttotal: 29.7s\tremaining: 768ms\n18521:\tlearn: 136103.1683926\ttotal: 29.7s\tremaining: 767ms\n18522:\tlearn: 136099.0808058\ttotal: 29.7s\tremaining: 765ms\n18523:\tlearn: 136098.2206324\ttotal: 29.7s\tremaining: 764ms\n18524:\tlearn: 136096.2534763\ttotal: 29.7s\tremaining: 762ms\n18525:\tlearn: 136092.8151243\ttotal: 29.7s\tremaining: 760ms\n18526:\tlearn: 136089.4536196\ttotal: 29.7s\tremaining: 759ms\n18527:\tlearn: 136085.3065535\ttotal: 29.7s\tremaining: 757ms\n18528:\tlearn: 136084.1418315\ttotal: 29.7s\tremaining: 756ms\n18529:\tlearn: 136077.1074615\ttotal: 29.7s\tremaining: 754ms\n18530:\tlearn: 136070.3497806\ttotal: 29.7s\tremaining: 752ms\n18531:\tlearn: 136069.8012062\ttotal: 29.7s\tremaining: 751ms\n18532:\tlearn: 136066.3198785\ttotal: 29.7s\tremaining: 749ms\n18533:\tlearn: 136062.1742100\ttotal: 29.7s\tremaining: 748ms\n18534:\tlearn: 136062.1030384\ttotal: 29.7s\tremaining: 746ms\n18535:\tlearn: 136057.1225167\ttotal: 29.7s\tremaining: 744ms\n18536:\tlearn: 136049.9964300\ttotal: 29.7s\tremaining: 743ms\n18537:\tlearn: 136045.8501718\ttotal: 29.7s\tremaining: 741ms\n18538:\tlearn: 136042.5002908\ttotal: 29.7s\tremaining: 740ms\n18539:\tlearn: 136039.5534468\ttotal: 29.7s\tremaining: 738ms\n18540:\tlearn: 136036.0701730\ttotal: 29.7s\tremaining: 736ms\n18541:\tlearn: 136031.2637458\ttotal: 29.7s\tremaining: 735ms\n18542:\tlearn: 136028.9746552\ttotal: 29.7s\tremaining: 733ms\n18543:\tlearn: 136020.8264624\ttotal: 29.8s\tremaining: 732ms\n18544:\tlearn: 136017.7778609\ttotal: 29.8s\tremaining: 730ms\n18545:\tlearn: 136014.2805979\ttotal: 29.8s\tremaining: 728ms\n18546:\tlearn: 136013.0040941\ttotal: 29.8s\tremaining: 727ms\n18547:\tlearn: 136009.6060725\ttotal: 29.8s\tremaining: 725ms\n18548:\tlearn: 136005.1464459\ttotal: 29.8s\tremaining: 724ms\n18549:\tlearn: 136000.3030810\ttotal: 29.8s\tremaining: 722ms\n18550:\tlearn: 135998.1016546\ttotal: 29.8s\tremaining: 720ms\n18551:\tlearn: 135992.9370654\ttotal: 29.8s\tremaining: 719ms\n18552:\tlearn: 135988.0216397\ttotal: 29.8s\tremaining: 717ms\n18553:\tlearn: 135987.3079645\ttotal: 29.8s\tremaining: 716ms\n18554:\tlearn: 135984.2277363\ttotal: 29.8s\tremaining: 714ms\n18555:\tlearn: 135981.7219176\ttotal: 29.8s\tremaining: 712ms\n18556:\tlearn: 135979.0982539\ttotal: 29.8s\tremaining: 711ms\n18557:\tlearn: 135975.8328957\ttotal: 29.8s\tremaining: 709ms\n18558:\tlearn: 135971.1006170\ttotal: 29.8s\tremaining: 708ms\n18559:\tlearn: 135967.4201947\ttotal: 29.8s\tremaining: 706ms\n18560:\tlearn: 135964.4215881\ttotal: 29.8s\tremaining: 704ms\n18561:\tlearn: 135960.9986236\ttotal: 29.8s\tremaining: 703ms\n18562:\tlearn: 135960.7466631\ttotal: 29.8s\tremaining: 701ms\n18563:\tlearn: 135959.3105625\ttotal: 29.8s\tremaining: 699ms\n18564:\tlearn: 135957.2632708\ttotal: 29.8s\tremaining: 698ms\n18565:\tlearn: 135951.9850025\ttotal: 29.8s\tremaining: 696ms\n18566:\tlearn: 135950.5747455\ttotal: 29.8s\tremaining: 695ms\n18567:\tlearn: 135945.0907462\ttotal: 29.8s\tremaining: 693ms\n18568:\tlearn: 135941.2211301\ttotal: 29.8s\tremaining: 691ms\n18569:\tlearn: 135936.4253931\ttotal: 29.8s\tremaining: 690ms\n18570:\tlearn: 135929.6562690\ttotal: 29.8s\tremaining: 688ms\n18571:\tlearn: 135920.1454802\ttotal: 29.8s\tremaining: 687ms\n18572:\tlearn: 135916.0823258\ttotal: 29.8s\tremaining: 685ms\n18573:\tlearn: 135913.8652415\ttotal: 29.8s\tremaining: 683ms\n18574:\tlearn: 135909.5390980\ttotal: 29.8s\tremaining: 682ms\n18575:\tlearn: 135907.0326469\ttotal: 29.8s\tremaining: 680ms\n18576:\tlearn: 135906.0406765\ttotal: 29.8s\tremaining: 679ms\n18577:\tlearn: 135901.5026351\ttotal: 29.8s\tremaining: 677ms\n18578:\tlearn: 135898.0644320\ttotal: 29.8s\tremaining: 675ms\n18579:\tlearn: 135890.9349059\ttotal: 29.8s\tremaining: 674ms\n18580:\tlearn: 135887.2878162\ttotal: 29.8s\tremaining: 672ms\n18581:\tlearn: 135883.7818334\ttotal: 29.8s\tremaining: 671ms\n18582:\tlearn: 135880.5719097\ttotal: 29.8s\tremaining: 669ms\n18583:\tlearn: 135879.4251174\ttotal: 29.8s\tremaining: 667ms\n18584:\tlearn: 135878.6373833\ttotal: 29.8s\tremaining: 666ms\n18585:\tlearn: 135878.3416179\ttotal: 29.8s\tremaining: 664ms\n18586:\tlearn: 135875.7993495\ttotal: 29.8s\tremaining: 663ms\n18587:\tlearn: 135870.4222198\ttotal: 29.8s\tremaining: 661ms\n18588:\tlearn: 135866.6070580\ttotal: 29.8s\tremaining: 659ms\n18589:\tlearn: 135864.2449310\ttotal: 29.8s\tremaining: 658ms\n18590:\tlearn: 135859.4475917\ttotal: 29.8s\tremaining: 656ms\n18591:\tlearn: 135855.3212974\ttotal: 29.8s\tremaining: 655ms\n18592:\tlearn: 135853.2891297\ttotal: 29.8s\tremaining: 653ms\n18593:\tlearn: 135850.6302763\ttotal: 29.8s\tremaining: 651ms\n18594:\tlearn: 135849.5540471\ttotal: 29.8s\tremaining: 650ms\n18595:\tlearn: 135845.5529427\ttotal: 29.8s\tremaining: 648ms\n18596:\tlearn: 135845.3270615\ttotal: 29.8s\tremaining: 647ms\n18597:\tlearn: 135841.7871370\ttotal: 29.8s\tremaining: 645ms\n18598:\tlearn: 135836.4757107\ttotal: 29.8s\tremaining: 643ms\n18599:\tlearn: 135833.0605069\ttotal: 29.8s\tremaining: 642ms\n18600:\tlearn: 135826.0600319\ttotal: 29.8s\tremaining: 640ms\n18601:\tlearn: 135824.1283609\ttotal: 29.8s\tremaining: 639ms\n18602:\tlearn: 135822.1470090\ttotal: 29.8s\tremaining: 637ms\n18603:\tlearn: 135818.6635478\ttotal: 29.8s\tremaining: 635ms\n18604:\tlearn: 135812.2704437\ttotal: 29.9s\tremaining: 634ms\n18605:\tlearn: 135810.3458091\ttotal: 29.9s\tremaining: 632ms\n18606:\tlearn: 135808.2671001\ttotal: 29.9s\tremaining: 631ms\n18607:\tlearn: 135803.5588294\ttotal: 29.9s\tremaining: 629ms\n18608:\tlearn: 135800.9067812\ttotal: 29.9s\tremaining: 627ms\n18609:\tlearn: 135800.6012011\ttotal: 29.9s\tremaining: 626ms\n18610:\tlearn: 135797.3269859\ttotal: 29.9s\tremaining: 624ms\n18611:\tlearn: 135794.8776308\ttotal: 29.9s\tremaining: 623ms\n18612:\tlearn: 135788.4582807\ttotal: 29.9s\tremaining: 621ms\n18613:\tlearn: 135784.2668903\ttotal: 29.9s\tremaining: 619ms\n18614:\tlearn: 135783.4118968\ttotal: 29.9s\tremaining: 618ms\n18615:\tlearn: 135780.0637575\ttotal: 29.9s\tremaining: 616ms\n18616:\tlearn: 135775.4564844\ttotal: 29.9s\tremaining: 615ms\n18617:\tlearn: 135771.5546769\ttotal: 29.9s\tremaining: 613ms\n18618:\tlearn: 135767.8695992\ttotal: 29.9s\tremaining: 611ms\n18619:\tlearn: 135765.0155356\ttotal: 29.9s\tremaining: 610ms\n18620:\tlearn: 135761.9310222\ttotal: 29.9s\tremaining: 608ms\n18621:\tlearn: 135755.3806180\ttotal: 29.9s\tremaining: 606ms\n18622:\tlearn: 135753.5390096\ttotal: 29.9s\tremaining: 605ms\n18623:\tlearn: 135750.9106588\ttotal: 29.9s\tremaining: 603ms\n18624:\tlearn: 135747.7355568\ttotal: 29.9s\tremaining: 602ms\n18625:\tlearn: 135742.5697738\ttotal: 29.9s\tremaining: 600ms\n18626:\tlearn: 135737.1174810\ttotal: 29.9s\tremaining: 598ms\n18627:\tlearn: 135733.9212105\ttotal: 29.9s\tremaining: 597ms\n18628:\tlearn: 135731.8952903\ttotal: 29.9s\tremaining: 595ms\n18629:\tlearn: 135728.6336744\ttotal: 29.9s\tremaining: 594ms\n18630:\tlearn: 135726.3183119\ttotal: 29.9s\tremaining: 592ms\n18631:\tlearn: 135723.4639084\ttotal: 29.9s\tremaining: 590ms\n18632:\tlearn: 135719.6645890\ttotal: 29.9s\tremaining: 589ms\n18633:\tlearn: 135718.0042686\ttotal: 29.9s\tremaining: 587ms\n18634:\tlearn: 135710.3481296\ttotal: 29.9s\tremaining: 586ms\n18635:\tlearn: 135709.0450479\ttotal: 29.9s\tremaining: 584ms\n18636:\tlearn: 135708.5247209\ttotal: 29.9s\tremaining: 582ms\n18637:\tlearn: 135705.7710635\ttotal: 29.9s\tremaining: 581ms\n18638:\tlearn: 135703.1619040\ttotal: 29.9s\tremaining: 579ms\n18639:\tlearn: 135696.9308247\ttotal: 29.9s\tremaining: 578ms\n18640:\tlearn: 135689.9627456\ttotal: 29.9s\tremaining: 576ms\n18641:\tlearn: 135685.7447153\ttotal: 29.9s\tremaining: 574ms\n18642:\tlearn: 135678.0669956\ttotal: 29.9s\tremaining: 573ms\n18643:\tlearn: 135670.9976747\ttotal: 29.9s\tremaining: 571ms\n18644:\tlearn: 135669.0926704\ttotal: 29.9s\tremaining: 570ms\n18645:\tlearn: 135667.6358257\ttotal: 29.9s\tremaining: 568ms\n18646:\tlearn: 135661.5583457\ttotal: 29.9s\tremaining: 566ms\n18647:\tlearn: 135659.6065568\ttotal: 29.9s\tremaining: 565ms\n18648:\tlearn: 135658.5652873\ttotal: 29.9s\tremaining: 563ms\n18649:\tlearn: 135654.4919415\ttotal: 29.9s\tremaining: 562ms\n18650:\tlearn: 135652.7752866\ttotal: 29.9s\tremaining: 560ms\n18651:\tlearn: 135651.2066347\ttotal: 29.9s\tremaining: 558ms\n18652:\tlearn: 135649.3307253\ttotal: 29.9s\tremaining: 557ms\n18653:\tlearn: 135647.2243644\ttotal: 29.9s\tremaining: 555ms\n18654:\tlearn: 135645.7613103\ttotal: 29.9s\tremaining: 554ms\n18655:\tlearn: 135641.9556714\ttotal: 29.9s\tremaining: 552ms\n18656:\tlearn: 135640.9258511\ttotal: 29.9s\tremaining: 550ms\n18657:\tlearn: 135638.1121715\ttotal: 29.9s\tremaining: 549ms\n18658:\tlearn: 135634.2837392\ttotal: 29.9s\tremaining: 547ms\n18659:\tlearn: 135632.3782724\ttotal: 29.9s\tremaining: 546ms\n18660:\tlearn: 135629.9119389\ttotal: 29.9s\tremaining: 544ms\n18661:\tlearn: 135626.5388590\ttotal: 29.9s\tremaining: 542ms\n18662:\tlearn: 135621.3803083\ttotal: 29.9s\tremaining: 541ms\n18663:\tlearn: 135614.4918150\ttotal: 29.9s\tremaining: 539ms\n18664:\tlearn: 135609.1843286\ttotal: 29.9s\tremaining: 538ms\n18665:\tlearn: 135601.5078796\ttotal: 30s\tremaining: 536ms\n18666:\tlearn: 135598.7772675\ttotal: 30s\tremaining: 534ms\n18667:\tlearn: 135597.4220567\ttotal: 30s\tremaining: 533ms\n18668:\tlearn: 135595.2272469\ttotal: 30s\tremaining: 531ms\n18669:\tlearn: 135590.5555053\ttotal: 30s\tremaining: 530ms\n18670:\tlearn: 135586.0877139\ttotal: 30s\tremaining: 528ms\n18671:\tlearn: 135583.3817596\ttotal: 30s\tremaining: 526ms\n18672:\tlearn: 135579.8022721\ttotal: 30s\tremaining: 525ms\n18673:\tlearn: 135573.3636138\ttotal: 30s\tremaining: 523ms\n18674:\tlearn: 135571.2258945\ttotal: 30s\tremaining: 522ms\n18675:\tlearn: 135567.8866952\ttotal: 30s\tremaining: 520ms\n18676:\tlearn: 135564.4725574\ttotal: 30s\tremaining: 518ms\n18677:\tlearn: 135556.3302871\ttotal: 30s\tremaining: 517ms\n18678:\tlearn: 135553.1203077\ttotal: 30s\tremaining: 515ms\n18679:\tlearn: 135551.5701617\ttotal: 30s\tremaining: 513ms\n18680:\tlearn: 135546.1542376\ttotal: 30s\tremaining: 512ms\n18681:\tlearn: 135544.2134470\ttotal: 30s\tremaining: 510ms\n18682:\tlearn: 135543.7057501\ttotal: 30s\tremaining: 509ms\n18683:\tlearn: 135539.8519770\ttotal: 30s\tremaining: 507ms\n18684:\tlearn: 135536.8665551\ttotal: 30s\tremaining: 505ms\n18685:\tlearn: 135532.7440372\ttotal: 30s\tremaining: 504ms\n18686:\tlearn: 135530.8817163\ttotal: 30s\tremaining: 502ms\n18687:\tlearn: 135529.1701151\ttotal: 30s\tremaining: 501ms\n18688:\tlearn: 135526.4748666\ttotal: 30s\tremaining: 499ms\n18689:\tlearn: 135522.9778902\ttotal: 30s\tremaining: 497ms\n18690:\tlearn: 135520.4341968\ttotal: 30s\tremaining: 496ms\n18691:\tlearn: 135515.5158461\ttotal: 30s\tremaining: 494ms\n18692:\tlearn: 135514.2403402\ttotal: 30s\tremaining: 493ms\n18693:\tlearn: 135511.4508166\ttotal: 30s\tremaining: 491ms\n18694:\tlearn: 135506.1388092\ttotal: 30s\tremaining: 489ms\n18695:\tlearn: 135501.5548889\ttotal: 30s\tremaining: 488ms\n18696:\tlearn: 135497.4911002\ttotal: 30s\tremaining: 486ms\n18697:\tlearn: 135493.7385684\ttotal: 30s\tremaining: 485ms\n18698:\tlearn: 135492.1596385\ttotal: 30s\tremaining: 483ms\n18699:\tlearn: 135487.2703354\ttotal: 30s\tremaining: 481ms\n18700:\tlearn: 135481.5319828\ttotal: 30s\tremaining: 480ms\n18701:\tlearn: 135479.0037827\ttotal: 30s\tremaining: 478ms\n18702:\tlearn: 135476.2238186\ttotal: 30s\tremaining: 477ms\n18703:\tlearn: 135471.1951546\ttotal: 30s\tremaining: 475ms\n18704:\tlearn: 135469.1748424\ttotal: 30s\tremaining: 473ms\n18705:\tlearn: 135468.0003360\ttotal: 30s\tremaining: 472ms\n18706:\tlearn: 135465.3273958\ttotal: 30s\tremaining: 470ms\n18707:\tlearn: 135459.1469217\ttotal: 30s\tremaining: 469ms\n18708:\tlearn: 135456.7031531\ttotal: 30s\tremaining: 467ms\n18709:\tlearn: 135455.9962689\ttotal: 30s\tremaining: 465ms\n18710:\tlearn: 135451.4337973\ttotal: 30s\tremaining: 464ms\n18711:\tlearn: 135448.1154232\ttotal: 30s\tremaining: 462ms\n18712:\tlearn: 135447.1166510\ttotal: 30s\tremaining: 461ms\n18713:\tlearn: 135442.8577149\ttotal: 30s\tremaining: 459ms\n18714:\tlearn: 135439.3978816\ttotal: 30s\tremaining: 457ms\n18715:\tlearn: 135437.7030970\ttotal: 30s\tremaining: 456ms\n18716:\tlearn: 135434.7430369\ttotal: 30s\tremaining: 454ms\n18717:\tlearn: 135433.3567302\ttotal: 30s\tremaining: 453ms\n18718:\tlearn: 135429.5395738\ttotal: 30s\tremaining: 451ms\n18719:\tlearn: 135425.2204131\ttotal: 30s\tremaining: 449ms\n18720:\tlearn: 135423.4574098\ttotal: 30s\tremaining: 448ms\n18721:\tlearn: 135417.7834016\ttotal: 30s\tremaining: 446ms\n18722:\tlearn: 135417.2513240\ttotal: 30s\tremaining: 445ms\n18723:\tlearn: 135411.0767872\ttotal: 30s\tremaining: 443ms\n18724:\tlearn: 135408.7232373\ttotal: 30s\tremaining: 441ms\n18725:\tlearn: 135406.5174602\ttotal: 30.1s\tremaining: 440ms\n18726:\tlearn: 135404.1860950\ttotal: 30.1s\tremaining: 438ms\n18727:\tlearn: 135402.1266150\ttotal: 30.1s\tremaining: 436ms\n18728:\tlearn: 135401.0316099\ttotal: 30.1s\tremaining: 435ms\n18729:\tlearn: 135398.4897801\ttotal: 30.1s\tremaining: 433ms\n18730:\tlearn: 135397.2679246\ttotal: 30.1s\tremaining: 432ms\n18731:\tlearn: 135392.8076942\ttotal: 30.1s\tremaining: 430ms\n18732:\tlearn: 135390.5391067\ttotal: 30.1s\tremaining: 428ms\n18733:\tlearn: 135389.4650217\ttotal: 30.1s\tremaining: 427ms\n18734:\tlearn: 135386.3817216\ttotal: 30.1s\tremaining: 425ms\n18735:\tlearn: 135384.4005291\ttotal: 30.1s\tremaining: 424ms\n18736:\tlearn: 135379.7292514\ttotal: 30.1s\tremaining: 422ms\n18737:\tlearn: 135377.4930374\ttotal: 30.1s\tremaining: 420ms\n18738:\tlearn: 135370.8064237\ttotal: 30.1s\tremaining: 419ms\n18739:\tlearn: 135364.5611837\ttotal: 30.1s\tremaining: 417ms\n18740:\tlearn: 135362.8741949\ttotal: 30.1s\tremaining: 416ms\n18741:\tlearn: 135359.3982177\ttotal: 30.1s\tremaining: 414ms\n18742:\tlearn: 135358.2753078\ttotal: 30.1s\tremaining: 412ms\n18743:\tlearn: 135353.0210539\ttotal: 30.1s\tremaining: 411ms\n18744:\tlearn: 135352.2024929\ttotal: 30.1s\tremaining: 409ms\n18745:\tlearn: 135349.7473184\ttotal: 30.1s\tremaining: 408ms\n18746:\tlearn: 135341.7150122\ttotal: 30.1s\tremaining: 406ms\n18747:\tlearn: 135340.1523429\ttotal: 30.1s\tremaining: 404ms\n18748:\tlearn: 135338.7448390\ttotal: 30.1s\tremaining: 403ms\n18749:\tlearn: 135330.9339314\ttotal: 30.1s\tremaining: 401ms\n18750:\tlearn: 135326.7808062\ttotal: 30.1s\tremaining: 400ms\n18751:\tlearn: 135324.5872418\ttotal: 30.1s\tremaining: 398ms\n18752:\tlearn: 135321.1908354\ttotal: 30.1s\tremaining: 396ms\n18753:\tlearn: 135315.7834984\ttotal: 30.1s\tremaining: 395ms\n18754:\tlearn: 135315.0269594\ttotal: 30.1s\tremaining: 393ms\n18755:\tlearn: 135313.2149954\ttotal: 30.1s\tremaining: 392ms\n18756:\tlearn: 135312.7008857\ttotal: 30.1s\tremaining: 390ms\n18757:\tlearn: 135309.7659079\ttotal: 30.1s\tremaining: 388ms\n18758:\tlearn: 135304.7820110\ttotal: 30.1s\tremaining: 387ms\n18759:\tlearn: 135303.4747276\ttotal: 30.1s\tremaining: 385ms\n18760:\tlearn: 135299.0470694\ttotal: 30.1s\tremaining: 384ms\n18761:\tlearn: 135297.0243916\ttotal: 30.1s\tremaining: 382ms\n18762:\tlearn: 135293.5584125\ttotal: 30.1s\tremaining: 380ms\n18763:\tlearn: 135291.3827050\ttotal: 30.1s\tremaining: 379ms\n18764:\tlearn: 135290.5322917\ttotal: 30.1s\tremaining: 377ms\n18765:\tlearn: 135287.9543786\ttotal: 30.1s\tremaining: 375ms\n18766:\tlearn: 135281.1474389\ttotal: 30.1s\tremaining: 374ms\n18767:\tlearn: 135280.7747401\ttotal: 30.1s\tremaining: 372ms\n18768:\tlearn: 135278.1703989\ttotal: 30.1s\tremaining: 371ms\n18769:\tlearn: 135272.4129144\ttotal: 30.1s\tremaining: 369ms\n18770:\tlearn: 135267.4131912\ttotal: 30.1s\tremaining: 367ms\n18771:\tlearn: 135264.0811117\ttotal: 30.1s\tremaining: 366ms\n18772:\tlearn: 135261.4714298\ttotal: 30.1s\tremaining: 364ms\n18773:\tlearn: 135255.4026719\ttotal: 30.1s\tremaining: 363ms\n18774:\tlearn: 135250.2010868\ttotal: 30.1s\tremaining: 361ms\n18775:\tlearn: 135246.1844648\ttotal: 30.1s\tremaining: 359ms\n18776:\tlearn: 135242.1562119\ttotal: 30.1s\tremaining: 358ms\n18777:\tlearn: 135240.1855699\ttotal: 30.1s\tremaining: 356ms\n18778:\tlearn: 135235.6248776\ttotal: 30.1s\tremaining: 355ms\n18779:\tlearn: 135231.1244219\ttotal: 30.1s\tremaining: 353ms\n18780:\tlearn: 135228.7736286\ttotal: 30.1s\tremaining: 351ms\n18781:\tlearn: 135227.2815021\ttotal: 30.1s\tremaining: 350ms\n18782:\tlearn: 135221.1010195\ttotal: 30.1s\tremaining: 348ms\n18783:\tlearn: 135219.9165752\ttotal: 30.1s\tremaining: 347ms\n18784:\tlearn: 135214.1156050\ttotal: 30.1s\tremaining: 345ms\n18785:\tlearn: 135211.5336792\ttotal: 30.1s\tremaining: 343ms\n18786:\tlearn: 135204.9929157\ttotal: 30.1s\tremaining: 342ms\n18787:\tlearn: 135203.3121311\ttotal: 30.1s\tremaining: 340ms\n18788:\tlearn: 135201.9942522\ttotal: 30.1s\tremaining: 339ms\n18789:\tlearn: 135199.6127784\ttotal: 30.2s\tremaining: 337ms\n18790:\tlearn: 135198.2520400\ttotal: 30.2s\tremaining: 335ms\n18791:\tlearn: 135194.2753585\ttotal: 30.2s\tremaining: 334ms\n18792:\tlearn: 135193.3300474\ttotal: 30.2s\tremaining: 332ms\n18793:\tlearn: 135190.7395844\ttotal: 30.2s\tremaining: 331ms\n18794:\tlearn: 135185.6049351\ttotal: 30.2s\tremaining: 329ms\n18795:\tlearn: 135180.4997788\ttotal: 30.2s\tremaining: 327ms\n18796:\tlearn: 135175.9741823\ttotal: 30.2s\tremaining: 326ms\n18797:\tlearn: 135168.6251920\ttotal: 30.2s\tremaining: 324ms\n18798:\tlearn: 135164.9684995\ttotal: 30.2s\tremaining: 323ms\n18799:\tlearn: 135160.5794730\ttotal: 30.2s\tremaining: 321ms\n18800:\tlearn: 135155.6718393\ttotal: 30.2s\tremaining: 319ms\n18801:\tlearn: 135152.2203202\ttotal: 30.2s\tremaining: 318ms\n18802:\tlearn: 135149.2802448\ttotal: 30.2s\tremaining: 316ms\n18803:\tlearn: 135145.4769780\ttotal: 30.2s\tremaining: 315ms\n18804:\tlearn: 135139.8820994\ttotal: 30.2s\tremaining: 313ms\n18805:\tlearn: 135137.3195872\ttotal: 30.2s\tremaining: 311ms\n18806:\tlearn: 135133.4896225\ttotal: 30.2s\tremaining: 310ms\n18807:\tlearn: 135129.4184264\ttotal: 30.2s\tremaining: 308ms\n18808:\tlearn: 135126.5445521\ttotal: 30.2s\tremaining: 306ms\n18809:\tlearn: 135122.8123981\ttotal: 30.2s\tremaining: 305ms\n18810:\tlearn: 135120.5972411\ttotal: 30.2s\tremaining: 303ms\n18811:\tlearn: 135119.8936611\ttotal: 30.2s\tremaining: 302ms\n18812:\tlearn: 135117.0961253\ttotal: 30.2s\tremaining: 300ms\n18813:\tlearn: 135114.5021089\ttotal: 30.2s\tremaining: 298ms\n18814:\tlearn: 135110.0106497\ttotal: 30.2s\tremaining: 297ms\n18815:\tlearn: 135109.3792914\ttotal: 30.2s\tremaining: 295ms\n18816:\tlearn: 135106.4205346\ttotal: 30.2s\tremaining: 294ms\n18817:\tlearn: 135102.3268369\ttotal: 30.2s\tremaining: 292ms\n18818:\tlearn: 135095.5678197\ttotal: 30.2s\tremaining: 290ms\n18819:\tlearn: 135091.7439039\ttotal: 30.2s\tremaining: 289ms\n18820:\tlearn: 135086.1000463\ttotal: 30.2s\tremaining: 287ms\n18821:\tlearn: 135085.2128570\ttotal: 30.2s\tremaining: 286ms\n18822:\tlearn: 135084.4627753\ttotal: 30.2s\tremaining: 284ms\n18823:\tlearn: 135081.7890306\ttotal: 30.2s\tremaining: 282ms\n18824:\tlearn: 135078.6917185\ttotal: 30.2s\tremaining: 281ms\n18825:\tlearn: 135077.7334929\ttotal: 30.2s\tremaining: 279ms\n18826:\tlearn: 135070.9031695\ttotal: 30.2s\tremaining: 278ms\n18827:\tlearn: 135064.0407904\ttotal: 30.2s\tremaining: 276ms\n18828:\tlearn: 135059.4718181\ttotal: 30.2s\tremaining: 274ms\n18829:\tlearn: 135054.9309639\ttotal: 30.2s\tremaining: 273ms\n18830:\tlearn: 135050.4097282\ttotal: 30.2s\tremaining: 271ms\n18831:\tlearn: 135050.1820144\ttotal: 30.2s\tremaining: 270ms\n18832:\tlearn: 135048.1667995\ttotal: 30.2s\tremaining: 268ms\n18833:\tlearn: 135042.8897953\ttotal: 30.2s\tremaining: 266ms\n18834:\tlearn: 135036.2567153\ttotal: 30.2s\tremaining: 265ms\n18835:\tlearn: 135030.9365832\ttotal: 30.2s\tremaining: 263ms\n18836:\tlearn: 135029.2100899\ttotal: 30.2s\tremaining: 262ms\n18837:\tlearn: 135028.0394019\ttotal: 30.2s\tremaining: 260ms\n18838:\tlearn: 135025.5647360\ttotal: 30.2s\tremaining: 258ms\n18839:\tlearn: 135022.9911447\ttotal: 30.2s\tremaining: 257ms\n18840:\tlearn: 135020.9524346\ttotal: 30.2s\tremaining: 255ms\n18841:\tlearn: 135013.0978547\ttotal: 30.2s\tremaining: 254ms\n18842:\tlearn: 135007.4391151\ttotal: 30.2s\tremaining: 252ms\n18843:\tlearn: 135000.8337916\ttotal: 30.2s\tremaining: 250ms\n18844:\tlearn: 134994.6510901\ttotal: 30.2s\tremaining: 249ms\n18845:\tlearn: 134986.5423416\ttotal: 30.2s\tremaining: 247ms\n18846:\tlearn: 134985.0559399\ttotal: 30.2s\tremaining: 246ms\n18847:\tlearn: 134982.2858601\ttotal: 30.2s\tremaining: 244ms\n18848:\tlearn: 134978.0844059\ttotal: 30.2s\tremaining: 242ms\n18849:\tlearn: 134975.9153250\ttotal: 30.2s\tremaining: 241ms\n18850:\tlearn: 134971.5665418\ttotal: 30.3s\tremaining: 239ms\n18851:\tlearn: 134963.8227556\ttotal: 30.3s\tremaining: 238ms\n18852:\tlearn: 134953.8256787\ttotal: 30.3s\tremaining: 236ms\n18853:\tlearn: 134953.1710283\ttotal: 30.3s\tremaining: 234ms\n18854:\tlearn: 134949.5344720\ttotal: 30.3s\tremaining: 233ms\n18855:\tlearn: 134940.5658711\ttotal: 30.3s\tremaining: 231ms\n18856:\tlearn: 134937.1118821\ttotal: 30.3s\tremaining: 229ms\n18857:\tlearn: 134935.0845048\ttotal: 30.3s\tremaining: 228ms\n18858:\tlearn: 134932.3254705\ttotal: 30.3s\tremaining: 226ms\n18859:\tlearn: 134927.5632396\ttotal: 30.3s\tremaining: 225ms\n18860:\tlearn: 134925.3240101\ttotal: 30.3s\tremaining: 223ms\n18861:\tlearn: 134922.8955666\ttotal: 30.3s\tremaining: 221ms\n18862:\tlearn: 134916.9748241\ttotal: 30.3s\tremaining: 220ms\n18863:\tlearn: 134915.4309691\ttotal: 30.3s\tremaining: 218ms\n18864:\tlearn: 134911.5262789\ttotal: 30.3s\tremaining: 217ms\n18865:\tlearn: 134908.9246102\ttotal: 30.3s\tremaining: 215ms\n18866:\tlearn: 134903.4722205\ttotal: 30.3s\tremaining: 213ms\n18867:\tlearn: 134900.9260841\ttotal: 30.3s\tremaining: 212ms\n18868:\tlearn: 134897.5656868\ttotal: 30.3s\tremaining: 210ms\n18869:\tlearn: 134892.9350556\ttotal: 30.3s\tremaining: 209ms\n18870:\tlearn: 134889.5968977\ttotal: 30.3s\tremaining: 207ms\n18871:\tlearn: 134886.2810943\ttotal: 30.3s\tremaining: 205ms\n18872:\tlearn: 134882.1085805\ttotal: 30.3s\tremaining: 204ms\n18873:\tlearn: 134873.3985357\ttotal: 30.3s\tremaining: 202ms\n18874:\tlearn: 134871.1591938\ttotal: 30.3s\tremaining: 201ms\n18875:\tlearn: 134867.8870976\ttotal: 30.3s\tremaining: 199ms\n18876:\tlearn: 134863.8608272\ttotal: 30.3s\tremaining: 197ms\n18877:\tlearn: 134859.8234099\ttotal: 30.3s\tremaining: 196ms\n18878:\tlearn: 134857.1430656\ttotal: 30.3s\tremaining: 194ms\n18879:\tlearn: 134853.6323670\ttotal: 30.3s\tremaining: 193ms\n18880:\tlearn: 134852.0479949\ttotal: 30.3s\tremaining: 191ms\n18881:\tlearn: 134845.9043644\ttotal: 30.3s\tremaining: 189ms\n18882:\tlearn: 134841.9381561\ttotal: 30.3s\tremaining: 188ms\n18883:\tlearn: 134833.3376015\ttotal: 30.3s\tremaining: 186ms\n18884:\tlearn: 134827.8217020\ttotal: 30.3s\tremaining: 185ms\n18885:\tlearn: 134824.5314108\ttotal: 30.3s\tremaining: 183ms\n18886:\tlearn: 134817.6303781\ttotal: 30.3s\tremaining: 181ms\n18887:\tlearn: 134814.3045340\ttotal: 30.3s\tremaining: 180ms\n18888:\tlearn: 134810.3044401\ttotal: 30.3s\tremaining: 178ms\n18889:\tlearn: 134809.0400299\ttotal: 30.3s\tremaining: 177ms\n18890:\tlearn: 134806.9632111\ttotal: 30.3s\tremaining: 175ms\n18891:\tlearn: 134804.7615216\ttotal: 30.3s\tremaining: 173ms\n18892:\tlearn: 134801.8159767\ttotal: 30.3s\tremaining: 172ms\n18893:\tlearn: 134797.3707348\ttotal: 30.3s\tremaining: 170ms\n18894:\tlearn: 134794.0637995\ttotal: 30.3s\tremaining: 169ms\n18895:\tlearn: 134793.4121828\ttotal: 30.3s\tremaining: 167ms\n18896:\tlearn: 134786.9278320\ttotal: 30.3s\tremaining: 165ms\n18897:\tlearn: 134784.2214315\ttotal: 30.3s\tremaining: 164ms\n18898:\tlearn: 134782.1852210\ttotal: 30.3s\tremaining: 162ms\n18899:\tlearn: 134779.3249805\ttotal: 30.3s\tremaining: 160ms\n18900:\tlearn: 134775.5813792\ttotal: 30.3s\tremaining: 159ms\n18901:\tlearn: 134769.8739050\ttotal: 30.3s\tremaining: 157ms\n18902:\tlearn: 134763.7482694\ttotal: 30.3s\tremaining: 156ms\n18903:\tlearn: 134759.0052437\ttotal: 30.3s\tremaining: 154ms\n18904:\tlearn: 134758.0256267\ttotal: 30.3s\tremaining: 152ms\n18905:\tlearn: 134756.1705008\ttotal: 30.3s\tremaining: 151ms\n18906:\tlearn: 134751.9841663\ttotal: 30.3s\tremaining: 149ms\n18907:\tlearn: 134749.0779850\ttotal: 30.3s\tremaining: 148ms\n18908:\tlearn: 134748.7930012\ttotal: 30.3s\tremaining: 146ms\n18909:\tlearn: 134746.7184115\ttotal: 30.3s\tremaining: 144ms\n18910:\tlearn: 134739.6351471\ttotal: 30.3s\tremaining: 143ms\n18911:\tlearn: 134731.9262027\ttotal: 30.4s\tremaining: 141ms\n18912:\tlearn: 134729.3532544\ttotal: 30.4s\tremaining: 140ms\n18913:\tlearn: 134727.2487547\ttotal: 30.4s\tremaining: 138ms\n18914:\tlearn: 134721.8062821\ttotal: 30.4s\tremaining: 136ms\n18915:\tlearn: 134719.5303477\ttotal: 30.4s\tremaining: 135ms\n18916:\tlearn: 134719.3448860\ttotal: 30.4s\tremaining: 133ms\n18917:\tlearn: 134714.7248182\ttotal: 30.4s\tremaining: 132ms\n18918:\tlearn: 134712.3447372\ttotal: 30.4s\tremaining: 130ms\n18919:\tlearn: 134710.9917312\ttotal: 30.4s\tremaining: 128ms\n18920:\tlearn: 134704.4431383\ttotal: 30.4s\tremaining: 127ms\n18921:\tlearn: 134700.4617914\ttotal: 30.4s\tremaining: 125ms\n18922:\tlearn: 134697.3033272\ttotal: 30.4s\tremaining: 124ms\n18923:\tlearn: 134695.2098739\ttotal: 30.4s\tremaining: 122ms\n18924:\tlearn: 134688.6464264\ttotal: 30.4s\tremaining: 120ms\n18925:\tlearn: 134685.1275997\ttotal: 30.4s\tremaining: 119ms\n18926:\tlearn: 134683.8200172\ttotal: 30.4s\tremaining: 117ms\n18927:\tlearn: 134678.6337596\ttotal: 30.4s\tremaining: 116ms\n18928:\tlearn: 134676.4762503\ttotal: 30.4s\tremaining: 114ms\n18929:\tlearn: 134672.5524907\ttotal: 30.4s\tremaining: 112ms\n18930:\tlearn: 134670.7956732\ttotal: 30.4s\tremaining: 111ms\n18931:\tlearn: 134666.3000557\ttotal: 30.4s\tremaining: 109ms\n18932:\tlearn: 134663.9988529\ttotal: 30.4s\tremaining: 108ms\n18933:\tlearn: 134656.4779227\ttotal: 30.4s\tremaining: 106ms\n18934:\tlearn: 134651.1366930\ttotal: 30.4s\tremaining: 104ms\n18935:\tlearn: 134647.0992582\ttotal: 30.4s\tremaining: 103ms\n18936:\tlearn: 134642.3185045\ttotal: 30.4s\tremaining: 101ms\n18937:\tlearn: 134641.8697430\ttotal: 30.4s\tremaining: 99.5ms\n18938:\tlearn: 134638.1867029\ttotal: 30.4s\tremaining: 97.9ms\n18939:\tlearn: 134634.4613377\ttotal: 30.4s\tremaining: 96.3ms\n18940:\tlearn: 134633.1467003\ttotal: 30.4s\tremaining: 94.7ms\n18941:\tlearn: 134628.4726291\ttotal: 30.4s\tremaining: 93.1ms\n18942:\tlearn: 134626.5060890\ttotal: 30.4s\tremaining: 91.5ms\n18943:\tlearn: 134620.3056397\ttotal: 30.4s\tremaining: 89.9ms\n18944:\tlearn: 134618.1928073\ttotal: 30.4s\tremaining: 88.3ms\n18945:\tlearn: 134613.1522314\ttotal: 30.4s\tremaining: 86.7ms\n18946:\tlearn: 134612.3987723\ttotal: 30.4s\tremaining: 85.1ms\n18947:\tlearn: 134610.2302065\ttotal: 30.4s\tremaining: 83.5ms\n18948:\tlearn: 134607.8392596\ttotal: 30.4s\tremaining: 81.9ms\n18949:\tlearn: 134598.5459959\ttotal: 30.4s\tremaining: 80.2ms\n18950:\tlearn: 134594.3454035\ttotal: 30.4s\tremaining: 78.6ms\n18951:\tlearn: 134590.7251018\ttotal: 30.4s\tremaining: 77ms\n18952:\tlearn: 134587.7234434\ttotal: 30.4s\tremaining: 75.4ms\n18953:\tlearn: 134581.4101709\ttotal: 30.4s\tremaining: 73.8ms\n18954:\tlearn: 134576.4847701\ttotal: 30.4s\tremaining: 72.2ms\n18955:\tlearn: 134570.8983943\ttotal: 30.4s\tremaining: 70.6ms\n18956:\tlearn: 134567.3826910\ttotal: 30.4s\tremaining: 69ms\n18957:\tlearn: 134564.3860739\ttotal: 30.4s\tremaining: 67.4ms\n18958:\tlearn: 134562.8627110\ttotal: 30.4s\tremaining: 65.8ms\n18959:\tlearn: 134561.4935996\ttotal: 30.4s\tremaining: 64.2ms\n18960:\tlearn: 134557.0847996\ttotal: 30.4s\tremaining: 62.6ms\n18961:\tlearn: 134552.1389166\ttotal: 30.4s\tremaining: 61ms\n18962:\tlearn: 134545.8140787\ttotal: 30.4s\tremaining: 59.4ms\n18963:\tlearn: 134541.3873678\ttotal: 30.4s\tremaining: 57.8ms\n18964:\tlearn: 134538.8073174\ttotal: 30.4s\tremaining: 56.2ms\n18965:\tlearn: 134538.6998079\ttotal: 30.4s\tremaining: 54.6ms\n18966:\tlearn: 134532.7431083\ttotal: 30.4s\tremaining: 53ms\n18967:\tlearn: 134529.3310358\ttotal: 30.4s\tremaining: 51.4ms\n18968:\tlearn: 134527.0742744\ttotal: 30.4s\tremaining: 49.8ms\n18969:\tlearn: 134521.7515325\ttotal: 30.4s\tremaining: 48.1ms\n18970:\tlearn: 134519.4541825\ttotal: 30.4s\tremaining: 46.5ms\n18971:\tlearn: 134514.8512137\ttotal: 30.4s\tremaining: 44.9ms\n18972:\tlearn: 134510.9737869\ttotal: 30.5s\tremaining: 43.3ms\n18973:\tlearn: 134507.3470218\ttotal: 30.5s\tremaining: 41.7ms\n18974:\tlearn: 134502.0851708\ttotal: 30.5s\tremaining: 40.1ms\n18975:\tlearn: 134499.4213014\ttotal: 30.5s\tremaining: 38.5ms\n18976:\tlearn: 134498.4844225\ttotal: 30.5s\tremaining: 36.9ms\n18977:\tlearn: 134492.3536272\ttotal: 30.5s\tremaining: 35.3ms\n18978:\tlearn: 134489.9933010\ttotal: 30.5s\tremaining: 33.7ms\n18979:\tlearn: 134486.0825690\ttotal: 30.5s\tremaining: 32.1ms\n18980:\tlearn: 134483.4209799\ttotal: 30.5s\tremaining: 30.5ms\n18981:\tlearn: 134480.6972199\ttotal: 30.5s\tremaining: 28.9ms\n18982:\tlearn: 134478.8358359\ttotal: 30.5s\tremaining: 27.3ms\n18983:\tlearn: 134470.8316088\ttotal: 30.5s\tremaining: 25.7ms\n18984:\tlearn: 134467.6162745\ttotal: 30.5s\tremaining: 24.1ms\n18985:\tlearn: 134461.7091580\ttotal: 30.5s\tremaining: 22.5ms\n18986:\tlearn: 134454.8055708\ttotal: 30.5s\tremaining: 20.9ms\n18987:\tlearn: 134452.5237512\ttotal: 30.5s\tremaining: 19.3ms\n18988:\tlearn: 134451.4171529\ttotal: 30.5s\tremaining: 17.7ms\n18989:\tlearn: 134445.8655423\ttotal: 30.5s\tremaining: 16.1ms\n18990:\tlearn: 134445.4521023\ttotal: 30.5s\tremaining: 14.4ms\n18991:\tlearn: 134440.0050866\ttotal: 30.5s\tremaining: 12.8ms\n18992:\tlearn: 134437.8425908\ttotal: 30.5s\tremaining: 11.2ms\n18993:\tlearn: 134434.7547477\ttotal: 30.5s\tremaining: 9.63ms\n18994:\tlearn: 134430.9643398\ttotal: 30.5s\tremaining: 8.03ms\n18995:\tlearn: 134426.7655386\ttotal: 30.5s\tremaining: 6.42ms\n18996:\tlearn: 134420.6658712\ttotal: 30.5s\tremaining: 4.82ms\n18997:\tlearn: 134418.1525334\ttotal: 30.5s\tremaining: 3.21ms\n18998:\tlearn: 134413.1847120\ttotal: 30.5s\tremaining: 1.6ms\n18999:\tlearn: 134408.1232384\ttotal: 30.5s\tremaining: 0us\n",
     "output_type": "stream"
    },
    {
     "output_type": "execute_result",
     "execution_count": 27,
     "data": {
      "text/plain": "GridSearchCV(cv=3,\n             estimator=<catboost.core.CatBoostRegressor object at 0x7f8c33bc35f8>,\n             param_grid={'depth': [6], 'iterations': [18000, 19000, 20001]},\n             verbose=100)"
     },
     "metadata": {}
    }
   ]
  },
  {
   "cell_type": "code",
   "metadata": {
    "tags": [],
    "deepnote_to_be_reexecuted": false,
    "source_hash": "5e0e909",
    "execution_start": 1651243840925,
    "execution_millis": 521,
    "cell_id": "00018-e167d5f8-0b75-4780-8f53-adfdc53bd5b9",
    "deepnote_cell_type": "code",
    "deepnote_cell_height": 345.6875
   },
   "source": "\nprint(\"\\n The best estimator across ALL searched params:\\n\", grid_model.best_estimator_)\nprint(\"\\n The best score across ALL searched params:\\n\", grid_model.best_score_)\nprint(\"\\n The best parameters across ALL searched params:\\n\", grid_model.best_params_)\n",
   "execution_count": null,
   "outputs": [
    {
     "name": "stdout",
     "text": "\n The best estimator across ALL searched params:\n <catboost.core.CatBoostRegressor object at 0x7f8c31193b00>\n\n The best score across ALL searched params:\n 0.9093325342122137\n\n The best parameters across ALL searched params:\n {'depth': 6, 'iterations': 20001}\n",
     "output_type": "stream"
    }
   ]
  },
  {
   "cell_type": "markdown",
   "source": "### Stooop building model with best param",
   "metadata": {
    "tags": [],
    "is_collapsed": false,
    "cell_id": "00019-3188baf3-3486-46d8-9f93-dd645848ed2c",
    "deepnote_cell_type": "text-cell-h3"
   }
  },
  {
   "cell_type": "code",
   "metadata": {
    "tags": [],
    "deepnote_to_be_reexecuted": false,
    "source_hash": "8bf12ade",
    "execution_start": 1651243840933,
    "execution_millis": 513,
    "cell_id": "00020-e279d7da-f3be-4805-baed-0244d3d32a6e",
    "deepnote_cell_type": "code",
    "deepnote_cell_height": 334.1875,
    "deepnote_output_heights": [
     21.1875
    ]
   },
   "source": "# hot one encoded setup - only run if its needed\n\"\"\"\ntrain_dataset = cb.Pool(X_train, y_train) \ntest_dataset = cb.Pool(X_test, y_test)\n\"\"\"\n\n\"\"\"\nX_train = pd.read_csv(\"X_train.csv\")\ny_train = pd.read_csv(\"y_train.csv\")\n\nX_test = pd.read_csv(\"X_test.csv\")\ny_test = pd.read_csv(\"y_test.csv\")\n\"\"\"",
   "execution_count": null,
   "outputs": [
    {
     "output_type": "execute_result",
     "execution_count": 15,
     "data": {
      "text/plain": "'\\nX_train = pd.read_csv(\"X_train.csv\")\\ny_train = pd.read_csv(\"y_train.csv\")\\n\\nX_test = pd.read_csv(\"X_test.csv\")\\ny_test = pd.read_csv(\"y_test.csv\")\\n'"
     },
     "metadata": {}
    }
   ]
  },
  {
   "cell_type": "code",
   "metadata": {
    "tags": [],
    "deepnote_to_be_reexecuted": false,
    "source_hash": "4def1cab",
    "execution_start": 1651497673093,
    "execution_millis": 31711,
    "cell_id": "00021-5a74f9b1-c334-4853-91e3-2c4c4acdb5f4",
    "deepnote_cell_type": "code",
    "deepnote_cell_height": 680.125
   },
   "source": "train_dataset = cb.Pool(X_train, y_train, cat_features=['street_name']) \ntest_dataset = cb.Pool(X_test, y_test, cat_features= ['street_name'])\n\ncat_model = cb.CatBoostRegressor(\n    eval_metric = 'MAE',  \n    n_estimators= 20000, \n    depth =6).fit(\n        train_dataset,\n        verbose=1000)",
   "execution_count": null,
   "outputs": [
    {
     "name": "stdout",
     "text": "Learning rate set to 0.004354\n0:\tlearn: 1003112.5815221\ttotal: 2.39ms\tremaining: 47.8s\n1000:\tlearn: 235494.4076502\ttotal: 1.62s\tremaining: 30.8s\n2000:\tlearn: 202955.9316504\ttotal: 3.16s\tremaining: 28.4s\n3000:\tlearn: 184693.5593598\ttotal: 4.69s\tremaining: 26.6s\n4000:\tlearn: 172673.6202627\ttotal: 6.23s\tremaining: 24.9s\n5000:\tlearn: 163066.5104491\ttotal: 7.78s\tremaining: 23.3s\n6000:\tlearn: 155139.0754906\ttotal: 9.31s\tremaining: 21.7s\n7000:\tlearn: 148621.9206990\ttotal: 10.9s\tremaining: 20.2s\n8000:\tlearn: 142839.3702350\ttotal: 12.4s\tremaining: 18.6s\n9000:\tlearn: 137525.8104272\ttotal: 13.9s\tremaining: 17s\n10000:\tlearn: 132837.0104219\ttotal: 15.4s\tremaining: 15.4s\n11000:\tlearn: 128549.4381567\ttotal: 17s\tremaining: 13.9s\n12000:\tlearn: 124529.2622433\ttotal: 18.5s\tremaining: 12.3s\n13000:\tlearn: 120809.0835250\ttotal: 20s\tremaining: 10.8s\n14000:\tlearn: 117290.7871290\ttotal: 21.5s\tremaining: 9.23s\n15000:\tlearn: 113972.7743426\ttotal: 23.1s\tremaining: 7.68s\n16000:\tlearn: 110868.7948566\ttotal: 24.6s\tremaining: 6.14s\n17000:\tlearn: 107999.8093443\ttotal: 26.1s\tremaining: 4.61s\n18000:\tlearn: 105184.0714178\ttotal: 27.7s\tremaining: 3.07s\n19000:\tlearn: 102584.2798974\ttotal: 29.2s\tremaining: 1.53s\n19999:\tlearn: 100083.3642871\ttotal: 30.7s\tremaining: 0us\n",
     "output_type": "stream"
    }
   ]
  },
  {
   "cell_type": "markdown",
   "source": "### Evaluate ",
   "metadata": {
    "tags": [],
    "is_collapsed": false,
    "cell_id": "00022-46d587c0-06a4-436f-833b-1dc9a5a09218",
    "deepnote_cell_type": "text-cell-h3"
   }
  },
  {
   "cell_type": "code",
   "metadata": {
    "tags": [],
    "deepnote_to_be_reexecuted": false,
    "source_hash": "5c4c6c8d",
    "execution_start": 1651497704808,
    "execution_millis": 25,
    "cell_id": "00023-aea1c67d-30aa-4344-a670-e951c4d9dbc7",
    "deepnote_cell_type": "code",
    "deepnote_cell_height": 447
   },
   "source": "# evaluate \n\ny_true = y_test # real values \ny_pred = cat_model.predict(X_test) # predicted values \n\nr2 = round(metrics.r2_score(y_true, y_pred), 4)\nmae = round(metrics.mean_absolute_error(y_true, y_pred),2)\nmape = round(metrics.mean_absolute_percentage_error(y_true, y_pred),4)\n\neval_dict = {'R2': r2, 'MAE': mae, 'MAPE': mape}\neval_df = pd.DataFrame.from_dict(eval_dict, orient='index').transpose()\n\neval_df",
   "execution_count": null,
   "outputs": [
    {
     "output_type": "execute_result",
     "execution_count": 27,
     "data": {
      "application/vnd.deepnote.dataframe.v3+json": {
       "column_count": 3,
       "row_count": 1,
       "columns": [
        {
         "name": "R2",
         "dtype": "float64",
         "stats": {
          "unique_count": 1,
          "nan_count": 0,
          "min": "0.9489",
          "max": "0.9489",
          "histogram": [
           {
            "bin_start": 0.44889999999999997,
            "bin_end": 0.5488999999999999,
            "count": 0
           },
           {
            "bin_start": 0.5488999999999999,
            "bin_end": 0.6489,
            "count": 0
           },
           {
            "bin_start": 0.6489,
            "bin_end": 0.7489,
            "count": 0
           },
           {
            "bin_start": 0.7489,
            "bin_end": 0.8489,
            "count": 0
           },
           {
            "bin_start": 0.8489,
            "bin_end": 0.9489,
            "count": 0
           },
           {
            "bin_start": 0.9489,
            "bin_end": 1.0489000000000002,
            "count": 1
           },
           {
            "bin_start": 1.0489000000000002,
            "bin_end": 1.1489,
            "count": 0
           },
           {
            "bin_start": 1.1489,
            "bin_end": 1.2489,
            "count": 0
           },
           {
            "bin_start": 1.2489,
            "bin_end": 1.3489,
            "count": 0
           },
           {
            "bin_start": 1.3489,
            "bin_end": 1.4489,
            "count": 0
           }
          ]
         }
        },
        {
         "name": "MAE",
         "dtype": "float64",
         "stats": {
          "unique_count": 1,
          "nan_count": 0,
          "min": "196390.4",
          "max": "196390.4",
          "histogram": [
           {
            "bin_start": 196389.9,
            "bin_end": 196390,
            "count": 0
           },
           {
            "bin_start": 196390,
            "bin_end": 196390.1,
            "count": 0
           },
           {
            "bin_start": 196390.1,
            "bin_end": 196390.19999999998,
            "count": 0
           },
           {
            "bin_start": 196390.19999999998,
            "bin_end": 196390.3,
            "count": 0
           },
           {
            "bin_start": 196390.3,
            "bin_end": 196390.4,
            "count": 0
           },
           {
            "bin_start": 196390.4,
            "bin_end": 196390.5,
            "count": 1
           },
           {
            "bin_start": 196390.5,
            "bin_end": 196390.6,
            "count": 0
           },
           {
            "bin_start": 196390.6,
            "bin_end": 196390.69999999998,
            "count": 0
           },
           {
            "bin_start": 196390.69999999998,
            "bin_end": 196390.8,
            "count": 0
           },
           {
            "bin_start": 196390.8,
            "bin_end": 196390.9,
            "count": 0
           }
          ]
         }
        },
        {
         "name": "MAPE",
         "dtype": "float64",
         "stats": {
          "unique_count": 1,
          "nan_count": 0,
          "min": "0.0559",
          "max": "0.0559",
          "histogram": [
           {
            "bin_start": -0.4441,
            "bin_end": -0.34409999999999996,
            "count": 0
           },
           {
            "bin_start": -0.34409999999999996,
            "bin_end": -0.24409999999999998,
            "count": 0
           },
           {
            "bin_start": -0.24409999999999998,
            "bin_end": -0.14409999999999995,
            "count": 0
           },
           {
            "bin_start": -0.14409999999999995,
            "bin_end": -0.04409999999999997,
            "count": 0
           },
           {
            "bin_start": -0.04409999999999997,
            "bin_end": 0.055900000000000005,
            "count": 1
           },
           {
            "bin_start": 0.055900000000000005,
            "bin_end": 0.1559000000000001,
            "count": 0
           },
           {
            "bin_start": 0.1559000000000001,
            "bin_end": 0.25590000000000007,
            "count": 0
           },
           {
            "bin_start": 0.25590000000000007,
            "bin_end": 0.35590000000000005,
            "count": 0
           },
           {
            "bin_start": 0.35590000000000005,
            "bin_end": 0.4559,
            "count": 0
           },
           {
            "bin_start": 0.4559,
            "bin_end": 0.5559,
            "count": 0
           }
          ]
         }
        },
        {
         "name": "_deepnote_index_column",
         "dtype": "int64"
        }
       ],
       "rows": [
        {
         "R2": 0.9489,
         "MAE": 196390.4,
         "MAPE": 0.0559,
         "_deepnote_index_column": 0
        }
       ]
      },
      "text/plain": "       R2       MAE    MAPE\n0  0.9489  196390.4  0.0559",
      "text/html": "<div>\n<style scoped>\n    .dataframe tbody tr th:only-of-type {\n        vertical-align: middle;\n    }\n\n    .dataframe tbody tr th {\n        vertical-align: top;\n    }\n\n    .dataframe thead th {\n        text-align: right;\n    }\n</style>\n<table border=\"1\" class=\"dataframe\">\n  <thead>\n    <tr style=\"text-align: right;\">\n      <th></th>\n      <th>R2</th>\n      <th>MAE</th>\n      <th>MAPE</th>\n    </tr>\n  </thead>\n  <tbody>\n    <tr>\n      <th>0</th>\n      <td>0.9489</td>\n      <td>196390.4</td>\n      <td>0.0559</td>\n    </tr>\n  </tbody>\n</table>\n</div>"
     },
     "metadata": {}
    }
   ]
  },
  {
   "cell_type": "code",
   "metadata": {
    "tags": [],
    "deepnote_to_be_reexecuted": false,
    "source_hash": "4d88fb23",
    "execution_start": 1651243906717,
    "execution_millis": 18,
    "cell_id": "00024-52898c9d-4172-44a7-8175-cb7fbaf1caa2",
    "deepnote_cell_type": "code",
    "deepnote_cell_height": 171
   },
   "source": "# save results to csv\n\ndf_results = X_test\ndf_results['y_true'] = y_true\ndf_results['y_pred'] = y_pred\ndf_results.to_csv(\"cat_results.csv\", index=False)",
   "execution_count": null,
   "outputs": []
  },
  {
   "cell_type": "markdown",
   "source": "### Feature Importance",
   "metadata": {
    "tags": [],
    "is_collapsed": false,
    "cell_id": "00029-68b5bff4-f977-4ec3-b7d7-97f1e0fbdf8f",
    "deepnote_cell_type": "text-cell-h3"
   }
  },
  {
   "cell_type": "code",
   "metadata": {
    "tags": [],
    "deepnote_to_be_reexecuted": false,
    "source_hash": "11fa7dae",
    "execution_start": 1651243907117,
    "execution_millis": 97,
    "cell_id": "00030-2b1ed123-8912-4405-bc44-132dde3370ac",
    "deepnote_cell_type": "code",
    "deepnote_cell_height": 385.625,
    "deepnote_output_heights": [
     270.625
    ]
   },
   "source": "# the bult-in function\nnp.array(cat_model.get_feature_importance(prettified=True))",
   "execution_count": null,
   "outputs": [
    {
     "output_type": "execute_result",
     "execution_count": 21,
     "data": {
      "text/plain": "array([['gov_property_value', 26.337689472780212],\n       ['unit_sqm_resi', 17.535087085617953],\n       ['latitude', 11.06977978558623],\n       ['gov_sqm', 9.81753048124906],\n       ['year', 9.382829494174933],\n       ['rooms', 5.092272970569035],\n       ['longitude', 3.6581381199637684],\n       ['floor', 3.234860229251799],\n       ['bfe', 2.8827192145986085],\n       ['street_name', 2.6250067194059197],\n       ['gov_land_value', 2.4913073024986443],\n       ['month', 2.0587521769307378],\n       ['building_year', 2.0420591143490636],\n       ['street_number', 1.7719678330240345]], dtype=object)"
     },
     "metadata": {}
    }
   ]
  },
  {
   "cell_type": "code",
   "metadata": {
    "tags": [],
    "deepnote_to_be_reexecuted": false,
    "source_hash": "736cc22b",
    "execution_start": 1651243907212,
    "execution_millis": 20575,
    "cell_id": "00031-c0a54316-0e3a-482a-9ee9-9c752b6abdb7",
    "deepnote_cell_type": "code",
    "deepnote_cell_height": 457.625,
    "deepnote_output_heights": [
     270.625
    ]
   },
   "source": "# loss function change. If a feature is minus it can be removed. But here all features have an influence on the loss\n\nnp.array(cat_model.get_feature_importance(\n    train_dataset,\n    'LossFunctionChange',\n    prettified=True))",
   "execution_count": null,
   "outputs": [
    {
     "output_type": "execute_result",
     "execution_count": 22,
     "data": {
      "text/plain": "array([['gov_property_value', 257124.16993965235],\n       ['unit_sqm_resi', 168154.35028623257],\n       ['year', 138001.3981631101],\n       ['gov_sqm', 132257.2013861553],\n       ['latitude', 104805.28090196036],\n       ['rooms', 70598.6880904038],\n       ['floor', 47985.29628245899],\n       ['longitude', 34365.15119308469],\n       ['month', 30776.67103291853],\n       ['bfe', 19945.7096133061],\n       ['gov_land_value', 18202.397868314292],\n       ['building_year', 12253.792972392781],\n       ['street_number', 9633.331484640279],\n       ['street_name', 6604.496927210945]], dtype=object)"
     },
     "metadata": {}
    }
   ]
  },
  {
   "cell_type": "code",
   "metadata": {
    "tags": [],
    "deepnote_to_be_reexecuted": false,
    "source_hash": "b820f931",
    "execution_start": 1651243927795,
    "execution_millis": 5,
    "cell_id": "00032-f63db08c-66fc-4f33-9fb8-a781e556b463",
    "deepnote_cell_type": "code",
    "deepnote_cell_height": 440.8125,
    "deepnote_output_heights": [
     289.8125
    ]
   },
   "source": "# use feature_importances_, which is similar to the built-in function\n\nfeature_scores = pd.Series(cat_model.feature_importances_, index=X_train.columns).sort_values(ascending=False)\nfeature_scores",
   "execution_count": null,
   "outputs": [
    {
     "output_type": "execute_result",
     "execution_count": 23,
     "data": {
      "text/plain": "gov_property_value    26.337689\nunit_sqm_resi         17.535087\nlatitude              11.069780\ngov_sqm                9.817530\nyear                   9.382829\nrooms                  5.092273\nlongitude              3.658138\nfloor                  3.234860\nbfe                    2.882719\nstreet_name            2.625007\ngov_land_value         2.491307\nmonth                  2.058752\nbuilding_year          2.042059\nstreet_number          1.771968\ndtype: float64"
     },
     "metadata": {}
    }
   ]
  },
  {
   "cell_type": "code",
   "metadata": {
    "tags": [],
    "deepnote_to_be_reexecuted": false,
    "source_hash": "19c1b998",
    "execution_start": 1651243927800,
    "execution_millis": 782,
    "cell_id": "00033-f902871d-b40c-40bd-ab88-b8a1f3a669ba",
    "deepnote_cell_type": "code",
    "deepnote_cell_height": 852,
    "deepnote_output_heights": [
     611
    ]
   },
   "source": "# Creating a seaborn bar plot\n\nf, ax = plt.subplots(figsize=(40, 50))\nax = sns.barplot(x=feature_scores, y=feature_scores.index)\nax.set_title(\"Visualize feature scores of the features\", fontsize=50)\nax.set_yticklabels(feature_scores.index, fontsize=30)\nax.set_xlabel(\"Feature importance score\")\nax.set_ylabel(\"Features\")\nplt.show()",
   "execution_count": null,
   "outputs": [
    {
     "data": {
      "text/plain": "<Figure size 2880x3600 with 1 Axes>",
      "image/png": "[encoded data removed]"
     },
     "metadata": {
      "needs_background": "light",
      "image/png": {
       "width": 2564,
       "height": 2811
      }
     },
     "output_type": "display_data"
    }
   ]
  },
  {
   "cell_type": "markdown",
   "source": "### Save model",
   "metadata": {
    "tags": [],
    "is_collapsed": false,
    "cell_id": "00034-69fb034c-813f-46f4-b68f-4e32f1ab3860",
    "deepnote_cell_type": "text-cell-h3"
   }
  },
  {
   "cell_type": "code",
   "metadata": {
    "tags": [],
    "deepnote_to_be_reexecuted": false,
    "source_hash": "c6e63290",
    "execution_start": 1651243928577,
    "execution_millis": 117,
    "cell_id": "00035-aba2feb5-4640-4fc8-a949-2278b2516251",
    "deepnote_cell_type": "code",
    "deepnote_cell_height": 117
   },
   "source": "#save model to folder\nwith open('cat_model_pkl', 'wb') as files:\n    pickle.dump(cat_model, files)",
   "execution_count": null,
   "outputs": []
  },
  {
   "cell_type": "code",
   "metadata": {
    "tags": [],
    "deepnote_to_be_reexecuted": false,
    "source_hash": "31853536",
    "execution_start": 1651243928694,
    "execution_millis": 6,
    "cell_id": "00036-52959302-a5f8-4057-aec2-47c0694e3fc5",
    "owner_user_id": "fb559975-4917-403a-887b-d1eaae0ada1d",
    "deepnote_cell_type": "code",
    "deepnote_cell_height": 208.1875,
    "deepnote_output_heights": [
     21.1875
    ]
   },
   "source": "# load saved model\n\"\"\"\nwith open('cat_model_pkl' , 'rb') as f:\n    cat_model = pickle.load(f)\n\"\"\"\n#cat_model.predict()",
   "execution_count": null,
   "outputs": [
    {
     "output_type": "execute_result",
     "execution_count": 26,
     "data": {
      "text/plain": "\"\\nwith open('cat_model_pkl' , 'rb') as f:\\n    cat_model = pickle.load(f)\\n\""
     },
     "metadata": {}
    }
   ]
  },
  {
   "cell_type": "markdown",
   "source": "<a style='text-decoration:none;line-height:16px;display:flex;color:#5B5B62;padding:10px;justify-content:end;' href='https://deepnote.com?utm_source=created-in-deepnote-cell&projectId=8a2d9d23-5445-401b-81ac-9e4d2df66dba' target=\"_blank\">\n<img alt='Created in deepnote.com' style='display:inline;max-height:16px;margin:0px;margin-right:7.5px;' src='data:image/svg+xml;base64,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' > </img>\nCreated in <span style='font-weight:600;margin-left:4px;'>Deepnote</span></a>",
   "metadata": {
    "tags": [],
    "created_in_deepnote_cell": true,
    "deepnote_cell_type": "markdown"
   }
  }
 ],
 "nbformat": 4,
 "nbformat_minor": 2,
 "metadata": {
  "orig_nbformat": 2,
  "deepnote": {
   "is_reactive": false
  },
  "deepnote_notebook_id": "116325be-3858-4283-8c23-d2fe33fd64b1",
  "deepnote_execution_queue": []
 }
}

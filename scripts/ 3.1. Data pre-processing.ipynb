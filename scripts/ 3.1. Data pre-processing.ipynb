{
 "cells": [
  {
   "cell_type": "markdown",
   "source": "# Data prep. ",
   "metadata": {
    "tags": [],
    "is_collapsed": false,
    "cell_id": "ef07df81-39d7-43fb-86b9-099a25e3e1d2",
    "owner_user_id": "fb559975-4917-403a-887b-d1eaae0ada1d",
    "deepnote_cell_type": "text-cell-h1"
   }
  },
  {
   "cell_type": "code",
   "metadata": {
    "tags": [],
    "deepnote_to_be_reexecuted": false,
    "source_hash": "4ad40e8",
    "execution_start": 1652447609812,
    "execution_millis": 1457,
    "cell_id": "00002-535703ac-03a5-4ced-9cdc-da8b69e9b1e2",
    "deepnote_cell_type": "code",
    "deepnote_cell_height": 189
   },
   "source": "# import packages \nimport pandas as pd\nimport numpy as np\n\nimport matplotlib.pyplot as plt\nimport seaborn as sns\n",
   "execution_count": null,
   "outputs": []
  },
  {
   "cell_type": "code",
   "metadata": {
    "tags": [],
    "deepnote_to_be_reexecuted": false,
    "source_hash": "2a76fbf3",
    "execution_start": 1652447611270,
    "execution_millis": 31,
    "cell_id": "00003-8c76a801-e537-43b5-a64e-0ab0b27979a6",
    "deepnote_cell_type": "code",
    "deepnote_cell_height": 99
   },
   "source": "# import data \nsilver_data = pd.read_csv(\"silver_data_eda.csv\")",
   "execution_count": null,
   "outputs": []
  },
  {
   "cell_type": "markdown",
   "source": "### Pick columns for model",
   "metadata": {
    "tags": [],
    "is_collapsed": false,
    "cell_id": "00004-f37578cd-361e-4914-8129-256140bf7b28",
    "deepnote_cell_type": "text-cell-h3"
   }
  },
  {
   "cell_type": "code",
   "metadata": {
    "tags": [],
    "deepnote_to_be_reexecuted": false,
    "source_hash": "6d74ba90",
    "execution_start": 1652447611303,
    "execution_millis": 4,
    "cell_id": "00005-5625f2d5-9e33-413f-b1af-004acaadb858",
    "deepnote_cell_type": "code",
    "deepnote_cell_height": 252.5,
    "deepnote_output_heights": [
     155.5
    ]
   },
   "source": "silver_data.columns",
   "execution_count": null,
   "outputs": [
    {
     "output_type": "execute_result",
     "execution_count": 3,
     "data": {
      "text/plain": "Index(['bfe_nummer', 'adresse', 'offentlig_ejendomsværdi',\n       'offentlige_grundværdi', 'seneste_handelspris', 'enhedsareal_beboelse',\n       'pris_pr_m2', 'seneste_handelsdato', 'seneste_handlet_andel',\n       'handelsmetode', 'anvendelse', 'opførelsesår',\n       'tinglyst_areal_ejerlejligheder', 'longitude', 'latitude',\n       'primær_ejers_adresse', 'vejnavn', 'husnr', 'etage', 'antal_værelser',\n       'year', 'month', 'day'],\n      dtype='object')"
     },
     "metadata": {}
    }
   ]
  },
  {
   "cell_type": "code",
   "metadata": {
    "tags": [],
    "deepnote_to_be_reexecuted": false,
    "source_hash": "c1ecd9a2",
    "execution_start": 1652447611308,
    "execution_millis": 3,
    "cell_id": "00006-1fbeeef0-1f53-4ea4-9f11-491a772f221b",
    "deepnote_cell_type": "code",
    "deepnote_cell_height": 441
   },
   "source": "#extract columns model df\n\n\nsilver_data_model = silver_data[[\n    'bfe_nummer',\n    'offentlig_ejendomsværdi',\n    'offentlige_grundværdi', \n    'seneste_handelspris', \n    'enhedsareal_beboelse',\n    'antal_værelser',\n    #'pris_pr_m2',\n    'vejnavn',\n    'husnr',\n    'longitude',\n    'latitude', \n    'opførelsesår',\n    'tinglyst_areal_ejerlejligheder',\n    'seneste_handelsdato', \n    'year',\n    'month',\n    'etage']].copy()",
   "execution_count": null,
   "outputs": []
  },
  {
   "cell_type": "code",
   "metadata": {
    "cell_id": "776bb75e6ee241398db043855ca75404",
    "tags": [],
    "deepnote_to_be_reexecuted": false,
    "source_hash": "79ab0f23",
    "execution_start": 1652447611312,
    "execution_millis": 84,
    "deepnote_table_state": {
     "pageSize": 10,
     "pageIndex": 0,
     "filters": [],
     "sortBy": [
      {
       "id": "husnr",
       "type": "desc"
      }
     ]
    },
    "deepnote_table_loading": false,
    "deepnote_cell_type": "code",
    "deepnote_cell_height": 647
   },
   "source": "silver_data_model",
   "execution_count": null,
   "outputs": [
    {
     "output_type": "execute_result",
     "execution_count": 5,
     "data": {
      "application/vnd.deepnote.dataframe.v3+json": {
       "column_count": 16,
       "row_count": 3600,
       "columns": [
        {
         "name": "bfe_nummer",
         "dtype": "int64",
         "stats": {
          "unique_count": 3600,
          "nan_count": 0,
          "min": "101006",
          "max": "100179329",
          "histogram": [
           {
            "bin_start": 101006,
            "bin_end": 10108838.3,
            "count": 3599
           },
           {
            "bin_start": 10108838.3,
            "bin_end": 20116670.6,
            "count": 0
           },
           {
            "bin_start": 20116670.6,
            "bin_end": 30124502.900000002,
            "count": 0
           },
           {
            "bin_start": 30124502.900000002,
            "bin_end": 40132335.2,
            "count": 0
           },
           {
            "bin_start": 40132335.2,
            "bin_end": 50140167.5,
            "count": 0
           },
           {
            "bin_start": 50140167.5,
            "bin_end": 60147999.800000004,
            "count": 0
           },
           {
            "bin_start": 60147999.800000004,
            "bin_end": 70155832.10000001,
            "count": 0
           },
           {
            "bin_start": 70155832.10000001,
            "bin_end": 80163664.4,
            "count": 0
           },
           {
            "bin_start": 80163664.4,
            "bin_end": 90171496.7,
            "count": 0
           },
           {
            "bin_start": 90171496.7,
            "bin_end": 100179329,
            "count": 1
           }
          ]
         }
        },
        {
         "name": "offentlig_ejendomsværdi",
         "dtype": "float64",
         "stats": {
          "unique_count": 124,
          "nan_count": 0,
          "min": "280000.0",
          "max": "5400000.0",
          "histogram": [
           {
            "bin_start": 280000,
            "bin_end": 792000,
            "count": 323
           },
           {
            "bin_start": 792000,
            "bin_end": 1304000,
            "count": 1563
           },
           {
            "bin_start": 1304000,
            "bin_end": 1816000,
            "count": 556
           },
           {
            "bin_start": 1816000,
            "bin_end": 2328000,
            "count": 692
           },
           {
            "bin_start": 2328000,
            "bin_end": 2840000,
            "count": 281
           },
           {
            "bin_start": 2840000,
            "bin_end": 3352000,
            "count": 145
           },
           {
            "bin_start": 3352000,
            "bin_end": 3864000,
            "count": 32
           },
           {
            "bin_start": 3864000,
            "bin_end": 4376000,
            "count": 7
           },
           {
            "bin_start": 4376000,
            "bin_end": 4888000,
            "count": 0
           },
           {
            "bin_start": 4888000,
            "bin_end": 5400000,
            "count": 1
           }
          ]
         }
        },
        {
         "name": "offentlige_grundværdi",
         "dtype": "float64",
         "stats": {
          "unique_count": 1261,
          "nan_count": 0,
          "min": "37200.0",
          "max": "1021400.0",
          "histogram": [
           {
            "bin_start": 37200,
            "bin_end": 135620,
            "count": 1502
           },
           {
            "bin_start": 135620,
            "bin_end": 234040,
            "count": 678
           },
           {
            "bin_start": 234040,
            "bin_end": 332460,
            "count": 409
           },
           {
            "bin_start": 332460,
            "bin_end": 430880,
            "count": 455
           },
           {
            "bin_start": 430880,
            "bin_end": 529300,
            "count": 413
           },
           {
            "bin_start": 529300,
            "bin_end": 627720,
            "count": 97
           },
           {
            "bin_start": 627720,
            "bin_end": 726140,
            "count": 30
           },
           {
            "bin_start": 726140,
            "bin_end": 824560,
            "count": 9
           },
           {
            "bin_start": 824560,
            "bin_end": 922980,
            "count": 3
           },
           {
            "bin_start": 922980,
            "bin_end": 1021400,
            "count": 4
           }
          ]
         }
        },
        {
         "name": "seneste_handelspris",
         "dtype": "int64",
         "stats": {
          "unique_count": 908,
          "nan_count": 0,
          "min": "920000",
          "max": "6600000",
          "histogram": [
           {
            "bin_start": 920000,
            "bin_end": 1488000,
            "count": 132
           },
           {
            "bin_start": 1488000,
            "bin_end": 2056000,
            "count": 557
           },
           {
            "bin_start": 2056000,
            "bin_end": 2624000,
            "count": 808
           },
           {
            "bin_start": 2624000,
            "bin_end": 3192000,
            "count": 487
           },
           {
            "bin_start": 3192000,
            "bin_end": 3760000,
            "count": 534
           },
           {
            "bin_start": 3760000,
            "bin_end": 4328000,
            "count": 415
           },
           {
            "bin_start": 4328000,
            "bin_end": 4896000,
            "count": 287
           },
           {
            "bin_start": 4896000,
            "bin_end": 5464000,
            "count": 179
           },
           {
            "bin_start": 5464000,
            "bin_end": 6032000,
            "count": 129
           },
           {
            "bin_start": 6032000,
            "bin_end": 6600000,
            "count": 72
           }
          ]
         }
        },
        {
         "name": "enhedsareal_beboelse",
         "dtype": "float64",
         "stats": {
          "unique_count": 139,
          "nan_count": 0,
          "min": "25.0",
          "max": "208.0",
          "histogram": [
           {
            "bin_start": 25,
            "bin_end": 43.3,
            "count": 185
           },
           {
            "bin_start": 43.3,
            "bin_end": 61.6,
            "count": 1112
           },
           {
            "bin_start": 61.6,
            "bin_end": 79.9,
            "count": 743
           },
           {
            "bin_start": 79.9,
            "bin_end": 98.2,
            "count": 730
           },
           {
            "bin_start": 98.2,
            "bin_end": 116.5,
            "count": 553
           },
           {
            "bin_start": 116.5,
            "bin_end": 134.8,
            "count": 224
           },
           {
            "bin_start": 134.8,
            "bin_end": 153.1,
            "count": 36
           },
           {
            "bin_start": 153.1,
            "bin_end": 171.4,
            "count": 11
           },
           {
            "bin_start": 171.4,
            "bin_end": 189.70000000000002,
            "count": 4
           },
           {
            "bin_start": 189.70000000000002,
            "bin_end": 208,
            "count": 2
           }
          ]
         }
        },
        {
         "name": "antal_værelser",
         "dtype": "int64",
         "stats": {
          "unique_count": 7,
          "nan_count": 0,
          "min": "1",
          "max": "7",
          "histogram": [
           {
            "bin_start": 1,
            "bin_end": 1.6,
            "count": 258
           },
           {
            "bin_start": 1.6,
            "bin_end": 2.2,
            "count": 1544
           },
           {
            "bin_start": 2.2,
            "bin_end": 2.8,
            "count": 0
           },
           {
            "bin_start": 2.8,
            "bin_end": 3.4,
            "count": 1204
           },
           {
            "bin_start": 3.4,
            "bin_end": 4,
            "count": 0
           },
           {
            "bin_start": 4,
            "bin_end": 4.6,
            "count": 534
           },
           {
            "bin_start": 4.6,
            "bin_end": 5.2,
            "count": 52
           },
           {
            "bin_start": 5.2,
            "bin_end": 5.8,
            "count": 0
           },
           {
            "bin_start": 5.8,
            "bin_end": 6.3999999999999995,
            "count": 7
           },
           {
            "bin_start": 6.3999999999999995,
            "bin_end": 7,
            "count": 1
           }
          ]
         }
        },
        {
         "name": "vejnavn",
         "dtype": "object",
         "stats": {
          "unique_count": 182,
          "nan_count": 0,
          "categories": [
           {
            "name": "RobertJacobsensVej",
            "count": 163
           },
           {
            "name": "EdvardThomsensVej",
            "count": 151
           },
           {
            "name": "180 others",
            "count": 3286
           }
          ]
         }
        },
        {
         "name": "husnr",
         "dtype": "int64",
         "stats": {
          "unique_count": 149,
          "nan_count": 0,
          "min": "1",
          "max": "305",
          "histogram": [
           {
            "bin_start": 1,
            "bin_end": 31.4,
            "count": 2257
           },
           {
            "bin_start": 31.4,
            "bin_end": 61.8,
            "count": 618
           },
           {
            "bin_start": 61.8,
            "bin_end": 92.19999999999999,
            "count": 486
           },
           {
            "bin_start": 92.19999999999999,
            "bin_end": 122.6,
            "count": 126
           },
           {
            "bin_start": 122.6,
            "bin_end": 153,
            "count": 58
           },
           {
            "bin_start": 153,
            "bin_end": 183.39999999999998,
            "count": 23
           },
           {
            "bin_start": 183.39999999999998,
            "bin_end": 213.79999999999998,
            "count": 2
           },
           {
            "bin_start": 213.79999999999998,
            "bin_end": 244.2,
            "count": 2
           },
           {
            "bin_start": 244.2,
            "bin_end": 274.59999999999997,
            "count": 17
           },
           {
            "bin_start": 274.59999999999997,
            "bin_end": 305,
            "count": 11
           }
          ]
         }
        },
        {
         "name": "longitude",
         "dtype": "float64",
         "stats": {
          "unique_count": 1134,
          "nan_count": 0,
          "min": "12.56400799",
          "max": "12.63511252",
          "histogram": [
           {
            "bin_start": 12.56400799,
            "bin_end": 12.571118443,
            "count": 214
           },
           {
            "bin_start": 12.571118443,
            "bin_end": 12.578228896,
            "count": 501
           },
           {
            "bin_start": 12.578228896,
            "bin_end": 12.585339349,
            "count": 308
           },
           {
            "bin_start": 12.585339349,
            "bin_end": 12.592449802,
            "count": 86
           },
           {
            "bin_start": 12.592449802,
            "bin_end": 12.599560255,
            "count": 254
           },
           {
            "bin_start": 12.599560255,
            "bin_end": 12.606670708,
            "count": 492
           },
           {
            "bin_start": 12.606670708,
            "bin_end": 12.613781161,
            "count": 647
           },
           {
            "bin_start": 12.613781161,
            "bin_end": 12.620891614,
            "count": 702
           },
           {
            "bin_start": 12.620891614,
            "bin_end": 12.628002067,
            "count": 319
           },
           {
            "bin_start": 12.628002067,
            "bin_end": 12.63511252,
            "count": 77
           }
          ]
         }
        },
        {
         "name": "latitude",
         "dtype": "float64",
         "stats": {
          "unique_count": 1134,
          "nan_count": 0,
          "min": "55.61653656",
          "max": "55.66870439",
          "histogram": [
           {
            "bin_start": 55.61653656,
            "bin_end": 55.621753343,
            "count": 172
           },
           {
            "bin_start": 55.621753343,
            "bin_end": 55.626970126,
            "count": 84
           },
           {
            "bin_start": 55.626970126,
            "bin_end": 55.632186909,
            "count": 9
           },
           {
            "bin_start": 55.632186909,
            "bin_end": 55.637403692,
            "count": 364
           },
           {
            "bin_start": 55.637403692,
            "bin_end": 55.642620475,
            "count": 43
           },
           {
            "bin_start": 55.642620475,
            "bin_end": 55.647837258,
            "count": 187
           },
           {
            "bin_start": 55.647837258,
            "bin_end": 55.653054041000004,
            "count": 198
           },
           {
            "bin_start": 55.653054041000004,
            "bin_end": 55.658270824,
            "count": 623
           },
           {
            "bin_start": 55.658270824,
            "bin_end": 55.663487607,
            "count": 953
           },
           {
            "bin_start": 55.663487607,
            "bin_end": 55.66870439,
            "count": 967
           }
          ]
         }
        },
        {
         "name": "opførelsesår",
         "dtype": "float64",
         "stats": {
          "unique_count": 84,
          "nan_count": 0,
          "min": "1872.0",
          "max": "2021.0",
          "histogram": [
           {
            "bin_start": 1872,
            "bin_end": 1886.9,
            "count": 16
           },
           {
            "bin_start": 1886.9,
            "bin_end": 1901.8,
            "count": 89
           },
           {
            "bin_start": 1901.8,
            "bin_end": 1916.7,
            "count": 526
           },
           {
            "bin_start": 1916.7,
            "bin_end": 1931.6,
            "count": 217
           },
           {
            "bin_start": 1931.6,
            "bin_end": 1946.5,
            "count": 1138
           },
           {
            "bin_start": 1946.5,
            "bin_end": 1961.4,
            "count": 22
           },
           {
            "bin_start": 1961.4,
            "bin_end": 1976.3,
            "count": 299
           },
           {
            "bin_start": 1976.3,
            "bin_end": 1991.2,
            "count": 2
           },
           {
            "bin_start": 1991.2,
            "bin_end": 2006.1,
            "count": 457
           },
           {
            "bin_start": 2006.1,
            "bin_end": 2021,
            "count": 834
           }
          ]
         }
        },
        {
         "name": "tinglyst_areal_ejerlejligheder",
         "dtype": "float64",
         "stats": {
          "unique_count": 132,
          "nan_count": 0,
          "min": "23.0",
          "max": "302.0",
          "histogram": [
           {
            "bin_start": 23,
            "bin_end": 50.9,
            "count": 859
           },
           {
            "bin_start": 50.9,
            "bin_end": 78.8,
            "count": 1493
           },
           {
            "bin_start": 78.8,
            "bin_end": 106.69999999999999,
            "count": 1018
           },
           {
            "bin_start": 106.69999999999999,
            "bin_end": 134.6,
            "count": 196
           },
           {
            "bin_start": 134.6,
            "bin_end": 162.5,
            "count": 27
           },
           {
            "bin_start": 162.5,
            "bin_end": 190.39999999999998,
            "count": 4
           },
           {
            "bin_start": 190.39999999999998,
            "bin_end": 218.29999999999998,
            "count": 2
           },
           {
            "bin_start": 218.29999999999998,
            "bin_end": 246.2,
            "count": 0
           },
           {
            "bin_start": 246.2,
            "bin_end": 274.1,
            "count": 0
           },
           {
            "bin_start": 274.1,
            "bin_end": 302,
            "count": 1
           }
          ]
         }
        },
        {
         "name": "seneste_handelsdato",
         "dtype": "object",
         "stats": {
          "unique_count": 263,
          "nan_count": 0,
          "categories": [
           {
            "name": "2021-07-01",
            "count": 108
           },
           {
            "name": "2021-06-01",
            "count": 107
           },
           {
            "name": "261 others",
            "count": 3385
           }
          ]
         }
        },
        {
         "name": "year",
         "dtype": "int64",
         "stats": {
          "unique_count": 4,
          "nan_count": 0,
          "min": "2019",
          "max": "2022",
          "histogram": [
           {
            "bin_start": 2019,
            "bin_end": 2019.3,
            "count": 838
           },
           {
            "bin_start": 2019.3,
            "bin_end": 2019.6,
            "count": 0
           },
           {
            "bin_start": 2019.6,
            "bin_end": 2019.9,
            "count": 0
           },
           {
            "bin_start": 2019.9,
            "bin_end": 2020.2,
            "count": 1116
           },
           {
            "bin_start": 2020.2,
            "bin_end": 2020.5,
            "count": 0
           },
           {
            "bin_start": 2020.5,
            "bin_end": 2020.8,
            "count": 0
           },
           {
            "bin_start": 2020.8,
            "bin_end": 2021.1,
            "count": 1382
           },
           {
            "bin_start": 2021.1,
            "bin_end": 2021.4,
            "count": 0
           },
           {
            "bin_start": 2021.4,
            "bin_end": 2021.7,
            "count": 0
           },
           {
            "bin_start": 2021.7,
            "bin_end": 2022,
            "count": 264
           }
          ]
         }
        },
        {
         "name": "month",
         "dtype": "int64",
         "stats": {
          "unique_count": 12,
          "nan_count": 0,
          "min": "1",
          "max": "12",
          "histogram": [
           {
            "bin_start": 1,
            "bin_end": 2.1,
            "count": 640
           },
           {
            "bin_start": 2.1,
            "bin_end": 3.2,
            "count": 356
           },
           {
            "bin_start": 3.2,
            "bin_end": 4.300000000000001,
            "count": 259
           },
           {
            "bin_start": 4.300000000000001,
            "bin_end": 5.4,
            "count": 279
           },
           {
            "bin_start": 5.4,
            "bin_end": 6.5,
            "count": 268
           },
           {
            "bin_start": 6.5,
            "bin_end": 7.6000000000000005,
            "count": 316
           },
           {
            "bin_start": 7.6000000000000005,
            "bin_end": 8.700000000000001,
            "count": 332
           },
           {
            "bin_start": 8.700000000000001,
            "bin_end": 9.8,
            "count": 313
           },
           {
            "bin_start": 9.8,
            "bin_end": 10.9,
            "count": 294
           },
           {
            "bin_start": 10.9,
            "bin_end": 12,
            "count": 543
           }
          ]
         }
        },
        {
         "name": "etage",
         "dtype": "float64",
         "stats": {
          "unique_count": 14,
          "nan_count": 0,
          "min": "1.0",
          "max": "14.0",
          "histogram": [
           {
            "bin_start": 1,
            "bin_end": 2.3,
            "count": 1351
           },
           {
            "bin_start": 2.3,
            "bin_end": 3.6,
            "count": 643
           },
           {
            "bin_start": 3.6,
            "bin_end": 4.9,
            "count": 573
           },
           {
            "bin_start": 4.9,
            "bin_end": 6.2,
            "count": 768
           },
           {
            "bin_start": 6.2,
            "bin_end": 7.5,
            "count": 106
           },
           {
            "bin_start": 7.5,
            "bin_end": 8.8,
            "count": 85
           },
           {
            "bin_start": 8.8,
            "bin_end": 10.1,
            "count": 54
           },
           {
            "bin_start": 10.1,
            "bin_end": 11.4,
            "count": 14
           },
           {
            "bin_start": 11.4,
            "bin_end": 12.700000000000001,
            "count": 3
           },
           {
            "bin_start": 12.700000000000001,
            "bin_end": 14,
            "count": 3
           }
          ]
         }
        },
        {
         "name": "_deepnote_index_column",
         "dtype": "int64"
        }
       ],
       "rows": [
        {
         "bfe_nummer": 136409,
         "offentlig_ejendomsværdi": 1100000,
         "offentlige_grundværdi": 102600,
         "seneste_handelspris": 2545000,
         "enhedsareal_beboelse": 68,
         "antal_værelser": 3,
         "vejnavn": "Amagerbrogade",
         "husnr": 305,
         "longitude": 12.61750329,
         "latitude": 55.64129221,
         "opførelsesår": 1939,
         "tinglyst_areal_ejerlejligheder": 62,
         "seneste_handelsdato": "2021-08-01",
         "year": 2021,
         "month": 8,
         "etage": 2,
         "_deepnote_index_column": 754
        },
        {
         "bfe_nummer": 136399,
         "offentlig_ejendomsværdi": 800000,
         "offentlige_grundværdi": 85300,
         "seneste_handelspris": 2010000,
         "enhedsareal_beboelse": 53,
         "antal_værelser": 2,
         "vejnavn": "Amagerbrogade",
         "husnr": 303,
         "longitude": 12.6173573,
         "latitude": 55.64134688,
         "opførelsesår": 1939,
         "tinglyst_areal_ejerlejligheder": 49,
         "seneste_handelsdato": "2021-09-01",
         "year": 2021,
         "month": 9,
         "etage": 1,
         "_deepnote_index_column": 626
        },
        {
         "bfe_nummer": 136402,
         "offentlig_ejendomsværdi": 910000,
         "offentlige_grundværdi": 85300,
         "seneste_handelspris": 1775000,
         "enhedsareal_beboelse": 54,
         "antal_værelser": 2,
         "vejnavn": "Amagerbrogade",
         "husnr": 303,
         "longitude": 12.6173573,
         "latitude": 55.64134688,
         "opførelsesår": 1939,
         "tinglyst_areal_ejerlejligheder": 50,
         "seneste_handelsdato": "2020-07-01",
         "year": 2020,
         "month": 7,
         "etage": 2,
         "_deepnote_index_column": 2269
        },
        {
         "bfe_nummer": 136393,
         "offentlig_ejendomsværdi": 890000,
         "offentlige_grundværdi": 85300,
         "seneste_handelspris": 2050000,
         "enhedsareal_beboelse": 53,
         "antal_værelser": 2,
         "vejnavn": "Amagerbrogade",
         "husnr": 301,
         "longitude": 12.61727878,
         "latitude": 55.64133328,
         "opførelsesår": 1939,
         "tinglyst_areal_ejerlejligheder": 49,
         "seneste_handelsdato": "2021-05-01",
         "year": 2021,
         "month": 5,
         "etage": 2,
         "_deepnote_index_column": 1132
        },
        {
         "bfe_nummer": 136389,
         "offentlig_ejendomsværdi": 1150000,
         "offentlige_grundværdi": 102600,
         "seneste_handelspris": 2350000,
         "enhedsareal_beboelse": 73,
         "antal_værelser": 3,
         "vejnavn": "Amagerbrogade",
         "husnr": 299,
         "longitude": 12.6172003,
         "latitude": 55.64131851,
         "opførelsesår": 1939,
         "tinglyst_areal_ejerlejligheder": 62,
         "seneste_handelsdato": "2020-10-01",
         "year": 2020,
         "month": 10,
         "etage": 4,
         "_deepnote_index_column": 1924
        },
        {
         "bfe_nummer": 136387,
         "offentlig_ejendomsværdi": 890000,
         "offentlige_grundværdi": 85300,
         "seneste_handelspris": 1695000,
         "enhedsareal_beboelse": 53,
         "antal_værelser": 2,
         "vejnavn": "Amagerbrogade",
         "husnr": 299,
         "longitude": 12.6172003,
         "latitude": 55.64131851,
         "opførelsesår": 1939,
         "tinglyst_areal_ejerlejligheder": 51,
         "seneste_handelsdato": "2020-11-01",
         "year": 2020,
         "month": 11,
         "etage": 3,
         "_deepnote_index_column": 1799
        },
        {
         "bfe_nummer": 136388,
         "offentlig_ejendomsværdi": 890000,
         "offentlige_grundværdi": 85300,
         "seneste_handelspris": 1875000,
         "enhedsareal_beboelse": 53,
         "antal_værelser": 2,
         "vejnavn": "Amagerbrogade",
         "husnr": 299,
         "longitude": 12.6172003,
         "latitude": 55.64131851,
         "opførelsesår": 1939,
         "tinglyst_areal_ejerlejligheder": 49,
         "seneste_handelsdato": "2021-04-01",
         "year": 2021,
         "month": 4,
         "etage": 3,
         "_deepnote_index_column": 1227
        },
        {
         "bfe_nummer": 136414,
         "offentlig_ejendomsværdi": 1050000,
         "offentlige_grundværdi": 102600,
         "seneste_handelspris": 1800000,
         "enhedsareal_beboelse": 66,
         "antal_værelser": 3,
         "vejnavn": "Amagerbrogade",
         "husnr": 297,
         "longitude": 12.61703995,
         "latitude": 55.64123134,
         "opførelsesår": 1939,
         "tinglyst_areal_ejerlejligheder": 60,
         "seneste_handelsdato": "2019-02-15",
         "year": 2019,
         "month": 2,
         "etage": 3,
         "_deepnote_index_column": 3511
        },
        {
         "bfe_nummer": 136385,
         "offentlig_ejendomsværdi": 960000,
         "offentlige_grundværdi": 102600,
         "seneste_handelspris": 2395000,
         "enhedsareal_beboelse": 66,
         "antal_værelser": 3,
         "vejnavn": "Amagerbrogade",
         "husnr": 297,
         "longitude": 12.61703995,
         "latitude": 55.64123134,
         "opførelsesår": 1939,
         "tinglyst_areal_ejerlejligheder": 60,
         "seneste_handelsdato": "2021-08-01",
         "year": 2021,
         "month": 8,
         "etage": 1,
         "_deepnote_index_column": 755
        },
        {
         "bfe_nummer": 136396,
         "offentlig_ejendomsværdi": 870000,
         "offentlige_grundværdi": 85300,
         "seneste_handelspris": 1500000,
         "enhedsareal_beboelse": 58,
         "antal_værelser": 2,
         "vejnavn": "Amagerbrogade",
         "husnr": 297,
         "longitude": 12.61703995,
         "latitude": 55.64123134,
         "opførelsesår": 1939,
         "tinglyst_areal_ejerlejligheder": 52,
         "seneste_handelsdato": "2019-07-15",
         "year": 2019,
         "month": 7,
         "etage": 1,
         "_deepnote_index_column": 3154
        }
       ]
      },
      "text/plain": "      bfe_nummer  offentlig_ejendomsværdi  offentlige_grundværdi  \\\n0         111445                2250000.0               326700.0   \n1         103789                2100000.0               404900.0   \n2         135089                1350000.0               167400.0   \n3         132821                1050000.0                97500.0   \n4         131622                 960000.0                82000.0   \n...          ...                      ...                    ...   \n3595      107328                2450000.0               386900.0   \n3596      130268                 580000.0                53400.0   \n3597      134871                1850000.0               110700.0   \n3598      138884                 560000.0                82200.0   \n3599      421339                2000000.0               249300.0   \n\n      seneste_handelspris  enhedsareal_beboelse  antal_værelser  \\\n0                 6200000                 114.0               4   \n1                 4000000                  83.0               2   \n2                 3845000                  78.0               4   \n3                 2375000                  62.0               2   \n4                 2725000                  56.0               2   \n...                   ...                   ...             ...   \n3595              3700000                  90.0               3   \n3596              1295000                  32.0               1   \n3597              3650000                  94.0               3   \n3598              1175000                  34.0               1   \n3599              3740000                  89.0               3   \n\n              vejnavn  husnr  longitude   latitude  opførelsesår  \\\n0     AmagerBoulevard    110  12.593788  55.666513        2018.0   \n1      Weidekampsgade     61  12.581636  55.667398        2006.0   \n2          Marengovej     12  12.621136  55.658203        1935.0   \n3            Elbagade     21  12.613412  55.653728        1932.0   \n4            Caprivej      2  12.621147  55.660681        1937.0   \n...               ...    ...        ...        ...           ...   \n3595     Myggenæsgade      3  12.584155  55.665330        2006.0   \n3596    Siciliensgade     11  12.618511  55.652964        1936.0   \n3597    Holmbladsgade     70  12.611411  55.665193        1913.0   \n3598    Hyacintgården      9  12.612206  55.648623        1968.0   \n3599    Strandlodsvej     23  12.625230  55.665170        2021.0   \n\n      tinglyst_areal_ejerlejligheder seneste_handelsdato  year  month  etage  \n0                              101.0          2022-03-25  2022      3    1.0  \n1                               71.0          2022-03-24  2022      3    1.0  \n2                               75.0          2022-03-21  2022      3    2.0  \n3                               54.0          2022-03-15  2022      3    5.0  \n4                               53.0          2022-03-15  2022      3    2.0  \n...                              ...                 ...   ...    ...    ...  \n3595                            79.0          2019-01-02  2019      1    2.0  \n3596                            27.0          2019-01-02  2019      1    6.0  \n3597                            90.0          2019-01-02  2019      1    5.0  \n3598                            31.0          2019-01-02  2019      1    2.0  \n3599                            80.0          2019-01-02  2019      1    2.0  \n\n[3600 rows x 16 columns]",
      "text/html": "<div>\n<style scoped>\n    .dataframe tbody tr th:only-of-type {\n        vertical-align: middle;\n    }\n\n    .dataframe tbody tr th {\n        vertical-align: top;\n    }\n\n    .dataframe thead th {\n        text-align: right;\n    }\n</style>\n<table border=\"1\" class=\"dataframe\">\n  <thead>\n    <tr style=\"text-align: right;\">\n      <th></th>\n      <th>bfe_nummer</th>\n      <th>offentlig_ejendomsværdi</th>\n      <th>offentlige_grundværdi</th>\n      <th>seneste_handelspris</th>\n      <th>enhedsareal_beboelse</th>\n      <th>antal_værelser</th>\n      <th>vejnavn</th>\n      <th>husnr</th>\n      <th>longitude</th>\n      <th>latitude</th>\n      <th>opførelsesår</th>\n      <th>tinglyst_areal_ejerlejligheder</th>\n      <th>seneste_handelsdato</th>\n      <th>year</th>\n      <th>month</th>\n      <th>etage</th>\n    </tr>\n  </thead>\n  <tbody>\n    <tr>\n      <th>0</th>\n      <td>111445</td>\n      <td>2250000.0</td>\n      <td>326700.0</td>\n      <td>6200000</td>\n      <td>114.0</td>\n      <td>4</td>\n      <td>AmagerBoulevard</td>\n      <td>110</td>\n      <td>12.593788</td>\n      <td>55.666513</td>\n      <td>2018.0</td>\n      <td>101.0</td>\n      <td>2022-03-25</td>\n      <td>2022</td>\n      <td>3</td>\n      <td>1.0</td>\n    </tr>\n    <tr>\n      <th>1</th>\n      <td>103789</td>\n      <td>2100000.0</td>\n      <td>404900.0</td>\n      <td>4000000</td>\n      <td>83.0</td>\n      <td>2</td>\n      <td>Weidekampsgade</td>\n      <td>61</td>\n      <td>12.581636</td>\n      <td>55.667398</td>\n      <td>2006.0</td>\n      <td>71.0</td>\n      <td>2022-03-24</td>\n      <td>2022</td>\n      <td>3</td>\n      <td>1.0</td>\n    </tr>\n    <tr>\n      <th>2</th>\n      <td>135089</td>\n      <td>1350000.0</td>\n      <td>167400.0</td>\n      <td>3845000</td>\n      <td>78.0</td>\n      <td>4</td>\n      <td>Marengovej</td>\n      <td>12</td>\n      <td>12.621136</td>\n      <td>55.658203</td>\n      <td>1935.0</td>\n      <td>75.0</td>\n      <td>2022-03-21</td>\n      <td>2022</td>\n      <td>3</td>\n      <td>2.0</td>\n    </tr>\n    <tr>\n      <th>3</th>\n      <td>132821</td>\n      <td>1050000.0</td>\n      <td>97500.0</td>\n      <td>2375000</td>\n      <td>62.0</td>\n      <td>2</td>\n      <td>Elbagade</td>\n      <td>21</td>\n      <td>12.613412</td>\n      <td>55.653728</td>\n      <td>1932.0</td>\n      <td>54.0</td>\n      <td>2022-03-15</td>\n      <td>2022</td>\n      <td>3</td>\n      <td>5.0</td>\n    </tr>\n    <tr>\n      <th>4</th>\n      <td>131622</td>\n      <td>960000.0</td>\n      <td>82000.0</td>\n      <td>2725000</td>\n      <td>56.0</td>\n      <td>2</td>\n      <td>Caprivej</td>\n      <td>2</td>\n      <td>12.621147</td>\n      <td>55.660681</td>\n      <td>1937.0</td>\n      <td>53.0</td>\n      <td>2022-03-15</td>\n      <td>2022</td>\n      <td>3</td>\n      <td>2.0</td>\n    </tr>\n    <tr>\n      <th>...</th>\n      <td>...</td>\n      <td>...</td>\n      <td>...</td>\n      <td>...</td>\n      <td>...</td>\n      <td>...</td>\n      <td>...</td>\n      <td>...</td>\n      <td>...</td>\n      <td>...</td>\n      <td>...</td>\n      <td>...</td>\n      <td>...</td>\n      <td>...</td>\n      <td>...</td>\n      <td>...</td>\n    </tr>\n    <tr>\n      <th>3595</th>\n      <td>107328</td>\n      <td>2450000.0</td>\n      <td>386900.0</td>\n      <td>3700000</td>\n      <td>90.0</td>\n      <td>3</td>\n      <td>Myggenæsgade</td>\n      <td>3</td>\n      <td>12.584155</td>\n      <td>55.665330</td>\n      <td>2006.0</td>\n      <td>79.0</td>\n      <td>2019-01-02</td>\n      <td>2019</td>\n      <td>1</td>\n      <td>2.0</td>\n    </tr>\n    <tr>\n      <th>3596</th>\n      <td>130268</td>\n      <td>580000.0</td>\n      <td>53400.0</td>\n      <td>1295000</td>\n      <td>32.0</td>\n      <td>1</td>\n      <td>Siciliensgade</td>\n      <td>11</td>\n      <td>12.618511</td>\n      <td>55.652964</td>\n      <td>1936.0</td>\n      <td>27.0</td>\n      <td>2019-01-02</td>\n      <td>2019</td>\n      <td>1</td>\n      <td>6.0</td>\n    </tr>\n    <tr>\n      <th>3597</th>\n      <td>134871</td>\n      <td>1850000.0</td>\n      <td>110700.0</td>\n      <td>3650000</td>\n      <td>94.0</td>\n      <td>3</td>\n      <td>Holmbladsgade</td>\n      <td>70</td>\n      <td>12.611411</td>\n      <td>55.665193</td>\n      <td>1913.0</td>\n      <td>90.0</td>\n      <td>2019-01-02</td>\n      <td>2019</td>\n      <td>1</td>\n      <td>5.0</td>\n    </tr>\n    <tr>\n      <th>3598</th>\n      <td>138884</td>\n      <td>560000.0</td>\n      <td>82200.0</td>\n      <td>1175000</td>\n      <td>34.0</td>\n      <td>1</td>\n      <td>Hyacintgården</td>\n      <td>9</td>\n      <td>12.612206</td>\n      <td>55.648623</td>\n      <td>1968.0</td>\n      <td>31.0</td>\n      <td>2019-01-02</td>\n      <td>2019</td>\n      <td>1</td>\n      <td>2.0</td>\n    </tr>\n    <tr>\n      <th>3599</th>\n      <td>421339</td>\n      <td>2000000.0</td>\n      <td>249300.0</td>\n      <td>3740000</td>\n      <td>89.0</td>\n      <td>3</td>\n      <td>Strandlodsvej</td>\n      <td>23</td>\n      <td>12.625230</td>\n      <td>55.665170</td>\n      <td>2021.0</td>\n      <td>80.0</td>\n      <td>2019-01-02</td>\n      <td>2019</td>\n      <td>1</td>\n      <td>2.0</td>\n    </tr>\n  </tbody>\n</table>\n<p>3600 rows × 16 columns</p>\n</div>"
     },
     "metadata": {}
    }
   ]
  },
  {
   "cell_type": "markdown",
   "source": "### Change col name to English names",
   "metadata": {
    "tags": [],
    "is_collapsed": false,
    "cell_id": "00008-1f672c5a-4a44-4522-98b3-1fbe55d2b0fb",
    "deepnote_cell_type": "text-cell-h3"
   }
  },
  {
   "cell_type": "code",
   "metadata": {
    "tags": [],
    "deepnote_to_be_reexecuted": false,
    "source_hash": "a4ad0033",
    "execution_start": 1652447611398,
    "execution_millis": 1,
    "cell_id": "00009-8057e268-baf4-4107-999a-1a732c935ef5",
    "deepnote_cell_type": "code",
    "deepnote_cell_height": 369
   },
   "source": "# change col name to English names \nsilver_data_model = silver_data_model.rename(columns={\n    'bfe_nummer' : 'bfe',\n    'offentlig_ejendomsværdi' : 'gov_property_value',\n    'offentlige_grundværdi' : 'gov_land_value', \n    'seneste_handelspris' : 'sold_price', \n    'enhedsareal_beboelse' : 'unit_sqm_resi',\n    'antal_værelser' : 'rooms',\n    #'pris_pr_m2',\n    'husnr' : 'street_number',\n    'vejnavn' : 'street_name', \n    'opførelsesår' : 'building_year',\n    'tinglyst_areal_ejerlejligheder' : 'gov_sqm',\n    'seneste_handelsdato' : 'sold_date', \n    'year' : 'year',\n    'month' : 'month',\n    'etage' : 'floor'})",
   "execution_count": null,
   "outputs": []
  },
  {
   "cell_type": "code",
   "metadata": {
    "tags": [],
    "deepnote_to_be_reexecuted": false,
    "source_hash": "1055ce52",
    "execution_start": 1652447611401,
    "execution_millis": 706,
    "cell_id": "00010-4671efec-4dda-4646-ad9c-460a40738e03",
    "deepnote_cell_type": "code",
    "deepnote_cell_height": 410
   },
   "source": "silver_data_model.head()",
   "execution_count": null,
   "outputs": [
    {
     "output_type": "execute_result",
     "execution_count": 7,
     "data": {
      "application/vnd.deepnote.dataframe.v3+json": {
       "column_count": 16,
       "row_count": 5,
       "columns": [
        {
         "name": "bfe",
         "dtype": "int64",
         "stats": {
          "unique_count": 5,
          "nan_count": 0,
          "min": "103789",
          "max": "135089",
          "histogram": [
           {
            "bin_start": 103789,
            "bin_end": 106919,
            "count": 1
           },
           {
            "bin_start": 106919,
            "bin_end": 110049,
            "count": 0
           },
           {
            "bin_start": 110049,
            "bin_end": 113179,
            "count": 1
           },
           {
            "bin_start": 113179,
            "bin_end": 116309,
            "count": 0
           },
           {
            "bin_start": 116309,
            "bin_end": 119439,
            "count": 0
           },
           {
            "bin_start": 119439,
            "bin_end": 122569,
            "count": 0
           },
           {
            "bin_start": 122569,
            "bin_end": 125699,
            "count": 0
           },
           {
            "bin_start": 125699,
            "bin_end": 128829,
            "count": 0
           },
           {
            "bin_start": 128829,
            "bin_end": 131959,
            "count": 1
           },
           {
            "bin_start": 131959,
            "bin_end": 135089,
            "count": 2
           }
          ]
         }
        },
        {
         "name": "gov_property_value",
         "dtype": "float64",
         "stats": {
          "unique_count": 5,
          "nan_count": 0,
          "min": "960000.0",
          "max": "2250000.0",
          "histogram": [
           {
            "bin_start": 960000,
            "bin_end": 1089000,
            "count": 2
           },
           {
            "bin_start": 1089000,
            "bin_end": 1218000,
            "count": 0
           },
           {
            "bin_start": 1218000,
            "bin_end": 1347000,
            "count": 0
           },
           {
            "bin_start": 1347000,
            "bin_end": 1476000,
            "count": 1
           },
           {
            "bin_start": 1476000,
            "bin_end": 1605000,
            "count": 0
           },
           {
            "bin_start": 1605000,
            "bin_end": 1734000,
            "count": 0
           },
           {
            "bin_start": 1734000,
            "bin_end": 1863000,
            "count": 0
           },
           {
            "bin_start": 1863000,
            "bin_end": 1992000,
            "count": 0
           },
           {
            "bin_start": 1992000,
            "bin_end": 2121000,
            "count": 1
           },
           {
            "bin_start": 2121000,
            "bin_end": 2250000,
            "count": 1
           }
          ]
         }
        },
        {
         "name": "gov_land_value",
         "dtype": "float64",
         "stats": {
          "unique_count": 5,
          "nan_count": 0,
          "min": "82000.0",
          "max": "404900.0",
          "histogram": [
           {
            "bin_start": 82000,
            "bin_end": 114290,
            "count": 2
           },
           {
            "bin_start": 114290,
            "bin_end": 146580,
            "count": 0
           },
           {
            "bin_start": 146580,
            "bin_end": 178870,
            "count": 1
           },
           {
            "bin_start": 178870,
            "bin_end": 211160,
            "count": 0
           },
           {
            "bin_start": 211160,
            "bin_end": 243450,
            "count": 0
           },
           {
            "bin_start": 243450,
            "bin_end": 275740,
            "count": 0
           },
           {
            "bin_start": 275740,
            "bin_end": 308030,
            "count": 0
           },
           {
            "bin_start": 308030,
            "bin_end": 340320,
            "count": 1
           },
           {
            "bin_start": 340320,
            "bin_end": 372610,
            "count": 0
           },
           {
            "bin_start": 372610,
            "bin_end": 404900,
            "count": 1
           }
          ]
         }
        },
        {
         "name": "sold_price",
         "dtype": "int64",
         "stats": {
          "unique_count": 5,
          "nan_count": 0,
          "min": "2375000",
          "max": "6200000",
          "histogram": [
           {
            "bin_start": 2375000,
            "bin_end": 2757500,
            "count": 2
           },
           {
            "bin_start": 2757500,
            "bin_end": 3140000,
            "count": 0
           },
           {
            "bin_start": 3140000,
            "bin_end": 3522500,
            "count": 0
           },
           {
            "bin_start": 3522500,
            "bin_end": 3905000,
            "count": 1
           },
           {
            "bin_start": 3905000,
            "bin_end": 4287500,
            "count": 1
           },
           {
            "bin_start": 4287500,
            "bin_end": 4670000,
            "count": 0
           },
           {
            "bin_start": 4670000,
            "bin_end": 5052500,
            "count": 0
           },
           {
            "bin_start": 5052500,
            "bin_end": 5435000,
            "count": 0
           },
           {
            "bin_start": 5435000,
            "bin_end": 5817500,
            "count": 0
           },
           {
            "bin_start": 5817500,
            "bin_end": 6200000,
            "count": 1
           }
          ]
         }
        },
        {
         "name": "unit_sqm_resi",
         "dtype": "float64",
         "stats": {
          "unique_count": 5,
          "nan_count": 0,
          "min": "56.0",
          "max": "114.0",
          "histogram": [
           {
            "bin_start": 56,
            "bin_end": 61.8,
            "count": 1
           },
           {
            "bin_start": 61.8,
            "bin_end": 67.6,
            "count": 1
           },
           {
            "bin_start": 67.6,
            "bin_end": 73.4,
            "count": 0
           },
           {
            "bin_start": 73.4,
            "bin_end": 79.2,
            "count": 1
           },
           {
            "bin_start": 79.2,
            "bin_end": 85,
            "count": 1
           },
           {
            "bin_start": 85,
            "bin_end": 90.8,
            "count": 0
           },
           {
            "bin_start": 90.8,
            "bin_end": 96.6,
            "count": 0
           },
           {
            "bin_start": 96.6,
            "bin_end": 102.4,
            "count": 0
           },
           {
            "bin_start": 102.4,
            "bin_end": 108.19999999999999,
            "count": 0
           },
           {
            "bin_start": 108.19999999999999,
            "bin_end": 114,
            "count": 1
           }
          ]
         }
        },
        {
         "name": "rooms",
         "dtype": "int64",
         "stats": {
          "unique_count": 2,
          "nan_count": 0,
          "min": "2",
          "max": "4",
          "histogram": [
           {
            "bin_start": 2,
            "bin_end": 2.2,
            "count": 3
           },
           {
            "bin_start": 2.2,
            "bin_end": 2.4,
            "count": 0
           },
           {
            "bin_start": 2.4,
            "bin_end": 2.6,
            "count": 0
           },
           {
            "bin_start": 2.6,
            "bin_end": 2.8,
            "count": 0
           },
           {
            "bin_start": 2.8,
            "bin_end": 3,
            "count": 0
           },
           {
            "bin_start": 3,
            "bin_end": 3.2,
            "count": 0
           },
           {
            "bin_start": 3.2,
            "bin_end": 3.4000000000000004,
            "count": 0
           },
           {
            "bin_start": 3.4000000000000004,
            "bin_end": 3.6,
            "count": 0
           },
           {
            "bin_start": 3.6,
            "bin_end": 3.8,
            "count": 0
           },
           {
            "bin_start": 3.8,
            "bin_end": 4,
            "count": 2
           }
          ]
         }
        },
        {
         "name": "street_name",
         "dtype": "object",
         "stats": {
          "unique_count": 5,
          "nan_count": 0,
          "categories": [
           {
            "name": "AmagerBoulevard",
            "count": 1
           },
           {
            "name": "Weidekampsgade",
            "count": 1
           },
           {
            "name": "3 others",
            "count": 3
           }
          ]
         }
        },
        {
         "name": "street_number",
         "dtype": "int64",
         "stats": {
          "unique_count": 5,
          "nan_count": 0,
          "min": "2",
          "max": "110",
          "histogram": [
           {
            "bin_start": 2,
            "bin_end": 12.8,
            "count": 2
           },
           {
            "bin_start": 12.8,
            "bin_end": 23.6,
            "count": 1
           },
           {
            "bin_start": 23.6,
            "bin_end": 34.400000000000006,
            "count": 0
           },
           {
            "bin_start": 34.400000000000006,
            "bin_end": 45.2,
            "count": 0
           },
           {
            "bin_start": 45.2,
            "bin_end": 56,
            "count": 0
           },
           {
            "bin_start": 56,
            "bin_end": 66.80000000000001,
            "count": 1
           },
           {
            "bin_start": 66.80000000000001,
            "bin_end": 77.60000000000001,
            "count": 0
           },
           {
            "bin_start": 77.60000000000001,
            "bin_end": 88.4,
            "count": 0
           },
           {
            "bin_start": 88.4,
            "bin_end": 99.2,
            "count": 0
           },
           {
            "bin_start": 99.2,
            "bin_end": 110,
            "count": 1
           }
          ]
         }
        },
        {
         "name": "longitude",
         "dtype": "float64",
         "stats": {
          "unique_count": 5,
          "nan_count": 0,
          "min": "12.58163606",
          "max": "12.62114697",
          "histogram": [
           {
            "bin_start": 12.58163606,
            "bin_end": 12.585587150999999,
            "count": 1
           },
           {
            "bin_start": 12.585587150999999,
            "bin_end": 12.589538242,
            "count": 0
           },
           {
            "bin_start": 12.589538242,
            "bin_end": 12.593489332999999,
            "count": 0
           },
           {
            "bin_start": 12.593489332999999,
            "bin_end": 12.597440424,
            "count": 1
           },
           {
            "bin_start": 12.597440424,
            "bin_end": 12.601391515,
            "count": 0
           },
           {
            "bin_start": 12.601391515,
            "bin_end": 12.605342605999999,
            "count": 0
           },
           {
            "bin_start": 12.605342605999999,
            "bin_end": 12.609293697,
            "count": 0
           },
           {
            "bin_start": 12.609293697,
            "bin_end": 12.613244788,
            "count": 0
           },
           {
            "bin_start": 12.613244788,
            "bin_end": 12.617195879,
            "count": 1
           },
           {
            "bin_start": 12.617195879,
            "bin_end": 12.62114697,
            "count": 2
           }
          ]
         }
        },
        {
         "name": "latitude",
         "dtype": "float64",
         "stats": {
          "unique_count": 5,
          "nan_count": 0,
          "min": "55.65372785",
          "max": "55.6673983",
          "histogram": [
           {
            "bin_start": 55.65372785,
            "bin_end": 55.655094895000005,
            "count": 1
           },
           {
            "bin_start": 55.655094895000005,
            "bin_end": 55.65646194,
            "count": 0
           },
           {
            "bin_start": 55.65646194,
            "bin_end": 55.657828985,
            "count": 0
           },
           {
            "bin_start": 55.657828985,
            "bin_end": 55.659196030000004,
            "count": 1
           },
           {
            "bin_start": 55.659196030000004,
            "bin_end": 55.660563075,
            "count": 0
           },
           {
            "bin_start": 55.660563075,
            "bin_end": 55.66193012,
            "count": 1
           },
           {
            "bin_start": 55.66193012,
            "bin_end": 55.663297165,
            "count": 0
           },
           {
            "bin_start": 55.663297165,
            "bin_end": 55.664664210000005,
            "count": 0
           },
           {
            "bin_start": 55.664664210000005,
            "bin_end": 55.666031255,
            "count": 0
           },
           {
            "bin_start": 55.666031255,
            "bin_end": 55.6673983,
            "count": 2
           }
          ]
         }
        },
        {
         "name": "building_year",
         "dtype": "float64",
         "stats": {
          "unique_count": 5,
          "nan_count": 0,
          "min": "1932.0",
          "max": "2018.0",
          "histogram": [
           {
            "bin_start": 1932,
            "bin_end": 1940.6,
            "count": 3
           },
           {
            "bin_start": 1940.6,
            "bin_end": 1949.2,
            "count": 0
           },
           {
            "bin_start": 1949.2,
            "bin_end": 1957.8,
            "count": 0
           },
           {
            "bin_start": 1957.8,
            "bin_end": 1966.4,
            "count": 0
           },
           {
            "bin_start": 1966.4,
            "bin_end": 1975,
            "count": 0
           },
           {
            "bin_start": 1975,
            "bin_end": 1983.6,
            "count": 0
           },
           {
            "bin_start": 1983.6,
            "bin_end": 1992.2,
            "count": 0
           },
           {
            "bin_start": 1992.2,
            "bin_end": 2000.8,
            "count": 0
           },
           {
            "bin_start": 2000.8,
            "bin_end": 2009.4,
            "count": 1
           },
           {
            "bin_start": 2009.4,
            "bin_end": 2018,
            "count": 1
           }
          ]
         }
        },
        {
         "name": "gov_sqm",
         "dtype": "float64",
         "stats": {
          "unique_count": 5,
          "nan_count": 0,
          "min": "53.0",
          "max": "101.0",
          "histogram": [
           {
            "bin_start": 53,
            "bin_end": 57.8,
            "count": 2
           },
           {
            "bin_start": 57.8,
            "bin_end": 62.6,
            "count": 0
           },
           {
            "bin_start": 62.6,
            "bin_end": 67.4,
            "count": 0
           },
           {
            "bin_start": 67.4,
            "bin_end": 72.2,
            "count": 1
           },
           {
            "bin_start": 72.2,
            "bin_end": 77,
            "count": 1
           },
           {
            "bin_start": 77,
            "bin_end": 81.8,
            "count": 0
           },
           {
            "bin_start": 81.8,
            "bin_end": 86.6,
            "count": 0
           },
           {
            "bin_start": 86.6,
            "bin_end": 91.4,
            "count": 0
           },
           {
            "bin_start": 91.4,
            "bin_end": 96.19999999999999,
            "count": 0
           },
           {
            "bin_start": 96.19999999999999,
            "bin_end": 101,
            "count": 1
           }
          ]
         }
        },
        {
         "name": "sold_date",
         "dtype": "object",
         "stats": {
          "unique_count": 4,
          "nan_count": 0,
          "categories": [
           {
            "name": "2022-03-15",
            "count": 2
           },
           {
            "name": "2022-03-25",
            "count": 1
           },
           {
            "name": "2 others",
            "count": 2
           }
          ]
         }
        },
        {
         "name": "year",
         "dtype": "int64",
         "stats": {
          "unique_count": 1,
          "nan_count": 0,
          "min": "2022",
          "max": "2022",
          "histogram": [
           {
            "bin_start": 2021.5,
            "bin_end": 2021.6,
            "count": 0
           },
           {
            "bin_start": 2021.6,
            "bin_end": 2021.7,
            "count": 0
           },
           {
            "bin_start": 2021.7,
            "bin_end": 2021.8,
            "count": 0
           },
           {
            "bin_start": 2021.8,
            "bin_end": 2021.9,
            "count": 0
           },
           {
            "bin_start": 2021.9,
            "bin_end": 2022,
            "count": 0
           },
           {
            "bin_start": 2022,
            "bin_end": 2022.1,
            "count": 5
           },
           {
            "bin_start": 2022.1,
            "bin_end": 2022.2,
            "count": 0
           },
           {
            "bin_start": 2022.2,
            "bin_end": 2022.3,
            "count": 0
           },
           {
            "bin_start": 2022.3,
            "bin_end": 2022.4,
            "count": 0
           },
           {
            "bin_start": 2022.4,
            "bin_end": 2022.5,
            "count": 0
           }
          ]
         }
        },
        {
         "name": "month",
         "dtype": "int64",
         "stats": {
          "unique_count": 1,
          "nan_count": 0,
          "min": "3",
          "max": "3",
          "histogram": [
           {
            "bin_start": 2.5,
            "bin_end": 2.6,
            "count": 0
           },
           {
            "bin_start": 2.6,
            "bin_end": 2.7,
            "count": 0
           },
           {
            "bin_start": 2.7,
            "bin_end": 2.8,
            "count": 0
           },
           {
            "bin_start": 2.8,
            "bin_end": 2.9,
            "count": 0
           },
           {
            "bin_start": 2.9,
            "bin_end": 3,
            "count": 0
           },
           {
            "bin_start": 3,
            "bin_end": 3.1,
            "count": 5
           },
           {
            "bin_start": 3.1,
            "bin_end": 3.2,
            "count": 0
           },
           {
            "bin_start": 3.2,
            "bin_end": 3.3,
            "count": 0
           },
           {
            "bin_start": 3.3,
            "bin_end": 3.4,
            "count": 0
           },
           {
            "bin_start": 3.4,
            "bin_end": 3.5,
            "count": 0
           }
          ]
         }
        },
        {
         "name": "floor",
         "dtype": "float64",
         "stats": {
          "unique_count": 3,
          "nan_count": 0,
          "min": "1.0",
          "max": "5.0",
          "histogram": [
           {
            "bin_start": 1,
            "bin_end": 1.4,
            "count": 2
           },
           {
            "bin_start": 1.4,
            "bin_end": 1.8,
            "count": 0
           },
           {
            "bin_start": 1.8,
            "bin_end": 2.2,
            "count": 2
           },
           {
            "bin_start": 2.2,
            "bin_end": 2.6,
            "count": 0
           },
           {
            "bin_start": 2.6,
            "bin_end": 3,
            "count": 0
           },
           {
            "bin_start": 3,
            "bin_end": 3.4000000000000004,
            "count": 0
           },
           {
            "bin_start": 3.4000000000000004,
            "bin_end": 3.8000000000000003,
            "count": 0
           },
           {
            "bin_start": 3.8000000000000003,
            "bin_end": 4.2,
            "count": 0
           },
           {
            "bin_start": 4.2,
            "bin_end": 4.6,
            "count": 0
           },
           {
            "bin_start": 4.6,
            "bin_end": 5,
            "count": 1
           }
          ]
         }
        },
        {
         "name": "_deepnote_index_column",
         "dtype": "int64"
        }
       ],
       "rows": [
        {
         "bfe": 111445,
         "gov_property_value": 2250000,
         "gov_land_value": 326700,
         "sold_price": 6200000,
         "unit_sqm_resi": 114,
         "rooms": 4,
         "street_name": "AmagerBoulevard",
         "street_number": 110,
         "longitude": 12.59378819,
         "latitude": 55.66651293,
         "building_year": 2018,
         "gov_sqm": 101,
         "sold_date": "2022-03-25",
         "year": 2022,
         "month": 3,
         "floor": 1,
         "_deepnote_index_column": 0
        },
        {
         "bfe": 103789,
         "gov_property_value": 2100000,
         "gov_land_value": 404900,
         "sold_price": 4000000,
         "unit_sqm_resi": 83,
         "rooms": 2,
         "street_name": "Weidekampsgade",
         "street_number": 61,
         "longitude": 12.58163606,
         "latitude": 55.6673983,
         "building_year": 2006,
         "gov_sqm": 71,
         "sold_date": "2022-03-24",
         "year": 2022,
         "month": 3,
         "floor": 1,
         "_deepnote_index_column": 1
        },
        {
         "bfe": 135089,
         "gov_property_value": 1350000,
         "gov_land_value": 167400,
         "sold_price": 3845000,
         "unit_sqm_resi": 78,
         "rooms": 4,
         "street_name": "Marengovej",
         "street_number": 12,
         "longitude": 12.62113554,
         "latitude": 55.65820336,
         "building_year": 1935,
         "gov_sqm": 75,
         "sold_date": "2022-03-21",
         "year": 2022,
         "month": 3,
         "floor": 2,
         "_deepnote_index_column": 2
        },
        {
         "bfe": 132821,
         "gov_property_value": 1050000,
         "gov_land_value": 97500,
         "sold_price": 2375000,
         "unit_sqm_resi": 62,
         "rooms": 2,
         "street_name": "Elbagade",
         "street_number": 21,
         "longitude": 12.61341214,
         "latitude": 55.65372785,
         "building_year": 1932,
         "gov_sqm": 54,
         "sold_date": "2022-03-15",
         "year": 2022,
         "month": 3,
         "floor": 5,
         "_deepnote_index_column": 3
        },
        {
         "bfe": 131622,
         "gov_property_value": 960000,
         "gov_land_value": 82000,
         "sold_price": 2725000,
         "unit_sqm_resi": 56,
         "rooms": 2,
         "street_name": "Caprivej",
         "street_number": 2,
         "longitude": 12.62114697,
         "latitude": 55.66068112,
         "building_year": 1937,
         "gov_sqm": 53,
         "sold_date": "2022-03-15",
         "year": 2022,
         "month": 3,
         "floor": 2,
         "_deepnote_index_column": 4
        }
       ]
      },
      "text/plain": "      bfe  gov_property_value  gov_land_value  sold_price  unit_sqm_resi  \\\n0  111445           2250000.0        326700.0     6200000          114.0   \n1  103789           2100000.0        404900.0     4000000           83.0   \n2  135089           1350000.0        167400.0     3845000           78.0   \n3  132821           1050000.0         97500.0     2375000           62.0   \n4  131622            960000.0         82000.0     2725000           56.0   \n\n   rooms      street_name  street_number  longitude   latitude  building_year  \\\n0      4  AmagerBoulevard            110  12.593788  55.666513         2018.0   \n1      2   Weidekampsgade             61  12.581636  55.667398         2006.0   \n2      4       Marengovej             12  12.621136  55.658203         1935.0   \n3      2         Elbagade             21  12.613412  55.653728         1932.0   \n4      2         Caprivej              2  12.621147  55.660681         1937.0   \n\n   gov_sqm   sold_date  year  month  floor  \n0    101.0  2022-03-25  2022      3    1.0  \n1     71.0  2022-03-24  2022      3    1.0  \n2     75.0  2022-03-21  2022      3    2.0  \n3     54.0  2022-03-15  2022      3    5.0  \n4     53.0  2022-03-15  2022      3    2.0  ",
      "text/html": "<div>\n<style scoped>\n    .dataframe tbody tr th:only-of-type {\n        vertical-align: middle;\n    }\n\n    .dataframe tbody tr th {\n        vertical-align: top;\n    }\n\n    .dataframe thead th {\n        text-align: right;\n    }\n</style>\n<table border=\"1\" class=\"dataframe\">\n  <thead>\n    <tr style=\"text-align: right;\">\n      <th></th>\n      <th>bfe</th>\n      <th>gov_property_value</th>\n      <th>gov_land_value</th>\n      <th>sold_price</th>\n      <th>unit_sqm_resi</th>\n      <th>rooms</th>\n      <th>street_name</th>\n      <th>street_number</th>\n      <th>longitude</th>\n      <th>latitude</th>\n      <th>building_year</th>\n      <th>gov_sqm</th>\n      <th>sold_date</th>\n      <th>year</th>\n      <th>month</th>\n      <th>floor</th>\n    </tr>\n  </thead>\n  <tbody>\n    <tr>\n      <th>0</th>\n      <td>111445</td>\n      <td>2250000.0</td>\n      <td>326700.0</td>\n      <td>6200000</td>\n      <td>114.0</td>\n      <td>4</td>\n      <td>AmagerBoulevard</td>\n      <td>110</td>\n      <td>12.593788</td>\n      <td>55.666513</td>\n      <td>2018.0</td>\n      <td>101.0</td>\n      <td>2022-03-25</td>\n      <td>2022</td>\n      <td>3</td>\n      <td>1.0</td>\n    </tr>\n    <tr>\n      <th>1</th>\n      <td>103789</td>\n      <td>2100000.0</td>\n      <td>404900.0</td>\n      <td>4000000</td>\n      <td>83.0</td>\n      <td>2</td>\n      <td>Weidekampsgade</td>\n      <td>61</td>\n      <td>12.581636</td>\n      <td>55.667398</td>\n      <td>2006.0</td>\n      <td>71.0</td>\n      <td>2022-03-24</td>\n      <td>2022</td>\n      <td>3</td>\n      <td>1.0</td>\n    </tr>\n    <tr>\n      <th>2</th>\n      <td>135089</td>\n      <td>1350000.0</td>\n      <td>167400.0</td>\n      <td>3845000</td>\n      <td>78.0</td>\n      <td>4</td>\n      <td>Marengovej</td>\n      <td>12</td>\n      <td>12.621136</td>\n      <td>55.658203</td>\n      <td>1935.0</td>\n      <td>75.0</td>\n      <td>2022-03-21</td>\n      <td>2022</td>\n      <td>3</td>\n      <td>2.0</td>\n    </tr>\n    <tr>\n      <th>3</th>\n      <td>132821</td>\n      <td>1050000.0</td>\n      <td>97500.0</td>\n      <td>2375000</td>\n      <td>62.0</td>\n      <td>2</td>\n      <td>Elbagade</td>\n      <td>21</td>\n      <td>12.613412</td>\n      <td>55.653728</td>\n      <td>1932.0</td>\n      <td>54.0</td>\n      <td>2022-03-15</td>\n      <td>2022</td>\n      <td>3</td>\n      <td>5.0</td>\n    </tr>\n    <tr>\n      <th>4</th>\n      <td>131622</td>\n      <td>960000.0</td>\n      <td>82000.0</td>\n      <td>2725000</td>\n      <td>56.0</td>\n      <td>2</td>\n      <td>Caprivej</td>\n      <td>2</td>\n      <td>12.621147</td>\n      <td>55.660681</td>\n      <td>1937.0</td>\n      <td>53.0</td>\n      <td>2022-03-15</td>\n      <td>2022</td>\n      <td>3</td>\n      <td>2.0</td>\n    </tr>\n  </tbody>\n</table>\n</div>"
     },
     "metadata": {}
    }
   ]
  },
  {
   "cell_type": "code",
   "metadata": {
    "tags": [],
    "deepnote_to_be_reexecuted": false,
    "source_hash": "12bee3f4",
    "execution_start": 1652447611450,
    "execution_millis": 682,
    "cell_id": "00011-4e672ac1-a816-48fa-9158-3626df26a3e7",
    "deepnote_cell_type": "code",
    "deepnote_cell_height": 425.1875,
    "deepnote_output_heights": [
     328.1875
    ]
   },
   "source": "silver_data_model.isnull().sum()",
   "execution_count": null,
   "outputs": [
    {
     "output_type": "execute_result",
     "execution_count": 8,
     "data": {
      "text/plain": "bfe                   0\ngov_property_value    0\ngov_land_value        0\nsold_price            0\nunit_sqm_resi         0\nrooms                 0\nstreet_name           0\nstreet_number         0\nlongitude             0\nlatitude              0\nbuilding_year         0\ngov_sqm               0\nsold_date             0\nyear                  0\nmonth                 0\nfloor                 0\ndtype: int64"
     },
     "metadata": {}
    }
   ]
  },
  {
   "cell_type": "markdown",
   "source": "### Save to CSV",
   "metadata": {
    "tags": [],
    "is_collapsed": false,
    "cell_id": "00012-c3a9119f-3f77-4336-a6f8-eb2df39a9e40",
    "deepnote_cell_type": "text-cell-h3"
   }
  },
  {
   "cell_type": "code",
   "metadata": {
    "tags": [],
    "deepnote_to_be_reexecuted": false,
    "source_hash": "e4f440f8",
    "execution_start": 1652447611501,
    "execution_millis": 1,
    "cell_id": "00013-c542b086-311a-4118-83f9-55365393abe6",
    "deepnote_cell_type": "code",
    "deepnote_cell_height": 99
   },
   "source": "# save dataset to csv\nsilver_data_model.to_csv(\"silver_data_model.csv\", index=False)",
   "execution_count": null,
   "outputs": []
  },
  {
   "cell_type": "markdown",
   "source": "### Data stats",
   "metadata": {
    "cell_id": "7783bc6cb4584324b1763c78327c6bab",
    "tags": [],
    "is_collapsed": false,
    "deepnote_cell_type": "text-cell-h3"
   }
  },
  {
   "cell_type": "code",
   "metadata": {
    "cell_id": "4b80da543ac74ec496d4d439314b5421",
    "tags": [],
    "deepnote_to_be_reexecuted": false,
    "source_hash": "ac96a9f2",
    "execution_start": 1652447611502,
    "execution_millis": 635,
    "deepnote_cell_type": "code",
    "deepnote_cell_height": 150.375
   },
   "source": "print('Observations:',len(silver_data_model))\nprint('Columns:', len(silver_data_model.columns))",
   "execution_count": null,
   "outputs": [
    {
     "name": "stdout",
     "text": "Observations: 3600\nColumns: 16\n",
     "output_type": "stream"
    }
   ]
  },
  {
   "cell_type": "markdown",
   "source": "<a style='text-decoration:none;line-height:16px;display:flex;color:#5B5B62;padding:10px;justify-content:end;' href='https://deepnote.com?utm_source=created-in-deepnote-cell&projectId=8a2d9d23-5445-401b-81ac-9e4d2df66dba' target=\"_blank\">\n<img alt='Created in deepnote.com' style='display:inline;max-height:16px;margin:0px;margin-right:7.5px;' src='data:image/svg+xml;base64,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' > </img>\nCreated in <span style='font-weight:600;margin-left:4px;'>Deepnote</span></a>",
   "metadata": {
    "tags": [],
    "created_in_deepnote_cell": true,
    "deepnote_cell_type": "markdown"
   }
  }
 ],
 "nbformat": 4,
 "nbformat_minor": 2,
 "metadata": {
  "orig_nbformat": 2,
  "deepnote": {
   "is_reactive": false
  },
  "deepnote_notebook_id": "90ae262d-3931-4489-a3b5-21f953c956e9",
  "deepnote_execution_queue": []
 }
}
